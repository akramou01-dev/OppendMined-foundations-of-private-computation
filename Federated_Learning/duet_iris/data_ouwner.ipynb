{
 "cells": [
  {
   "cell_type": "code",
   "execution_count": 1,
   "id": "db5dcae0",
   "metadata": {},
   "outputs": [],
   "source": [
    "import syft as sy"
   ]
  },
  {
   "cell_type": "code",
   "execution_count": 190,
   "id": "8bc45dca",
   "metadata": {},
   "outputs": [
    {
     "name": "stdout",
     "output_type": "stream",
     "text": [
      "🎤  🎸  ♪♪♪ Starting Duet ♫♫♫  🎻  🎹\n",
      "\n",
      "♫♫♫ >\u001b[93m DISCLAIMER\u001b[0m: \u001b[1mDuet is an experimental feature currently in beta.\n",
      "♫♫♫ > Use at your own risk.\n",
      "\u001b[0m\n",
      "\u001b[1m\n",
      "    > ❤️ \u001b[91mLove\u001b[0m \u001b[92mDuet\u001b[0m? \u001b[93mPlease\u001b[0m \u001b[94mconsider\u001b[0m \u001b[95msupporting\u001b[0m \u001b[91mour\u001b[0m \u001b[93mcommunity!\u001b[0m\n",
      "    > https://github.com/sponsors/OpenMined\u001b[1m\n",
      "\n",
      "♫♫♫ > Punching through firewall to OpenGrid Network Node at:\n",
      "♫♫♫ > http://ec2-18-218-7-180.us-east-2.compute.amazonaws.com:5000\n",
      "♫♫♫ >\n",
      "♫♫♫ > ...waiting for response from OpenGrid Network... \n",
      "♫♫♫ > Connecting...\n",
      "\n",
      "♫♫♫ > DUET LIVE STATUS  -  Objects: 15  Requests: 2   Messages: 5248  Request Handlers: 1                                                         \r"
     ]
    }
   ],
   "source": [
    "duet = sy.launch_duet(loopback=True)"
   ]
  },
  {
   "cell_type": "code",
   "execution_count": 191,
   "id": "3252fb5b",
   "metadata": {},
   "outputs": [
    {
     "name": "stdout",
     "output_type": "stream",
     "text": [
      "\r",
      "♫♫♫ > DUET LIVE STATUS  -  Objects: 23  Requests: 0   Messages: 2698  Request Handlers: 1                                \r"
     ]
    }
   ],
   "source": [
    "import numpy as np"
   ]
  },
  {
   "cell_type": "code",
   "execution_count": 192,
   "id": "5106a899",
   "metadata": {},
   "outputs": [],
   "source": [
    "from sklearn import datasets"
   ]
  },
  {
   "cell_type": "code",
   "execution_count": 193,
   "id": "0d863be2",
   "metadata": {},
   "outputs": [
    {
     "name": "stdout",
     "output_type": "stream",
     "text": [
      "\r"
     ]
    }
   ],
   "source": [
    "iris = datasets.load_iris()"
   ]
  },
  {
   "cell_type": "code",
   "execution_count": 194,
   "id": "6e093418",
   "metadata": {},
   "outputs": [],
   "source": [
    "X,y = iris.data, iris.target"
   ]
  },
  {
   "cell_type": "code",
   "execution_count": 195,
   "id": "57e9c726",
   "metadata": {},
   "outputs": [
    {
     "data": {
      "text/plain": [
       "array([[5.1, 3.5, 1.4, 0.2],\n",
       "       [4.9, 3. , 1.4, 0.2],\n",
       "       [4.7, 3.2, 1.3, 0.2],\n",
       "       [4.6, 3.1, 1.5, 0.2],\n",
       "       [5. , 3.6, 1.4, 0.2]])"
      ]
     },
     "execution_count": 195,
     "metadata": {},
     "output_type": "execute_result"
    }
   ],
   "source": [
    "X[0:5]"
   ]
  },
  {
   "cell_type": "code",
   "execution_count": 196,
   "id": "48e832d2",
   "metadata": {},
   "outputs": [
    {
     "data": {
      "text/plain": [
       "150"
      ]
     },
     "execution_count": 196,
     "metadata": {},
     "output_type": "execute_result"
    }
   ],
   "source": [
    "len(y)"
   ]
  },
  {
   "cell_type": "code",
   "execution_count": 197,
   "id": "cd441f41",
   "metadata": {},
   "outputs": [],
   "source": [
    "import torch as th"
   ]
  },
  {
   "cell_type": "code",
   "execution_count": 198,
   "id": "79f7f594",
   "metadata": {},
   "outputs": [],
   "source": [
    "X = th.FloatTensor(X)\n",
    "y = th.FloatTensor(y)"
   ]
  },
  {
   "cell_type": "code",
   "execution_count": 199,
   "id": "63e2ac73",
   "metadata": {},
   "outputs": [],
   "source": [
    "X = X.tag(\"Iris-data\")\n",
    "y = y.tag(\"Iris-target\")"
   ]
  },
  {
   "cell_type": "code",
   "execution_count": 200,
   "id": "25e2cbc3",
   "metadata": {},
   "outputs": [
    {
     "name": "stdout",
     "output_type": "stream",
     "text": [
      "`searchable` is deprecated please use `pointable` in future\n"
     ]
    }
   ],
   "source": [
    "data_pointer = X.send(duet,searchable=True)"
   ]
  },
  {
   "cell_type": "code",
   "execution_count": 201,
   "id": "6be89f83",
   "metadata": {},
   "outputs": [
    {
     "name": "stdout",
     "output_type": "stream",
     "text": [
      "`searchable` is deprecated please use `pointable` in future\n"
     ]
    }
   ],
   "source": [
    "target_pointer = y.send(duet,searchable=True)"
   ]
  },
  {
   "cell_type": "code",
   "execution_count": 202,
   "id": "0d039664",
   "metadata": {},
   "outputs": [
    {
     "data": {
      "text/html": [
       "<div>\n",
       "<style scoped>\n",
       "    .dataframe tbody tr th:only-of-type {\n",
       "        vertical-align: middle;\n",
       "    }\n",
       "\n",
       "    .dataframe tbody tr th {\n",
       "        vertical-align: top;\n",
       "    }\n",
       "\n",
       "    .dataframe thead th {\n",
       "        text-align: right;\n",
       "    }\n",
       "</style>\n",
       "<table border=\"1\" class=\"dataframe\">\n",
       "  <thead>\n",
       "    <tr style=\"text-align: right;\">\n",
       "      <th></th>\n",
       "      <th>ID</th>\n",
       "      <th>Tags</th>\n",
       "      <th>Description</th>\n",
       "      <th>object_type</th>\n",
       "    </tr>\n",
       "  </thead>\n",
       "  <tbody>\n",
       "    <tr>\n",
       "      <th>0</th>\n",
       "      <td>&lt;UID: 765f2f87cbd44ab2bf6ef349d39478cb&gt;</td>\n",
       "      <td>[Iris-data]</td>\n",
       "      <td></td>\n",
       "      <td>&lt;class 'torch.Tensor'&gt;</td>\n",
       "    </tr>\n",
       "    <tr>\n",
       "      <th>1</th>\n",
       "      <td>&lt;UID: 285da8c7b2274b47bb911c6e38ddeaa7&gt;</td>\n",
       "      <td>[Iris-target]</td>\n",
       "      <td></td>\n",
       "      <td>&lt;class 'torch.Tensor'&gt;</td>\n",
       "    </tr>\n",
       "  </tbody>\n",
       "</table>\n",
       "</div>"
      ],
      "text/plain": [
       "                                        ID           Tags Description  \\\n",
       "0  <UID: 765f2f87cbd44ab2bf6ef349d39478cb>    [Iris-data]               \n",
       "1  <UID: 285da8c7b2274b47bb911c6e38ddeaa7>  [Iris-target]               \n",
       "\n",
       "              object_type  \n",
       "0  <class 'torch.Tensor'>  \n",
       "1  <class 'torch.Tensor'>  "
      ]
     },
     "execution_count": 202,
     "metadata": {},
     "output_type": "execute_result"
    }
   ],
   "source": [
    "duet.store.pandas"
   ]
  },
  {
   "cell_type": "code",
   "execution_count": 222,
   "id": "8bc72bb1",
   "metadata": {},
   "outputs": [
    {
     "name": "stderr",
     "output_type": "stream",
     "text": [
      "[2021-08-09T05:23:51.303412+0100][CRITICAL][logger]][19436] <class 'syft.core.store.store_memory.MemoryStore'> __getitem__ error <UID: 97c42dd2201e4f828ff34907a829e75c> <UID: 97c42dd2201e4f828ff34907a829e75c>\n",
      "[2021-08-09T05:23:51.305405+0100][CRITICAL][logger]][19436] <UID: 97c42dd2201e4f828ff34907a829e75c>\n",
      "[2021-08-09T05:23:51.306368+0100][CRITICAL][logger]][19436] Tried to Accept Message on Node. <UID: 97c42dd2201e4f828ff34907a829e75c>\n",
      "[2021-08-09T05:23:51.808432+0100][CRITICAL][logger]][19436] <class 'syft.core.store.store_memory.MemoryStore'> __getitem__ error <UID: d381ea4a4b214ae1af64588e5d051bf5> <UID: d381ea4a4b214ae1af64588e5d051bf5>\n",
      "[2021-08-09T05:23:51.808432+0100][CRITICAL][logger]][19436] <UID: d381ea4a4b214ae1af64588e5d051bf5>\n",
      "[2021-08-09T05:23:51.808432+0100][CRITICAL][logger]][19436] Tried to Accept Message on Node. <UID: d381ea4a4b214ae1af64588e5d051bf5>\n",
      "[2021-08-09T05:23:56.307831+0100][CRITICAL][logger]][19436] <class 'syft.core.store.store_memory.MemoryStore'> __getitem__ error <UID: 97c42dd2201e4f828ff34907a829e75c> <UID: 97c42dd2201e4f828ff34907a829e75c>\n",
      "[2021-08-09T05:23:56.309833+0100][CRITICAL][logger]][19436] <UID: 97c42dd2201e4f828ff34907a829e75c>\n",
      "[2021-08-09T05:23:56.310829+0100][CRITICAL][logger]][19436] Tried to Accept Message on Node. <UID: 97c42dd2201e4f828ff34907a829e75c>\n",
      "[2021-08-09T05:23:56.828051+0100][CRITICAL][logger]][19436] <class 'syft.core.store.store_memory.MemoryStore'> __getitem__ error <UID: d381ea4a4b214ae1af64588e5d051bf5> <UID: d381ea4a4b214ae1af64588e5d051bf5>\n",
      "[2021-08-09T05:23:56.830042+0100][CRITICAL][logger]][19436] <UID: d381ea4a4b214ae1af64588e5d051bf5>\n",
      "[2021-08-09T05:23:56.833042+0100][CRITICAL][logger]][19436] Tried to Accept Message on Node. <UID: d381ea4a4b214ae1af64588e5d051bf5>\n",
      "[2021-08-09T05:24:01.319782+0100][CRITICAL][logger]][19436] <class 'syft.core.store.store_memory.MemoryStore'> __getitem__ error <UID: 97c42dd2201e4f828ff34907a829e75c> <UID: 97c42dd2201e4f828ff34907a829e75c>\n",
      "[2021-08-09T05:24:01.320781+0100][CRITICAL][logger]][19436] <UID: 97c42dd2201e4f828ff34907a829e75c>\n",
      "[2021-08-09T05:24:01.322782+0100][CRITICAL][logger]][19436] Tried to Accept Message on Node. <UID: 97c42dd2201e4f828ff34907a829e75c>\n",
      "[2021-08-09T05:24:01.836429+0100][CRITICAL][logger]][19436] <class 'syft.core.store.store_memory.MemoryStore'> __getitem__ error <UID: d381ea4a4b214ae1af64588e5d051bf5> <UID: d381ea4a4b214ae1af64588e5d051bf5>\n",
      "[2021-08-09T05:24:01.838440+0100][CRITICAL][logger]][19436] <UID: d381ea4a4b214ae1af64588e5d051bf5>\n",
      "[2021-08-09T05:24:01.839427+0100][CRITICAL][logger]][19436] Tried to Accept Message on Node. <UID: d381ea4a4b214ae1af64588e5d051bf5>\n"
     ]
    },
    {
     "name": "stdout",
     "output_type": "stream",
     "text": [
      "\r",
      "♫♫♫ > DUET LIVE STATUS  -  Objects: 23  Requests: 0   Messages: 2698  Request Handlers: 1                                \r"
     ]
    },
    {
     "name": "stderr",
     "output_type": "stream",
     "text": [
      "[2021-08-09T05:24:06.328853+0100][CRITICAL][logger]][19436] <class 'syft.core.store.store_memory.MemoryStore'> __getitem__ error <UID: 97c42dd2201e4f828ff34907a829e75c> <UID: 97c42dd2201e4f828ff34907a829e75c>\n",
      "[2021-08-09T05:24:06.330855+0100][CRITICAL][logger]][19436] <UID: 97c42dd2201e4f828ff34907a829e75c>\n",
      "[2021-08-09T05:24:06.332855+0100][CRITICAL][logger]][19436] Tried to Accept Message on Node. <UID: 97c42dd2201e4f828ff34907a829e75c>\n",
      "[2021-08-09T05:24:06.847613+0100][CRITICAL][logger]][19436] <class 'syft.core.store.store_memory.MemoryStore'> __getitem__ error <UID: d381ea4a4b214ae1af64588e5d051bf5> <UID: d381ea4a4b214ae1af64588e5d051bf5>\n",
      "[2021-08-09T05:24:06.847613+0100][CRITICAL][logger]][19436] <UID: d381ea4a4b214ae1af64588e5d051bf5>\n",
      "[2021-08-09T05:24:06.847613+0100][CRITICAL][logger]][19436] Tried to Accept Message on Node. <UID: d381ea4a4b214ae1af64588e5d051bf5>\n",
      "[2021-08-09T05:24:11.347900+0100][CRITICAL][logger]][19436] <class 'syft.core.store.store_memory.MemoryStore'> __getitem__ error <UID: 97c42dd2201e4f828ff34907a829e75c> <UID: 97c42dd2201e4f828ff34907a829e75c>\n",
      "[2021-08-09T05:24:11.350907+0100][CRITICAL][logger]][19436] <UID: 97c42dd2201e4f828ff34907a829e75c>\n",
      "[2021-08-09T05:24:11.352901+0100][CRITICAL][logger]][19436] Tried to Accept Message on Node. <UID: 97c42dd2201e4f828ff34907a829e75c>\n",
      "[2021-08-09T05:24:11.868517+0100][CRITICAL][logger]][19436] <class 'syft.core.store.store_memory.MemoryStore'> __getitem__ error <UID: d381ea4a4b214ae1af64588e5d051bf5> <UID: d381ea4a4b214ae1af64588e5d051bf5>\n",
      "[2021-08-09T05:24:11.868517+0100][CRITICAL][logger]][19436] <UID: d381ea4a4b214ae1af64588e5d051bf5>\n",
      "[2021-08-09T05:24:11.868517+0100][CRITICAL][logger]][19436] Tried to Accept Message on Node. <UID: d381ea4a4b214ae1af64588e5d051bf5>\n",
      "[2021-08-09T05:24:16.362201+0100][CRITICAL][logger]][19436] <class 'syft.core.store.store_memory.MemoryStore'> __getitem__ error <UID: 97c42dd2201e4f828ff34907a829e75c> <UID: 97c42dd2201e4f828ff34907a829e75c>\n",
      "[2021-08-09T05:24:16.362201+0100][CRITICAL][logger]][19436] <UID: 97c42dd2201e4f828ff34907a829e75c>\n",
      "[2021-08-09T05:24:16.362201+0100][CRITICAL][logger]][19436] Tried to Accept Message on Node. <UID: 97c42dd2201e4f828ff34907a829e75c>\n",
      "[2021-08-09T05:24:16.873702+0100][CRITICAL][logger]][19436] <class 'syft.core.store.store_memory.MemoryStore'> __getitem__ error <UID: d381ea4a4b214ae1af64588e5d051bf5> <UID: d381ea4a4b214ae1af64588e5d051bf5>\n",
      "[2021-08-09T05:24:16.873702+0100][CRITICAL][logger]][19436] <UID: d381ea4a4b214ae1af64588e5d051bf5>\n",
      "[2021-08-09T05:24:16.873702+0100][CRITICAL][logger]][19436] Tried to Accept Message on Node. <UID: d381ea4a4b214ae1af64588e5d051bf5>\n",
      "[2021-08-09T05:24:21.396953+0100][CRITICAL][logger]][19436] <class 'syft.core.store.store_memory.MemoryStore'> __getitem__ error <UID: 97c42dd2201e4f828ff34907a829e75c> <UID: 97c42dd2201e4f828ff34907a829e75c>\n",
      "[2021-08-09T05:24:21.397948+0100][CRITICAL][logger]][19436] <UID: 97c42dd2201e4f828ff34907a829e75c>\n",
      "[2021-08-09T05:24:21.398947+0100][CRITICAL][logger]][19436] Tried to Accept Message on Node. <UID: 97c42dd2201e4f828ff34907a829e75c>\n",
      "[2021-08-09T05:24:21.885223+0100][CRITICAL][logger]][19436] <class 'syft.core.store.store_memory.MemoryStore'> __getitem__ error <UID: d381ea4a4b214ae1af64588e5d051bf5> <UID: d381ea4a4b214ae1af64588e5d051bf5>\n",
      "[2021-08-09T05:24:21.886268+0100][CRITICAL][logger]][19436] <UID: d381ea4a4b214ae1af64588e5d051bf5>\n",
      "[2021-08-09T05:24:21.887221+0100][CRITICAL][logger]][19436] Tried to Accept Message on Node. <UID: d381ea4a4b214ae1af64588e5d051bf5>\n",
      "[2021-08-09T05:24:26.405472+0100][CRITICAL][logger]][19436] <class 'syft.core.store.store_memory.MemoryStore'> __getitem__ error <UID: 97c42dd2201e4f828ff34907a829e75c> <UID: 97c42dd2201e4f828ff34907a829e75c>\n",
      "[2021-08-09T05:24:26.405472+0100][CRITICAL][logger]][19436] <UID: 97c42dd2201e4f828ff34907a829e75c>\n",
      "[2021-08-09T05:24:26.405472+0100][CRITICAL][logger]][19436] Tried to Accept Message on Node. <UID: 97c42dd2201e4f828ff34907a829e75c>\n",
      "[2021-08-09T05:24:26.904982+0100][CRITICAL][logger]][19436] <class 'syft.core.store.store_memory.MemoryStore'> __getitem__ error <UID: d381ea4a4b214ae1af64588e5d051bf5> <UID: d381ea4a4b214ae1af64588e5d051bf5>\n",
      "[2021-08-09T05:24:26.909982+0100][CRITICAL][logger]][19436] <UID: d381ea4a4b214ae1af64588e5d051bf5>\n",
      "[2021-08-09T05:24:26.912982+0100][CRITICAL][logger]][19436] Tried to Accept Message on Node. <UID: d381ea4a4b214ae1af64588e5d051bf5>\n",
      "[2021-08-09T05:24:31.407802+0100][CRITICAL][logger]][19436] <class 'syft.core.store.store_memory.MemoryStore'> __getitem__ error <UID: 97c42dd2201e4f828ff34907a829e75c> <UID: 97c42dd2201e4f828ff34907a829e75c>\n",
      "[2021-08-09T05:24:31.407802+0100][CRITICAL][logger]][19436] <UID: 97c42dd2201e4f828ff34907a829e75c>\n",
      "[2021-08-09T05:24:31.407802+0100][CRITICAL][logger]][19436] Tried to Accept Message on Node. <UID: 97c42dd2201e4f828ff34907a829e75c>\n",
      "[2021-08-09T05:24:31.929958+0100][CRITICAL][logger]][19436] <class 'syft.core.store.store_memory.MemoryStore'> __getitem__ error <UID: d381ea4a4b214ae1af64588e5d051bf5> <UID: d381ea4a4b214ae1af64588e5d051bf5>\n",
      "[2021-08-09T05:24:31.931952+0100][CRITICAL][logger]][19436] <UID: d381ea4a4b214ae1af64588e5d051bf5>\n",
      "[2021-08-09T05:24:31.935956+0100][CRITICAL][logger]][19436] Tried to Accept Message on Node. <UID: d381ea4a4b214ae1af64588e5d051bf5>\n",
      "[2021-08-09T05:24:36.437419+0100][CRITICAL][logger]][19436] <class 'syft.core.store.store_memory.MemoryStore'> __getitem__ error <UID: 97c42dd2201e4f828ff34907a829e75c> <UID: 97c42dd2201e4f828ff34907a829e75c>\n",
      "[2021-08-09T05:24:36.441417+0100][CRITICAL][logger]][19436] <UID: 97c42dd2201e4f828ff34907a829e75c>\n",
      "[2021-08-09T05:24:36.443414+0100][CRITICAL][logger]][19436] Tried to Accept Message on Node. <UID: 97c42dd2201e4f828ff34907a829e75c>\n",
      "[2021-08-09T05:24:36.956799+0100][CRITICAL][logger]][19436] <class 'syft.core.store.store_memory.MemoryStore'> __getitem__ error <UID: d381ea4a4b214ae1af64588e5d051bf5> <UID: d381ea4a4b214ae1af64588e5d051bf5>\n",
      "[2021-08-09T05:24:36.956799+0100][CRITICAL][logger]][19436] <UID: d381ea4a4b214ae1af64588e5d051bf5>\n",
      "[2021-08-09T05:24:36.964331+0100][CRITICAL][logger]][19436] Tried to Accept Message on Node. <UID: d381ea4a4b214ae1af64588e5d051bf5>\n",
      "[2021-08-09T05:24:41.451154+0100][CRITICAL][logger]][19436] <class 'syft.core.store.store_memory.MemoryStore'> __getitem__ error <UID: 97c42dd2201e4f828ff34907a829e75c> <UID: 97c42dd2201e4f828ff34907a829e75c>\n",
      "[2021-08-09T05:24:41.452151+0100][CRITICAL][logger]][19436] <UID: 97c42dd2201e4f828ff34907a829e75c>\n",
      "[2021-08-09T05:24:41.453152+0100][CRITICAL][logger]][19436] Tried to Accept Message on Node. <UID: 97c42dd2201e4f828ff34907a829e75c>\n",
      "[2021-08-09T05:24:41.970218+0100][CRITICAL][logger]][19436] <class 'syft.core.store.store_memory.MemoryStore'> __getitem__ error <UID: d381ea4a4b214ae1af64588e5d051bf5> <UID: d381ea4a4b214ae1af64588e5d051bf5>\n",
      "[2021-08-09T05:24:41.970218+0100][CRITICAL][logger]][19436] <UID: d381ea4a4b214ae1af64588e5d051bf5>\n",
      "[2021-08-09T05:24:41.970218+0100][CRITICAL][logger]][19436] Tried to Accept Message on Node. <UID: d381ea4a4b214ae1af64588e5d051bf5>\n",
      "[2021-08-09T05:24:46.469661+0100][CRITICAL][logger]][19436] <class 'syft.core.store.store_memory.MemoryStore'> __getitem__ error <UID: 97c42dd2201e4f828ff34907a829e75c> <UID: 97c42dd2201e4f828ff34907a829e75c>\n",
      "[2021-08-09T05:24:46.470650+0100][CRITICAL][logger]][19436] <UID: 97c42dd2201e4f828ff34907a829e75c>\n",
      "[2021-08-09T05:24:46.473654+0100][CRITICAL][logger]][19436] Tried to Accept Message on Node. <UID: 97c42dd2201e4f828ff34907a829e75c>\n",
      "[2021-08-09T05:24:46.975292+0100][CRITICAL][logger]][19436] <class 'syft.core.store.store_memory.MemoryStore'> __getitem__ error <UID: d381ea4a4b214ae1af64588e5d051bf5> <UID: d381ea4a4b214ae1af64588e5d051bf5>\n",
      "[2021-08-09T05:24:46.975292+0100][CRITICAL][logger]][19436] <UID: d381ea4a4b214ae1af64588e5d051bf5>\n",
      "[2021-08-09T05:24:46.975292+0100][CRITICAL][logger]][19436] Tried to Accept Message on Node. <UID: d381ea4a4b214ae1af64588e5d051bf5>\n",
      "[2021-08-09T05:24:51.478615+0100][CRITICAL][logger]][19436] <class 'syft.core.store.store_memory.MemoryStore'> __getitem__ error <UID: 97c42dd2201e4f828ff34907a829e75c> <UID: 97c42dd2201e4f828ff34907a829e75c>\n",
      "[2021-08-09T05:24:51.479613+0100][CRITICAL][logger]][19436] <UID: 97c42dd2201e4f828ff34907a829e75c>\n"
     ]
    },
    {
     "name": "stderr",
     "output_type": "stream",
     "text": [
      "[2021-08-09T05:24:51.480616+0100][CRITICAL][logger]][19436] Tried to Accept Message on Node. <UID: 97c42dd2201e4f828ff34907a829e75c>\n",
      "[2021-08-09T05:24:51.992926+0100][CRITICAL][logger]][19436] <class 'syft.core.store.store_memory.MemoryStore'> __getitem__ error <UID: d381ea4a4b214ae1af64588e5d051bf5> <UID: d381ea4a4b214ae1af64588e5d051bf5>\n",
      "[2021-08-09T05:24:51.992926+0100][CRITICAL][logger]][19436] <UID: d381ea4a4b214ae1af64588e5d051bf5>\n",
      "[2021-08-09T05:24:51.992926+0100][CRITICAL][logger]][19436] Tried to Accept Message on Node. <UID: d381ea4a4b214ae1af64588e5d051bf5>\n",
      "[2021-08-09T05:24:56.497643+0100][CRITICAL][logger]][19436] <class 'syft.core.store.store_memory.MemoryStore'> __getitem__ error <UID: 97c42dd2201e4f828ff34907a829e75c> <UID: 97c42dd2201e4f828ff34907a829e75c>\n",
      "[2021-08-09T05:24:56.499641+0100][CRITICAL][logger]][19436] <UID: 97c42dd2201e4f828ff34907a829e75c>\n",
      "[2021-08-09T05:24:56.502645+0100][CRITICAL][logger]][19436] Tried to Accept Message on Node. <UID: 97c42dd2201e4f828ff34907a829e75c>\n"
     ]
    }
   ],
   "source": [
    "duet.requests.add_handler(action=\"accept\")"
   ]
  },
  {
   "cell_type": "code",
   "execution_count": null,
   "id": "5b79de61",
   "metadata": {},
   "outputs": [],
   "source": []
  }
 ],
 "metadata": {
  "kernelspec": {
   "display_name": "Python 3",
   "language": "python",
   "name": "python3"
  },
  "language_info": {
   "codemirror_mode": {
    "name": "ipython",
    "version": 3
   },
   "file_extension": ".py",
   "mimetype": "text/x-python",
   "name": "python",
   "nbconvert_exporter": "python",
   "pygments_lexer": "ipython3",
   "version": "3.9.6"
  }
 },
 "nbformat": 4,
 "nbformat_minor": 5
}
