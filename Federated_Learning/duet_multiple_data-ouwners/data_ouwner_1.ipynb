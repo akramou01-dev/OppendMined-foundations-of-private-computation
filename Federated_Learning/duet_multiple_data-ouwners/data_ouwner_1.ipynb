{
 "cells": [
  {
   "cell_type": "code",
   "execution_count": 1,
   "id": "f32d208e",
   "metadata": {},
   "outputs": [],
   "source": [
    "import syft as sy "
   ]
  },
  {
   "cell_type": "code",
   "execution_count": 2,
   "id": "2cd92201",
   "metadata": {},
   "outputs": [
    {
     "name": "stdout",
     "output_type": "stream",
     "text": [
      "🎤  🎸  ♪♪♪ Starting Duet ♫♫♫  🎻  🎹\n",
      "\n",
      "♫♫♫ >\u001b[93m DISCLAIMER\u001b[0m: \u001b[1mDuet is an experimental feature currently in beta.\n",
      "♫♫♫ > Use at your own risk.\n",
      "\u001b[0m\n",
      "\u001b[1m\n",
      "    > ❤️ \u001b[91mLove\u001b[0m \u001b[92mDuet\u001b[0m? \u001b[93mPlease\u001b[0m \u001b[94mconsider\u001b[0m \u001b[95msupporting\u001b[0m \u001b[91mour\u001b[0m \u001b[93mcommunity!\u001b[0m\n",
      "    > https://github.com/sponsors/OpenMined\u001b[1m\n",
      "\n",
      "♫♫♫ > Punching through firewall to OpenGrid Network Node at:\n",
      "♫♫♫ > http://ec2-18-218-7-180.us-east-2.compute.amazonaws.com:5000\n",
      "♫♫♫ >\n",
      "♫♫♫ > ...waiting for response from OpenGrid Network... \n",
      "♫♫♫ > \u001b[92mDONE!\u001b[0m\n",
      "\n",
      "♫♫♫ > \u001b[95mSTEP 1:\u001b[0m Send the following code to your Duet Partner!\n",
      "\n",
      "import syft as sy\n",
      "duet = sy.join_duet(loopback=True)\n",
      "\n",
      "♫♫♫ > Connecting...\n",
      "\n",
      "♫♫♫ > \u001b[92mCONNECTED!\u001b[0m\n",
      "\n",
      "♫♫♫ > DUET LIVE STATUS  *  Objects: 4  Requests: 0   Messages: 226  Request Handlers: 1                                \r"
     ]
    }
   ],
   "source": [
    "duet = sy.launch_duet(loopback=True)"
   ]
  },
  {
   "cell_type": "code",
   "execution_count": 4,
   "id": "84be1cb2",
   "metadata": {},
   "outputs": [],
   "source": [
    "import torch as th\n",
    "import numpy as np"
   ]
  },
  {
   "cell_type": "code",
   "execution_count": 6,
   "id": "e57ccb88",
   "metadata": {},
   "outputs": [
    {
     "name": "stdout",
     "output_type": "stream",
     "text": [
      "`searchable` is deprecated please use `pointable` in future\n"
     ]
    }
   ],
   "source": [
    "data = th.FloatTensor(np.array([5,15,25,35,45,55]).reshape(-1,1))\n",
    "data = data.tag(\"DO1 data\")\n",
    "data = data.describe(\"Dataset of 6 samples\")\n",
    "\n",
    "data_pointer = data.send(duet,searchable=True)"
   ]
  },
  {
   "cell_type": "code",
   "execution_count": 9,
   "id": "d49113dc",
   "metadata": {},
   "outputs": [
    {
     "data": {
      "text/plain": [
       "tensor([[ 5.],\n",
       "        [15.],\n",
       "        [25.],\n",
       "        [35.],\n",
       "        [45.],\n",
       "        [55.]])"
      ]
     },
     "execution_count": 9,
     "metadata": {},
     "output_type": "execute_result"
    }
   ],
   "source": [
    "data"
   ]
  },
  {
   "cell_type": "code",
   "execution_count": 10,
   "id": "18301fe8",
   "metadata": {},
   "outputs": [],
   "source": [
    "duet.requests.add_handler(action=\"accept\",print_local=True)"
   ]
  },
  {
   "cell_type": "code",
   "execution_count": 11,
   "id": "ea497885",
   "metadata": {},
   "outputs": [
    {
     "data": {
      "text/plain": [
       "[<syft.proxy.torch.TensorPointer object at 0x00000261F595D520>]"
      ]
     },
     "execution_count": 11,
     "metadata": {},
     "output_type": "execute_result"
    },
    {
     "name": "stderr",
     "output_type": "stream",
     "text": [
      "[2021-08-09T06:35:19.099464+0100][CRITICAL][logger]][10440] > HANDLER Request <UID: fa9b1be2131748b38ccce06fa8e175db>: To evalute training process \n",
      "Value: <Storable: 100.28304290771484>\n",
      "[2021-08-09T06:35:20.175465+0100][CRITICAL][logger]][10440] > HANDLER Request <UID: 54ce42de2bca4f5693a14fb6383287d1>: To evalute training process \n",
      "Value: <Storable: 43.111087799072266>\n",
      "[2021-08-09T06:35:20.376460+0100][CRITICAL][logger]][10440] > HANDLER Request <UID: 62ba09f772ee481595d31f19fce2a617>: To evalute training process \n",
      "Value: <Storable: 11.679686546325684>\n",
      "[2021-08-09T06:35:21.501461+0100][CRITICAL][logger]][10440] > HANDLER Request <UID: 5b99e93a866b47e7bc6c9cf7341ac9ce>: To evalute training process \n",
      "Value: <Storable: 3.377065658569336>\n",
      "[2021-08-09T06:35:21.692463+0100][CRITICAL][logger]][10440] > HANDLER Request <UID: 515ca05f41e84b0b8072ac63d98e23d5>: To evalute training process \n",
      "Value: <Storable: 10.752118110656738>\n",
      "[2021-08-09T06:35:21.862460+0100][CRITICAL][logger]][10440] > HANDLER Request <UID: 57f18be9fa9a402197924350645a8bbd>: To evalute training process \n",
      "Value: <Storable: 22.371599197387695>\n",
      "[2021-08-09T06:35:23.010510+0100][CRITICAL][logger]][10440] > HANDLER Request <UID: 6ad70d33a07d4493b5688de93ff88444>: To evalute training process \n",
      "Value: <Storable: 29.118043899536133>\n",
      "[2021-08-09T06:35:24.156133+0100][CRITICAL][logger]][10440] > HANDLER Request <UID: ed4775873e7544979c294f2ac5a25d8a>: To evalute training process \n",
      "Value: <Storable: 28.430830001831055>\n",
      "[2021-08-09T06:35:25.292522+0100][CRITICAL][logger]][10440] > HANDLER Request <UID: c45271d438b54fbfb4847db2c4b923d7>: To evalute training process \n",
      "Value: <Storable: 22.355804443359375>\n",
      "[2021-08-09T06:35:26.424901+0100][CRITICAL][logger]][10440] > HANDLER Request <UID: 0b386dcfe1c547d7b7297e5288178955>: To evalute training process \n",
      "Value: <Storable: 14.358283996582031>\n",
      "[2021-08-09T06:45:04.143013+0100][CRITICAL][logger]][10440] > HANDLER Request <UID: 8f400cbacde94a25b20b4dcdc31f6d4a>:\n",
      "Value: <Storable: [Parameter containing:tensor([[-0.0038]], requires_grad=True), Parameter containing:tensor([0.3196], requires_grad=True)]>\n",
      "[2021-08-09T06:48:41.540914+0100][CRITICAL][logger]][10440] > HANDLER Request <UID: 5a23a37cff5d4006b16f4444e3e2b108>:\n",
      "Value: <Storable: 'in_features=1, out_features=1, bias=True'>\n",
      "[2021-08-09T06:48:41.684667+0100][CRITICAL][logger]][10440] > HANDLER Request <UID: 03a0331b58b64abc8492cee06f075c77>:\n",
      "Value: <Storable: OrderedDict([('weight', tensor([[-0.0038]])), ('bias', tensor([0.3196]))])>\n"
     ]
    }
   ],
   "source": [
    "duet.store"
   ]
  },
  {
   "cell_type": "code",
   "execution_count": null,
   "id": "8084aff5",
   "metadata": {},
   "outputs": [],
   "source": []
  }
 ],
 "metadata": {
  "kernelspec": {
   "display_name": "Python 3",
   "language": "python",
   "name": "python3"
  },
  "language_info": {
   "codemirror_mode": {
    "name": "ipython",
    "version": 3
   },
   "file_extension": ".py",
   "mimetype": "text/x-python",
   "name": "python",
   "nbconvert_exporter": "python",
   "pygments_lexer": "ipython3",
   "version": "3.9.6"
  }
 },
 "nbformat": 4,
 "nbformat_minor": 5
}
