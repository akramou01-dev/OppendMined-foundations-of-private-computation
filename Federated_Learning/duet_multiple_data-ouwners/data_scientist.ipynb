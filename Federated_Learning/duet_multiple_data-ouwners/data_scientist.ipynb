{
 "cells": [
  {
   "cell_type": "code",
   "execution_count": 1,
   "id": "83dbe713",
   "metadata": {},
   "outputs": [],
   "source": [
    "import syft as sy"
   ]
  },
  {
   "cell_type": "code",
   "execution_count": 2,
   "id": "5746a62b",
   "metadata": {},
   "outputs": [
    {
     "name": "stdout",
     "output_type": "stream",
     "text": [
      "🎤  🎸  ♪♪♪ Joining Duet ♫♫♫  🎻  🎹\n",
      "\n",
      "♫♫♫ >\u001b[93m DISCLAIMER\u001b[0m: \u001b[1mDuet is an experimental feature currently in beta.\n",
      "♫♫♫ > Use at your own risk.\n",
      "\u001b[0m\n",
      "\u001b[1m\n",
      "    > ❤️ \u001b[91mLove\u001b[0m \u001b[92mDuet\u001b[0m? \u001b[93mPlease\u001b[0m \u001b[94mconsider\u001b[0m \u001b[95msupporting\u001b[0m \u001b[91mour\u001b[0m \u001b[93mcommunity!\u001b[0m\n",
      "    > https://github.com/sponsors/OpenMined\u001b[1m\n",
      "\n",
      "♫♫♫ > Punching through firewall to OpenGrid Network Node at:\n",
      "♫♫♫ > http://ec2-18-218-7-180.us-east-2.compute.amazonaws.com:5000\n",
      "♫♫♫ >\n",
      "♫♫♫ > ...waiting for response from OpenGrid Network... \n",
      "♫♫♫ > \u001b[92mDONE!\u001b[0m\n",
      "\n",
      "♫♫♫ > \u001b[92mCONNECTED!\u001b[0m\n"
     ]
    }
   ],
   "source": [
    "duet1 = sy.join_duet(loopback=True)"
   ]
  },
  {
   "cell_type": "code",
   "execution_count": 3,
   "id": "3340cf80",
   "metadata": {},
   "outputs": [
    {
     "name": "stdout",
     "output_type": "stream",
     "text": [
      "🎤  🎸  ♪♪♪ Joining Duet ♫♫♫  🎻  🎹\n",
      "\n",
      "♫♫♫ >\u001b[93m DISCLAIMER\u001b[0m: \u001b[1mDuet is an experimental feature currently in beta.\n",
      "♫♫♫ > Use at your own risk.\n",
      "\u001b[0m\n",
      "\u001b[1m\n",
      "    > ❤️ \u001b[91mLove\u001b[0m \u001b[92mDuet\u001b[0m? \u001b[93mPlease\u001b[0m \u001b[94mconsider\u001b[0m \u001b[95msupporting\u001b[0m \u001b[91mour\u001b[0m \u001b[93mcommunity!\u001b[0m\n",
      "    > https://github.com/sponsors/OpenMined\u001b[1m\n",
      "\n",
      "♫♫♫ > Punching through firewall to OpenGrid Network Node at:\n",
      "♫♫♫ > http://ec2-18-218-7-180.us-east-2.compute.amazonaws.com:5000\n",
      "♫♫♫ >\n",
      "♫♫♫ > ...waiting for response from OpenGrid Network... \n",
      "♫♫♫ > \u001b[92mDONE!\u001b[0m\n",
      "\n",
      "♫♫♫ > \u001b[92mCONNECTED!\u001b[0m\n"
     ]
    }
   ],
   "source": [
    "duet2 = sy.join_duet(loopback=True)"
   ]
  },
  {
   "cell_type": "code",
   "execution_count": 11,
   "id": "0b8473ab",
   "metadata": {},
   "outputs": [
    {
     "data": {
      "text/html": [
       "<div>\n",
       "<style scoped>\n",
       "    .dataframe tbody tr th:only-of-type {\n",
       "        vertical-align: middle;\n",
       "    }\n",
       "\n",
       "    .dataframe tbody tr th {\n",
       "        vertical-align: top;\n",
       "    }\n",
       "\n",
       "    .dataframe thead th {\n",
       "        text-align: right;\n",
       "    }\n",
       "</style>\n",
       "<table border=\"1\" class=\"dataframe\">\n",
       "  <thead>\n",
       "    <tr style=\"text-align: right;\">\n",
       "      <th></th>\n",
       "      <th>ID</th>\n",
       "      <th>Tags</th>\n",
       "      <th>Description</th>\n",
       "      <th>object_type</th>\n",
       "    </tr>\n",
       "  </thead>\n",
       "  <tbody>\n",
       "    <tr>\n",
       "      <th>0</th>\n",
       "      <td>&lt;UID: 95bf45f62ad142149f183e6fb5767b60&gt;</td>\n",
       "      <td>[DO1 data]</td>\n",
       "      <td>Dataset of 6 samples</td>\n",
       "      <td>&lt;class 'torch.Tensor'&gt;</td>\n",
       "    </tr>\n",
       "  </tbody>\n",
       "</table>\n",
       "</div>"
      ],
      "text/plain": [
       "                                        ID        Tags           Description  \\\n",
       "0  <UID: 95bf45f62ad142149f183e6fb5767b60>  [DO1 data]  Dataset of 6 samples   \n",
       "\n",
       "              object_type  \n",
       "0  <class 'torch.Tensor'>  "
      ]
     },
     "execution_count": 11,
     "metadata": {},
     "output_type": "execute_result"
    }
   ],
   "source": [
    "duet2.store.pandas"
   ]
  },
  {
   "cell_type": "code",
   "execution_count": 12,
   "id": "d6870d45",
   "metadata": {},
   "outputs": [
    {
     "data": {
      "text/html": [
       "<div>\n",
       "<style scoped>\n",
       "    .dataframe tbody tr th:only-of-type {\n",
       "        vertical-align: middle;\n",
       "    }\n",
       "\n",
       "    .dataframe tbody tr th {\n",
       "        vertical-align: top;\n",
       "    }\n",
       "\n",
       "    .dataframe thead th {\n",
       "        text-align: right;\n",
       "    }\n",
       "</style>\n",
       "<table border=\"1\" class=\"dataframe\">\n",
       "  <thead>\n",
       "    <tr style=\"text-align: right;\">\n",
       "      <th></th>\n",
       "      <th>ID</th>\n",
       "      <th>Tags</th>\n",
       "      <th>Description</th>\n",
       "      <th>object_type</th>\n",
       "    </tr>\n",
       "  </thead>\n",
       "  <tbody>\n",
       "    <tr>\n",
       "      <th>0</th>\n",
       "      <td>&lt;UID: e91731b0fa2145ee8588078f1fe14f91&gt;</td>\n",
       "      <td>[DO2 data]</td>\n",
       "      <td>Dataset of 5 samples</td>\n",
       "      <td>&lt;class 'torch.Tensor'&gt;</td>\n",
       "    </tr>\n",
       "  </tbody>\n",
       "</table>\n",
       "</div>"
      ],
      "text/plain": [
       "                                        ID        Tags           Description  \\\n",
       "0  <UID: e91731b0fa2145ee8588078f1fe14f91>  [DO2 data]  Dataset of 5 samples   \n",
       "\n",
       "              object_type  \n",
       "0  <class 'torch.Tensor'>  "
      ]
     },
     "execution_count": 12,
     "metadata": {},
     "output_type": "execute_result"
    }
   ],
   "source": [
    "duet1.store.pandas"
   ]
  },
  {
   "cell_type": "markdown",
   "id": "367cb19a",
   "metadata": {},
   "source": [
    "j'ai fait une petite faute de frape entre duet1 et duet2 du coup je v inversser pour l'eviter dans le nommage des data_pointers"
   ]
  },
  {
   "cell_type": "code",
   "execution_count": 14,
   "id": "6b52fdc3",
   "metadata": {},
   "outputs": [],
   "source": [
    "data1_pointer = duet2.store[0]\n",
    "data2_pointer = duet1.store[0]"
   ]
  },
  {
   "cell_type": "code",
   "execution_count": 16,
   "id": "5a0efcbf",
   "metadata": {},
   "outputs": [],
   "source": [
    "in_dim = 1 \n",
    "out_dim = 1"
   ]
  },
  {
   "cell_type": "code",
   "execution_count": 34,
   "id": "c301de67",
   "metadata": {},
   "outputs": [],
   "source": [
    "class SyNet(sy.Module):\n",
    "    def __init__(self,torch_ref): \n",
    "        super(SyNet,self ).__init__(torch_ref=torch_ref)\n",
    "        self.linear = self.torch_ref.nn.Linear(in_dim,out_dim)\n",
    "    def forward(self,x):\n",
    "        x = self.linear(x)\n",
    "        return x"
   ]
  },
  {
   "cell_type": "code",
   "execution_count": 35,
   "id": "cf6325fe",
   "metadata": {},
   "outputs": [],
   "source": [
    "def train(iterations,model,torch_ref,optim,data_ptr,target_ptr): \n",
    "    losses = []\n",
    "    for i in range(iterations): \n",
    "        optim.zero_grad()\n",
    "        output = model(data_ptr)\n",
    "        loss = torch_ref.nn.functional.mse_loss(output,target_ptr)\n",
    "        loss_item = loss.item()\n",
    "        loss_value = loss_item.get(\n",
    "            reason =\"To evalute training process \",\n",
    "            request_block = True,\n",
    "            timeout_secs = 5\n",
    "        )\n",
    "        print(\"Epoch\",i, \" loss\", loss_value)\n",
    "        losses.append(loss_value)\n",
    "        loss.backward()\n",
    "        optim.step()\n",
    "    return losses\n",
    "        "
   ]
  },
  {
   "cell_type": "code",
   "execution_count": 36,
   "id": "984eb279",
   "metadata": {},
   "outputs": [],
   "source": [
    "import torch as th \n",
    "import numpy as np \n",
    "import torch"
   ]
  },
  {
   "cell_type": "code",
   "execution_count": 37,
   "id": "d3fb890b",
   "metadata": {},
   "outputs": [],
   "source": [
    "base_model = SyNet(torch)"
   ]
  },
  {
   "cell_type": "markdown",
   "id": "f28dcad7",
   "metadata": {},
   "source": [
    "Train the first remote model with the data with the first data ouwner"
   ]
  },
  {
   "cell_type": "code",
   "execution_count": 38,
   "id": "6e7ab967",
   "metadata": {},
   "outputs": [],
   "source": [
    "remote_model1= base_model.send(duet2)"
   ]
  },
  {
   "cell_type": "code",
   "execution_count": 39,
   "id": "0b8eea92",
   "metadata": {},
   "outputs": [],
   "source": [
    "remote_torch1 = duet2.torch\n",
    "params = remote_model1.parameters()\n",
    "optim1 = remote_torch1.optim.Adam(params=params , lr=0.1)"
   ]
  },
  {
   "cell_type": "code",
   "execution_count": 40,
   "id": "1d549c6e",
   "metadata": {},
   "outputs": [],
   "source": [
    "target1_ptr = th.FloatTensor(np.array([3,4,1,0,3,4]).reshape(-1,1))"
   ]
  },
  {
   "cell_type": "code",
   "execution_count": 74,
   "id": "3e5bc0b7",
   "metadata": {},
   "outputs": [
    {
     "data": {
      "text/plain": [
       "tensor([[3.],\n",
       "        [4.],\n",
       "        [1.],\n",
       "        [0.],\n",
       "        [3.],\n",
       "        [4.]])"
      ]
     },
     "execution_count": 74,
     "metadata": {},
     "output_type": "execute_result"
    }
   ],
   "source": [
    "target1_ptr"
   ]
  },
  {
   "cell_type": "code",
   "execution_count": 76,
   "id": "7d265e8e",
   "metadata": {},
   "outputs": [
    {
     "data": {
      "text/plain": [
       "syft.proxy.torch.TensorPointer"
      ]
     },
     "execution_count": 76,
     "metadata": {},
     "output_type": "execute_result"
    }
   ],
   "source": [
    "type(data1_pointer)"
   ]
  },
  {
   "cell_type": "code",
   "execution_count": 75,
   "id": "d4d5bed0",
   "metadata": {
    "scrolled": false
   },
   "outputs": [
    {
     "name": "stdout",
     "output_type": "stream",
     "text": [
      "Epoch 0  loss 7.522589206695557\n",
      "Epoch 1  loss 3.769211530685425\n",
      "Epoch 2  loss 3.5614607334136963\n",
      "Epoch 3  loss 5.994535446166992\n",
      "Epoch 4  loss 9.325160026550293\n",
      "Epoch 5  loss 11.807393074035645\n",
      "Epoch 6  loss 12.415877342224121\n",
      "Epoch 7  loss 11.098553657531738\n",
      "Epoch 8  loss 8.564003944396973\n",
      "Epoch 9  loss 5.84566068649292\n"
     ]
    }
   ],
   "source": [
    "iterations = 10 \n",
    "losses = train(iterations,remote_model1,remote_torch1,optim1,data1_pointer,target1_ptr)"
   ]
  },
  {
   "cell_type": "code",
   "execution_count": 43,
   "id": "04824e2a",
   "metadata": {},
   "outputs": [
    {
     "data": {
      "text/plain": [
       "[100.28304290771484,\n",
       " 43.111087799072266,\n",
       " 11.679686546325684,\n",
       " 3.377065658569336,\n",
       " 10.752118110656738,\n",
       " 22.371599197387695,\n",
       " 29.118043899536133,\n",
       " 28.430830001831055,\n",
       " 22.355804443359375,\n",
       " 14.358283996582031]"
      ]
     },
     "execution_count": 43,
     "metadata": {},
     "output_type": "execute_result"
    }
   ],
   "source": []
  },
  {
   "cell_type": "markdown",
   "id": "ac51507b",
   "metadata": {},
   "source": [
    "know training the remote model number Two with the data for the ouwner number 2"
   ]
  },
  {
   "cell_type": "code",
   "execution_count": 44,
   "id": "71cb629c",
   "metadata": {},
   "outputs": [],
   "source": [
    "remote_mode2= base_model.send(duet1)"
   ]
  },
  {
   "cell_type": "code",
   "execution_count": 45,
   "id": "469e83c2",
   "metadata": {},
   "outputs": [],
   "source": [
    "remote_torch2 = duet1.torch "
   ]
  },
  {
   "cell_type": "code",
   "execution_count": 47,
   "id": "4f88348e",
   "metadata": {},
   "outputs": [],
   "source": [
    "params = remote_mode2.parameters()\n",
    "optim2 = remote_torch2.optim.Adam(params=params , lr=0.1)"
   ]
  },
  {
   "cell_type": "code",
   "execution_count": 51,
   "id": "be8b75d5",
   "metadata": {},
   "outputs": [],
   "source": [
    "target2_ptr = th.FloatTensor(np.array([15,20,17,17,19]).reshape(-1,1))"
   ]
  },
  {
   "cell_type": "code",
   "execution_count": 52,
   "id": "60dc88e1",
   "metadata": {},
   "outputs": [
    {
     "data": {
      "text/plain": [
       "tensor([[15.],\n",
       "        [20.],\n",
       "        [17.],\n",
       "        [17.],\n",
       "        [19.]])"
      ]
     },
     "execution_count": 52,
     "metadata": {},
     "output_type": "execute_result"
    }
   ],
   "source": [
    "target2_ptr"
   ]
  },
  {
   "cell_type": "code",
   "execution_count": 53,
   "id": "88fad4be",
   "metadata": {},
   "outputs": [
    {
     "name": "stdout",
     "output_type": "stream",
     "text": [
      "Epoch 0  loss 46.251644134521484\n",
      "Epoch 1  loss 3.9336578845977783\n",
      "Epoch 2  loss 27.339508056640625\n",
      "Epoch 3  loss 26.661462783813477\n",
      "Epoch 4  loss 10.607012748718262\n",
      "Epoch 5  loss 3.5918662548065186\n",
      "Epoch 6  loss 9.85547161102295\n",
      "Epoch 7  loss 16.59503173828125\n",
      "Epoch 8  loss 14.708015441894531\n",
      "Epoch 9  loss 7.867440700531006\n"
     ]
    }
   ],
   "source": [
    "losses2 = train(iterations,remote_mode2,remote_torch2,optim2,data2_pointer,target2_ptr)"
   ]
  },
  {
   "cell_type": "code",
   "execution_count": 55,
   "id": "242e4b22",
   "metadata": {},
   "outputs": [
    {
     "data": {
      "text/plain": [
       "[46.251644134521484,\n",
       " 3.9336578845977783,\n",
       " 27.339508056640625,\n",
       " 26.661462783813477,\n",
       " 10.607012748718262,\n",
       " 3.5918662548065186,\n",
       " 9.85547161102295,\n",
       " 16.59503173828125,\n",
       " 14.708015441894531,\n",
       " 7.867440700531006]"
      ]
     },
     "execution_count": 55,
     "metadata": {},
     "output_type": "execute_result"
    }
   ],
   "source": [
    "losses2"
   ]
  },
  {
   "cell_type": "markdown",
   "id": "ece7b5b0",
   "metadata": {},
   "source": [
    "dans le cas réel on devait avoir un server qui fait l'aggregation des resultat entre le remote_model_1 et le remote_model_2 mais mtn on va esseyer de faire cela manuellement pour la simplicité "
   ]
  },
  {
   "cell_type": "markdown",
   "id": "4efbc72b",
   "metadata": {},
   "source": [
    "on va esseyer de verifier les params du base model avec les 2  remote models "
   ]
  },
  {
   "cell_type": "code",
   "execution_count": 56,
   "id": "ca136a0f",
   "metadata": {},
   "outputs": [
    {
     "name": "stdout",
     "output_type": "stream",
     "text": [
      "base model params :\n",
      "[Parameter containing:\n",
      "tensor([[0.3345]], requires_grad=True), Parameter containing:\n",
      "tensor([0.5879], requires_grad=True)]\n",
      "remote model 1 params\n",
      "[Parameter containing:\n",
      "tensor([[-0.0038]], requires_grad=True), Parameter containing:\n",
      "tensor([0.3196], requires_grad=True)]\n",
      "remote model 2 params\n",
      "[Parameter containing:\n",
      "tensor([[0.2473]], requires_grad=True), Parameter containing:\n",
      "tensor([0.5215], requires_grad=True)]\n"
     ]
    }
   ],
   "source": [
    "params1 = remote_model1.parameters().get(request_block=True)\n",
    "params2 = remote_mode2.parameters().get(request_block=True)\n",
    "\n",
    "print(\"base model params :\")\n",
    "print(base_model.parameters())\n",
    "\n",
    "print(\"remote model 1 params\")\n",
    "print(params1)\n",
    "\n",
    "print(\"remote model 2 params\")\n",
    "print(params2)"
   ]
  },
  {
   "cell_type": "markdown",
   "id": "1992ae61",
   "metadata": {},
   "source": [
    "saving the updates\n"
   ]
  },
  {
   "cell_type": "code",
   "execution_count": 57,
   "id": "c50744be",
   "metadata": {},
   "outputs": [],
   "source": [
    "remote_model1_update = remote_model1.get(request_block=True).state_dict()"
   ]
  },
  {
   "cell_type": "code",
   "execution_count": 58,
   "id": "bd6e6f85",
   "metadata": {},
   "outputs": [],
   "source": [
    "remote_mode2_update = remote_mode2.get(request_block=True).state_dict()"
   ]
  },
  {
   "cell_type": "code",
   "execution_count": 61,
   "id": "d00b7419",
   "metadata": {},
   "outputs": [],
   "source": [
    "from collections import OrderedDict"
   ]
  },
  {
   "cell_type": "code",
   "execution_count": 62,
   "id": "fd4dff5f",
   "metadata": {},
   "outputs": [],
   "source": [
    "avg_updates = OrderedDict()"
   ]
  },
  {
   "cell_type": "code",
   "execution_count": 64,
   "id": "e0c48e40",
   "metadata": {},
   "outputs": [
    {
     "data": {
      "text/plain": [
       "OrderedDict([('linear.weight', tensor([[0.1218]])),\n",
       "             ('linear.bias', tensor([0.4205]))])"
      ]
     },
     "execution_count": 64,
     "metadata": {},
     "output_type": "execute_result"
    }
   ],
   "source": [
    "avg_updates[\"linear.weight\"] =( remote_mode2_update[\"linear.weight\"] + remote_model1_update[\"linear.weight\"]) /2\n",
    "avg_updates[\"linear.bias\"] = (remote_mode2_update[\"linear.bias\"]+ remote_model1_update[\"linear.bias\"])/2\n",
    "avg_updates"
   ]
  },
  {
   "cell_type": "markdown",
   "id": "c1e45026",
   "metadata": {},
   "source": [
    "mtn on a les weights aggréger donc on va les utiliser dans un modal combiné"
   ]
  },
  {
   "cell_type": "code",
   "execution_count": 65,
   "id": "8438671c",
   "metadata": {},
   "outputs": [],
   "source": [
    "combined_model = SyNet(torch)"
   ]
  },
  {
   "cell_type": "code",
   "execution_count": 66,
   "id": "a0d34779",
   "metadata": {},
   "outputs": [],
   "source": [
    "combined_model.load_state_dict(avg_updates)"
   ]
  },
  {
   "cell_type": "code",
   "execution_count": 67,
   "id": "50b855b0",
   "metadata": {},
   "outputs": [],
   "source": [
    "del avg_updates,remote_mode2_update,remote_model1_update"
   ]
  },
  {
   "cell_type": "code",
   "execution_count": 70,
   "id": "7dfcc139",
   "metadata": {},
   "outputs": [],
   "source": [
    "test_data = th.FloatTensor(np.array([5,15,95,75,80]).reshape(-1,1))\n",
    "test_target = th.FloatTensor(np.array([3,4,3,17,19]).reshape(-1,1))"
   ]
  },
  {
   "cell_type": "code",
   "execution_count": 72,
   "id": "aea69713",
   "metadata": {},
   "outputs": [
    {
     "name": "stdout",
     "output_type": "stream",
     "text": [
      "prediction : 1.0294402837753296  la vrais valeur : tensor([3.])\n",
      "prediction : 2.247253179550171  la vrais valeur : tensor([4.])\n",
      "prediction : 11.98975658416748  la vrais valeur : tensor([3.])\n",
      "prediction : 9.554130554199219  la vrais valeur : tensor([17.])\n",
      "prediction : 10.163037300109863  la vrais valeur : tensor([19.])\n"
     ]
    }
   ],
   "source": [
    "preds = []\n",
    "with torch.no_grad(): \n",
    "    for i in range(len(test_data)): \n",
    "        sample = test_data[i]\n",
    "        y_hat = combined_model(sample)\n",
    "        print(f'prediction : {y_hat.item()}  la vrais valeur : {test_target[i]}')"
   ]
  },
  {
   "cell_type": "markdown",
   "id": "b3a723a4",
   "metadata": {},
   "source": [
    "d'apres les resultat on constate que le combined model nous a donné de bonne resultat"
   ]
  },
  {
   "cell_type": "code",
   "execution_count": 73,
   "id": "20ad08b3",
   "metadata": {},
   "outputs": [
    {
     "name": "stdout",
     "output_type": "stream",
     "text": [
      "prediction : 2.260251045227051  la vrais valeur : tensor([3.])\n",
      "prediction : 5.604864597320557  la vrais valeur : tensor([4.])\n",
      "prediction : 32.36177062988281  la vrais valeur : tensor([3.])\n",
      "prediction : 25.672544479370117  la vrais valeur : tensor([17.])\n",
      "prediction : 27.344850540161133  la vrais valeur : tensor([19.])\n"
     ]
    }
   ],
   "source": [
    "preds = []\n",
    "with torch.no_grad(): \n",
    "    for i in range(len(test_data)): \n",
    "        sample = test_data[i]\n",
    "        y_hat = base_model(sample)\n",
    "        print(f'prediction : {y_hat.item()}  la vrais valeur : {test_target[i]}')"
   ]
  },
  {
   "cell_type": "markdown",
   "id": "7fef93a5",
   "metadata": {},
   "source": [
    "on constate que le base model est plus fort que le base_model et cela est tout a fait nrml car il est trainer entre 2 dataset et non pas comme le base model"
   ]
  },
  {
   "cell_type": "code",
   "execution_count": null,
   "id": "8715b08d",
   "metadata": {},
   "outputs": [],
   "source": []
  }
 ],
 "metadata": {
  "kernelspec": {
   "display_name": "Python 3",
   "language": "python",
   "name": "python3"
  },
  "language_info": {
   "codemirror_mode": {
    "name": "ipython",
    "version": 3
   },
   "file_extension": ".py",
   "mimetype": "text/x-python",
   "name": "python",
   "nbconvert_exporter": "python",
   "pygments_lexer": "ipython3",
   "version": "3.9.6"
  }
 },
 "nbformat": 4,
 "nbformat_minor": 5
}
