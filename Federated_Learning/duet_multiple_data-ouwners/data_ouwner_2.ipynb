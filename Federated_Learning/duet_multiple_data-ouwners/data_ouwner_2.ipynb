{
 "cells": [
  {
   "cell_type": "code",
   "execution_count": 1,
   "id": "017544fd",
   "metadata": {},
   "outputs": [
    {
     "name": "stdout",
     "output_type": "stream",
     "text": [
      "🎤  🎸  ♪♪♪ Starting Duet ♫♫♫  🎻  🎹\n",
      "\n",
      "♫♫♫ >\u001b[93m DISCLAIMER\u001b[0m: \u001b[1mDuet is an experimental feature currently in beta.\n",
      "♫♫♫ > Use at your own risk.\n",
      "\u001b[0m\n",
      "\u001b[1m\n",
      "    > ❤️ \u001b[91mLove\u001b[0m \u001b[92mDuet\u001b[0m? \u001b[93mPlease\u001b[0m \u001b[94mconsider\u001b[0m \u001b[95msupporting\u001b[0m \u001b[91mour\u001b[0m \u001b[93mcommunity!\u001b[0m\n",
      "    > https://github.com/sponsors/OpenMined\u001b[1m\n",
      "\n",
      "♫♫♫ > Punching through firewall to OpenGrid Network Node at:\n",
      "♫♫♫ > http://ec2-18-218-7-180.us-east-2.compute.amazonaws.com:5000\n",
      "♫♫♫ >\n",
      "♫♫♫ > ...waiting for response from OpenGrid Network... \n",
      "♫♫♫ > \u001b[92mDONE!\u001b[0m\n",
      "\n",
      "♫♫♫ > \u001b[95mSTEP 1:\u001b[0m Send the following code to your Duet Partner!\n",
      "\n",
      "import syft as sy\n",
      "duet = sy.join_duet(loopback=True)\n",
      "\n",
      "♫♫♫ > Connecting...\n",
      "\n",
      "♫♫♫ > \u001b[92mCONNECTED!\u001b[0m\n",
      "\n",
      "♫♫♫ > DUET LIVE STATUS  *  Objects: 5  Requests: 0   Messages: 223  Request Handlers: 1                                                        \r"
     ]
    }
   ],
   "source": [
    "import syft as sy \n",
    "duet = sy.launch_duet(loopback=True)"
   ]
  },
  {
   "cell_type": "code",
   "execution_count": 3,
   "id": "20942a15",
   "metadata": {},
   "outputs": [],
   "source": [
    "import torch as th \n",
    "import numpy as np"
   ]
  },
  {
   "cell_type": "code",
   "execution_count": 4,
   "id": "e0a1177c",
   "metadata": {},
   "outputs": [
    {
     "name": "stdout",
     "output_type": "stream",
     "text": [
      "`searchable` is deprecated please use `pointable` in future\n"
     ]
    }
   ],
   "source": [
    "data = th.FloatTensor(np.array([60,65,70,75,80]).reshape(-1,1))\n",
    "data = data.tag(\"DO2 data\")\n",
    "data = data.describe(\"Dataset of 5 samples\")\n",
    "\n",
    "data_pointer = data.send(duet,searchable=True)"
   ]
  },
  {
   "cell_type": "code",
   "execution_count": 6,
   "id": "a6503f7b",
   "metadata": {},
   "outputs": [
    {
     "data": {
      "text/html": [
       "<div>\n",
       "<style scoped>\n",
       "    .dataframe tbody tr th:only-of-type {\n",
       "        vertical-align: middle;\n",
       "    }\n",
       "\n",
       "    .dataframe tbody tr th {\n",
       "        vertical-align: top;\n",
       "    }\n",
       "\n",
       "    .dataframe thead th {\n",
       "        text-align: right;\n",
       "    }\n",
       "</style>\n",
       "<table border=\"1\" class=\"dataframe\">\n",
       "  <thead>\n",
       "    <tr style=\"text-align: right;\">\n",
       "      <th></th>\n",
       "      <th>ID</th>\n",
       "      <th>Tags</th>\n",
       "      <th>Description</th>\n",
       "      <th>object_type</th>\n",
       "    </tr>\n",
       "  </thead>\n",
       "  <tbody>\n",
       "    <tr>\n",
       "      <th>0</th>\n",
       "      <td>&lt;UID: e91731b0fa2145ee8588078f1fe14f91&gt;</td>\n",
       "      <td>[DO2 data]</td>\n",
       "      <td>Dataset of 5 samples</td>\n",
       "      <td>&lt;class 'torch.Tensor'&gt;</td>\n",
       "    </tr>\n",
       "  </tbody>\n",
       "</table>\n",
       "</div>"
      ],
      "text/plain": [
       "                                        ID        Tags           Description  \\\n",
       "0  <UID: e91731b0fa2145ee8588078f1fe14f91>  [DO2 data]  Dataset of 5 samples   \n",
       "\n",
       "              object_type  \n",
       "0  <class 'torch.Tensor'>  "
      ]
     },
     "execution_count": 6,
     "metadata": {},
     "output_type": "execute_result"
    }
   ],
   "source": [
    "duet.store.pandas"
   ]
  },
  {
   "cell_type": "code",
   "execution_count": 7,
   "id": "322f6200",
   "metadata": {},
   "outputs": [
    {
     "name": "stderr",
     "output_type": "stream",
     "text": [
      "[2021-08-09T06:39:40.360629+0100][CRITICAL][logger]][4112] > HANDLER Request <UID: 33783909c1ff495bba6fa85889f9de0d>: To evalute training process \n",
      "Value: <Storable: 46.251644134521484>\n",
      "[2021-08-09T06:39:41.557288+0100][CRITICAL][logger]][4112] > HANDLER Request <UID: 7f3e30e41793424fa7817ab64605a00e>: To evalute training process \n",
      "Value: <Storable: 3.9336578845977783>\n",
      "[2021-08-09T06:39:41.752287+0100][CRITICAL][logger]][4112] > HANDLER Request <UID: 801524dd4a1949e99a00521aabc81924>: To evalute training process \n",
      "Value: <Storable: 27.339508056640625>\n",
      "[2021-08-09T06:39:42.871372+0100][CRITICAL][logger]][4112] > HANDLER Request <UID: 4e9f616b29e4429aa7f27b0b2a3a4968>: To evalute training process \n",
      "Value: <Storable: 26.661462783813477>\n",
      "[2021-08-09T06:39:44.059843+0100][CRITICAL][logger]][4112] > HANDLER Request <UID: e097acf09959463c811592bea299e9fe>: To evalute training process \n",
      "Value: <Storable: 10.607012748718262>\n",
      "[2021-08-09T06:39:44.370825+0100][CRITICAL][logger]][4112] > HANDLER Request <UID: d0fa5cee21d24ecf8e1d65d61280fd33>: To evalute training process \n",
      "Value: <Storable: 3.5918662548065186>\n",
      "[2021-08-09T06:39:45.512787+0100][CRITICAL][logger]][4112] > HANDLER Request <UID: 5d1587919919483bad5802a1cf00dea4>: To evalute training process \n",
      "Value: <Storable: 9.85547161102295>\n",
      "[2021-08-09T06:39:46.643785+0100][CRITICAL][logger]][4112] > HANDLER Request <UID: ab479b475ff24d66aa7cf8c536d1679e>: To evalute training process \n",
      "Value: <Storable: 16.59503173828125>\n",
      "[2021-08-09T06:39:46.847779+0100][CRITICAL][logger]][4112] > HANDLER Request <UID: 09b68b9cb20b412ca7158f62d5fefbd0>: To evalute training process \n",
      "Value: <Storable: 14.708015441894531>\n",
      "[2021-08-09T06:39:48.109784+0100][CRITICAL][logger]][4112] > HANDLER Request <UID: 33dc27994a9c4f95ab0098379c37532e>: To evalute training process \n",
      "Value: <Storable: 7.867440700531006>\n",
      "[2021-08-09T06:45:05.264800+0100][CRITICAL][logger]][4112] > HANDLER Request <UID: c2cdbc4f52214785ae9d4e7a6a043d3e>:\n",
      "Value: <Storable: [Parameter containing:tensor([[0.2473]], requires_grad=True), Parameter containing:tensor([0.5215], requires_grad=True)]>\n",
      "[2021-08-09T06:48:53.712245+0100][CRITICAL][logger]][4112] > HANDLER Request <UID: 75e88f5da02e43a49af502e10b789db4>:\n",
      "Value: <Storable: 'in_features=1, out_features=1, bias=True'>\n",
      "[2021-08-09T06:48:53.852637+0100][CRITICAL][logger]][4112] > HANDLER Request <UID: c204484f7052423891d5bf6be20fd7fe>:\n",
      "Value: <Storable: OrderedDict([('weight', tensor([[0.2473]])), ('bias', tensor([0.5215]))])>\n"
     ]
    }
   ],
   "source": [
    "duet.requests.add_handler(action='accept',print_local=True)"
   ]
  },
  {
   "cell_type": "code",
   "execution_count": null,
   "id": "402f5919",
   "metadata": {},
   "outputs": [],
   "source": []
  }
 ],
 "metadata": {
  "kernelspec": {
   "display_name": "Python 3",
   "language": "python",
   "name": "python3"
  },
  "language_info": {
   "codemirror_mode": {
    "name": "ipython",
    "version": 3
   },
   "file_extension": ".py",
   "mimetype": "text/x-python",
   "name": "python",
   "nbconvert_exporter": "python",
   "pygments_lexer": "ipython3",
   "version": "3.9.6"
  }
 },
 "nbformat": 4,
 "nbformat_minor": 5
}
