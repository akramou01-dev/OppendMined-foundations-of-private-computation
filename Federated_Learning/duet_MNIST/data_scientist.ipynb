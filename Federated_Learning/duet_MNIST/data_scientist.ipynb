{
 "cells": [
  {
   "cell_type": "code",
   "execution_count": 1,
   "id": "0e4297ee",
   "metadata": {},
   "outputs": [],
   "source": [
    "import syft as sy"
   ]
  },
  {
   "cell_type": "code",
   "execution_count": 2,
   "id": "f6ff42bc",
   "metadata": {},
   "outputs": [
    {
     "name": "stdout",
     "output_type": "stream",
     "text": [
      "🎤  🎸  ♪♪♪ Joining Duet ♫♫♫  🎻  🎹\n",
      "\n",
      "♫♫♫ >\u001b[93m DISCLAIMER\u001b[0m: \u001b[1mDuet is an experimental feature currently in beta.\n",
      "♫♫♫ > Use at your own risk.\n",
      "\u001b[0m\n",
      "\u001b[1m\n",
      "    > ❤️ \u001b[91mLove\u001b[0m \u001b[92mDuet\u001b[0m? \u001b[93mPlease\u001b[0m \u001b[94mconsider\u001b[0m \u001b[95msupporting\u001b[0m \u001b[91mour\u001b[0m \u001b[93mcommunity!\u001b[0m\n",
      "    > https://github.com/sponsors/OpenMined\u001b[1m\n",
      "\n",
      "♫♫♫ > Punching through firewall to OpenGrid Network Node at:\n",
      "♫♫♫ > http://ec2-18-218-7-180.us-east-2.compute.amazonaws.com:5000\n",
      "♫♫♫ >\n",
      "♫♫♫ > ...waiting for response from OpenGrid Network... \n",
      "♫♫♫ > \u001b[92mDONE!\u001b[0m\n",
      "\n",
      "♫♫♫ > \u001b[92mCONNECTED!\u001b[0m\n"
     ]
    }
   ],
   "source": [
    "duet =  sy.join_duet(loopback=True)"
   ]
  },
  {
   "cell_type": "code",
   "execution_count": 4,
   "id": "626c26ed",
   "metadata": {},
   "outputs": [
    {
     "data": {
      "text/html": [
       "<div>\n",
       "<style scoped>\n",
       "    .dataframe tbody tr th:only-of-type {\n",
       "        vertical-align: middle;\n",
       "    }\n",
       "\n",
       "    .dataframe tbody tr th {\n",
       "        vertical-align: top;\n",
       "    }\n",
       "\n",
       "    .dataframe thead th {\n",
       "        text-align: right;\n",
       "    }\n",
       "</style>\n",
       "<table border=\"1\" class=\"dataframe\">\n",
       "  <thead>\n",
       "    <tr style=\"text-align: right;\">\n",
       "      <th></th>\n",
       "      <th>ID</th>\n",
       "      <th>Tags</th>\n",
       "      <th>Description</th>\n",
       "      <th>object_type</th>\n",
       "    </tr>\n",
       "  </thead>\n",
       "  <tbody>\n",
       "    <tr>\n",
       "      <th>0</th>\n",
       "      <td>&lt;UID: 9086c8694d384ecf837931ae00d56bf5&gt;</td>\n",
       "      <td>[]</td>\n",
       "      <td></td>\n",
       "      <td>&lt;class 'torch.Tensor'&gt;</td>\n",
       "    </tr>\n",
       "    <tr>\n",
       "      <th>1</th>\n",
       "      <td>&lt;UID: 53661b26c6c340a186de8fe76ca67ef9&gt;</td>\n",
       "      <td>[]</td>\n",
       "      <td></td>\n",
       "      <td>&lt;class 'torch.Tensor'&gt;</td>\n",
       "    </tr>\n",
       "  </tbody>\n",
       "</table>\n",
       "</div>"
      ],
      "text/plain": [
       "                                        ID Tags Description  \\\n",
       "0  <UID: 9086c8694d384ecf837931ae00d56bf5>   []               \n",
       "1  <UID: 53661b26c6c340a186de8fe76ca67ef9>   []               \n",
       "\n",
       "              object_type  \n",
       "0  <class 'torch.Tensor'>  \n",
       "1  <class 'torch.Tensor'>  "
      ]
     },
     "execution_count": 4,
     "metadata": {},
     "output_type": "execute_result"
    }
   ],
   "source": [
    "duet.store.pandas"
   ]
  },
  {
   "cell_type": "code",
   "execution_count": 5,
   "id": "d8d6c924",
   "metadata": {},
   "outputs": [],
   "source": [
    "data_pointer = duet.store[0]\n",
    "target_pointer = duet.store[1]"
   ]
  },
  {
   "cell_type": "code",
   "execution_count": 11,
   "id": "8dcf9c64",
   "metadata": {},
   "outputs": [],
   "source": [
    "in_dim = 64 \n",
    "out_dim = 10\n",
    "N_exemple = 1797"
   ]
  },
  {
   "cell_type": "code",
   "execution_count": 12,
   "id": "83b411f1",
   "metadata": {},
   "outputs": [],
   "source": [
    "import torch "
   ]
  },
  {
   "cell_type": "code",
   "execution_count": 15,
   "id": "5117b975",
   "metadata": {},
   "outputs": [],
   "source": [
    "class SyNet(sy.Module): \n",
    "    def __init__(self,torch_ref): \n",
    "        super(SyNet,self).__init__(torch_ref=torch_ref)\n",
    "        self.layer1 = self.torch_ref.nn.Linear(in_dim,30)\n",
    "        self.layer2 = self.torch_ref.nn.Linear(30 , 60)\n",
    "        self.layer3 = self.torch_ref.nn.Linear(60,90)\n",
    "        self.out = self.torch_ref.nn.Linear(90,out_dim)\n",
    "    def forward(self,x):\n",
    "        x = self.torch_ref.nn.functional.relu(self.layer1(x))\n",
    "        x = self.torch_ref.nn.functional.relu(self.layer2(x))\n",
    "        x = self.torch_ref.nn.functional.relu(self.layer3(x))\n",
    "        output = self.torch_ref.nn.functional.log_softmax(self.out(x),dim=1)\n",
    "        return output"
   ]
  },
  {
   "cell_type": "code",
   "execution_count": 16,
   "id": "3da59742",
   "metadata": {},
   "outputs": [],
   "source": [
    "model = SyNet(torch)"
   ]
  },
  {
   "cell_type": "code",
   "execution_count": 17,
   "id": "63b05984",
   "metadata": {},
   "outputs": [],
   "source": [
    "remote_model = model.send(duet)"
   ]
  },
  {
   "cell_type": "code",
   "execution_count": 18,
   "id": "d9177f08",
   "metadata": {},
   "outputs": [
    {
     "data": {
      "text/plain": [
       "<__main__.SyNet at 0x17f99170100>"
      ]
     },
     "execution_count": 18,
     "metadata": {},
     "output_type": "execute_result"
    }
   ],
   "source": [
    "remote_model"
   ]
  },
  {
   "cell_type": "code",
   "execution_count": 19,
   "id": "c33c59cf",
   "metadata": {},
   "outputs": [],
   "source": [
    "remote_torch = duet.torch"
   ]
  },
  {
   "cell_type": "code",
   "execution_count": 20,
   "id": "11889735",
   "metadata": {},
   "outputs": [],
   "source": [
    "params = remote_model.parameters()\n",
    "optim = remote_torch.optim.Adam(params=params,lr=0.1)"
   ]
  },
  {
   "cell_type": "code",
   "execution_count": 38,
   "id": "fa21b16e",
   "metadata": {},
   "outputs": [],
   "source": [
    "def train(iterations,model,torch_ref,optim,data_pointer,target_pointer): \n",
    "    losses=[]\n",
    "    for i in range(iterations): \n",
    "        optim.zero_grad()\n",
    "        output = model(data_pointer)\n",
    "        loss = torch_ref.nn.functional.mse_loss(output,target_pointer)\n",
    "        loss_item = loss.item()\n",
    "        loss_value = loss_item.get(\n",
    "            reason =\"To evalute training process \",\n",
    "            request_block = True,\n",
    "            timeout_secs = 5\n",
    "        )\n",
    "        if i % 10 == 0: \n",
    "            print(\"Epoch \",i,\" loss \",loss_value)\n",
    "        losses.append(loss_value)\n",
    "        loss.backward()\n",
    "        optim.step()\n",
    "    return losses"
   ]
  },
  {
   "cell_type": "code",
   "execution_count": 39,
   "id": "78b02d61",
   "metadata": {},
   "outputs": [
    {
     "name": "stdout",
     "output_type": "stream",
     "text": [
      "Epoch  0  loss  None\n"
     ]
    }
   ],
   "source": [
    "iterations = 1\n",
    "losses = train(iterations,remote_model,remote_torch,optim,data_pointer,target_pointer)"
   ]
  },
  {
   "cell_type": "code",
   "execution_count": 40,
   "id": "b5d3ef72",
   "metadata": {},
   "outputs": [
    {
     "data": {
      "text/plain": [
       "syft.proxy.torch.TensorPointer"
      ]
     },
     "execution_count": 40,
     "metadata": {},
     "output_type": "execute_result"
    }
   ],
   "source": [
    "type(data_pointer)"
   ]
  },
  {
   "cell_type": "code",
   "execution_count": null,
   "id": "7da5ce30",
   "metadata": {},
   "outputs": [],
   "source": []
  }
 ],
 "metadata": {
  "kernelspec": {
   "display_name": "Python 3",
   "language": "python",
   "name": "python3"
  },
  "language_info": {
   "codemirror_mode": {
    "name": "ipython",
    "version": 3
   },
   "file_extension": ".py",
   "mimetype": "text/x-python",
   "name": "python",
   "nbconvert_exporter": "python",
   "pygments_lexer": "ipython3",
   "version": "3.9.6"
  }
 },
 "nbformat": 4,
 "nbformat_minor": 5
}
