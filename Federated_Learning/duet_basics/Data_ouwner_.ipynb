{
 "cells": [
  {
   "cell_type": "code",
   "execution_count": 1,
   "id": "c551b84d",
   "metadata": {},
   "outputs": [],
   "source": [
    "import syft as sy"
   ]
  },
  {
   "cell_type": "code",
   "execution_count": 2,
   "id": "3c29951d",
   "metadata": {},
   "outputs": [
    {
     "name": "stdout",
     "output_type": "stream",
     "text": [
      "🎤  🎸  ♪♪♪ Starting Duet ♫♫♫  🎻  🎹\n",
      "\n",
      "♫♫♫ >\u001b[93m DISCLAIMER\u001b[0m: \u001b[1mDuet is an experimental feature currently in beta.\n",
      "♫♫♫ > Use at your own risk.\n",
      "\u001b[0m\n",
      "\u001b[1m\n",
      "    > ❤️ \u001b[91mLove\u001b[0m \u001b[92mDuet\u001b[0m? \u001b[93mPlease\u001b[0m \u001b[94mconsider\u001b[0m \u001b[95msupporting\u001b[0m \u001b[91mour\u001b[0m \u001b[93mcommunity!\u001b[0m\n",
      "    > https://github.com/sponsors/OpenMined\u001b[1m\n",
      "\n",
      "♫♫♫ > Punching through firewall to OpenGrid Network Node at:\n",
      "♫♫♫ > http://ec2-18-218-7-180.us-east-2.compute.amazonaws.com:5000\n",
      "♫♫♫ >\n",
      "♫♫♫ > ...waiting for response from OpenGrid Network... \n",
      "♫♫♫ > \u001b[92mDONE!\u001b[0m\n",
      "♫♫♫ > Duet Server ID: \u001b[1m9ce843f3ecd63aec33cf2311b74d421f\u001b[0m\n",
      "\n",
      "♫♫♫ > \u001b[95mSTEP 1:\u001b[0m Send the following code to your Duet Partner!\n",
      "\n",
      "import syft as sy\n",
      "duet = sy.duet(\"\u001b[1m9ce843f3ecd63aec33cf2311b74d421f\u001b[0m\")\n",
      "\n",
      "♫♫♫ > \u001b[95mSTEP 2:\u001b[0m Ask your partner for their Client ID and enter it below!\n",
      "♫♫♫ > Duet Partner's Client ID: f8ef1b6c1fc888788a02b5ea04370635\n",
      "\n",
      "♫♫♫ > Connecting...\n",
      "\n",
      "♫♫♫ > \u001b[92mCONNECTED!\u001b[0m\n",
      "\n",
      "♫♫♫ > DUET LIVE STATUS  -  Objects: 5  Requests: 0   Messages: 237  Request Handlers: 1                                                         \r"
     ]
    }
   ],
   "source": [
    "duet = sy.launch_duet()"
   ]
  },
  {
   "cell_type": "code",
   "execution_count": 3,
   "id": "a47b73a5",
   "metadata": {},
   "outputs": [],
   "source": [
    "import torch as th"
   ]
  },
  {
   "cell_type": "markdown",
   "id": "89e2e8ea",
   "metadata": {},
   "source": [
    "convertir les donnés en tensors"
   ]
  },
  {
   "cell_type": "code",
   "execution_count": 4,
   "id": "65675ca4",
   "metadata": {},
   "outputs": [],
   "source": [
    "data_age = th.tensor([22,12,19,52,100])"
   ]
  },
  {
   "cell_type": "code",
   "execution_count": 5,
   "id": "48a9766e",
   "metadata": {},
   "outputs": [
    {
     "data": {
      "text/plain": [
       "tensor([ 22,  12,  19,  52, 100])"
      ]
     },
     "execution_count": 5,
     "metadata": {},
     "output_type": "execute_result"
    }
   ],
   "source": [
    "data_age"
   ]
  },
  {
   "cell_type": "markdown",
   "id": "f6ba62d2",
   "metadata": {},
   "source": [
    "Nommé les donnés pour facilité la recherche"
   ]
  },
  {
   "cell_type": "code",
   "execution_count": 6,
   "id": "4e2a5c1a",
   "metadata": {},
   "outputs": [],
   "source": [
    "data_age = data_age.tag(\"ages\")\n"
   ]
  },
  {
   "cell_type": "code",
   "execution_count": 7,
   "id": "5cb593ea",
   "metadata": {},
   "outputs": [],
   "source": [
    "data_age = data_age.describe(\"list of ages\")"
   ]
  },
  {
   "cell_type": "markdown",
   "id": "36405075",
   "metadata": {},
   "source": [
    "Le data ouwner va envoyer le data au duet server pour donner la possiblité au data_scientist pour l'utiliser"
   ]
  },
  {
   "cell_type": "code",
   "execution_count": 8,
   "id": "f7b84846",
   "metadata": {},
   "outputs": [
    {
     "name": "stdout",
     "output_type": "stream",
     "text": [
      "`searchable` is deprecated please use `pointable` in future\n"
     ]
    }
   ],
   "source": [
    "data_age_pointer = data_age.send(duet,searchable=True)"
   ]
  },
  {
   "cell_type": "code",
   "execution_count": 41,
   "id": "54b6fc92",
   "metadata": {},
   "outputs": [
    {
     "data": {
      "text/plain": [
       "[<syft.proxy.torch.TensorPointer object at 0x000001CF457F7130>, <syft.proxy.torch.TensorPointer object at 0x000001CF45364340>, <syft.proxy.torch.TensorPointer object at 0x000001CF4535FF10>, <syft.proxy.torch.TensorPointer object at 0x000001CF4535FDC0>, <syft.proxy.torch.TensorPointer object at 0x000001CF4535FC10>]"
      ]
     },
     "execution_count": 41,
     "metadata": {},
     "output_type": "execute_result"
    }
   ],
   "source": [
    "duet.store"
   ]
  },
  {
   "cell_type": "code",
   "execution_count": 10,
   "id": "c7bd441d",
   "metadata": {},
   "outputs": [
    {
     "data": {
      "text/html": [
       "<div>\n",
       "<style scoped>\n",
       "    .dataframe tbody tr th:only-of-type {\n",
       "        vertical-align: middle;\n",
       "    }\n",
       "\n",
       "    .dataframe tbody tr th {\n",
       "        vertical-align: top;\n",
       "    }\n",
       "\n",
       "    .dataframe thead th {\n",
       "        text-align: right;\n",
       "    }\n",
       "</style>\n",
       "<table border=\"1\" class=\"dataframe\">\n",
       "  <thead>\n",
       "    <tr style=\"text-align: right;\">\n",
       "      <th></th>\n",
       "      <th>ID</th>\n",
       "      <th>Tags</th>\n",
       "      <th>Description</th>\n",
       "      <th>object_type</th>\n",
       "    </tr>\n",
       "  </thead>\n",
       "  <tbody>\n",
       "    <tr>\n",
       "      <th>0</th>\n",
       "      <td>&lt;UID: da6b4aa94fb74515b2135322784051e1&gt;</td>\n",
       "      <td>[ages]</td>\n",
       "      <td>list of ages</td>\n",
       "      <td>&lt;class 'torch.Tensor'&gt;</td>\n",
       "    </tr>\n",
       "  </tbody>\n",
       "</table>\n",
       "</div>"
      ],
      "text/plain": [
       "                                        ID    Tags   Description  \\\n",
       "0  <UID: da6b4aa94fb74515b2135322784051e1>  [ages]  list of ages   \n",
       "\n",
       "              object_type  \n",
       "0  <class 'torch.Tensor'>  "
      ]
     },
     "execution_count": 10,
     "metadata": {},
     "output_type": "execute_result"
    },
    {
     "name": "stderr",
     "output_type": "stream",
     "text": [
      "[2021-08-07T04:11:50.668481+0100][CRITICAL][logger]][13460] You do not have permission to .get() Object with ID: <UID: 82844b7dc2f74c519adfa313fae6d867>Please submit a request.\n",
      "[2021-08-07T04:11:50.669482+0100][CRITICAL][logger]][13460] You do not have permission to .get() Object with ID: <UID: 82844b7dc2f74c519adfa313fae6d867>Please submit a request.\n"
     ]
    }
   ],
   "source": [
    "duet.store.pandas\n"
   ]
  },
  {
   "cell_type": "code",
   "execution_count": 43,
   "id": "ee82625c",
   "metadata": {},
   "outputs": [
    {
     "data": {
      "text/plain": [
       "[]"
      ]
     },
     "execution_count": 43,
     "metadata": {},
     "output_type": "execute_result"
    }
   ],
   "source": [
    "duet.requests\n"
   ]
  },
  {
   "cell_type": "code",
   "execution_count": 26,
   "id": "52c586cf",
   "metadata": {},
   "outputs": [
    {
     "data": {
      "text/plain": [
       "\"i'm the data scientist and i have to check the avrg age\""
      ]
     },
     "execution_count": 26,
     "metadata": {},
     "output_type": "execute_result"
    }
   ],
   "source": [
    "#pour checker la raison du request \n",
    "duet.requests[0].request_description\n"
   ]
  },
  {
   "cell_type": "code",
   "execution_count": 15,
   "id": "a3d4673a",
   "metadata": {},
   "outputs": [],
   "source": [
    "#pour rejecter le request\n",
    "duet.requests[0].deny()"
   ]
  },
  {
   "cell_type": "code",
   "execution_count": 44,
   "id": "2816e3d8",
   "metadata": {},
   "outputs": [
    {
     "data": {
      "text/plain": [
       "[]"
      ]
     },
     "execution_count": 44,
     "metadata": {},
     "output_type": "execute_result"
    }
   ],
   "source": [
    "duet.requests"
   ]
  },
  {
   "cell_type": "code",
   "execution_count": 17,
   "id": "f073dcae",
   "metadata": {},
   "outputs": [
    {
     "data": {
      "text/html": [
       "<div>\n",
       "<style scoped>\n",
       "    .dataframe tbody tr th:only-of-type {\n",
       "        vertical-align: middle;\n",
       "    }\n",
       "\n",
       "    .dataframe tbody tr th {\n",
       "        vertical-align: top;\n",
       "    }\n",
       "\n",
       "    .dataframe thead th {\n",
       "        text-align: right;\n",
       "    }\n",
       "</style>\n",
       "<table border=\"1\" class=\"dataframe\">\n",
       "  <thead>\n",
       "    <tr style=\"text-align: right;\">\n",
       "      <th></th>\n",
       "      <th>Requested Object's tags</th>\n",
       "      <th>Reason</th>\n",
       "      <th>Request ID</th>\n",
       "      <th>Requested Object's ID</th>\n",
       "      <th>Requested Object's type</th>\n",
       "    </tr>\n",
       "  </thead>\n",
       "  <tbody>\n",
       "    <tr>\n",
       "      <th>0</th>\n",
       "      <td>[ages, float, mean]</td>\n",
       "      <td>i'm the data scientist and i have to check the...</td>\n",
       "      <td>&lt;UID: 242899dc413449fba30dcef1ec6286a1&gt;</td>\n",
       "      <td>&lt;UID: 82844b7dc2f74c519adfa313fae6d867&gt;</td>\n",
       "      <td></td>\n",
       "    </tr>\n",
       "  </tbody>\n",
       "</table>\n",
       "</div>"
      ],
      "text/plain": [
       "  Requested Object's tags                                             Reason  \\\n",
       "0     [ages, float, mean]  i'm the data scientist and i have to check the...   \n",
       "\n",
       "                                Request ID  \\\n",
       "0  <UID: 242899dc413449fba30dcef1ec6286a1>   \n",
       "\n",
       "                     Requested Object's ID Requested Object's type  \n",
       "0  <UID: 82844b7dc2f74c519adfa313fae6d867>                          "
      ]
     },
     "execution_count": 17,
     "metadata": {},
     "output_type": "execute_result"
    }
   ],
   "source": [
    "duet.requests.pandas"
   ]
  },
  {
   "cell_type": "code",
   "execution_count": 18,
   "id": "9c7fd76e",
   "metadata": {},
   "outputs": [
    {
     "data": {
      "text/plain": [
       "\"i'm the data scientist and i have to check the avrg age\""
      ]
     },
     "execution_count": 18,
     "metadata": {},
     "output_type": "execute_result"
    }
   ],
   "source": [
    "duet.requests[0].request_description"
   ]
  },
  {
   "cell_type": "code",
   "execution_count": 27,
   "id": "525bb6bd",
   "metadata": {},
   "outputs": [],
   "source": [
    "#mtn le data ouwner va accepter le request car la reson etais convincente\n",
    "\n",
    "duet.requests[0].accept()"
   ]
  },
  {
   "cell_type": "code",
   "execution_count": 24,
   "id": "44006f69",
   "metadata": {},
   "outputs": [
    {
     "data": {
      "text/plain": [
       "[<syft.proxy.torch.TensorPointer object at 0x000001CF4559F0A0>, <syft.proxy.torch.TensorPointer object at 0x000001CF4559F640>, <syft.proxy.torch.TensorPointer object at 0x000001CF4559F760>, <syft.proxy.torch.TensorPointer object at 0x000001CF4559FFD0>]"
      ]
     },
     "execution_count": 24,
     "metadata": {},
     "output_type": "execute_result"
    },
    {
     "name": "stderr",
     "output_type": "stream",
     "text": [
      "[2021-08-07T04:25:12.517726+0100][CRITICAL][logger]][13460] You have already requested <UID: 223b9d6be40b49619ce29cd49ff85e09>\n",
      "[2021-08-07T04:25:12.521719+0100][CRITICAL][logger]][13460] You have already requested <UID: 223b9d6be40b49619ce29cd49ff85e09>\n",
      "[2021-08-07T04:25:12.527720+0100][CRITICAL][logger]][13460] You have already requested <UID: 223b9d6be40b49619ce29cd49ff85e09>\n",
      "Exception in callback AsyncIOEventEmitter._emit_run.<locals>._callback(<Task finishe...d49ff85e09>')>) at C:\\Users\\21355\\Anaconda3\\envs\\pysyft\\lib\\site-packages\\pyee\\_asyncio.py:55\n",
      "handle: <Handle AsyncIOEventEmitter._emit_run.<locals>._callback(<Task finishe...d49ff85e09>')>) at C:\\Users\\21355\\Anaconda3\\envs\\pysyft\\lib\\site-packages\\pyee\\_asyncio.py:55>\n",
      "Traceback (most recent call last):\n",
      "  File \"C:\\Users\\21355\\Anaconda3\\envs\\pysyft\\lib\\asyncio\\events.py\", line 80, in _run\n",
      "    self._context.run(self._callback, *self._args)\n",
      "  File \"C:\\Users\\21355\\Anaconda3\\envs\\pysyft\\lib\\site-packages\\pyee\\_asyncio.py\", line 62, in _callback\n",
      "    self.emit('error', exc)\n",
      "  File \"C:\\Users\\21355\\Anaconda3\\envs\\pysyft\\lib\\site-packages\\pyee\\_base.py\", line 116, in emit\n",
      "    self._emit_handle_potential_error(event, args[0] if args else None)\n",
      "  File \"C:\\Users\\21355\\Anaconda3\\envs\\pysyft\\lib\\site-packages\\pyee\\_base.py\", line 86, in _emit_handle_potential_error\n",
      "    raise error\n",
      "  File \"C:\\Users\\21355\\Anaconda3\\envs\\pysyft\\lib\\asyncio\\tasks.py\", line 256, in __step\n",
      "    result = coro.send(None)\n",
      "  File \"C:\\Users\\21355\\Anaconda3\\envs\\pysyft\\lib\\site-packages\\syft\\grid\\connections\\webrtc.py\", line 233, in on_message\n",
      "    await self.consumer(msg=message)\n",
      "  File \"C:\\Users\\21355\\Anaconda3\\envs\\pysyft\\lib\\site-packages\\syft\\grid\\connections\\webrtc.py\", line 449, in consumer\n",
      "    traceback_and_raise(e)\n",
      "  File \"C:\\Users\\21355\\Anaconda3\\envs\\pysyft\\lib\\site-packages\\syft\\logger.py\", line 61, in traceback_and_raise\n",
      "    raise e\n",
      "  File \"C:\\Users\\21355\\Anaconda3\\envs\\pysyft\\lib\\site-packages\\syft\\grid\\connections\\webrtc.py\", line 434, in consumer\n",
      "    self.recv_immediate_msg_without_reply(msg=_msg)\n",
      "  File \"C:\\Users\\21355\\Anaconda3\\envs\\pysyft\\lib\\site-packages\\syft\\grid\\connections\\webrtc.py\", line 490, in recv_immediate_msg_without_reply\n",
      "    traceback_and_raise(e)\n",
      "  File \"C:\\Users\\21355\\Anaconda3\\envs\\pysyft\\lib\\site-packages\\syft\\logger.py\", line 61, in traceback_and_raise\n",
      "    raise e\n",
      "  File \"C:\\Users\\21355\\Anaconda3\\envs\\pysyft\\lib\\site-packages\\syft\\grid\\connections\\webrtc.py\", line 485, in recv_immediate_msg_without_reply\n",
      "    self.node.recv_immediate_msg_without_reply(msg=msg)\n",
      "  File \"C:\\Users\\21355\\Anaconda3\\envs\\pysyft\\lib\\site-packages\\syft\\core\\node\\common\\node.py\", line 399, in recv_immediate_msg_without_reply\n",
      "    self.process_message(msg=msg, router=self.immediate_msg_without_reply_router)\n",
      "  File \"C:\\Users\\21355\\Anaconda3\\envs\\pysyft\\lib\\site-packages\\syft\\core\\node\\common\\node.py\", line 481, in process_message\n",
      "    result = service.process(\n",
      "  File \"C:\\Users\\21355\\Anaconda3\\envs\\pysyft\\lib\\site-packages\\syft\\core\\node\\domain\\service\\request_message.py\", line 209, in process\n",
      "    traceback_and_raise(\n",
      "  File \"C:\\Users\\21355\\Anaconda3\\envs\\pysyft\\lib\\site-packages\\syft\\logger.py\", line 61, in traceback_and_raise\n",
      "    raise e\n",
      "syft.core.node.common.node.DuplicateRequestException: You have already requested <UID: 223b9d6be40b49619ce29cd49ff85e09>\n"
     ]
    }
   ],
   "source": [
    "duet.store"
   ]
  },
  {
   "cell_type": "code",
   "execution_count": 40,
   "id": "0a401a24",
   "metadata": {},
   "outputs": [],
   "source": [
    "#les handlers permet de handler les request de facon automatique sans la validation du data ouwner\n",
    "duet.requests.add_handler(action=\"accept\")"
   ]
  },
  {
   "cell_type": "code",
   "execution_count": 47,
   "id": "3811fa6b",
   "metadata": {},
   "outputs": [],
   "source": [
    "duet.requests.clear_handlers()"
   ]
  },
  {
   "cell_type": "code",
   "execution_count": 50,
   "id": "591a7ee6",
   "metadata": {},
   "outputs": [
    {
     "data": {
      "text/plain": [
       "[]"
      ]
     },
     "execution_count": 50,
     "metadata": {},
     "output_type": "execute_result"
    }
   ],
   "source": [
    "duet.requests.handlers"
   ]
  },
  {
   "cell_type": "code",
   "execution_count": 51,
   "id": "79df0ea4",
   "metadata": {},
   "outputs": [
    {
     "name": "stderr",
     "output_type": "stream",
     "text": [
      "[2021-08-07T05:07:10.166203+0100][CRITICAL][logger]][13460] <class 'syft.core.store.store_memory.MemoryStore'> __getitem__ error <UID: 223b9d6be40b49619ce29cd49ff85e09> <UID: 223b9d6be40b49619ce29cd49ff85e09>\n",
      "[2021-08-07T05:07:10.168213+0100][CRITICAL][logger]][13460] <UID: 223b9d6be40b49619ce29cd49ff85e09>\n",
      "[2021-08-07T05:07:10.171202+0100][CRITICAL][logger]][13460] <UID: 223b9d6be40b49619ce29cd49ff85e09>\n",
      "[2021-08-07T05:07:10.174204+0100][CRITICAL][logger]][13460] <UID: 223b9d6be40b49619ce29cd49ff85e09>\n",
      "Exception in callback AsyncIOEventEmitter._emit_run.<locals>._callback(<Task finishe...cd49ff85e09>)>) at C:\\Users\\21355\\Anaconda3\\envs\\pysyft\\lib\\site-packages\\pyee\\_asyncio.py:55\n",
      "handle: <Handle AsyncIOEventEmitter._emit_run.<locals>._callback(<Task finishe...cd49ff85e09>)>) at C:\\Users\\21355\\Anaconda3\\envs\\pysyft\\lib\\site-packages\\pyee\\_asyncio.py:55>\n",
      "Traceback (most recent call last):\n",
      "  File \"C:\\Users\\21355\\Anaconda3\\envs\\pysyft\\lib\\asyncio\\events.py\", line 80, in _run\n",
      "    self._context.run(self._callback, *self._args)\n",
      "  File \"C:\\Users\\21355\\Anaconda3\\envs\\pysyft\\lib\\site-packages\\pyee\\_asyncio.py\", line 62, in _callback\n",
      "    self.emit('error', exc)\n",
      "  File \"C:\\Users\\21355\\Anaconda3\\envs\\pysyft\\lib\\site-packages\\pyee\\_base.py\", line 116, in emit\n",
      "    self._emit_handle_potential_error(event, args[0] if args else None)\n",
      "  File \"C:\\Users\\21355\\Anaconda3\\envs\\pysyft\\lib\\site-packages\\pyee\\_base.py\", line 86, in _emit_handle_potential_error\n",
      "    raise error\n",
      "  File \"C:\\Users\\21355\\Anaconda3\\envs\\pysyft\\lib\\asyncio\\tasks.py\", line 256, in __step\n",
      "    result = coro.send(None)\n",
      "  File \"C:\\Users\\21355\\Anaconda3\\envs\\pysyft\\lib\\site-packages\\syft\\grid\\connections\\webrtc.py\", line 233, in on_message\n",
      "    await self.consumer(msg=message)\n",
      "  File \"C:\\Users\\21355\\Anaconda3\\envs\\pysyft\\lib\\site-packages\\syft\\grid\\connections\\webrtc.py\", line 449, in consumer\n",
      "    traceback_and_raise(e)\n",
      "  File \"C:\\Users\\21355\\Anaconda3\\envs\\pysyft\\lib\\site-packages\\syft\\logger.py\", line 61, in traceback_and_raise\n",
      "    raise e\n",
      "  File \"C:\\Users\\21355\\Anaconda3\\envs\\pysyft\\lib\\site-packages\\syft\\grid\\connections\\webrtc.py\", line 434, in consumer\n",
      "    self.recv_immediate_msg_without_reply(msg=_msg)\n",
      "  File \"C:\\Users\\21355\\Anaconda3\\envs\\pysyft\\lib\\site-packages\\syft\\grid\\connections\\webrtc.py\", line 490, in recv_immediate_msg_without_reply\n",
      "    traceback_and_raise(e)\n",
      "  File \"C:\\Users\\21355\\Anaconda3\\envs\\pysyft\\lib\\site-packages\\syft\\logger.py\", line 61, in traceback_and_raise\n",
      "    raise e\n",
      "  File \"C:\\Users\\21355\\Anaconda3\\envs\\pysyft\\lib\\site-packages\\syft\\grid\\connections\\webrtc.py\", line 485, in recv_immediate_msg_without_reply\n",
      "    self.node.recv_immediate_msg_without_reply(msg=msg)\n",
      "  File \"C:\\Users\\21355\\Anaconda3\\envs\\pysyft\\lib\\site-packages\\syft\\core\\node\\common\\node.py\", line 399, in recv_immediate_msg_without_reply\n",
      "    self.process_message(msg=msg, router=self.immediate_msg_without_reply_router)\n",
      "  File \"C:\\Users\\21355\\Anaconda3\\envs\\pysyft\\lib\\site-packages\\syft\\core\\node\\common\\node.py\", line 481, in process_message\n",
      "    result = service.process(\n",
      "  File \"C:\\Users\\21355\\Anaconda3\\envs\\pysyft\\lib\\site-packages\\syft\\core\\node\\domain\\service\\request_message.py\", line 222, in process\n",
      "    msg.object_tags.extend(node.store[msg.object_id]._tags)\n",
      "  File \"C:\\Users\\21355\\Anaconda3\\envs\\pysyft\\lib\\site-packages\\syft\\core\\store\\store_memory.py\", line 66, in __getitem__\n",
      "    traceback_and_raise(e)\n",
      "  File \"C:\\Users\\21355\\Anaconda3\\envs\\pysyft\\lib\\site-packages\\syft\\logger.py\", line 61, in traceback_and_raise\n",
      "    raise e\n",
      "  File \"C:\\Users\\21355\\Anaconda3\\envs\\pysyft\\lib\\site-packages\\syft\\core\\store\\store_memory.py\", line 63, in __getitem__\n",
      "    return self._objects[key]\n",
      "KeyError: <UID: 223b9d6be40b49619ce29cd49ff85e09>\n",
      "[2021-08-07T05:08:37.419982+0100][CRITICAL][logger]][13460] <class 'syft.core.store.store_memory.MemoryStore'> __getitem__ error <UID: daa0c0afb3284597b490041af5eef9b0> <UID: daa0c0afb3284597b490041af5eef9b0>\n",
      "[2021-08-07T05:08:37.422934+0100][CRITICAL][logger]][13460] <UID: daa0c0afb3284597b490041af5eef9b0>\n",
      "[2021-08-07T05:08:37.424947+0100][CRITICAL][logger]][13460] <UID: daa0c0afb3284597b490041af5eef9b0>\n",
      "[2021-08-07T05:08:37.431941+0100][CRITICAL][logger]][13460] <UID: daa0c0afb3284597b490041af5eef9b0>\n",
      "Exception in callback AsyncIOEventEmitter._emit_run.<locals>._callback(<Task finishe...41af5eef9b0>)>) at C:\\Users\\21355\\Anaconda3\\envs\\pysyft\\lib\\site-packages\\pyee\\_asyncio.py:55\n",
      "handle: <Handle AsyncIOEventEmitter._emit_run.<locals>._callback(<Task finishe...41af5eef9b0>)>) at C:\\Users\\21355\\Anaconda3\\envs\\pysyft\\lib\\site-packages\\pyee\\_asyncio.py:55>\n",
      "Traceback (most recent call last):\n",
      "  File \"C:\\Users\\21355\\Anaconda3\\envs\\pysyft\\lib\\asyncio\\events.py\", line 80, in _run\n",
      "    self._context.run(self._callback, *self._args)\n",
      "  File \"C:\\Users\\21355\\Anaconda3\\envs\\pysyft\\lib\\site-packages\\pyee\\_asyncio.py\", line 62, in _callback\n",
      "    self.emit('error', exc)\n",
      "  File \"C:\\Users\\21355\\Anaconda3\\envs\\pysyft\\lib\\site-packages\\pyee\\_base.py\", line 116, in emit\n",
      "    self._emit_handle_potential_error(event, args[0] if args else None)\n",
      "  File \"C:\\Users\\21355\\Anaconda3\\envs\\pysyft\\lib\\site-packages\\pyee\\_base.py\", line 86, in _emit_handle_potential_error\n",
      "    raise error\n",
      "  File \"C:\\Users\\21355\\Anaconda3\\envs\\pysyft\\lib\\asyncio\\tasks.py\", line 256, in __step\n",
      "    result = coro.send(None)\n",
      "  File \"C:\\Users\\21355\\Anaconda3\\envs\\pysyft\\lib\\site-packages\\syft\\grid\\connections\\webrtc.py\", line 233, in on_message\n",
      "    await self.consumer(msg=message)\n",
      "  File \"C:\\Users\\21355\\Anaconda3\\envs\\pysyft\\lib\\site-packages\\syft\\grid\\connections\\webrtc.py\", line 449, in consumer\n",
      "    traceback_and_raise(e)\n",
      "  File \"C:\\Users\\21355\\Anaconda3\\envs\\pysyft\\lib\\site-packages\\syft\\logger.py\", line 61, in traceback_and_raise\n",
      "    raise e\n",
      "  File \"C:\\Users\\21355\\Anaconda3\\envs\\pysyft\\lib\\site-packages\\syft\\grid\\connections\\webrtc.py\", line 434, in consumer\n",
      "    self.recv_immediate_msg_without_reply(msg=_msg)\n",
      "  File \"C:\\Users\\21355\\Anaconda3\\envs\\pysyft\\lib\\site-packages\\syft\\grid\\connections\\webrtc.py\", line 490, in recv_immediate_msg_without_reply\n",
      "    traceback_and_raise(e)\n",
      "  File \"C:\\Users\\21355\\Anaconda3\\envs\\pysyft\\lib\\site-packages\\syft\\logger.py\", line 61, in traceback_and_raise\n",
      "    raise e\n",
      "  File \"C:\\Users\\21355\\Anaconda3\\envs\\pysyft\\lib\\site-packages\\syft\\grid\\connections\\webrtc.py\", line 485, in recv_immediate_msg_without_reply\n",
      "    self.node.recv_immediate_msg_without_reply(msg=msg)\n",
      "  File \"C:\\Users\\21355\\Anaconda3\\envs\\pysyft\\lib\\site-packages\\syft\\core\\node\\common\\node.py\", line 399, in recv_immediate_msg_without_reply\n",
      "    self.process_message(msg=msg, router=self.immediate_msg_without_reply_router)\n",
      "  File \"C:\\Users\\21355\\Anaconda3\\envs\\pysyft\\lib\\site-packages\\syft\\core\\node\\common\\node.py\", line 481, in process_message\n",
      "    result = service.process(\n",
      "  File \"C:\\Users\\21355\\Anaconda3\\envs\\pysyft\\lib\\site-packages\\syft\\core\\node\\domain\\service\\request_message.py\", line 222, in process\n",
      "    msg.object_tags.extend(node.store[msg.object_id]._tags)\n",
      "  File \"C:\\Users\\21355\\Anaconda3\\envs\\pysyft\\lib\\site-packages\\syft\\core\\store\\store_memory.py\", line 66, in __getitem__\n",
      "    traceback_and_raise(e)\n",
      "  File \"C:\\Users\\21355\\Anaconda3\\envs\\pysyft\\lib\\site-packages\\syft\\logger.py\", line 61, in traceback_and_raise\n",
      "    raise e\n",
      "  File \"C:\\Users\\21355\\Anaconda3\\envs\\pysyft\\lib\\site-packages\\syft\\core\\store\\store_memory.py\", line 63, in __getitem__\n",
      "    return self._objects[key]\n",
      "KeyError: <UID: daa0c0afb3284597b490041af5eef9b0>\n"
     ]
    }
   ],
   "source": [
    "duet.requests.add_handler(action=\"accept\")"
   ]
  },
  {
   "cell_type": "code",
   "execution_count": null,
   "id": "ab559290",
   "metadata": {},
   "outputs": [],
   "source": []
  }
 ],
 "metadata": {
  "kernelspec": {
   "display_name": "Python 3",
   "language": "python",
   "name": "python3"
  },
  "language_info": {
   "codemirror_mode": {
    "name": "ipython",
    "version": 3
   },
   "file_extension": ".py",
   "mimetype": "text/x-python",
   "name": "python",
   "nbconvert_exporter": "python",
   "pygments_lexer": "ipython3",
   "version": "3.9.6"
  }
 },
 "nbformat": 4,
 "nbformat_minor": 5
}
