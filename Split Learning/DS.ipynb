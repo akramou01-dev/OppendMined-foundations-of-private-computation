{
 "cells": [
  {
   "cell_type": "code",
   "execution_count": 4,
   "id": "5e5b747a",
   "metadata": {},
   "outputs": [],
   "source": [
    "import syft as sy"
   ]
  },
  {
   "cell_type": "code",
   "execution_count": 8,
   "id": "e90f4c37",
   "metadata": {},
   "outputs": [
    {
     "name": "stdout",
     "output_type": "stream",
     "text": [
      "🎤  🎸  ♪♪♪ Joining Duet ♫♫♫  🎻  🎹\n",
      "\n",
      "♫♫♫ >\u001b[93m DISCLAIMER\u001b[0m: \u001b[1mDuet is an experimental feature currently in beta.\n",
      "♫♫♫ > Use at your own risk.\n",
      "\u001b[0m\n",
      "\u001b[1m\n",
      "    > ❤️ \u001b[91mLove\u001b[0m \u001b[92mDuet\u001b[0m? \u001b[93mPlease\u001b[0m \u001b[94mconsider\u001b[0m \u001b[95msupporting\u001b[0m \u001b[91mour\u001b[0m \u001b[93mcommunity!\u001b[0m\n",
      "    > https://github.com/sponsors/OpenMined\u001b[1m\n",
      "\n",
      "♫♫♫ > Punching through firewall to OpenGrid Network Node at:\n",
      "♫♫♫ > http://ec2-18-218-7-180.us-east-2.compute.amazonaws.com:5000\n",
      "♫♫♫ >\n",
      "♫♫♫ > ...waiting for response from OpenGrid Network... \n",
      "♫♫♫ > \u001b[92mDONE!\u001b[0m\n"
     ]
    },
    {
     "name": "stderr",
     "output_type": "stream",
     "text": [
      "Exception in callback Transaction.__retry()\n",
      "handle: <TimerHandle when=543717.046 Transaction.__retry()>\n",
      "Traceback (most recent call last):\n",
      "  File \"C:\\Users\\21355\\Anaconda3\\envs\\pysyft\\lib\\asyncio\\events.py\", line 80, in _run\n",
      "    self._context.run(self._callback, *self._args)\n",
      "  File \"C:\\Users\\21355\\Anaconda3\\envs\\pysyft\\lib\\site-packages\\aioice\\stun.py\", line 306, in __retry\n",
      "    self.__future.set_exception(TransactionTimeout())\n",
      "  File \"C:\\Users\\21355\\Anaconda3\\envs\\pysyft\\lib\\asyncio\\futures.py\", line 270, in set_exception\n",
      "    raise exceptions.InvalidStateError(f'{self._state}: {self!r}')\n",
      "asyncio.exceptions.InvalidStateError: FINISHED: <Future finished result=(Message(messa...8w\\xb7S\\xfe}'), ('192.168.56.1', 63893))>\n"
     ]
    },
    {
     "name": "stdout",
     "output_type": "stream",
     "text": [
      "\n",
      "♫♫♫ > \u001b[92mCONNECTED!\u001b[0m\n"
     ]
    }
   ],
   "source": [
    "duet = sy.join_duet(loopback=True)"
   ]
  },
  {
   "cell_type": "code",
   "execution_count": 9,
   "id": "22ca544a",
   "metadata": {},
   "outputs": [
    {
     "data": {
      "text/html": [
       "<div>\n",
       "<style scoped>\n",
       "    .dataframe tbody tr th:only-of-type {\n",
       "        vertical-align: middle;\n",
       "    }\n",
       "\n",
       "    .dataframe tbody tr th {\n",
       "        vertical-align: top;\n",
       "    }\n",
       "\n",
       "    .dataframe thead th {\n",
       "        text-align: right;\n",
       "    }\n",
       "</style>\n",
       "<table border=\"1\" class=\"dataframe\">\n",
       "  <thead>\n",
       "    <tr style=\"text-align: right;\">\n",
       "      <th></th>\n",
       "      <th>ID</th>\n",
       "      <th>Tags</th>\n",
       "      <th>Description</th>\n",
       "      <th>object_type</th>\n",
       "    </tr>\n",
       "  </thead>\n",
       "  <tbody>\n",
       "    <tr>\n",
       "      <th>0</th>\n",
       "      <td>&lt;UID: ca59b8f1f288423487084b9f50fd83d7&gt;</td>\n",
       "      <td>[Dataset]</td>\n",
       "      <td>This is a dummy data for the exemple</td>\n",
       "      <td>&lt;class 'torch.Tensor'&gt;</td>\n",
       "    </tr>\n",
       "  </tbody>\n",
       "</table>\n",
       "</div>"
      ],
      "text/plain": [
       "                                        ID       Tags  \\\n",
       "0  <UID: ca59b8f1f288423487084b9f50fd83d7>  [Dataset]   \n",
       "\n",
       "                            Description             object_type  \n",
       "0  This is a dummy data for the exemple  <class 'torch.Tensor'>  "
      ]
     },
     "execution_count": 9,
     "metadata": {},
     "output_type": "execute_result"
    }
   ],
   "source": [
    "duet.store.pandas"
   ]
  },
  {
   "cell_type": "markdown",
   "id": "16753c0a",
   "metadata": {},
   "source": [
    "on va crée notre model "
   ]
  },
  {
   "cell_type": "code",
   "execution_count": 10,
   "id": "e154bdf1",
   "metadata": {},
   "outputs": [],
   "source": [
    "class SyNet(sy.Module): \n",
    "    def __init__(self,torch_ref): \n",
    "        super(SyNet, self).__init__(torch_ref=torch_ref)\n",
    "        self.lin = self.torch_ref.nn.Linear(2,2)\n",
    "        \n",
    "    def forward(self,x): \n",
    "        x = self.lin(x)\n",
    "        return x"
   ]
  },
  {
   "cell_type": "code",
   "execution_count": 11,
   "id": "f0d11923",
   "metadata": {},
   "outputs": [],
   "source": [
    "import torch "
   ]
  },
  {
   "cell_type": "code",
   "execution_count": 12,
   "id": "81c7c3c5",
   "metadata": {},
   "outputs": [],
   "source": [
    "model = SyNet(torch)"
   ]
  },
  {
   "cell_type": "code",
   "execution_count": 13,
   "id": "dd306e31",
   "metadata": {},
   "outputs": [],
   "source": [
    "model_pointer = model.send(duet)"
   ]
  },
  {
   "cell_type": "code",
   "execution_count": 14,
   "id": "d8cc900f",
   "metadata": {},
   "outputs": [],
   "source": [
    "params = model_pointer.parameters()\n",
    "optim = duet.torch.optim.SGD(params=params,lr=0.1)"
   ]
  },
  {
   "cell_type": "code",
   "execution_count": 15,
   "id": "31465cff",
   "metadata": {},
   "outputs": [],
   "source": [
    "data_pointer = duet.store[0]"
   ]
  },
  {
   "cell_type": "markdown",
   "id": "2853feeb",
   "metadata": {},
   "source": [
    "mtn on va crée le 2eme model qui va etre local au niveau du DS et mm les donnée qui seront les labels"
   ]
  },
  {
   "cell_type": "code",
   "execution_count": 16,
   "id": "0341205f",
   "metadata": {},
   "outputs": [],
   "source": [
    "model_2 = torch.nn.Linear(2,1)\n",
    "\n",
    "optim2 = torch.optim.SGD(params=model_2.parameters(),lr=0.1)\n",
    "\n",
    "target= torch.tensor([[0.0],[1.0],[0.0],[0.0]])"
   ]
  },
  {
   "cell_type": "code",
   "execution_count": 18,
   "id": "c0ed8956",
   "metadata": {
    "scrolled": true
   },
   "outputs": [
    {
     "name": "stdout",
     "output_type": "stream",
     "text": [
      "tensor(0.2511, grad_fn=<SumBackward0>)\n",
      "tensor(0.2507, grad_fn=<SumBackward0>)\n",
      "tensor(0.2505, grad_fn=<SumBackward0>)\n",
      "tensor(0.2503, grad_fn=<SumBackward0>)\n",
      "tensor(0.2502, grad_fn=<SumBackward0>)\n",
      "tensor(0.2502, grad_fn=<SumBackward0>)\n",
      "tensor(0.2501, grad_fn=<SumBackward0>)\n",
      "tensor(0.2501, grad_fn=<SumBackward0>)\n",
      "tensor(0.2501, grad_fn=<SumBackward0>)\n",
      "tensor(0.2500, grad_fn=<SumBackward0>)\n",
      "tensor(0.2500, grad_fn=<SumBackward0>)\n",
      "tensor(0.2500, grad_fn=<SumBackward0>)\n",
      "tensor(0.2500, grad_fn=<SumBackward0>)\n",
      "tensor(0.2500, grad_fn=<SumBackward0>)\n",
      "tensor(0.2500, grad_fn=<SumBackward0>)\n",
      "tensor(0.2500, grad_fn=<SumBackward0>)\n",
      "tensor(0.2500, grad_fn=<SumBackward0>)\n",
      "tensor(0.2500, grad_fn=<SumBackward0>)\n",
      "tensor(0.2500, grad_fn=<SumBackward0>)\n",
      "tensor(0.2500, grad_fn=<SumBackward0>)\n"
     ]
    }
   ],
   "source": [
    "for iter in range(20): \n",
    "    #setting the gradients of the optimizers to ZERO \n",
    "    optim.zero_grad()\n",
    "    optim2.zero_grad()\n",
    "    \n",
    "    #calculate the output of the remote model \n",
    "    activation_pointer = model_pointer(data_pointer)\n",
    "    activation = activation_pointer.clone().get(request_block=True)\n",
    "    #we used the .clone() for not loosing the reference for the activation pointer on the computations('')\n",
    "    pred = model_2(activation)\n",
    "\n",
    "    loss = ((pred - target)**2).sum()\n",
    "    loss.backward()\n",
    "\n",
    "    grad_pointer = activation.grad.clone().send(duet)\n",
    "    activation_pointer.backward(grad_pointer)\n",
    "    \n",
    "    optim.step()\n",
    "    optim2.step()\n",
    "    \n",
    "    print(loss)"
   ]
  },
  {
   "cell_type": "code",
   "execution_count": 19,
   "id": "27f561a5",
   "metadata": {},
   "outputs": [
    {
     "data": {
      "text/plain": [
       "syft.proxy.torch.TensorPointer"
      ]
     },
     "execution_count": 19,
     "metadata": {},
     "output_type": "execute_result"
    }
   ],
   "source": [
    "type(data_pointer)"
   ]
  },
  {
   "cell_type": "code",
   "execution_count": 69,
   "id": "fec8dd86",
   "metadata": {},
   "outputs": [
    {
     "data": {
      "text/html": [
       "<div>\n",
       "<style scoped>\n",
       "    .dataframe tbody tr th:only-of-type {\n",
       "        vertical-align: middle;\n",
       "    }\n",
       "\n",
       "    .dataframe tbody tr th {\n",
       "        vertical-align: top;\n",
       "    }\n",
       "\n",
       "    .dataframe thead th {\n",
       "        text-align: right;\n",
       "    }\n",
       "</style>\n",
       "<table border=\"1\" class=\"dataframe\">\n",
       "  <thead>\n",
       "    <tr style=\"text-align: right;\">\n",
       "      <th></th>\n",
       "      <th>ID</th>\n",
       "      <th>Tags</th>\n",
       "      <th>Description</th>\n",
       "      <th>object_type</th>\n",
       "    </tr>\n",
       "  </thead>\n",
       "  <tbody>\n",
       "    <tr>\n",
       "      <th>0</th>\n",
       "      <td>&lt;UID: 7874920264f04a898d96fa687c0c7cbb&gt;</td>\n",
       "      <td>[Dataset]</td>\n",
       "      <td>This is a dummy data for the exemple</td>\n",
       "      <td>&lt;class 'torch.Tensor'&gt;</td>\n",
       "    </tr>\n",
       "    <tr>\n",
       "      <th>1</th>\n",
       "      <td>&lt;UID: b66da672147f4d47af508ef2a4b0bda4&gt;</td>\n",
       "      <td>[]</td>\n",
       "      <td></td>\n",
       "      <td>&lt;class 'torch.Tensor'&gt;</td>\n",
       "    </tr>\n",
       "    <tr>\n",
       "      <th>2</th>\n",
       "      <td>&lt;UID: 48df3785510347eab88025a37b427bcc&gt;</td>\n",
       "      <td>[]</td>\n",
       "      <td></td>\n",
       "      <td>&lt;class 'torch.Tensor'&gt;</td>\n",
       "    </tr>\n",
       "    <tr>\n",
       "      <th>3</th>\n",
       "      <td>&lt;UID: a92cf47b7e83452da6aebdd6ec56437d&gt;</td>\n",
       "      <td>[]</td>\n",
       "      <td></td>\n",
       "      <td>&lt;class 'torch.Tensor'&gt;</td>\n",
       "    </tr>\n",
       "    <tr>\n",
       "      <th>4</th>\n",
       "      <td>&lt;UID: 212579c796484b5d8c6a11360d767d32&gt;</td>\n",
       "      <td>[]</td>\n",
       "      <td></td>\n",
       "      <td>&lt;class 'torch.Tensor'&gt;</td>\n",
       "    </tr>\n",
       "    <tr>\n",
       "      <th>...</th>\n",
       "      <td>...</td>\n",
       "      <td>...</td>\n",
       "      <td>...</td>\n",
       "      <td>...</td>\n",
       "    </tr>\n",
       "    <tr>\n",
       "      <th>99</th>\n",
       "      <td>&lt;UID: 1996f79e1ff242f09c61f401e43511a4&gt;</td>\n",
       "      <td>[]</td>\n",
       "      <td></td>\n",
       "      <td>&lt;class 'torch.Tensor'&gt;</td>\n",
       "    </tr>\n",
       "    <tr>\n",
       "      <th>100</th>\n",
       "      <td>&lt;UID: a0a1ba44675541cd97623d5b2b83a284&gt;</td>\n",
       "      <td>[]</td>\n",
       "      <td></td>\n",
       "      <td>&lt;class 'torch.Tensor'&gt;</td>\n",
       "    </tr>\n",
       "    <tr>\n",
       "      <th>101</th>\n",
       "      <td>&lt;UID: c27718431cd2482f82d75b0871c12a98&gt;</td>\n",
       "      <td>[]</td>\n",
       "      <td></td>\n",
       "      <td>&lt;class 'torch.Tensor'&gt;</td>\n",
       "    </tr>\n",
       "    <tr>\n",
       "      <th>102</th>\n",
       "      <td>&lt;UID: d9955c7dc9b34e19a1d693de360356b2&gt;</td>\n",
       "      <td>[]</td>\n",
       "      <td></td>\n",
       "      <td>&lt;class 'torch.Tensor'&gt;</td>\n",
       "    </tr>\n",
       "    <tr>\n",
       "      <th>103</th>\n",
       "      <td>&lt;UID: 2eed43661b3440439702fc58d744b3b2&gt;</td>\n",
       "      <td>[]</td>\n",
       "      <td></td>\n",
       "      <td>&lt;class 'torch.Tensor'&gt;</td>\n",
       "    </tr>\n",
       "  </tbody>\n",
       "</table>\n",
       "<p>104 rows × 4 columns</p>\n",
       "</div>"
      ],
      "text/plain": [
       "                                          ID       Tags  \\\n",
       "0    <UID: 7874920264f04a898d96fa687c0c7cbb>  [Dataset]   \n",
       "1    <UID: b66da672147f4d47af508ef2a4b0bda4>         []   \n",
       "2    <UID: 48df3785510347eab88025a37b427bcc>         []   \n",
       "3    <UID: a92cf47b7e83452da6aebdd6ec56437d>         []   \n",
       "4    <UID: 212579c796484b5d8c6a11360d767d32>         []   \n",
       "..                                       ...        ...   \n",
       "99   <UID: 1996f79e1ff242f09c61f401e43511a4>         []   \n",
       "100  <UID: a0a1ba44675541cd97623d5b2b83a284>         []   \n",
       "101  <UID: c27718431cd2482f82d75b0871c12a98>         []   \n",
       "102  <UID: d9955c7dc9b34e19a1d693de360356b2>         []   \n",
       "103  <UID: 2eed43661b3440439702fc58d744b3b2>         []   \n",
       "\n",
       "                              Description             object_type  \n",
       "0    This is a dummy data for the exemple  <class 'torch.Tensor'>  \n",
       "1                                          <class 'torch.Tensor'>  \n",
       "2                                          <class 'torch.Tensor'>  \n",
       "3                                          <class 'torch.Tensor'>  \n",
       "4                                          <class 'torch.Tensor'>  \n",
       "..                                    ...                     ...  \n",
       "99                                         <class 'torch.Tensor'>  \n",
       "100                                        <class 'torch.Tensor'>  \n",
       "101                                        <class 'torch.Tensor'>  \n",
       "102                                        <class 'torch.Tensor'>  \n",
       "103                                        <class 'torch.Tensor'>  \n",
       "\n",
       "[104 rows x 4 columns]"
      ]
     },
     "execution_count": 69,
     "metadata": {},
     "output_type": "execute_result"
    }
   ],
   "source": [
    "duet.store.pandas"
   ]
  },
  {
   "cell_type": "code",
   "execution_count": 59,
   "id": "ed6279f1",
   "metadata": {},
   "outputs": [
    {
     "name": "stdout",
     "output_type": "stream",
     "text": [
      "tensor([[0.2748],\n",
      "        [0.2895],\n",
      "        [0.1955],\n",
      "        [0.1809]], grad_fn=<AddmmBackward>)\n",
      "tensor(0.6514, grad_fn=<SumBackward0>)\n"
     ]
    }
   ],
   "source": [
    "activation_pointer = model_pointer(data_pointer)\n",
    "activation = activation_pointer.clone().get(request_block=True)\n",
    "#we used the .clone() for not loosing the reference for the activation pointer on the computations('')\n",
    "\n",
    "pred = model_2(activation)\n",
    "\n",
    "loss = ((pred - target)**2).sum()\n",
    "loss.backward()\n",
    "\n",
    "print(pred)\n",
    "grad_pointer = activation.grad.clone().send(duet)\n",
    "activation_pointer.backward(grad_pointer)\n",
    "\n",
    "optim.step()\n",
    "optim2.step()\n",
    "\n",
    "print(loss)"
   ]
  },
  {
   "cell_type": "code",
   "execution_count": 61,
   "id": "126b96f9",
   "metadata": {},
   "outputs": [
    {
     "name": "stdout",
     "output_type": "stream",
     "text": [
      "tensor([[0.4244],\n",
      "        [0.5709],\n",
      "        [0.3938],\n",
      "        [0.2472]], grad_fn=<AddmmBackward>)\n",
      "tensor(0.5804, grad_fn=<SumBackward0>)\n"
     ]
    }
   ],
   "source": [
    "activation_pointer = model_pointer(data_pointer)\n",
    "activation = activation_pointer.clone().get(request_block=True)\n",
    "#we used the .clone() for not loosing the reference for the activation pointer on the computations('')\n",
    "\n",
    "pred = model_2(activation)\n",
    "\n",
    "loss = ((pred - target)**2).sum()\n",
    "loss.backward()\n",
    "\n",
    "print(pred)\n",
    "grad_pointer = activation.grad.clone().send(duet)\n",
    "activation_pointer.backward(grad_pointer)\n",
    "\n",
    "optim.step()\n",
    "optim2.step()\n",
    "\n",
    "print(loss)"
   ]
  },
  {
   "cell_type": "code",
   "execution_count": 62,
   "id": "ed9ae73d",
   "metadata": {},
   "outputs": [
    {
     "name": "stdout",
     "output_type": "stream",
     "text": [
      "tensor([[0.3989],\n",
      "        [0.6404],\n",
      "        [0.3963],\n",
      "        [0.1548]], grad_fn=<AddmmBackward>)\n",
      "tensor(0.4694, grad_fn=<SumBackward0>)\n"
     ]
    }
   ],
   "source": [
    "activation_pointer = model_pointer(data_pointer)\n",
    "activation = activation_pointer.clone().get(request_block=True)\n",
    "#we used the .clone() for not loosing the reference for the activation pointer on the computations('')\n",
    "\n",
    "pred = model_2(activation)\n",
    "\n",
    "loss = ((pred - target)**2).sum()\n",
    "loss.backward()\n",
    "\n",
    "print(pred)\n",
    "grad_pointer = activation.grad.clone().send(duet)\n",
    "activation_pointer.backward(grad_pointer)\n",
    "\n",
    "optim.step()\n",
    "optim2.step()\n",
    "\n",
    "print(loss)"
   ]
  },
  {
   "cell_type": "code",
   "execution_count": null,
   "id": "edfd0606",
   "metadata": {},
   "outputs": [],
   "source": []
  }
 ],
 "metadata": {
  "kernelspec": {
   "display_name": "Python 3",
   "language": "python",
   "name": "python3"
  },
  "language_info": {
   "codemirror_mode": {
    "name": "ipython",
    "version": 3
   },
   "file_extension": ".py",
   "mimetype": "text/x-python",
   "name": "python",
   "nbconvert_exporter": "python",
   "pygments_lexer": "ipython3",
   "version": "3.9.6"
  }
 },
 "nbformat": 4,
 "nbformat_minor": 5
}
