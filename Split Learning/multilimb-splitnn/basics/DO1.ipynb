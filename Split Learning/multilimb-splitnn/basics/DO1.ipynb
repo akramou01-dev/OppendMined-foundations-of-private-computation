{
 "cells": [
  {
   "cell_type": "code",
   "execution_count": 22,
   "id": "3c0101ed",
   "metadata": {},
   "outputs": [],
   "source": [
    "import syft as sy "
   ]
  },
  {
   "cell_type": "code",
   "execution_count": 23,
   "id": "f18a1042",
   "metadata": {},
   "outputs": [
    {
     "name": "stderr",
     "output_type": "stream",
     "text": [
      "Exception in callback Transaction.__retry()\n",
      "handle: <TimerHandle when=544030.015 Transaction.__retry()>\n",
      "Traceback (most recent call last):\n",
      "  File \"C:\\Users\\21355\\Anaconda3\\envs\\pysyft\\lib\\asyncio\\events.py\", line 80, in _run\n",
      "    self._context.run(self._callback, *self._args)\n",
      "  File \"C:\\Users\\21355\\Anaconda3\\envs\\pysyft\\lib\\site-packages\\aioice\\stun.py\", line 306, in __retry\n",
      "    self.__future.set_exception(TransactionTimeout())\n",
      "  File \"C:\\Users\\21355\\Anaconda3\\envs\\pysyft\\lib\\asyncio\\futures.py\", line 270, in set_exception\n",
      "    raise exceptions.InvalidStateError(f'{self._state}: {self!r}')\n",
      "asyncio.exceptions.InvalidStateError: FINISHED: <Future finished result=(Message(messa...\\x01\\xe3\\xd3'), ('192.168.56.1', 62319))>\n"
     ]
    }
   ],
   "source": [
    "duet = sy.launch_duet(loopback=True)"
   ]
  },
  {
   "cell_type": "code",
   "execution_count": 24,
   "id": "f6c581a3",
   "metadata": {},
   "outputs": [],
   "source": [
    "import torch as th"
   ]
  },
  {
   "cell_type": "code",
   "execution_count": 25,
   "id": "3b8b8166",
   "metadata": {},
   "outputs": [
    {
     "name": "stdout",
     "output_type": "stream",
     "text": [
      "\r"
     ]
    }
   ],
   "source": [
    "data = th.tensor([\n",
    "    [1.0],\n",
    "    [0.0],\n",
    "    [1.0], \n",
    "    [1.0]\n",
    "])\n"
   ]
  },
  {
   "cell_type": "code",
   "execution_count": 26,
   "id": "7767bd24",
   "metadata": {},
   "outputs": [
    {
     "name": "stdout",
     "output_type": "stream",
     "text": [
      "`searchable` is deprecated please use `pointable` in future\n"
     ]
    }
   ],
   "source": [
    "data_pointer = data.send(duet,tags=[\"Dataset\"],description='split 1',searchable=True)"
   ]
  },
  {
   "cell_type": "code",
   "execution_count": 29,
   "id": "fb04c013",
   "metadata": {},
   "outputs": [
    {
     "name": "stderr",
     "output_type": "stream",
     "text": [
      "[2021-08-11T05:04:17.335596+0100][CRITICAL][logger]][11700] You do not have permission to .get() Object with ID: <UID: a125f64141e74b27a8d8c26e60b363ca>Please submit a request.\n",
      "[2021-08-11T05:04:17.336594+0100][CRITICAL][logger]][11700] You do not have permission to .get() Object with ID: <UID: a125f64141e74b27a8d8c26e60b363ca>Please submit a request.\n",
      "[2021-08-11T05:04:24.669172+0100][CRITICAL][logger]][11700] You do not have permission to .get() Object with ID: <UID: a125f64141e74b27a8d8c26e60b363ca>Please submit a request.\n",
      "[2021-08-11T05:04:24.679143+0100][CRITICAL][logger]][11700] You do not have permission to .get() Object with ID: <UID: a125f64141e74b27a8d8c26e60b363ca>Please submit a request.\n"
     ]
    }
   ],
   "source": [
    "duet.requests.add_handler(action=\"accept\")"
   ]
  },
  {
   "cell_type": "code",
   "execution_count": 28,
   "id": "1bec9d44",
   "metadata": {},
   "outputs": [
    {
     "data": {
      "text/html": [
       "<div>\n",
       "<style scoped>\n",
       "    .dataframe tbody tr th:only-of-type {\n",
       "        vertical-align: middle;\n",
       "    }\n",
       "\n",
       "    .dataframe tbody tr th {\n",
       "        vertical-align: top;\n",
       "    }\n",
       "\n",
       "    .dataframe thead th {\n",
       "        text-align: right;\n",
       "    }\n",
       "</style>\n",
       "<table border=\"1\" class=\"dataframe\">\n",
       "  <thead>\n",
       "    <tr style=\"text-align: right;\">\n",
       "      <th></th>\n",
       "      <th>ID</th>\n",
       "      <th>Tags</th>\n",
       "      <th>Description</th>\n",
       "      <th>object_type</th>\n",
       "    </tr>\n",
       "  </thead>\n",
       "  <tbody>\n",
       "    <tr>\n",
       "      <th>0</th>\n",
       "      <td>&lt;UID: a125f64141e74b27a8d8c26e60b363ca&gt;</td>\n",
       "      <td>[Dataset]</td>\n",
       "      <td>split 1</td>\n",
       "      <td>&lt;class 'torch.Tensor'&gt;</td>\n",
       "    </tr>\n",
       "  </tbody>\n",
       "</table>\n",
       "</div>"
      ],
      "text/plain": [
       "                                        ID       Tags Description  \\\n",
       "0  <UID: a125f64141e74b27a8d8c26e60b363ca>  [Dataset]     split 1   \n",
       "\n",
       "              object_type  \n",
       "0  <class 'torch.Tensor'>  "
      ]
     },
     "execution_count": 28,
     "metadata": {},
     "output_type": "execute_result"
    },
    {
     "name": "stderr",
     "output_type": "stream",
     "text": [
      "[2021-08-11T05:04:02.577581+0100][CRITICAL][logger]][11700] You do not have permission to .get() Object with ID: <UID: a125f64141e74b27a8d8c26e60b363ca>Please submit a request.\n",
      "[2021-08-11T05:04:02.578581+0100][CRITICAL][logger]][11700] You do not have permission to .get() Object with ID: <UID: a125f64141e74b27a8d8c26e60b363ca>Please submit a request.\n"
     ]
    }
   ],
   "source": [
    "duet.store.pandas"
   ]
  },
  {
   "cell_type": "code",
   "execution_count": 30,
   "id": "0888fc3d",
   "metadata": {},
   "outputs": [
    {
     "data": {
      "text/plain": [
       "[]"
      ]
     },
     "execution_count": 30,
     "metadata": {},
     "output_type": "execute_result"
    }
   ],
   "source": [
    "duet.requests"
   ]
  },
  {
   "cell_type": "code",
   "execution_count": null,
   "id": "044d698f",
   "metadata": {},
   "outputs": [],
   "source": []
  },
  {
   "cell_type": "code",
   "execution_count": null,
   "id": "3fbccc57",
   "metadata": {},
   "outputs": [],
   "source": []
  }
 ],
 "metadata": {
  "kernelspec": {
   "display_name": "Python 3",
   "language": "python",
   "name": "python3"
  },
  "language_info": {
   "codemirror_mode": {
    "name": "ipython",
    "version": 3
   },
   "file_extension": ".py",
   "mimetype": "text/x-python",
   "name": "python",
   "nbconvert_exporter": "python",
   "pygments_lexer": "ipython3",
   "version": "3.9.6"
  }
 },
 "nbformat": 4,
 "nbformat_minor": 5
}
