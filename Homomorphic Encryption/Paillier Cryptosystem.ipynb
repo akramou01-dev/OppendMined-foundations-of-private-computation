{
 "cells": [
  {
   "cell_type": "markdown",
   "id": "d7aedfbc",
   "metadata": {},
   "source": [
    "For something sensitive and when deeling with crypto it important to use the secrets module better than the random module "
   ]
  },
  {
   "cell_type": "code",
   "execution_count": 61,
   "id": "1dcbb19a",
   "metadata": {},
   "outputs": [],
   "source": [
    "from collections import namedtuple\n",
    "import secrets \n",
    "from typing import List,Tuple \n",
    "import numpy as np\n",
    "from crypto import RandomPrime, xgcd, LCM,InverseMod"
   ]
  },
  {
   "cell_type": "code",
   "execution_count": 86,
   "id": "030642da",
   "metadata": {},
   "outputs": [],
   "source": [
    "PrivateKey = namedtuple(\"Private_key\", [\"lam\",'mu'])\n",
    "PublicKey = namedtuple(\"Public_key\",[\"g\",\"n\",'n_sqr'])"
   ]
  },
  {
   "cell_type": "code",
   "execution_count": 332,
   "id": "23e4a4f6",
   "metadata": {},
   "outputs": [],
   "source": [
    "DEFAULT_BIT_SIZE = 64"
   ]
  },
  {
   "cell_type": "code",
   "execution_count": 199,
   "id": "43fa3750",
   "metadata": {},
   "outputs": [],
   "source": [
    "def L(x:int,n:int) -> int:\n",
    "    return (x-1)//n"
   ]
  },
  {
   "cell_type": "code",
   "execution_count": 243,
   "id": "5b674d2c",
   "metadata": {},
   "outputs": [],
   "source": [
    "def create_key_paire(size_bits:int = DEFAULT_BIT_SIZE): \n",
    "    p = RandomPrime(size_bits,60)\n",
    "    q = RandomPrime(size_bits,60)\n",
    "    while p==q : \n",
    "        q = RandomPrime(size_bits,60)\n",
    "    N = p*q\n",
    "    phi = (p-1) * (q-1)\n",
    "    gcd,_,_ = xgcd(N,phi)  \n",
    "    while gcd!=1:\n",
    "        p = RandomPrime(size_bits,60)\n",
    "        q = RandomPrime(size_bits,60)\n",
    "        while p==q : \n",
    "            q = RandomPrime(size_bits,60)\n",
    "        N = p*q\n",
    "        phi = (p-1) * (q-1)\n",
    "        gcd,_,_ = xgcd(N,phi) \n",
    "        \n",
    "    l = LCM((q-1),(p-1))\n",
    "    g = secrets.randbelow(N*N)\n",
    "    try : \n",
    "            \n",
    "        mu = InverseMod(L(pow(g,l,N*N),N),N)\n",
    "    except ValueError :\n",
    "        create_key_paire(size_bits)\n",
    "        \n",
    "    return PublicKey(g,N,N*N),PrivateKey(l,mu)"
   ]
  },
  {
   "cell_type": "code",
   "execution_count": 244,
   "id": "61e5317c",
   "metadata": {},
   "outputs": [],
   "source": [
    "public_key,private_key = create_key_paire()"
   ]
  },
  {
   "cell_type": "code",
   "execution_count": 245,
   "id": "7e7e9ab2",
   "metadata": {},
   "outputs": [],
   "source": [
    "g,N, N_sqr = public_key"
   ]
  },
  {
   "cell_type": "code",
   "execution_count": 312,
   "id": "b6e1ea1c",
   "metadata": {},
   "outputs": [],
   "source": [
    "def encrypt(public_key : PublicKey, plain_text:int)-> int: \n",
    "    g,N, N_sqr = public_key\n",
    "    r = secrets.randbelow(N)\n",
    "    gcd,_,_ = xgcd(r,N)\n",
    "    while gcd !=1:\n",
    "        r = secrets.randbelow(N)\n",
    "        gcd,_,_ = xgcd(r,N)\n",
    "\n",
    "\n",
    "    cipher_text = (pow(g,plain_text,N_sqr) * pow(r,N,N_sqr))% (N_sqr)\n",
    "\n",
    "    return cipher_text\n",
    "\n",
    "def decrypt(public_key : PublicKey, private_key : PrivateKey, cipher_text : int)-> int: \n",
    "    l , mu = private_key\n",
    "    _,N, N_sqr = public_key\n",
    "    recovred_message = (L(pow(cipher_text,l,N_sqr),N)* mu) % N\n",
    "    return recovred_message\n",
    "\n",
    "def add(public_key : PublicKey , cipher_text_1 : int, cipher_text_2 : int)-> int: \n",
    "    return (cipher_text_1 * cipher_text_2 ) %public_key.n_sqr\n",
    "def multiply(public_key : PublicKey , cipher_text_1 : int, plain_text_2 : int)-> int: \n",
    "    #we have 2 cases : \n",
    "    if plain_text_2==0:\n",
    "        #if the plain_text_2 is 0 so everything multiplying by 0 is 0 so we encrypt the 0\n",
    "        return encrypt(public_key,0)\n",
    "    if plain_text_2==1:\n",
    "        #if the plain_text_2 is 1 so everything multiplying by 1 it stays like ti is so it's equivalent of adding 0\n",
    "        encryted_0 = encrypt(public_key,0)\n",
    "        return add(public_key,cipher_text_1,encryted_0)\n",
    "    return pow(cipher_text_1,plain_text_2,public_key.n_sqr)\n"
   ]
  },
  {
   "cell_type": "code",
   "execution_count": null,
   "id": "9daae642",
   "metadata": {},
   "outputs": [],
   "source": []
  },
  {
   "cell_type": "markdown",
   "id": "b4198eb7",
   "metadata": {},
   "source": [
    "# Test section \n",
    "\n",
    "here we define some fonctions to test the encrypt,decrypt,multiply and adding fonctions defined above"
   ]
  },
  {
   "cell_type": "code",
   "execution_count": 317,
   "id": "7fa048d2",
   "metadata": {},
   "outputs": [],
   "source": [
    "TEST_BIT_LENGTH = 32\n",
    "\n",
    "\n",
    "def test_encrypt_and_decrypt():\n",
    "    public_key,private_key  = create_key_paire(TEST_BIT_LENGTH)\n",
    "    plaintext = 123\n",
    "\n",
    "    ciphertext = encrypt(public_key, plaintext)\n",
    "    assert ciphertext != plaintext\n",
    "\n",
    "    decrypted = decrypt(public_key,private_key, ciphertext)\n",
    "    assert decrypted == plaintext\n",
    "\n",
    "\n",
    "def test_add():\n",
    "    public_key, private_key = create_key_paire(TEST_BIT_LENGTH)\n",
    "    a = 123\n",
    "    b = 37\n",
    "    expected = (123 + 37) % public_key.n\n",
    "\n",
    "    ciphertext_a = encrypt(public_key, a)\n",
    "    ciphertext_b = encrypt(public_key, b)\n",
    "\n",
    "    encrypted_result = add(public_key, ciphertext_a, ciphertext_b)\n",
    "    result = decrypt(public_key,private_key, encrypted_result)\n",
    "\n",
    "    assert result == expected\n",
    "\n",
    "\n",
    "def test_multiply():\n",
    "    public_key, private_key = create_key_paire(TEST_BIT_LENGTH)\n",
    "    a = 123\n",
    "    b = 25\n",
    "    expected = (123 * 25) % public_key.n\n",
    "\n",
    "    ciphertext_a = encrypt(public_key, a)\n",
    "    encrypted_result = multiply(public_key, ciphertext_a, b)\n",
    "    result = decrypt(public_key,private_key, encrypted_result)\n",
    "\n",
    "    assert result == expected\n",
    "\n",
    "\n",
    "def test_multiply_by_zero():\n",
    "    public_key, private_key = create_key_paire(TEST_BIT_LENGTH)\n",
    "    a = 123\n",
    "    b = 0\n",
    "    expected = 0\n",
    "    naive_encrypted_result = 1\n",
    "    ciphertext_a = encrypt(public_key, a)\n",
    "\n",
    "    encrypted_result = multiply(public_key, ciphertext_a, b)\n",
    "    assert encrypted_result != naive_encrypted_result\n",
    "\n",
    "    result = decrypt(public_key,private_key,  encrypted_result)\n",
    "    assert result == expected\n",
    "\n",
    "\n",
    "def test_multiply_by_one():\n",
    "    public_key, private_key = create_key_paire(TEST_BIT_LENGTH)\n",
    "    a = 123\n",
    "    b = 1\n",
    "    expected = 123\n",
    "    ciphertext_a = encrypt(public_key, a)\n",
    "    naive_encrypted_result = ciphertext_a\n",
    "\n",
    "    encrypted_result = multiply(public_key, ciphertext_a, b)\n",
    "    assert encrypted_result != naive_encrypted_result\n",
    "\n",
    "    result = decrypt(public_key, private_key,  encrypted_result)\n",
    "    assert result == expected\n"
   ]
  },
  {
   "cell_type": "code",
   "execution_count": 370,
   "id": "5da64dfd",
   "metadata": {},
   "outputs": [],
   "source": [
    "test_encrypt_and_decrypt()"
   ]
  },
  {
   "cell_type": "code",
   "execution_count": 371,
   "id": "3570ed9e",
   "metadata": {},
   "outputs": [],
   "source": [
    "test_add()"
   ]
  },
  {
   "cell_type": "code",
   "execution_count": 372,
   "id": "d0df8e62",
   "metadata": {},
   "outputs": [],
   "source": [
    "test_multiply()"
   ]
  },
  {
   "cell_type": "code",
   "execution_count": 373,
   "id": "0d8401be",
   "metadata": {},
   "outputs": [],
   "source": [
    "test_multiply_by_zero()"
   ]
  },
  {
   "cell_type": "code",
   "execution_count": 374,
   "id": "38688867",
   "metadata": {},
   "outputs": [],
   "source": [
    "test_multiply_by_one()"
   ]
  },
  {
   "cell_type": "code",
   "execution_count": null,
   "id": "fcdd8c37",
   "metadata": {},
   "outputs": [],
   "source": []
  },
  {
   "cell_type": "code",
   "execution_count": null,
   "id": "1625fae3",
   "metadata": {},
   "outputs": [],
   "source": []
  },
  {
   "cell_type": "markdown",
   "id": "e8b6a923",
   "metadata": {},
   "source": [
    "# Using POO to implement the Paillier Cryptosystem"
   ]
  },
  {
   "cell_type": "code",
   "execution_count": 388,
   "id": "d7aff349",
   "metadata": {},
   "outputs": [],
   "source": [
    "class Paillier(): \n",
    "    def __init__(self,size_bits:int = DEFAULT_BIT_SIZE): \n",
    "        self.bit_size = size_bits\n",
    "        p = RandomPrime(size_bits,60)\n",
    "        q = RandomPrime(size_bits,60)\n",
    "        while p==q : \n",
    "            q = RandomPrime(size_bits,60)\n",
    "        N = p*q\n",
    "        phi = (p-1) * (q-1)\n",
    "        gcd,_,_ = xgcd(N,phi)  \n",
    "        while gcd!=1:\n",
    "            p = RandomPrime(size_bits,60)\n",
    "            q = RandomPrime(size_bits,60)\n",
    "            while p==q : \n",
    "                q = RandomPrime(size_bits,60)\n",
    "            N = p*q\n",
    "            phi = (p-1) * (q-1)\n",
    "            gcd,_,_ = xgcd(N,phi) \n",
    "\n",
    "        l = LCM((q-1),(p-1))\n",
    "        g = secrets.randbelow(N*N) \n",
    "        mu = InverseMod(L(pow(g,l,N*N),N),N)\n",
    "\n",
    "        self.public_key = PublicKey(g,N,N*N)\n",
    "        self.private_key = PrivateKey(l,mu)\n",
    "    def encrypt(self,plain_text): \n",
    "        g,N, N_sqr = self.public_key\n",
    "        r = secrets.randbelow(N)\n",
    "        gcd,_,_ = xgcd(r,N)\n",
    "        while gcd !=1:\n",
    "            r = secrets.randbelow(N)\n",
    "            gcd,_,_ = xgcd(r,N)\n",
    "\n",
    "\n",
    "        cipher_text = (pow(g,plain_text,N_sqr) * pow(r,N,N_sqr))% (N_sqr)\n",
    "\n",
    "        return cipher_text\n",
    "    def decrypt(self,cipher_text): \n",
    "        l , mu = self.private_key\n",
    "        _,N, N_sqr = self.public_key\n",
    "        recovred_message = (L(pow(cipher_text,l,N_sqr),N)* mu) % N\n",
    "        return recovred_message\n",
    "    def add(self,cipher_text_1 : int, cipher_text_2 : int)-> int: \n",
    "        return (cipher_text_1 * cipher_text_2 ) % self.public_key.n_sqr\n",
    "    \n",
    "    def multiply(self,cipher_text_1 : int, plain_text_2 : int)-> int: \n",
    "        #we have 2 cases : \n",
    "        if plain_text_2==0:\n",
    "            #if the plain_text_2 is 0 so everything multiplying by 0 is 0 so we encrypt the 0\n",
    "            return encrypt(self.public_key,0)\n",
    "        if plain_text_2==1:\n",
    "            #if the plain_text_2 is 1 so everything multiplying by 1 it stays like ti is so it's equivalent of adding 0\n",
    "            encryted_0 = encrypt(self.public_key,0)\n",
    "            return add(self.public_key,cipher_text_1,encryted_0)\n",
    "        return pow(cipher_text_1,plain_text_2,self.public_key.n_sqr)\n",
    "    def __str__(self):\n",
    "        output = f\"\"\"The Paillier parameters:\\nPublic key :\\n\\tg:{self.public_key.g}\\n\\tn:{self.public_key.n}\n",
    "        \\nPrivate key:\\n\\tmu:{self.private_key.mu}\\n\\tlamda: {self.private_key.lam}\"\"\"\n",
    "        return output"
   ]
  },
  {
   "cell_type": "code",
   "execution_count": 389,
   "id": "46dcf733",
   "metadata": {},
   "outputs": [],
   "source": [
    "paillier1 = Paillier(DEFAULT_BIT_SIZE)"
   ]
  },
  {
   "cell_type": "code",
   "execution_count": 390,
   "id": "5989ee61",
   "metadata": {},
   "outputs": [
    {
     "name": "stdout",
     "output_type": "stream",
     "text": [
      "The cipher text is :\n",
      "\t6125048113372699287355980053430259525862683012433709381686023418968284373046\n",
      "The plain text (int version) : \n",
      "\t41596242906461611250364749554132564195\n"
     ]
    }
   ],
   "source": [
    "message = b'Hey my name is Paillier'\n",
    "message_int = int.from_bytes(message,\"big\")\n",
    "cipher_text = paillier1.encrypt(message_int)\n",
    "print(f\"The cipher text is :\\n\\t{cipher_text}\")\n",
    "recovred_text_int = paillier1.decrypt(cipher_text)\n",
    "print(f\"The plain text (int version) : \\n\\t{recovred_text_int}\")\n",
    "# recovred_text = recovred_text_int.to_bytes(len(message),\"big\")\n",
    "# print(f\"The plain text : \\n\\t{recovred_text}\")"
   ]
  },
  {
   "cell_type": "code",
   "execution_count": 391,
   "id": "b1e6f7b6",
   "metadata": {},
   "outputs": [
    {
     "name": "stdout",
     "output_type": "stream",
     "text": [
      "The Paillier parameters:\n",
      "Public key :\n",
      "\tg:3727595063861091738273622875640156644160196046509090120382575895129117582432\n",
      "\tn:106669509487093997695988628296606263037\n",
      "        \n",
      "Private key:\n",
      "\tmu:28515140391437081981025493157355902032\n",
      "\tlamda: 53334754743546998837662089373891779630\n"
     ]
    }
   ],
   "source": [
    "print(paillier1)"
   ]
  },
  {
   "cell_type": "code",
   "execution_count": 398,
   "id": "cf9f2cfa",
   "metadata": {},
   "outputs": [
    {
     "name": "stdout",
     "output_type": "stream",
     "text": [
      "160\n",
      "\n",
      "\n",
      "160\n"
     ]
    }
   ],
   "source": [
    "a = 123\n",
    "b = 37\n",
    "expected = (123 + 37) % paillier1.public_key.n_sqr\n",
    "\n",
    "ciphertext_a = paillier1.encrypt( a)\n",
    "ciphertext_b = paillier1.encrypt(b)\n",
    "\n",
    "encrypted_result = paillier1.add(ciphertext_a, ciphertext_b)\n",
    "result = paillier1.decrypt(encrypted_result)\n",
    "print(result)\n",
    "print(\"\\n\")\n",
    "print(expected)\n",
    "assert result == expected\n"
   ]
  },
  {
   "cell_type": "code",
   "execution_count": 399,
   "id": "9715e4f9",
   "metadata": {},
   "outputs": [],
   "source": [
    "a = 123\n",
    "b = 25\n",
    "expected = (123 * 25) % paillier1.public_key.n\n",
    "\n",
    "ciphertext_a = paillier1.encrypt( a)\n",
    "encrypted_result = paillier1.multiply( ciphertext_a, b)\n",
    "result = paillier1.decrypt( encrypted_result)\n",
    "\n",
    "assert result == expected"
   ]
  },
  {
   "cell_type": "code",
   "execution_count": null,
   "id": "e53c4ca7",
   "metadata": {},
   "outputs": [],
   "source": []
  },
  {
   "cell_type": "code",
   "execution_count": null,
   "id": "ce0b9375",
   "metadata": {},
   "outputs": [],
   "source": []
  }
 ],
 "metadata": {
  "kernelspec": {
   "display_name": "Python 3 (ipykernel)",
   "language": "python",
   "name": "python3"
  },
  "language_info": {
   "codemirror_mode": {
    "name": "ipython",
    "version": 3
   },
   "file_extension": ".py",
   "mimetype": "text/x-python",
   "name": "python",
   "nbconvert_exporter": "python",
   "pygments_lexer": "ipython3",
   "version": "3.8.8"
  }
 },
 "nbformat": 4,
 "nbformat_minor": 5
}
