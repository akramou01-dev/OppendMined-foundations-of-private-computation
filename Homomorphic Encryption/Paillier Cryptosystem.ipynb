{
 "cells": [
  {
   "cell_type": "markdown",
   "id": "0169c0c3",
   "metadata": {},
   "source": [
    "For something sensitive and when deeling with crypto it important to use the secrets module better than the random module "
   ]
  },
  {
   "cell_type": "code",
   "execution_count": 61,
   "id": "c3b43a08",
   "metadata": {},
   "outputs": [],
   "source": [
    "from collections import namedtuple\n",
    "import secrets \n",
    "from typing import List,Tuple \n",
    "import numpy as np\n",
    "from crypto import RandomPrime, xgcd, LCM,InverseMod"
   ]
  },
  {
   "cell_type": "code",
   "execution_count": 86,
   "id": "bb657fe0",
   "metadata": {},
   "outputs": [],
   "source": [
    "PrivateKey = namedtuple(\"Private_key\", [\"lam\",'mu'])\n",
    "PublicKey = namedtuple(\"Public_key\",[\"g\",\"n\",'n_sqr'])"
   ]
  },
  {
   "cell_type": "code",
   "execution_count": 198,
   "id": "f9d48d53",
   "metadata": {},
   "outputs": [],
   "source": [
    "DEFAULT_BIT_SIZE = 512"
   ]
  },
  {
   "cell_type": "code",
   "execution_count": 199,
   "id": "b8ca3b87",
   "metadata": {},
   "outputs": [],
   "source": [
    "def L(x:int,n:int) -> int:\n",
    "    return (x-1)//n"
   ]
  },
  {
   "cell_type": "code",
   "execution_count": 243,
   "id": "96cfef40",
   "metadata": {},
   "outputs": [],
   "source": [
    "def create_key_paire(size_bits:int = DEFAULT_BIT_SIZE): \n",
    "    p = RandomPrime(size_bits,60)\n",
    "    q = RandomPrime(size_bits,60)\n",
    "    while p==q : \n",
    "        q = RandomPrime(size_bits,60)\n",
    "    N = p*q\n",
    "    phi = (p-1) * (q-1)\n",
    "    gcd,_,_ = xgcd(N,phi)  \n",
    "    while gcd!=1:\n",
    "        p = RandomPrime(size_bits,60)\n",
    "        q = RandomPrime(size_bits,60)\n",
    "        while p==q : \n",
    "            q = RandomPrime(size_bits,60)\n",
    "        N = p*q\n",
    "        phi = (p-1) * (q-1)\n",
    "        gcd,_,_ = xgcd(N,phi) \n",
    "        \n",
    "    l = LCM((q-1),(p-1))\n",
    "    g = secrets.randbelow(N*N)\n",
    "    try : \n",
    "            \n",
    "        mu = InverseMod(L(pow(g,l,N*N),N),N)\n",
    "    except ValueError :\n",
    "        create_key_paire(size_bits)\n",
    "        \n",
    "    return PublicKey(g,N,N*N),PrivateKey(l,mu)"
   ]
  },
  {
   "cell_type": "code",
   "execution_count": 244,
   "id": "b33765fe",
   "metadata": {},
   "outputs": [],
   "source": [
    "public_key,private_key = create_key_paire()"
   ]
  },
  {
   "cell_type": "code",
   "execution_count": 245,
   "id": "08b3eddf",
   "metadata": {},
   "outputs": [],
   "source": [
    "g,N, N_sqr = public_key"
   ]
  },
  {
   "cell_type": "code",
   "execution_count": 312,
   "id": "18305f4f",
   "metadata": {},
   "outputs": [],
   "source": [
    "def encrypt(public_key : PublicKey, plain_text:int)-> int: \n",
    "    g,N, N_sqr = public_key\n",
    "    r = secrets.randbelow(N)\n",
    "    gcd,_,_ = xgcd(r,N)\n",
    "    while gcd !=1:\n",
    "        r = secrets.randbelow(N)\n",
    "        gcd,_,_ = xgcd(r,N)\n",
    "\n",
    "\n",
    "    cipher_text = (pow(g,plain_text,N_sqr) * pow(r,N,N_sqr))% (N_sqr)\n",
    "\n",
    "    return cipher_text\n",
    "\n",
    "def decrypt(public_key : PublicKey, private_key : PrivateKey, cipher_text : int)-> int: \n",
    "    l , mu = private_key\n",
    "    _,N, N_sqr = public_key\n",
    "    recovred_message = (L(pow(cipher_text,l,N_sqr),N)* mu) % N\n",
    "    return recovred_message\n",
    "\n",
    "def add(public_key : PublicKey , cipher_text_1 : int, cipher_text_2 : int)-> int: \n",
    "    return (cipher_text_1 * cipher_text_2 ) %public_key.n_sqr\n",
    "def multiply(public_key : PublicKey , cipher_text_1 : int, plain_text_2 : int)-> int: \n",
    "    #we have 2 cases : \n",
    "    if plain_text_2==0:\n",
    "        #if the plain_text_2 is 0 so everything multiplying by 0 is 0 so we encrypt the 0\n",
    "        return encrypt(public_key,0)\n",
    "    if plain_text_2==1:\n",
    "        #if the plain_text_2 is 1 so everything multiplying by 1 it stays like ti is so it's equivalent of adding 0\n",
    "        encryted_0 = encrypt(public_key,0)\n",
    "        return add(public_key,cipher_text_1,encryted_0)\n",
    "    return pow(cipher_text_1,plain_text_2,public_key.n_sqr)\n"
   ]
  },
  {
   "cell_type": "code",
   "execution_count": null,
   "id": "a90aad2d",
   "metadata": {},
   "outputs": [],
   "source": []
  },
  {
   "cell_type": "code",
   "execution_count": 283,
   "id": "4472b1ba",
   "metadata": {},
   "outputs": [],
   "source": [
    "test_plain = decrypt(public_key , private_key , text_added)"
   ]
  },
  {
   "cell_type": "code",
   "execution_count": 284,
   "id": "52635d35",
   "metadata": {},
   "outputs": [],
   "source": [
    "a,b= private_key"
   ]
  },
  {
   "cell_type": "code",
   "execution_count": 285,
   "id": "def56f4e",
   "metadata": {},
   "outputs": [
    {
     "data": {
      "text/plain": [
       "78155437144801813667035785959205359395847358004106673692916116722811932988764604811645935276057085215391687536440326324914991890265383494766613630264990024121860841554967650766885603000640620965871102404509234150494422044301507290082587666806372489106516260967247254154718038849692382775465142221312439494937"
      ]
     },
     "execution_count": 285,
     "metadata": {},
     "output_type": "execute_result"
    }
   ],
   "source": [
    "b"
   ]
  },
  {
   "cell_type": "code",
   "execution_count": null,
   "id": "59464a74",
   "metadata": {},
   "outputs": [],
   "source": []
  },
  {
   "cell_type": "code",
   "execution_count": null,
   "id": "7c917e78",
   "metadata": {},
   "outputs": [],
   "source": []
  },
  {
   "cell_type": "code",
   "execution_count": null,
   "id": "1eabb2dc",
   "metadata": {},
   "outputs": [],
   "source": []
  },
  {
   "cell_type": "code",
   "execution_count": null,
   "id": "2f2f948a",
   "metadata": {},
   "outputs": [],
   "source": []
  },
  {
   "cell_type": "code",
   "execution_count": null,
   "id": "f1e85ed9",
   "metadata": {},
   "outputs": [],
   "source": []
  },
  {
   "cell_type": "code",
   "execution_count": null,
   "id": "e283cc5e",
   "metadata": {},
   "outputs": [],
   "source": []
  },
  {
   "cell_type": "markdown",
   "id": "d640d378",
   "metadata": {},
   "source": [
    "# Test section \n",
    "\n",
    "here we define some fonctions to test the encrypt,decrypt,multiply and adding fonctions defined above"
   ]
  },
  {
   "cell_type": "code",
   "execution_count": 317,
   "id": "e94ef7ee",
   "metadata": {},
   "outputs": [],
   "source": [
    "TEST_BIT_LENGTH = 32\n",
    "\n",
    "\n",
    "def test_encrypt_and_decrypt():\n",
    "    public_key,private_key  = create_key_paire(TEST_BIT_LENGTH)\n",
    "    plaintext = 123\n",
    "\n",
    "    ciphertext = encrypt(public_key, plaintext)\n",
    "    assert ciphertext != plaintext\n",
    "\n",
    "    decrypted = decrypt(public_key,private_key, ciphertext)\n",
    "    assert decrypted == plaintext\n",
    "\n",
    "\n",
    "def test_add():\n",
    "    public_key, private_key = create_key_paire(TEST_BIT_LENGTH)\n",
    "    a = 123\n",
    "    b = 37\n",
    "    expected = (123 + 37) % public_key.n\n",
    "\n",
    "    ciphertext_a = encrypt(public_key, a)\n",
    "    ciphertext_b = encrypt(public_key, b)\n",
    "\n",
    "    encrypted_result = add(public_key, ciphertext_a, ciphertext_b)\n",
    "    result = decrypt(public_key,private_key, encrypted_result)\n",
    "\n",
    "    assert result == expected\n",
    "\n",
    "\n",
    "def test_multiply():\n",
    "    public_key, private_key = create_key_paire(TEST_BIT_LENGTH)\n",
    "    a = 123\n",
    "    b = 25\n",
    "    expected = (123 * 25) % public_key.n\n",
    "\n",
    "    ciphertext_a = encrypt(public_key, a)\n",
    "    encrypted_result = multiply(public_key, ciphertext_a, b)\n",
    "    result = decrypt(public_key,private_key, encrypted_result)\n",
    "\n",
    "    assert result == expected\n",
    "\n",
    "\n",
    "def test_multiply_by_zero():\n",
    "    public_key, private_key = create_key_paire(TEST_BIT_LENGTH)\n",
    "    a = 123\n",
    "    b = 0\n",
    "    expected = 0\n",
    "    naive_encrypted_result = 1\n",
    "    ciphertext_a = encrypt(public_key, a)\n",
    "\n",
    "    encrypted_result = multiply(public_key, ciphertext_a, b)\n",
    "    assert encrypted_result != naive_encrypted_result\n",
    "\n",
    "    result = decrypt(public_key,private_key,  encrypted_result)\n",
    "    assert result == expected\n",
    "\n",
    "\n",
    "def test_multiply_by_one():\n",
    "    public_key, private_key = create_key_paire(TEST_BIT_LENGTH)\n",
    "    a = 123\n",
    "    b = 1\n",
    "    expected = 123\n",
    "    ciphertext_a = encrypt(public_key, a)\n",
    "    naive_encrypted_result = ciphertext_a\n",
    "\n",
    "    encrypted_result = multiply(public_key, ciphertext_a, b)\n",
    "    assert encrypted_result != naive_encrypted_result\n",
    "\n",
    "    result = decrypt(public_key, private_key,  encrypted_result)\n",
    "    assert result == expected\n"
   ]
  },
  {
   "cell_type": "code",
   "execution_count": 318,
   "id": "2c4b61e5",
   "metadata": {},
   "outputs": [],
   "source": [
    "test_encrypt_and_decrypt()"
   ]
  },
  {
   "cell_type": "code",
   "execution_count": 319,
   "id": "0c4a143e",
   "metadata": {},
   "outputs": [],
   "source": [
    "test_add()"
   ]
  },
  {
   "cell_type": "code",
   "execution_count": 320,
   "id": "410dc318",
   "metadata": {},
   "outputs": [],
   "source": [
    "test_multiply()"
   ]
  },
  {
   "cell_type": "code",
   "execution_count": 321,
   "id": "8a7d8883",
   "metadata": {},
   "outputs": [],
   "source": [
    "test_multiply_by_zero()"
   ]
  },
  {
   "cell_type": "code",
   "execution_count": 322,
   "id": "a9a2c54e",
   "metadata": {},
   "outputs": [],
   "source": [
    "test_multiply_by_one()"
   ]
  },
  {
   "cell_type": "code",
   "execution_count": null,
   "id": "84cea94c",
   "metadata": {},
   "outputs": [],
   "source": []
  }
 ],
 "metadata": {
  "kernelspec": {
   "display_name": "Python 3 (ipykernel)",
   "language": "python",
   "name": "python3"
  },
  "language_info": {
   "codemirror_mode": {
    "name": "ipython",
    "version": 3
   },
   "file_extension": ".py",
   "mimetype": "text/x-python",
   "name": "python",
   "nbconvert_exporter": "python",
   "pygments_lexer": "ipython3",
   "version": "3.8.8"
  }
 },
 "nbformat": 4,
 "nbformat_minor": 5
}
