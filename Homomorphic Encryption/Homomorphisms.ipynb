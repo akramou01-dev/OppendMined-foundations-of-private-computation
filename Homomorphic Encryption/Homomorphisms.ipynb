{
 "cells": [
  {
   "cell_type": "markdown",
   "id": "6822725b",
   "metadata": {},
   "source": [
    "# Homomorphism on RSA\n",
    "\n",
    "on the RSA we have Dec(Enc(m1) * Enc(m2) ) = m1 * m2 and this represent a homomorphism  "
   ]
  },
  {
   "cell_type": "code",
   "execution_count": 3,
   "id": "6d6e1b6a",
   "metadata": {},
   "outputs": [],
   "source": [
    "from random import randrange , seed\n",
    "from crypto import RSAKeyGenerator , RSADecrypt, RSAEncrypt"
   ]
  },
  {
   "cell_type": "code",
   "execution_count": 22,
   "id": "298361b1",
   "metadata": {},
   "outputs": [
    {
     "name": "stdout",
     "output_type": "stream",
     "text": [
      "Public key :\n",
      " (75609831835265679380539164756130626430022986196274849458168924595063418595813, 23547924541462337480689217144020767321940881252629320240996903634327990834333) \n",
      "Private key :\n",
      " (75609831835265679380539164756130626430022986196274849458168924595063418595813, 3199791787748206770517504896796176940371079436099693570446594554487888140917) \n",
      "N = 75609831835265679380539164756130626430022986196274849458168924595063418595813 ,\n",
      "e = 23547924541462337480689217144020767321940881252629320240996903634327990834333,\n",
      "d = 3199791787748206770517504896796176940371079436099693570446594554487888140917  \n",
      "The first message is : 44802931775601014718654564123419254926008536509050260065772039731096520804791 \n",
      "The second message is : 7970750120762734382173364502766721580231634158973075904209971266801730466547\n"
     ]
    }
   ],
   "source": [
    "size_bits = 128\n",
    "public_key , private_key = RSAKeyGenerator(size_bits)\n",
    "N = public_key[0]\n",
    "e = public_key[1]\n",
    "d = private_key[1]\n",
    "message1 , message2 = randrange(N), randrange(N)\n",
    "print(f\"Public key :\\n {public_key} \")\n",
    "print(f\"Private key :\\n {private_key} \")\n",
    "print(f\"N = {N} ,\\ne = {e},\\nd = {d}  \")\n",
    "print(f\"The first message is : {message1} \\nThe second message is : {message2}\")"
   ]
  },
  {
   "cell_type": "code",
   "execution_count": 36,
   "id": "ad59c01c",
   "metadata": {},
   "outputs": [
    {
     "name": "stdout",
     "output_type": "stream",
     "text": [
      "plain text multiplication: 59775532281170445672724956962155112014515936309426615872627163759621049183379\n",
      "Cipher text multiplication and decryption: 59775532281170445672724956962155112014515936309426615872627163759621049183379\n",
      "True\n"
     ]
    }
   ],
   "source": [
    "mult = (message1 * message2) %N\n",
    "mult2 = RSADecrypt(RSAEncrypt(message1, public_key)*RSAEncrypt(message2, public_key) % N,private_key)\n",
    "\n",
    "print(f\"plain text multiplication: {mult}\")\n",
    "print(f\"Cipher text multiplication and decryption: {mult2}\")\n",
    "print(mult==mult2)\n"
   ]
  },
  {
   "cell_type": "markdown",
   "id": "186d4327",
   "metadata": {},
   "source": [
    "As we can see the number are the same so the equation : Dec(Enc(m1)\\*Enc(m2)) = m1 * m2 is verified and so we can say that the RSA has a Homomorphims "
   ]
  },
  {
   "cell_type": "markdown",
   "id": "bf4e9746",
   "metadata": {},
   "source": [
    "# Homomorphism in the Paillier "
   ]
  },
  {
   "cell_type": "markdown",
   "id": "138aee5e",
   "metadata": {},
   "source": [
    "In the Paillier algorithm we have the equation below : Enc(m1 + m2) = Enc(m1) +  Enc(m2) "
   ]
  },
  {
   "cell_type": "code",
   "execution_count": 37,
   "id": "bb3b3dfc",
   "metadata": {},
   "outputs": [],
   "source": [
    "from crypto import PaillierKeyGenerator , PaillierEncrypt, PaillierDecrypt"
   ]
  },
  {
   "cell_type": "code",
   "execution_count": 58,
   "id": "c824e716",
   "metadata": {},
   "outputs": [
    {
     "name": "stdout",
     "output_type": "stream",
     "text": [
      "Public key : \n",
      "(184150246090413676775955647210969021599, 4681694190346866544057094547048694471801326257896997865803740961381215997189)\n",
      "Private key : \n",
      "(184150246090413676775955647210969021599, 92075123045206838373844465623341639732, 139980304634265009111699934500744666142)\n",
      "The first Message : 76695478471903147841093423992029472628\n",
      "The Second Message : 145858768756681931496950142352233822875\n"
     ]
    }
   ],
   "source": [
    "size_bits = 64\n",
    "public_key , private_key = PaillierKeyGenerator(size_bits)\n",
    "N = public_key[0]\n",
    "g = public_key[1]\n",
    "\n",
    "l = private_key[1]\n",
    "mu = private_key[2]\n",
    "\n",
    "m1, m2 = randrange(N), randrange(N)\n",
    "\n",
    "print(f\"Public key : \\n{public_key}\")\n",
    "print(f\"Private key : \\n{private_key}\")\n",
    "print(f\"The first Message : {m1}\")\n",
    "print(f\"The Second Message : {m2}\")"
   ]
  },
  {
   "cell_type": "markdown",
   "id": "955c3881",
   "metadata": {},
   "source": [
    "Now that we have all the paremeters we will test the equation : m1 + m2  (mod N)= Dec(Enc(m1) * Enc(m2) (mod N2))"
   ]
  },
  {
   "cell_type": "code",
   "execution_count": 64,
   "id": "1b443ad1",
   "metadata": {},
   "outputs": [
    {
     "name": "stdout",
     "output_type": "stream",
     "text": [
      "the sum of the messages : 38404001138171402562087919133294273904\n",
      "The decryption of the product of the cipher texts 38404001138171402562087919133294273904\n",
      "True\n"
     ]
    }
   ],
   "source": [
    "encrypted_prod =  PaillierEncrypt(m1,public_key) * PaillierEncrypt(m2,public_key) % (N*N)\n",
    "decrypted_prod = PaillierDecrypt(encrypted_prod,private_key) % (N*N)\n",
    "print(f\"the sum of the messages : {(m1 + m2) % N }\")\n",
    "print(f\"The decryption of the product of the cipher texts {decrypted_prod}\")\n",
    "assert == "
   ]
  },
  {
   "cell_type": "code",
   "execution_count": 49,
   "id": "bddfc150",
   "metadata": {},
   "outputs": [
    {
     "data": {
      "text/plain": [
       "212370371111469233721277233791864467002"
      ]
     },
     "execution_count": 49,
     "metadata": {},
     "output_type": "execute_result"
    }
   ],
   "source": []
  },
  {
   "cell_type": "code",
   "execution_count": null,
   "id": "79271c99",
   "metadata": {},
   "outputs": [],
   "source": []
  },
  {
   "cell_type": "code",
   "execution_count": null,
   "id": "8d06cc0f",
   "metadata": {},
   "outputs": [],
   "source": []
  },
  {
   "cell_type": "code",
   "execution_count": null,
   "id": "fbae96b5",
   "metadata": {},
   "outputs": [],
   "source": []
  }
 ],
 "metadata": {
  "kernelspec": {
   "display_name": "Python 3 (ipykernel)",
   "language": "python",
   "name": "python3"
  },
  "language_info": {
   "codemirror_mode": {
    "name": "ipython",
    "version": 3
   },
   "file_extension": ".py",
   "mimetype": "text/x-python",
   "name": "python",
   "nbconvert_exporter": "python",
   "pygments_lexer": "ipython3",
   "version": "3.8.8"
  }
 },
 "nbformat": 4,
 "nbformat_minor": 5
}
