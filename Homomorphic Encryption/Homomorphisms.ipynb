{
 "cells": [
  {
   "cell_type": "markdown",
   "id": "6822725b",
   "metadata": {},
   "source": [
    "# Homomorphism on RSA\n",
    "\n",
    "on the RSA we have Dec(Enc(m1) * Enc(m2) ) = m1 * m2 and this represent a homomorphism  "
   ]
  },
  {
   "cell_type": "code",
   "execution_count": 3,
   "id": "6d6e1b6a",
   "metadata": {},
   "outputs": [],
   "source": [
    "from random import randrange , seed\n",
    "from crypto import RSAKeyGenerator , RSADecrypt, RSAEncrypt"
   ]
  },
  {
   "cell_type": "code",
   "execution_count": 22,
   "id": "298361b1",
   "metadata": {},
   "outputs": [
    {
     "name": "stdout",
     "output_type": "stream",
     "text": [
      "Public key :\n",
      " (75609831835265679380539164756130626430022986196274849458168924595063418595813, 23547924541462337480689217144020767321940881252629320240996903634327990834333) \n",
      "Private key :\n",
      " (75609831835265679380539164756130626430022986196274849458168924595063418595813, 3199791787748206770517504896796176940371079436099693570446594554487888140917) \n",
      "N = 75609831835265679380539164756130626430022986196274849458168924595063418595813 ,\n",
      "e = 23547924541462337480689217144020767321940881252629320240996903634327990834333,\n",
      "d = 3199791787748206770517504896796176940371079436099693570446594554487888140917  \n",
      "The first message is : 44802931775601014718654564123419254926008536509050260065772039731096520804791 \n",
      "The second message is : 7970750120762734382173364502766721580231634158973075904209971266801730466547\n"
     ]
    }
   ],
   "source": [
    "size_bits = 128\n",
    "public_key , private_key = RSAKeyGenerator(size_bits)\n",
    "N = public_key[0]\n",
    "e = public_key[1]\n",
    "d = private_key[1]\n",
    "message1 , message2 = randrange(N), randrange(N)\n",
    "print(f\"Public key :\\n {public_key} \")\n",
    "print(f\"Private key :\\n {private_key} \")\n",
    "print(f\"N = {N} ,\\ne = {e},\\nd = {d}  \")\n",
    "print(f\"The first message is : {message1} \\nThe second message is : {message2}\")"
   ]
  },
  {
   "cell_type": "code",
   "execution_count": 36,
   "id": "ad59c01c",
   "metadata": {},
   "outputs": [
    {
     "name": "stdout",
     "output_type": "stream",
     "text": [
      "plain text multiplication: 59775532281170445672724956962155112014515936309426615872627163759621049183379\n",
      "Cipher text multiplication and decryption: 59775532281170445672724956962155112014515936309426615872627163759621049183379\n",
      "True\n"
     ]
    }
   ],
   "source": [
    "mult = (message1 * message2) %N\n",
    "mult2 = RSADecrypt(RSAEncrypt(message1, public_key)*RSAEncrypt(message2, public_key) % N,private_key)\n",
    "\n",
    "print(f\"plain text multiplication: {mult}\")\n",
    "print(f\"Cipher text multiplication and decryption: {mult2}\")\n",
    "print(mult==mult2)\n"
   ]
  },
  {
   "cell_type": "markdown",
   "id": "186d4327",
   "metadata": {},
   "source": [
    "As we can see the number are the same so the equation : Dec(Enc(m1)\\*Enc(m2)) = m1 * m2 is verified and so we can say that the RSA has a Homomorphims "
   ]
  },
  {
   "cell_type": "markdown",
   "id": "bf4e9746",
   "metadata": {},
   "source": [
    "# Homomorphism in the Paillier "
   ]
  },
  {
   "cell_type": "markdown",
   "id": "138aee5e",
   "metadata": {},
   "source": [
    "In the Paillier algorithm we have the equation below : Enc(m1 + m2) = Enc(m1) +  Enc(m2) "
   ]
  },
  {
   "cell_type": "code",
   "execution_count": 1,
   "id": "bb3b3dfc",
   "metadata": {},
   "outputs": [],
   "source": [
    "from crypto import PaillierKeyGenerator , PaillierEncrypt, PaillierDecrypt"
   ]
  },
  {
   "cell_type": "code",
   "execution_count": 4,
   "id": "c824e716",
   "metadata": {},
   "outputs": [
    {
     "name": "stdout",
     "output_type": "stream",
     "text": [
      "Public key : \n",
      "(197810304590789365518010042778024208529, 36239836000348780029349610480210579512148455352746173051007277613519053550026)\n",
      "Private key : \n",
      "(197810304590789365518010042778024208529, 32968384098464894248249038353232385830, 57425501024449492273783828242427227278)\n",
      "The first Message : 154420494172951517023666514607674065965\n",
      "The Second Message : 63186963742142457503669931291907432349\n"
     ]
    }
   ],
   "source": [
    "size_bits = 64\n",
    "public_key , private_key = PaillierKeyGenerator(size_bits)\n",
    "N = public_key[0]\n",
    "g = public_key[1]\n",
    "\n",
    "l = private_key[1]\n",
    "mu = private_key[2]\n",
    "\n",
    "m1, m2 = randrange(N), randrange(N)\n",
    "\n",
    "print(f\"Public key : \\n{public_key}\")\n",
    "print(f\"Private key : \\n{private_key}\")\n",
    "print(f\"The first Message : {m1}\")\n",
    "print(f\"The Second Message : {m2}\")"
   ]
  },
  {
   "cell_type": "markdown",
   "id": "955c3881",
   "metadata": {},
   "source": [
    "Now that we have all the paremeters we will test the equation : m1 + m2  (mod N)= Dec(Enc(m1) * Enc(m2) (mod N2))"
   ]
  },
  {
   "cell_type": "code",
   "execution_count": 7,
   "id": "1b443ad1",
   "metadata": {},
   "outputs": [
    {
     "name": "stdout",
     "output_type": "stream",
     "text": [
      "the sum of the messages : 19797153324304609009326403121557289785\n",
      "The decryption of the product of the cipher texts 19797153324304609009326403121557289785\n"
     ]
    }
   ],
   "source": [
    "encrypted_prod =  PaillierEncrypt(m1,public_key) * PaillierEncrypt(m2,public_key) % (N*N)\n",
    "decrypted_prod = PaillierDecrypt(encrypted_prod,private_key) % (N*N)\n",
    "print(f\"the sum of the messages : {(m1 + m2) % N }\")\n",
    "print(f\"The decryption of the product of the cipher texts {decrypted_prod}\")\n",
    "assert decrypted_prod == (m1 + m2) % N, \"Something went wrong\""
   ]
  },
  {
   "cell_type": "markdown",
   "id": "8f2aeba6",
   "metadata": {},
   "source": [
    "# El Gamal Homomorphism\n",
    "\n",
    "in this algorithm we have a composit cipher text for a simple message ; Enc(m) = c = (c1,c2 \n",
    "\n",
    "so we have Enc(mx) = (c1x,c2x) and Enc(my) = (c1y,c2y) so Enc(mx) * Enc(my) = (c1x\\*c1y , c2x\\*2y) \n",
    "\n",
    "So we have to test the homomophism : 𝐷𝑒𝑐(𝐸𝑛𝑐(𝑚𝑥)⋅𝐸𝑛𝑐(𝑚𝑦))=𝑚𝑥⋅𝑚"
   ]
  },
  {
   "cell_type": "code",
   "execution_count": 8,
   "id": "8d06cc0f",
   "metadata": {},
   "outputs": [],
   "source": [
    "from  crypto import ElGamalKeyGenerator, ElGamalEncrypt, ElGamalDecrypt"
   ]
  },
  {
   "cell_type": "code",
   "execution_count": 9,
   "id": "fbae96b5",
   "metadata": {},
   "outputs": [
    {
     "name": "stdout",
     "output_type": "stream",
     "text": [
      "Public key : (10100356365431374798, 211480244619212211, 11958954971264570449)\n",
      "Private key : (10350272428728746021, 11958954971264570449)\n",
      "First message is: 8600548320954152980\n",
      "Second message is: 2837805323222482439\n"
     ]
    }
   ],
   "source": [
    "public_key , private_key = ElGamalKeyGenerator()\n",
    "A = public_key[0]\n",
    "g = public_key[1]\n",
    "p = public_key[2]\n",
    "\n",
    "sk = private_key[0]\n",
    "mx,my = randrange(p), randrange(p)\n",
    "print(f\"Public key : {public_key}\")\n",
    "print(f\"Private key : {private_key}\")\n",
    "print(f\"First message is: {mx}\")\n",
    "print(f\"Second message is: {my}\")"
   ]
  },
  {
   "cell_type": "code",
   "execution_count": 57,
   "id": "f18a0e76",
   "metadata": {},
   "outputs": [
    {
     "name": "stdout",
     "output_type": "stream",
     "text": [
      "ciphertext x = (1473727867772306634, 1536020714232515441)\n",
      "ciphertext y = (1642492063999315009, 10356368775888736212)\n",
      "\n",
      "Product of mx and my in ciphertext = (1597971100230534893, 11130968941578251429)\n",
      "Decrypting the product of ciphertext 758850078245582739\n",
      "Product of the plaintexts 758850078245582739\n"
     ]
    }
   ],
   "source": [
    "prod = (mx * my ) % p\n",
    "c = ElGamalEncrypt(prod,public_key)\n",
    "c1 = ElGamalEncrypt(mx,public_key)\n",
    "c2 = ElGamalEncrypt(my,public_key)\n",
    "\n",
    "dec_prod = ElGamalDecrypt((c1[0] * c2[0] %p, c1[1]*c2[1]%p),private_key)\n",
    "\n",
    "assert dec_prod == prod , \"Something went wrong\"\n",
    "\n",
    "print(f\"ciphertext x = {c1}\\nciphertext y = {c2}\\n\")\n",
    "print(f\"Product of mx and my in ciphertext = {c}\")\n",
    "print(f\"Decrypting the product of ciphertext {dec_prod}\")\n",
    "print(f\"Product of the plaintexts {prod}\")"
   ]
  },
  {
   "cell_type": "code",
   "execution_count": null,
   "id": "9bdd9d2e",
   "metadata": {},
   "outputs": [],
   "source": []
  }
 ],
 "metadata": {
  "kernelspec": {
   "display_name": "Python 3 (ipykernel)",
   "language": "python",
   "name": "python3"
  },
  "language_info": {
   "codemirror_mode": {
    "name": "ipython",
    "version": 3
   },
   "file_extension": ".py",
   "mimetype": "text/x-python",
   "name": "python",
   "nbconvert_exporter": "python",
   "pygments_lexer": "ipython3",
   "version": "3.8.8"
  }
 },
 "nbformat": 4,
 "nbformat_minor": 5
}
