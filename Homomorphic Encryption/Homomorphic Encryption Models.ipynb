{
 "cells": [
  {
   "cell_type": "markdown",
   "id": "f1206130",
   "metadata": {},
   "source": [
    "In this notebook we will implement 2 models that do some calculations on encrypted data"
   ]
  },
  {
   "cell_type": "code",
   "execution_count": 4,
   "id": "4412e165",
   "metadata": {},
   "outputs": [],
   "source": [
    "from collections import namedtuple\n",
    "import secrets \n",
    "from typing import List,Tuple \n",
    "import numpy as np\n",
    "from crypto import RandomPrime, xgcd, LCM,InverseMod\n",
    "PrivateKey = namedtuple(\"Private_key\", [\"lam\",'mu'])\n",
    "PublicKey = namedtuple(\"Public_key\",[\"g\",\"n\",'n_sqr'])\n",
    "DEFAULT_BIT_SIZE = 64\n",
    "def L(x:int,n:int) -> int:\n",
    "    return (x-1)//n"
   ]
  },
  {
   "cell_type": "code",
   "execution_count": 107,
   "id": "22c44519",
   "metadata": {},
   "outputs": [],
   "source": [
    "# we are going to use this class to work with the methods of Paillier implemented previousely\n",
    "class Paillier(): \n",
    "    def __init__(self,size_bits:int = DEFAULT_BIT_SIZE): \n",
    "        self.bit_size = size_bits\n",
    "        p = RandomPrime(size_bits,60)\n",
    "        q = RandomPrime(size_bits,60)\n",
    "        while p==q : \n",
    "            q = RandomPrime(size_bits,60)\n",
    "        N = p*q\n",
    "        phi = (p-1) * (q-1)\n",
    "        gcd,_,_ = xgcd(N,phi)  \n",
    "        while gcd!=1:\n",
    "            p = RandomPrime(size_bits,60)\n",
    "            q = RandomPrime(size_bits,60)\n",
    "            while p==q : \n",
    "                q = RandomPrime(size_bits,60)\n",
    "            N = p*q\n",
    "            phi = (p-1) * (q-1)\n",
    "            gcd,_,_ = xgcd(N,phi) \n",
    "\n",
    "        l = LCM((q-1),(p-1))\n",
    "        g = secrets.randbelow(N*N) \n",
    "        mu = InverseMod(L(pow(g,l,N*N),N),N)\n",
    "\n",
    "        self.public_key = PublicKey(g,N,N*N)\n",
    "        self.private_key = PrivateKey(l,mu)\n",
    "    def encrypt(self,plain_text): \n",
    "        g,N, N_sqr = self.public_key\n",
    "        r = secrets.randbelow(N)\n",
    "        gcd,_,_ = xgcd(r,N)\n",
    "        while gcd !=1:\n",
    "            r = secrets.randbelow(N)\n",
    "            gcd,_,_ = xgcd(r,N)\n",
    "\n",
    "\n",
    "        cipher_text = (pow(g,plain_text,N_sqr) * pow(r,N,N_sqr))% (N_sqr)\n",
    "\n",
    "        return cipher_text\n",
    "    def decrypt(self,cipher_text): \n",
    "        l , mu = self.private_key\n",
    "        _,N, N_sqr = self.public_key\n",
    "        recovred_message = (L(pow(cipher_text,l,N_sqr),N)* mu) % N\n",
    "        return recovred_message\n",
    "    def add(self,cipher_text_1 : int, cipher_text_2 : int)-> int: \n",
    "        return (cipher_text_1 * cipher_text_2 ) % self.public_key.n_sqr\n",
    "    \n",
    "    def multiply(self,cipher_text_1 : int, plain_text_2 : int)-> int: \n",
    "        #we have 2 cases : \n",
    "        if plain_text_2==0:\n",
    "            #if the plain_text_2 is 0 so everything multiplying by 0 is 0 so we encrypt the 0\n",
    "            return self.encrypt(0)\n",
    "        if plain_text_2==1:\n",
    "            #if the plain_text_2 is 1 so everything multiplying by 1 it stays like ti is so it's equivalent of adding 0\n",
    "            encryted_0 = self.encrypt(0)\n",
    "            return self.add(cipher_text_1,encryted_0)\n",
    "        return pow(cipher_text_1,plain_text_2,self.public_key.n_sqr)\n",
    "    def __str__(self):\n",
    "        output = f\"\"\"The Paillier parameters:\\nPublic key :\\n\\tg:{self.public_key.g}\\n\\tn:{self.public_key.n}\n",
    "        \\nPrivate key:\\n\\tmu:{self.private_key.mu}\\n\\tlamda: {self.private_key.lam}\"\"\"\n",
    "        return output\n",
    "paillier = Paillier(DEFAULT_BIT_SIZE)"
   ]
  },
  {
   "cell_type": "code",
   "execution_count": null,
   "id": "bad52ca7",
   "metadata": {},
   "outputs": [],
   "source": []
  },
  {
   "cell_type": "code",
   "execution_count": 108,
   "id": "72700faf",
   "metadata": {},
   "outputs": [],
   "source": [
    "def encrypted_celsius_to_fahrenheit(paillier: Paillier, cipher_text: int) -> int:\n",
    "    \"\"\"\n",
    "    Returns an encrypted integer representing 1/10ths of a degree Fahrenheit\n",
    "    °F = °C * 1.8 + 32\n",
    "    \"\"\"\n",
    "    # here we will multiply the equation by 10 so we get 10*°F = 10*°C * 1.8 + 10*32 = °C * 18 + 320\n",
    "    # so we propose the solution that : we encrypt 320 and we add it to the value of °C * 18 \n",
    "    encrypted_320= paillier.encrypt(320) \n",
    "    return paillier.add(paillier.multiply(cipher_text,18),encrypted_320) \n",
    "\n",
    "\n",
    "def encrypted_price_calculator(\n",
    "    paillier: Paillier,\n",
    "    # a list of (encrypted price, plaintext quantity) tuples\n",
    "    encrypted_cart: List[Tuple[int, int]],\n",
    ") -> int:\n",
    "    \"\"\"\n",
    "    Returns the encrypted sum of multiplying each encrypted price by an unencrypted quantity\n",
    "    \"\"\"\n",
    "    total = paillier.encrypt(0)\n",
    "    for product in encrypted_cart: \n",
    "        price = paillier.multiply(product[0],product[1])\n",
    "        total = paillier.add(total,price)\n",
    "    return total\n"
   ]
  },
  {
   "cell_type": "code",
   "execution_count": 114,
   "id": "a83a281d",
   "metadata": {},
   "outputs": [
    {
     "data": {
      "text/plain": [
       "[(14181568848939404498902867607233971855533579070837627401309482109827221888589,\n",
       "  10),\n",
       " (28191448844081729903578176801560590341619326645049600633159221030501579511912,\n",
       "  2),\n",
       " (28899949171375117408915798686590319054202204061274186003217091814283387801254,\n",
       "  4),\n",
       " (24184735169296290149559084548162713333309788876257075873288030589262145722763,\n",
       "  1)]"
      ]
     },
     "execution_count": 114,
     "metadata": {},
     "output_type": "execute_result"
    }
   ],
   "source": [
    "cart_list = [(140,10),(1000,2),(500,4),(330,1)]\n",
    "expected_total=0\n",
    "encrypted_cart_list = []\n",
    "for i in cart_list: \n",
    "    price = i[0]*i[1]\n",
    "    expected_total +=price \n",
    "    encrypted_price = paillier.encrypt(i[0])\n",
    "    encrypted_cart_list.append((encrypted_price,i[1]))\n",
    "    \n",
    "encrypted_cart_list"
   ]
  },
  {
   "cell_type": "code",
   "execution_count": null,
   "id": "287ec950",
   "metadata": {},
   "outputs": [],
   "source": []
  },
  {
   "cell_type": "code",
   "execution_count": null,
   "id": "ed75001d",
   "metadata": {},
   "outputs": [],
   "source": []
  },
  {
   "cell_type": "code",
   "execution_count": null,
   "id": "ee378ed5",
   "metadata": {},
   "outputs": [],
   "source": []
  },
  {
   "cell_type": "markdown",
   "id": "ba7935e7",
   "metadata": {},
   "source": [
    "# Testing Section"
   ]
  },
  {
   "cell_type": "code",
   "execution_count": 116,
   "id": "a468c65f",
   "metadata": {},
   "outputs": [],
   "source": [
    "TEST_BIT_LENGTH = 32\n",
    "\n",
    "\n",
    "def test_encrypted_celsius_to_fahrenheit(paillier: Paillier):\n",
    "    temperature_in_celsius = 23\n",
    "    temperature_in_fahrenheit = 73.4\n",
    "\n",
    "    encrypted_input = paillier.encrypt(temperature_in_celsius)\n",
    "    encrypted_output = encrypted_celsius_to_fahrenheit(paillier,encrypted_input)\n",
    "    decrypted_output = paillier.decrypt(encrypted_output)\n",
    "    # Note that the Paillier cryptosystem only deals with integers and cannot handle\n",
    "    # encrypted division because it is only a partial homomorphic encryption scheme\n",
    "    scaled_output = decrypted_output / 10\n",
    "\n",
    "    assert scaled_output == temperature_in_fahrenheit\n",
    "\n",
    "\n",
    "def test_encrypted_price_calculator(paillier: Paillier):\n",
    "    cart = [\n",
    "        # (price, quantity)\n",
    "        (2000, 1),\n",
    "        (120, 5),\n",
    "        (1999, 3),\n",
    "    ]\n",
    "    expected_price = 8597\n",
    "\n",
    "    # Note that the items are somewhat anonymized by the removal of the highly\n",
    "    # identifying price information, but the plaintext quantity could still provide\n",
    "    # information which could deanonymize the item data\n",
    "    encrypted_cart = [(paillier.encrypt(price), quantity) for price, quantity in cart]\n",
    "    encrypted_price = encrypted_price_calculator(paillier, encrypted_cart)\n",
    "    decrypted_price = paillier.decrypt(encrypted_price)\n",
    "\n",
    "    assert decrypted_price == expected_price\n"
   ]
  },
  {
   "cell_type": "code",
   "execution_count": 117,
   "id": "3eacef56",
   "metadata": {},
   "outputs": [],
   "source": [
    "test_encrypted_celsius_to_fahrenheit(paillier)"
   ]
  },
  {
   "cell_type": "code",
   "execution_count": 118,
   "id": "1f729838",
   "metadata": {},
   "outputs": [],
   "source": [
    "test_encrypted_price_calculator(paillier)"
   ]
  },
  {
   "cell_type": "markdown",
   "id": "e6e67870",
   "metadata": {},
   "source": [
    "We note that there is no error so the test is passed sucssessfuly  "
   ]
  },
  {
   "cell_type": "code",
   "execution_count": null,
   "id": "99d17557",
   "metadata": {},
   "outputs": [],
   "source": []
  }
 ],
 "metadata": {
  "kernelspec": {
   "display_name": "Python 3 (ipykernel)",
   "language": "python",
   "name": "python3"
  },
  "language_info": {
   "codemirror_mode": {
    "name": "ipython",
    "version": 3
   },
   "file_extension": ".py",
   "mimetype": "text/x-python",
   "name": "python",
   "nbconvert_exporter": "python",
   "pygments_lexer": "ipython3",
   "version": "3.8.8"
  }
 },
 "nbformat": 4,
 "nbformat_minor": 5
}
