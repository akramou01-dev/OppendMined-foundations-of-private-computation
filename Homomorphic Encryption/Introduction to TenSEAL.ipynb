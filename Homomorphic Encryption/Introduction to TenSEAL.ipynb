{
 "cells": [
  {
   "cell_type": "code",
   "execution_count": 2,
   "id": "cb7035f9",
   "metadata": {},
   "outputs": [
    {
     "name": "stdout",
     "output_type": "stream",
     "text": [
      "Collecting tenseal\n",
      "  Downloading tenseal-0.3.5-cp38-cp38-win_amd64.whl (2.1 MB)\n",
      "Installing collected packages: tenseal\n",
      "Successfully installed tenseal-0.3.5\n"
     ]
    }
   ],
   "source": [
    "#!pip install tenseal"
   ]
  },
  {
   "cell_type": "code",
   "execution_count": 50,
   "id": "1528664c",
   "metadata": {},
   "outputs": [],
   "source": [
    "import tenseal as ts"
   ]
  },
  {
   "cell_type": "code",
   "execution_count": 127,
   "id": "74bcf004",
   "metadata": {},
   "outputs": [],
   "source": [
    "#the context is required for doing computation on encrypted data , it contains a store for the keys and parameters..\n",
    "context = ts.context(ts.SCHEME_TYPE.CKKS, poly_modulus_degree = 8192, coeff_mod_bit_sizes =[20,40,40,20])"
   ]
  },
  {
   "cell_type": "code",
   "execution_count": 78,
   "id": "2869acb5",
   "metadata": {},
   "outputs": [],
   "source": [
    "secret_key = context.secret_key()"
   ]
  },
  {
   "cell_type": "code",
   "execution_count": 79,
   "id": "50c6377e",
   "metadata": {},
   "outputs": [],
   "source": [
    "import numpy as np "
   ]
  },
  {
   "cell_type": "code",
   "execution_count": 80,
   "id": "56b70e98",
   "metadata": {},
   "outputs": [
    {
     "data": {
      "text/plain": [
       "array([[-1.11332515, -1.01092288, -2.657617  ],\n",
       "       [ 0.03515662,  1.54415344,  1.95509673]])"
      ]
     },
     "execution_count": 80,
     "metadata": {},
     "output_type": "execute_result"
    }
   ],
   "source": [
    "plain_tensor = np.random.randn(2,3)\n",
    "plain_tensor"
   ]
  },
  {
   "cell_type": "code",
   "execution_count": 81,
   "id": "a57f5d44",
   "metadata": {},
   "outputs": [
    {
     "data": {
      "text/plain": [
       "<tenseal.tensors.ckkstensor.CKKSTensor at 0x20625ba2f40>"
      ]
     },
     "execution_count": 81,
     "metadata": {},
     "output_type": "execute_result"
    }
   ],
   "source": [
    "encrypted_tensor = ts.ckks_tensor(context,plain_tensor,scale=2**40)\n",
    "encrypted_tensor"
   ]
  },
  {
   "cell_type": "code",
   "execution_count": 82,
   "id": "5da987b3",
   "metadata": {},
   "outputs": [
    {
     "data": {
      "text/plain": [
       "<tenseal.tensors.ckkstensor.CKKSTensor at 0x20625a545b0>"
      ]
     },
     "execution_count": 82,
     "metadata": {},
     "output_type": "execute_result"
    }
   ],
   "source": [
    "# we can set the scale directly to the context that we are not obliged to set it every time we encrypt a tensor \n",
    "context.global_scale = 2 ** 40\n",
    "encrypted_tensor = ts.ckks_tensor(context , plain_tensor)\n",
    "encrypted_tensor"
   ]
  },
  {
   "cell_type": "code",
   "execution_count": 83,
   "id": "d020a277",
   "metadata": {},
   "outputs": [
    {
     "name": "stdout",
     "output_type": "stream",
     "text": [
      "<tenseal.tensors.plaintensor.PlainTensor object at 0x0000020625C1BC70>\n"
     ]
    }
   ],
   "source": [
    "print(encrypted_tensor.decrypt())"
   ]
  },
  {
   "cell_type": "markdown",
   "id": "9fd8d8e0",
   "metadata": {},
   "source": [
    "The PlainTensor object is a tensor that we mainly use internally to represent tensors with plain values. You can always call `tolist()` to convert it to a list."
   ]
  },
  {
   "cell_type": "code",
   "execution_count": 84,
   "id": "c55c9324",
   "metadata": {},
   "outputs": [
    {
     "name": "stdout",
     "output_type": "stream",
     "text": [
      "[[-1.1133251533742394, -1.0109228787129558, -2.657616998795217], [0.03515661890384239, 1.544153441374982, 1.9550967274385511]]\n"
     ]
    }
   ],
   "source": [
    "print(encrypted_tensor.decrypt().tolist())"
   ]
  },
  {
   "cell_type": "code",
   "execution_count": 85,
   "id": "1291502e",
   "metadata": {},
   "outputs": [
    {
     "name": "stdout",
     "output_type": "stream",
     "text": [
      "2\n"
     ]
    }
   ],
   "source": [
    "print(encrypted_tensor.decrypt().size())"
   ]
  },
  {
   "cell_type": "code",
   "execution_count": 86,
   "id": "4e9b35c0",
   "metadata": {},
   "outputs": [
    {
     "name": "stdout",
     "output_type": "stream",
     "text": [
      "[[-1.11332515 -1.01092288 -2.657617  ]\n",
      " [ 0.03515662  1.54415344  1.95509673]]\n"
     ]
    }
   ],
   "source": [
    "print(plain_tensor)"
   ]
  },
  {
   "cell_type": "markdown",
   "id": "757d6f47",
   "metadata": {},
   "source": [
    " # Computation and Evaluation"
   ]
  },
  {
   "cell_type": "code",
   "execution_count": 87,
   "id": "9b4e1fef",
   "metadata": {},
   "outputs": [],
   "source": [
    "encrypted_result = (encrypted_tensor + 2) *3 - plain_tensor"
   ]
  },
  {
   "cell_type": "code",
   "execution_count": 88,
   "id": "b56b2cb8",
   "metadata": {},
   "outputs": [],
   "source": [
    "expected_result = (plain_tensor +2)*3 - plain_tensor"
   ]
  },
  {
   "cell_type": "code",
   "execution_count": 89,
   "id": "3e25381d",
   "metadata": {},
   "outputs": [
    {
     "data": {
      "text/plain": [
       "array([[3.77334969, 3.97815424, 0.684766  ],\n",
       "       [6.07031324, 9.08830688, 9.91019346]])"
      ]
     },
     "execution_count": 89,
     "metadata": {},
     "output_type": "execute_result"
    }
   ],
   "source": [
    "expected_result"
   ]
  },
  {
   "cell_type": "code",
   "execution_count": 90,
   "id": "2b485edd",
   "metadata": {},
   "outputs": [
    {
     "data": {
      "text/plain": [
       "array([[3.77335005, 3.97815464, 0.68476574],\n",
       "       [6.07031406, 9.08830831, 9.91019505]])"
      ]
     },
     "execution_count": 90,
     "metadata": {},
     "output_type": "execute_result"
    }
   ],
   "source": [
    "np.array(encrypted_result.decrypt().tolist())"
   ]
  },
  {
   "cell_type": "code",
   "execution_count": 91,
   "id": "70c5f82b",
   "metadata": {},
   "outputs": [
    {
     "name": "stdout",
     "output_type": "stream",
     "text": [
      "result : 1.2288798970043284\n",
      "expected result : 1.2288797331227481\n",
      "[-1.21012702 -0.70528408  1.26909879]\n",
      "[ 0.42186361 -1.99115657  0.26401196]\n"
     ]
    }
   ],
   "source": [
    "vector1 = np.random.randn(3)\n",
    "vector2 = np.random.randn(3)\n",
    "enc_vec1 = ts.ckks_tensor(context,vector1)\n",
    "enc_vec2 = ts.ckks_tensor(context,vector2)\n",
    "print(f\"result : {enc_vec1.dot(enc_vec2).decrypt().tolist()}\")\n",
    "print(f\"expected result : {vector1.dot(vector2)}\")\n",
    "print(vector1)\n",
    "print(vector2)"
   ]
  },
  {
   "cell_type": "code",
   "execution_count": 92,
   "id": "b807f370",
   "metadata": {},
   "outputs": [
    {
     "name": "stdout",
     "output_type": "stream",
     "text": [
      "result : \n",
      "\t[[-0.6208705093502983, -0.1376900552200658, 0.6935937608120599], [-0.6257555395308259, 2.357346199218757, 0.1321815627583215], [-0.015341571103966571, -0.41518303423984415, -0.5125634960670463]]\n",
      "\n",
      "expected result : \n",
      "\t[[-0.62087043 -0.13769004  0.69359367]\n",
      " [-0.62575546  2.35734588  0.13218155]\n",
      " [-0.01534157 -0.41518298 -0.51256343]]\n"
     ]
    }
   ],
   "source": [
    "matrix1 = np.random.randn(3,3)\n",
    "matrix2 = np.random.randn(3,3)\n",
    "enc_matrix1 = ts.ckks_tensor(context,matrix1)\n",
    "enc_matrix2 = ts.ckks_tensor(context,matrix2)\n",
    "print(f\"result : \\n\\t{(enc_matrix1 * enc_matrix2).decrypt().tolist()}\")\n",
    "print(f\"\\nexpected result : \\n\\t{matrix1 * matrix2}\")"
   ]
  },
  {
   "cell_type": "markdown",
   "id": "50006214",
   "metadata": {},
   "source": [
    "## Batch Computation"
   ]
  },
  {
   "cell_type": "code",
   "execution_count": 126,
   "id": "940e9968",
   "metadata": {},
   "outputs": [
    {
     "data": {
      "text/plain": [
       "1633831219.6752121"
      ]
     },
     "execution_count": 126,
     "metadata": {},
     "output_type": "execute_result"
    }
   ],
   "source": [
    "from time import time \n"
   ]
  },
  {
   "cell_type": "code",
   "execution_count": 94,
   "id": "218402e9",
   "metadata": {},
   "outputs": [
    {
     "name": "stdout",
     "output_type": "stream",
     "text": [
      "result : [[-0.12790044514024634, 0.048676312523775245, 0.95731815299766], [-2.463882144925088, 1.7820485133607953, 3.627484445861768], [3.2163420902238244, -2.382104423153012, -2.3448437677602936]]\n",
      "expected result : [[-0.12790043  0.04867631  0.95731802]\n",
      " [-2.46388181  1.78204828  3.62748396]\n",
      " [ 3.21634166 -2.3821041  -2.34484346]]\n"
     ]
    }
   ],
   "source": [
    "# a single ciphertext can hold up to `poly_modulus_degree / 2` values\n",
    "# so let's use all the slots available\n",
    "batch_size= 8192 //2\n",
    "mat1 = np.random.randn(batch_size , 3,3)\n",
    "mat2 =np.random.randn(3,3)\n",
    "# batch is by default set to False, we have to turn it on to use the packing feature of ciphertexts\n",
    "enc_mat1 = ts.ckks_tensor(context,mat1,batch=True)\n",
    "enc_mat2 = ts.ckks_tensor(context,mat2)\n",
    "print(f\"result : {enc_mat1.dot(enc_mat2).decrypt().tolist()[0]}\")\n",
    "print(f\"expected result : {mat1.dot(mat2)[0]}\")\n",
    "\n",
    "#when we set batch=False , it take more time and memory to compute the results then when we enable it \n",
    "\n",
    "\n"
   ]
  },
  {
   "cell_type": "code",
   "execution_count": 22,
   "id": "f7205dcd",
   "metadata": {},
   "outputs": [],
   "source": [
    "# TenSEAL use the parelle computation of the computer systeme by default but we can modiying it when creating the context\n",
    "non_parallel_context = ts.context(\n",
    "    ts.SCHEME_TYPE.CKKS,\n",
    "    poly_modulus_degree=8192,\n",
    "    coeff_mod_bit_sizes=[60, 40, 40, 60],\n",
    "    n_threads=1,\n",
    ")"
   ]
  },
  {
   "cell_type": "code",
   "execution_count": 23,
   "id": "3bbcaf1e",
   "metadata": {},
   "outputs": [],
   "source": [
    "# for the Decryption, the context make all the keys private , we can turn it to public but we must save the key for the decryption\n",
    "sk = context.secret_key()\n",
    "context.make_context_public()\n",
    "# by making the context public we dropped the secret key from it, so for the next decryption we need to pass it "
   ]
  },
  {
   "cell_type": "code",
   "execution_count": 24,
   "id": "42705b86",
   "metadata": {},
   "outputs": [
    {
     "ename": "ValueError",
     "evalue": "the current context of the tensor doesn't hold a secret_key, please provide one as argument",
     "output_type": "error",
     "traceback": [
      "\u001b[1;31m---------------------------------------------------------------------------\u001b[0m",
      "\u001b[1;31mValueError\u001b[0m                                Traceback (most recent call last)",
      "\u001b[1;32m~\\AppData\\Local\\Temp/ipykernel_12188/2835678708.py\u001b[0m in \u001b[0;36m<module>\u001b[1;34m\u001b[0m\n\u001b[1;32m----> 1\u001b[1;33m \u001b[0menc_mat1\u001b[0m\u001b[1;33m.\u001b[0m\u001b[0mdecrypt\u001b[0m\u001b[1;33m(\u001b[0m\u001b[1;33m)\u001b[0m\u001b[1;33m\u001b[0m\u001b[1;33m\u001b[0m\u001b[0m\n\u001b[0m",
      "\u001b[1;32m~\\Anaconda3\\lib\\site-packages\\tenseal\\tensors\\ckkstensor.py\u001b[0m in \u001b[0;36mdecrypt\u001b[1;34m(self, secret_key)\u001b[0m\n\u001b[0;32m     53\u001b[0m \u001b[1;33m\u001b[0m\u001b[0m\n\u001b[0;32m     54\u001b[0m     \u001b[1;32mdef\u001b[0m \u001b[0mdecrypt\u001b[0m\u001b[1;33m(\u001b[0m\u001b[0mself\u001b[0m\u001b[1;33m,\u001b[0m \u001b[0msecret_key\u001b[0m\u001b[1;33m:\u001b[0m \u001b[1;34m\"ts.enc_context.SecretKey\"\u001b[0m \u001b[1;33m=\u001b[0m \u001b[1;32mNone\u001b[0m\u001b[1;33m)\u001b[0m \u001b[1;33m->\u001b[0m \u001b[1;34m\"ts.PlainTensor\"\u001b[0m\u001b[1;33m:\u001b[0m\u001b[1;33m\u001b[0m\u001b[1;33m\u001b[0m\u001b[0m\n\u001b[1;32m---> 55\u001b[1;33m         \u001b[0mpt\u001b[0m \u001b[1;33m=\u001b[0m \u001b[0mself\u001b[0m\u001b[1;33m.\u001b[0m\u001b[0m_decrypt\u001b[0m\u001b[1;33m(\u001b[0m\u001b[0msecret_key\u001b[0m\u001b[1;33m=\u001b[0m\u001b[0msecret_key\u001b[0m\u001b[1;33m)\u001b[0m\u001b[1;33m\u001b[0m\u001b[1;33m\u001b[0m\u001b[0m\n\u001b[0m\u001b[0;32m     56\u001b[0m         \u001b[1;32mreturn\u001b[0m \u001b[0mts\u001b[0m\u001b[1;33m.\u001b[0m\u001b[0mPlainTensor\u001b[0m\u001b[1;33m(\u001b[0m\u001b[0mpt\u001b[0m\u001b[1;33m.\u001b[0m\u001b[0mdata\u001b[0m\u001b[1;33m(\u001b[0m\u001b[1;33m)\u001b[0m\u001b[1;33m,\u001b[0m \u001b[0mshape\u001b[0m\u001b[1;33m=\u001b[0m\u001b[0mpt\u001b[0m\u001b[1;33m.\u001b[0m\u001b[0mshape\u001b[0m\u001b[1;33m(\u001b[0m\u001b[1;33m)\u001b[0m\u001b[1;33m,\u001b[0m \u001b[0mdtype\u001b[0m\u001b[1;33m=\u001b[0m\u001b[1;34m\"float\"\u001b[0m\u001b[1;33m)\u001b[0m\u001b[1;33m\u001b[0m\u001b[1;33m\u001b[0m\u001b[0m\n\u001b[0;32m     57\u001b[0m \u001b[1;33m\u001b[0m\u001b[0m\n",
      "\u001b[1;32m~\\Anaconda3\\lib\\site-packages\\tenseal\\tensors\\abstract_tensor.py\u001b[0m in \u001b[0;36m_decrypt\u001b[1;34m(self, secret_key)\u001b[0m\n\u001b[0;32m     83\u001b[0m     ) -> Union[ts._ts_cpp.PlainTensorDouble, ts._ts_cpp.PlainTensorInt64, List[float], List[int]]:\n\u001b[0;32m     84\u001b[0m         \u001b[1;32mif\u001b[0m \u001b[0msecret_key\u001b[0m \u001b[1;32mis\u001b[0m \u001b[1;32mNone\u001b[0m\u001b[1;33m:\u001b[0m\u001b[1;33m\u001b[0m\u001b[1;33m\u001b[0m\u001b[0m\n\u001b[1;32m---> 85\u001b[1;33m             \u001b[1;32mreturn\u001b[0m \u001b[0mself\u001b[0m\u001b[1;33m.\u001b[0m\u001b[0mdata\u001b[0m\u001b[1;33m.\u001b[0m\u001b[0mdecrypt\u001b[0m\u001b[1;33m(\u001b[0m\u001b[1;33m)\u001b[0m\u001b[1;33m\u001b[0m\u001b[1;33m\u001b[0m\u001b[0m\n\u001b[0m\u001b[0;32m     86\u001b[0m         \u001b[1;32melif\u001b[0m \u001b[0misinstance\u001b[0m\u001b[1;33m(\u001b[0m\u001b[0msecret_key\u001b[0m\u001b[1;33m,\u001b[0m \u001b[0mts\u001b[0m\u001b[1;33m.\u001b[0m\u001b[0menc_context\u001b[0m\u001b[1;33m.\u001b[0m\u001b[0mSecretKey\u001b[0m\u001b[1;33m)\u001b[0m\u001b[1;33m:\u001b[0m\u001b[1;33m\u001b[0m\u001b[1;33m\u001b[0m\u001b[0m\n\u001b[0;32m     87\u001b[0m             \u001b[1;32mreturn\u001b[0m \u001b[0mself\u001b[0m\u001b[1;33m.\u001b[0m\u001b[0mdata\u001b[0m\u001b[1;33m.\u001b[0m\u001b[0mdecrypt\u001b[0m\u001b[1;33m(\u001b[0m\u001b[0msecret_key\u001b[0m\u001b[1;33m.\u001b[0m\u001b[0mdata\u001b[0m\u001b[1;33m)\u001b[0m\u001b[1;33m\u001b[0m\u001b[1;33m\u001b[0m\u001b[0m\n",
      "\u001b[1;31mValueError\u001b[0m: the current context of the tensor doesn't hold a secret_key, please provide one as argument"
     ]
    }
   ],
   "source": [
    "enc_mat1.decrypt()"
   ]
  },
  {
   "cell_type": "markdown",
   "id": "3d5fde54",
   "metadata": {},
   "source": [
    "the Decryption does not work and that because the context does not have a secret key"
   ]
  },
  {
   "cell_type": "code",
   "execution_count": 27,
   "id": "35f1362f",
   "metadata": {},
   "outputs": [
    {
     "data": {
      "text/plain": [
       "<tenseal.tensors.plaintensor.PlainTensor at 0x206262707c0>"
      ]
     },
     "execution_count": 27,
     "metadata": {},
     "output_type": "execute_result"
    }
   ],
   "source": [
    "enc_mat1.decrypt(sk)\n"
   ]
  },
  {
   "cell_type": "markdown",
   "id": "b3c24ca4",
   "metadata": {},
   "source": [
    "You should always make a context public before sending it to other parties to compute on encrypted data."
   ]
  },
  {
   "cell_type": "markdown",
   "id": "e8c84b40",
   "metadata": {},
   "source": [
    "# Serialization\n",
    "\n",
    "if we want to send encrypted data or the context we can use the serialize method, every sendable object can be serializable via the serrialize method  "
   ]
  },
  {
   "cell_type": "code",
   "execution_count": 28,
   "id": "834c4067",
   "metadata": {},
   "outputs": [
    {
     "data": {
      "text/plain": [
       "bytes"
      ]
     },
     "execution_count": 28,
     "metadata": {},
     "output_type": "execute_result"
    }
   ],
   "source": [
    "ser_context = context.serialize()\n",
    "type(ser_context)"
   ]
  },
  {
   "cell_type": "code",
   "execution_count": 34,
   "id": "eb08b5e6",
   "metadata": {},
   "outputs": [
    {
     "data": {
      "text/plain": [
       "bytes"
      ]
     },
     "execution_count": 34,
     "metadata": {},
     "output_type": "execute_result"
    }
   ],
   "source": [
    "ser_tensor = encrypted_tensor.serialize()\n",
    "type(ser_tensor)"
   ]
  },
  {
   "cell_type": "markdown",
   "id": "aae91818",
   "metadata": {},
   "source": [
    "there is also a method for deszeialization the context "
   ]
  },
  {
   "cell_type": "code",
   "execution_count": 39,
   "id": "6d426450",
   "metadata": {},
   "outputs": [
    {
     "data": {
      "text/plain": [
       "<tenseal.enc_context.Context at 0x20625c172b0>"
      ]
     },
     "execution_count": 39,
     "metadata": {},
     "output_type": "execute_result"
    }
   ],
   "source": [
    "loadded_context = ts.context_from(ser_context)\n",
    "loadded_context "
   ]
  },
  {
   "cell_type": "markdown",
   "id": "9a31bc5d",
   "metadata": {},
   "source": [
    "the tensors must be linked to a context to work properly and this is using the method below"
   ]
  },
  {
   "cell_type": "code",
   "execution_count": 42,
   "id": "26b43c66",
   "metadata": {},
   "outputs": [
    {
     "data": {
      "text/plain": [
       "<tenseal.tensors.ckkstensor.CKKSTensor at 0x20625c17c70>"
      ]
     },
     "execution_count": 42,
     "metadata": {},
     "output_type": "execute_result"
    }
   ],
   "source": [
    "loadded_tensors = ts.ckks_tensor_from(loadded_context,ser_tensor)\n",
    "loadded_tensors"
   ]
  },
  {
   "cell_type": "markdown",
   "id": "dbdfa131",
   "metadata": {},
   "source": [
    "However, there is also a way to do it the lazy way, deserializing, then linking it to a specific context"
   ]
  },
  {
   "cell_type": "code",
   "execution_count": 45,
   "id": "307d82f2",
   "metadata": {},
   "outputs": [
    {
     "ename": "ValueError",
     "evalue": "missing context",
     "output_type": "error",
     "traceback": [
      "\u001b[1;31m---------------------------------------------------------------------------\u001b[0m",
      "\u001b[1;31mValueError\u001b[0m                                Traceback (most recent call last)",
      "\u001b[1;32m~\\AppData\\Local\\Temp/ipykernel_12188/652677395.py\u001b[0m in \u001b[0;36m<module>\u001b[1;34m\u001b[0m\n\u001b[0;32m      1\u001b[0m \u001b[0mlazy_loadded_tensor\u001b[0m \u001b[1;33m=\u001b[0m \u001b[0mts\u001b[0m\u001b[1;33m.\u001b[0m\u001b[0mlazy_ckks_tensor_from\u001b[0m\u001b[1;33m(\u001b[0m\u001b[0mser_tensor\u001b[0m\u001b[1;33m)\u001b[0m\u001b[1;33m\u001b[0m\u001b[1;33m\u001b[0m\u001b[0m\n\u001b[1;32m----> 2\u001b[1;33m \u001b[0mlazy_loadded_tensor\u001b[0m \u001b[1;33m+\u001b[0m \u001b[1;36m5\u001b[0m\u001b[1;33m\u001b[0m\u001b[1;33m\u001b[0m\u001b[0m\n\u001b[0m",
      "\u001b[1;32m~\\Anaconda3\\lib\\site-packages\\tenseal\\tensors\\abstract_tensor.py\u001b[0m in \u001b[0;36m__add__\u001b[1;34m(self, other)\u001b[0m\n\u001b[0;32m    105\u001b[0m \u001b[1;33m\u001b[0m\u001b[0m\n\u001b[0;32m    106\u001b[0m     \u001b[1;32mdef\u001b[0m \u001b[0m__add__\u001b[0m\u001b[1;33m(\u001b[0m\u001b[0mself\u001b[0m\u001b[1;33m,\u001b[0m \u001b[0mother\u001b[0m\u001b[1;33m)\u001b[0m \u001b[1;33m->\u001b[0m \u001b[1;34m\"AbstractTensor\"\u001b[0m\u001b[1;33m:\u001b[0m\u001b[1;33m\u001b[0m\u001b[1;33m\u001b[0m\u001b[0m\n\u001b[1;32m--> 107\u001b[1;33m         \u001b[1;32mreturn\u001b[0m \u001b[0mself\u001b[0m\u001b[1;33m.\u001b[0m\u001b[0madd\u001b[0m\u001b[1;33m(\u001b[0m\u001b[0mother\u001b[0m\u001b[1;33m)\u001b[0m\u001b[1;33m\u001b[0m\u001b[1;33m\u001b[0m\u001b[0m\n\u001b[0m\u001b[0;32m    108\u001b[0m \u001b[1;33m\u001b[0m\u001b[0m\n\u001b[0;32m    109\u001b[0m     \u001b[1;32mdef\u001b[0m \u001b[0m__iadd__\u001b[0m\u001b[1;33m(\u001b[0m\u001b[0mself\u001b[0m\u001b[1;33m,\u001b[0m \u001b[0mother\u001b[0m\u001b[1;33m)\u001b[0m \u001b[1;33m->\u001b[0m \u001b[1;34m\"AbstractTensor\"\u001b[0m\u001b[1;33m:\u001b[0m\u001b[1;33m\u001b[0m\u001b[1;33m\u001b[0m\u001b[0m\n",
      "\u001b[1;32m~\\Anaconda3\\lib\\site-packages\\tenseal\\tensors\\ckkstensor.py\u001b[0m in \u001b[0;36madd\u001b[1;34m(self, other)\u001b[0m\n\u001b[0;32m     76\u001b[0m     \u001b[1;32mdef\u001b[0m \u001b[0madd\u001b[0m\u001b[1;33m(\u001b[0m\u001b[0mself\u001b[0m\u001b[1;33m,\u001b[0m \u001b[0mother\u001b[0m\u001b[1;33m)\u001b[0m \u001b[1;33m->\u001b[0m \u001b[1;34m\"CKKSTensor\"\u001b[0m\u001b[1;33m:\u001b[0m\u001b[1;33m\u001b[0m\u001b[1;33m\u001b[0m\u001b[0m\n\u001b[0;32m     77\u001b[0m         \u001b[0mother\u001b[0m \u001b[1;33m=\u001b[0m \u001b[0mself\u001b[0m\u001b[1;33m.\u001b[0m\u001b[0m_get_operand\u001b[0m\u001b[1;33m(\u001b[0m\u001b[0mother\u001b[0m\u001b[1;33m,\u001b[0m \u001b[0mdtype\u001b[0m\u001b[1;33m=\u001b[0m\u001b[1;34m\"float\"\u001b[0m\u001b[1;33m)\u001b[0m\u001b[1;33m\u001b[0m\u001b[1;33m\u001b[0m\u001b[0m\n\u001b[1;32m---> 78\u001b[1;33m         \u001b[0mresult\u001b[0m \u001b[1;33m=\u001b[0m \u001b[0mself\u001b[0m\u001b[1;33m.\u001b[0m\u001b[0mdata\u001b[0m \u001b[1;33m+\u001b[0m \u001b[0mother\u001b[0m\u001b[1;33m\u001b[0m\u001b[1;33m\u001b[0m\u001b[0m\n\u001b[0m\u001b[0;32m     79\u001b[0m         \u001b[1;32mreturn\u001b[0m \u001b[0mself\u001b[0m\u001b[1;33m.\u001b[0m\u001b[0m_wrap\u001b[0m\u001b[1;33m(\u001b[0m\u001b[0mresult\u001b[0m\u001b[1;33m)\u001b[0m\u001b[1;33m\u001b[0m\u001b[1;33m\u001b[0m\u001b[0m\n\u001b[0;32m     80\u001b[0m \u001b[1;33m\u001b[0m\u001b[0m\n",
      "\u001b[1;31mValueError\u001b[0m: missing context"
     ]
    }
   ],
   "source": [
    "lazy_loadded_tensor = ts.lazy_ckks_tensor_from(ser_tensor)\n",
    "lazy_loadded_tensor + 5"
   ]
  },
  {
   "cell_type": "markdown",
   "id": "9ebb4ab6",
   "metadata": {},
   "source": [
    "we see that we are not able to manipulate the tensor because it's not linked to a context, so linking the tensor to a context is an obligation for working with the tensors"
   ]
  },
  {
   "cell_type": "code",
   "execution_count": 46,
   "id": "3ad54a0f",
   "metadata": {},
   "outputs": [],
   "source": [
    "lazy_loadded_tensor.link_context(loadded_context)\n"
   ]
  },
  {
   "cell_type": "code",
   "execution_count": 47,
   "id": "39e58941",
   "metadata": {},
   "outputs": [
    {
     "data": {
      "text/plain": [
       "<tenseal.tensors.ckkstensor.CKKSTensor at 0x20625aeab20>"
      ]
     },
     "execution_count": 47,
     "metadata": {},
     "output_type": "execute_result"
    }
   ],
   "source": [
    "lazy_loadded_tensor + 5"
   ]
  },
  {
   "cell_type": "code",
   "execution_count": 167,
   "id": "93cf6355",
   "metadata": {},
   "outputs": [
    {
     "data": {
      "text/plain": [
       "65544"
      ]
     },
     "execution_count": 167,
     "metadata": {},
     "output_type": "execute_result"
    }
   ],
   "source": [
    "65544"
   ]
  },
  {
   "cell_type": "code",
   "execution_count": null,
   "id": "8b44a329",
   "metadata": {},
   "outputs": [],
   "source": []
  },
  {
   "cell_type": "code",
   "execution_count": null,
   "id": "4568f85c",
   "metadata": {},
   "outputs": [],
   "source": []
  },
  {
   "cell_type": "code",
   "execution_count": null,
   "id": "20de0a0a",
   "metadata": {},
   "outputs": [],
   "source": []
  },
  {
   "cell_type": "markdown",
   "id": "d3e53525",
   "metadata": {},
   "source": [
    "# Playing with the parameters"
   ]
  },
  {
   "cell_type": "code",
   "execution_count": null,
   "id": "f4af5881",
   "metadata": {},
   "outputs": [],
   "source": []
  },
  {
   "cell_type": "markdown",
   "id": "c10f15a5",
   "metadata": {},
   "source": [
    "We are going now to set juste 1 thread to work and disable the paralelle computation, and see if it will take more time then when working with multiple thread "
   ]
  },
  {
   "cell_type": "code",
   "execution_count": 168,
   "id": "484d8d3f",
   "metadata": {},
   "outputs": [],
   "source": [
    "non_parallel_context = ts.context(\n",
    "    ts.SCHEME_TYPE.CKKS,\n",
    "    poly_modulus_degree=16384,\n",
    "    coeff_mod_bit_sizes=[60, 40, 40, 60],\n",
    "    n_threads=1,\n",
    ")\n",
    "non_parallel_context.global_scale = 2**40"
   ]
  },
  {
   "cell_type": "code",
   "execution_count": 162,
   "id": "5b30d73d",
   "metadata": {},
   "outputs": [
    {
     "ename": "ValueError",
     "evalue": "can't encrypt vectors of this size, please use a larger polynomial modulus degree.",
     "output_type": "error",
     "traceback": [
      "\u001b[1;31m---------------------------------------------------------------------------\u001b[0m",
      "\u001b[1;31mValueError\u001b[0m                                Traceback (most recent call last)",
      "\u001b[1;32m~\\AppData\\Local\\Temp/ipykernel_12188/2199164971.py\u001b[0m in \u001b[0;36m<module>\u001b[1;34m\u001b[0m\n\u001b[0;32m      2\u001b[0m \u001b[0mmatrix1\u001b[0m \u001b[1;33m=\u001b[0m \u001b[0mnp\u001b[0m\u001b[1;33m.\u001b[0m\u001b[0mrandom\u001b[0m\u001b[1;33m.\u001b[0m\u001b[0mrandn\u001b[0m\u001b[1;33m(\u001b[0m\u001b[1;36m100000\u001b[0m\u001b[1;33m,\u001b[0m\u001b[1;36m3\u001b[0m\u001b[1;33m,\u001b[0m\u001b[1;36m3\u001b[0m\u001b[1;33m)\u001b[0m\u001b[1;33m\u001b[0m\u001b[1;33m\u001b[0m\u001b[0m\n\u001b[0;32m      3\u001b[0m \u001b[0mmatrix2\u001b[0m \u001b[1;33m=\u001b[0m \u001b[0mnp\u001b[0m\u001b[1;33m.\u001b[0m\u001b[0mrandom\u001b[0m\u001b[1;33m.\u001b[0m\u001b[0mrandn\u001b[0m\u001b[1;33m(\u001b[0m\u001b[1;36m3\u001b[0m\u001b[1;33m,\u001b[0m\u001b[1;36m3\u001b[0m\u001b[1;33m)\u001b[0m\u001b[1;33m\u001b[0m\u001b[1;33m\u001b[0m\u001b[0m\n\u001b[1;32m----> 4\u001b[1;33m \u001b[0menc_matrix1\u001b[0m \u001b[1;33m=\u001b[0m \u001b[0mts\u001b[0m\u001b[1;33m.\u001b[0m\u001b[0mckks_tensor\u001b[0m\u001b[1;33m(\u001b[0m\u001b[0mnon_parallel_context\u001b[0m\u001b[1;33m,\u001b[0m\u001b[0mmatrix1\u001b[0m\u001b[1;33m,\u001b[0m\u001b[0mbatch\u001b[0m\u001b[1;33m=\u001b[0m\u001b[1;32mTrue\u001b[0m\u001b[1;33m)\u001b[0m\u001b[1;33m\u001b[0m\u001b[1;33m\u001b[0m\u001b[0m\n\u001b[0m\u001b[0;32m      5\u001b[0m \u001b[0menc_matrix2\u001b[0m \u001b[1;33m=\u001b[0m \u001b[0mts\u001b[0m\u001b[1;33m.\u001b[0m\u001b[0mckks_tensor\u001b[0m\u001b[1;33m(\u001b[0m\u001b[0mnon_parallel_context\u001b[0m\u001b[1;33m,\u001b[0m\u001b[0mmatrix2\u001b[0m\u001b[1;33m)\u001b[0m\u001b[1;33m\u001b[0m\u001b[1;33m\u001b[0m\u001b[0m\n\u001b[0;32m      6\u001b[0m \u001b[0mproduct_result\u001b[0m \u001b[1;33m=\u001b[0m \u001b[0menc_matrix1\u001b[0m\u001b[1;33m.\u001b[0m\u001b[0mdot\u001b[0m\u001b[1;33m(\u001b[0m\u001b[0menc_matrix2\u001b[0m\u001b[1;33m)\u001b[0m\u001b[1;33m.\u001b[0m\u001b[0mdecrypt\u001b[0m\u001b[1;33m(\u001b[0m\u001b[1;33m)\u001b[0m\u001b[1;33m.\u001b[0m\u001b[0mtolist\u001b[0m\u001b[1;33m(\u001b[0m\u001b[1;33m)\u001b[0m\u001b[1;33m\u001b[0m\u001b[1;33m\u001b[0m\u001b[0m\n",
      "\u001b[1;32m~\\Anaconda3\\lib\\site-packages\\tenseal\\__init__.py\u001b[0m in \u001b[0;36mckks_tensor\u001b[1;34m(*args, **kwargs)\u001b[0m\n\u001b[0;32m    116\u001b[0m \u001b[1;32mdef\u001b[0m \u001b[0mckks_tensor\u001b[0m\u001b[1;33m(\u001b[0m\u001b[1;33m*\u001b[0m\u001b[0margs\u001b[0m\u001b[1;33m,\u001b[0m \u001b[1;33m**\u001b[0m\u001b[0mkwargs\u001b[0m\u001b[1;33m)\u001b[0m \u001b[1;33m->\u001b[0m \u001b[0mCKKSTensor\u001b[0m\u001b[1;33m:\u001b[0m\u001b[1;33m\u001b[0m\u001b[1;33m\u001b[0m\u001b[0m\n\u001b[0;32m    117\u001b[0m     \u001b[1;34m\"\"\"Constructor function for tenseal.CKKSTensor\"\"\"\u001b[0m\u001b[1;33m\u001b[0m\u001b[1;33m\u001b[0m\u001b[0m\n\u001b[1;32m--> 118\u001b[1;33m     \u001b[1;32mreturn\u001b[0m \u001b[0mCKKSTensor\u001b[0m\u001b[1;33m(\u001b[0m\u001b[1;33m*\u001b[0m\u001b[0margs\u001b[0m\u001b[1;33m,\u001b[0m \u001b[1;33m**\u001b[0m\u001b[0mkwargs\u001b[0m\u001b[1;33m)\u001b[0m\u001b[1;33m\u001b[0m\u001b[1;33m\u001b[0m\u001b[0m\n\u001b[0m\u001b[0;32m    119\u001b[0m \u001b[1;33m\u001b[0m\u001b[0m\n\u001b[0;32m    120\u001b[0m \u001b[1;33m\u001b[0m\u001b[0m\n",
      "\u001b[1;32m~\\Anaconda3\\lib\\site-packages\\tenseal\\tensors\\ckkstensor.py\u001b[0m in \u001b[0;36m__init__\u001b[1;34m(self, context, tensor, scale, batch, data)\u001b[0m\n\u001b[0;32m     42\u001b[0m \u001b[1;33m\u001b[0m\u001b[0m\n\u001b[0;32m     43\u001b[0m             \u001b[1;32mif\u001b[0m \u001b[0mscale\u001b[0m \u001b[1;32mis\u001b[0m \u001b[1;32mNone\u001b[0m\u001b[1;33m:\u001b[0m\u001b[1;33m\u001b[0m\u001b[1;33m\u001b[0m\u001b[0m\n\u001b[1;32m---> 44\u001b[1;33m                 \u001b[0mself\u001b[0m\u001b[1;33m.\u001b[0m\u001b[0mdata\u001b[0m \u001b[1;33m=\u001b[0m \u001b[0mts\u001b[0m\u001b[1;33m.\u001b[0m\u001b[0m_ts_cpp\u001b[0m\u001b[1;33m.\u001b[0m\u001b[0mCKKSTensor\u001b[0m\u001b[1;33m(\u001b[0m\u001b[0mcontext\u001b[0m\u001b[1;33m.\u001b[0m\u001b[0mdata\u001b[0m\u001b[1;33m,\u001b[0m \u001b[0mtensor\u001b[0m\u001b[1;33m.\u001b[0m\u001b[0mdata\u001b[0m\u001b[1;33m,\u001b[0m \u001b[0mbatch\u001b[0m\u001b[1;33m)\u001b[0m\u001b[1;33m\u001b[0m\u001b[1;33m\u001b[0m\u001b[0m\n\u001b[0m\u001b[0;32m     45\u001b[0m             \u001b[1;32melse\u001b[0m\u001b[1;33m:\u001b[0m\u001b[1;33m\u001b[0m\u001b[1;33m\u001b[0m\u001b[0m\n\u001b[0;32m     46\u001b[0m                 \u001b[0mself\u001b[0m\u001b[1;33m.\u001b[0m\u001b[0mdata\u001b[0m \u001b[1;33m=\u001b[0m \u001b[0mts\u001b[0m\u001b[1;33m.\u001b[0m\u001b[0m_ts_cpp\u001b[0m\u001b[1;33m.\u001b[0m\u001b[0mCKKSTensor\u001b[0m\u001b[1;33m(\u001b[0m\u001b[0mcontext\u001b[0m\u001b[1;33m.\u001b[0m\u001b[0mdata\u001b[0m\u001b[1;33m,\u001b[0m \u001b[0mtensor\u001b[0m\u001b[1;33m.\u001b[0m\u001b[0mdata\u001b[0m\u001b[1;33m,\u001b[0m \u001b[0mscale\u001b[0m\u001b[1;33m,\u001b[0m \u001b[0mbatch\u001b[0m\u001b[1;33m)\u001b[0m\u001b[1;33m\u001b[0m\u001b[1;33m\u001b[0m\u001b[0m\n",
      "\u001b[1;31mValueError\u001b[0m: can't encrypt vectors of this size, please use a larger polynomial modulus degree."
     ]
    }
   ],
   "source": [
    "start = time()\n",
    "matrix1 = np.random.randn(100000,3,3)\n",
    "matrix2 = np.random.randn(3,3)\n",
    "enc_matrix1 = ts.ckks_tensor(non_parallel_context,matrix1,batch=True)\n",
    "enc_matrix2 = ts.ckks_tensor(non_parallel_context,matrix2)\n",
    "product_result = enc_matrix1.dot(enc_matrix2).decrypt().tolist()\n",
    "product_expected = matrix1.dot(matrix2)\n",
    "end = time()\n",
    "\n",
    "print(f\"Time consumed : {end - start}\")\n",
    "\n"
   ]
  },
  {
   "cell_type": "markdown",
   "id": "cac03565",
   "metadata": {},
   "source": [
    "We see that when we are using a vector of 100000 the upper bound is surpassed so we need to increase the poly_modulus_degree parameter"
   ]
  },
  {
   "cell_type": "code",
   "execution_count": 220,
   "id": "ed2355fa",
   "metadata": {},
   "outputs": [],
   "source": [
    "non_parallel_context = ts.context(\n",
    "    ts.SCHEME_TYPE.CKKS,\n",
    "    poly_modulus_degree=16384,\n",
    "    coeff_mod_bit_sizes=[60, 40, 40, 60],\n",
    "#     n_threads=1,\n",
    "    n_threads=4,\n",
    "\n",
    ")\n",
    "non_parallel_context.global_scale = 2**40 # 2**80"
   ]
  },
  {
   "cell_type": "code",
   "execution_count": 221,
   "id": "113fc498",
   "metadata": {},
   "outputs": [
    {
     "ename": "ValueError",
     "evalue": "scale out of bounds",
     "output_type": "error",
     "traceback": [
      "\u001b[1;31m---------------------------------------------------------------------------\u001b[0m",
      "\u001b[1;31mValueError\u001b[0m                                Traceback (most recent call last)",
      "\u001b[1;32m~\\AppData\\Local\\Temp/ipykernel_12188/2186231927.py\u001b[0m in \u001b[0;36m<module>\u001b[1;34m\u001b[0m\n\u001b[0;32m      4\u001b[0m \u001b[0menc_matrix1\u001b[0m \u001b[1;33m=\u001b[0m \u001b[0mts\u001b[0m\u001b[1;33m.\u001b[0m\u001b[0mckks_tensor\u001b[0m\u001b[1;33m(\u001b[0m\u001b[0mnon_parallel_context\u001b[0m\u001b[1;33m,\u001b[0m\u001b[0mmatrix1\u001b[0m\u001b[1;33m,\u001b[0m\u001b[0mbatch\u001b[0m\u001b[1;33m=\u001b[0m\u001b[1;32mTrue\u001b[0m\u001b[1;33m)\u001b[0m\u001b[1;33m\u001b[0m\u001b[1;33m\u001b[0m\u001b[0m\n\u001b[0;32m      5\u001b[0m \u001b[0menc_matrix2\u001b[0m \u001b[1;33m=\u001b[0m \u001b[0mts\u001b[0m\u001b[1;33m.\u001b[0m\u001b[0mckks_tensor\u001b[0m\u001b[1;33m(\u001b[0m\u001b[0mnon_parallel_context\u001b[0m\u001b[1;33m,\u001b[0m\u001b[0mmatrix2\u001b[0m\u001b[1;33m)\u001b[0m\u001b[1;33m\u001b[0m\u001b[1;33m\u001b[0m\u001b[0m\n\u001b[1;32m----> 6\u001b[1;33m \u001b[0mproduct_result\u001b[0m \u001b[1;33m=\u001b[0m \u001b[0menc_matrix1\u001b[0m\u001b[1;33m.\u001b[0m\u001b[0mdot\u001b[0m\u001b[1;33m(\u001b[0m\u001b[0menc_matrix2\u001b[0m\u001b[1;33m)\u001b[0m\u001b[1;33m.\u001b[0m\u001b[0mdecrypt\u001b[0m\u001b[1;33m(\u001b[0m\u001b[1;33m)\u001b[0m\u001b[1;33m.\u001b[0m\u001b[0mtolist\u001b[0m\u001b[1;33m(\u001b[0m\u001b[1;33m)\u001b[0m\u001b[1;33m\u001b[0m\u001b[1;33m\u001b[0m\u001b[0m\n\u001b[0m\u001b[0;32m      7\u001b[0m \u001b[0mproduct_expected\u001b[0m \u001b[1;33m=\u001b[0m \u001b[0mmatrix1\u001b[0m\u001b[1;33m.\u001b[0m\u001b[0mdot\u001b[0m\u001b[1;33m(\u001b[0m\u001b[0mmatrix2\u001b[0m\u001b[1;33m)\u001b[0m\u001b[1;33m\u001b[0m\u001b[1;33m\u001b[0m\u001b[0m\n\u001b[0;32m      8\u001b[0m \u001b[0mend\u001b[0m \u001b[1;33m=\u001b[0m \u001b[0mtime\u001b[0m\u001b[1;33m(\u001b[0m\u001b[1;33m)\u001b[0m\u001b[1;33m\u001b[0m\u001b[1;33m\u001b[0m\u001b[0m\n",
      "\u001b[1;32m~\\Anaconda3\\lib\\site-packages\\tenseal\\tensors\\ckkstensor.py\u001b[0m in \u001b[0;36mdot\u001b[1;34m(self, other)\u001b[0m\n\u001b[0;32m    106\u001b[0m     \u001b[1;32mdef\u001b[0m \u001b[0mdot\u001b[0m\u001b[1;33m(\u001b[0m\u001b[0mself\u001b[0m\u001b[1;33m,\u001b[0m \u001b[0mother\u001b[0m\u001b[1;33m)\u001b[0m \u001b[1;33m->\u001b[0m \u001b[1;34m\"CKKSTensor\"\u001b[0m\u001b[1;33m:\u001b[0m\u001b[1;33m\u001b[0m\u001b[1;33m\u001b[0m\u001b[0m\n\u001b[0;32m    107\u001b[0m         \u001b[0mother\u001b[0m \u001b[1;33m=\u001b[0m \u001b[0mself\u001b[0m\u001b[1;33m.\u001b[0m\u001b[0m_get_operand\u001b[0m\u001b[1;33m(\u001b[0m\u001b[0mother\u001b[0m\u001b[1;33m,\u001b[0m \u001b[0mdtype\u001b[0m\u001b[1;33m=\u001b[0m\u001b[1;34m\"float\"\u001b[0m\u001b[1;33m)\u001b[0m\u001b[1;33m\u001b[0m\u001b[1;33m\u001b[0m\u001b[0m\n\u001b[1;32m--> 108\u001b[1;33m         \u001b[0mresult\u001b[0m \u001b[1;33m=\u001b[0m \u001b[0mself\u001b[0m\u001b[1;33m.\u001b[0m\u001b[0mdata\u001b[0m\u001b[1;33m.\u001b[0m\u001b[0mdot\u001b[0m\u001b[1;33m(\u001b[0m\u001b[0mother\u001b[0m\u001b[1;33m)\u001b[0m\u001b[1;33m\u001b[0m\u001b[1;33m\u001b[0m\u001b[0m\n\u001b[0m\u001b[0;32m    109\u001b[0m         \u001b[1;32mreturn\u001b[0m \u001b[0mself\u001b[0m\u001b[1;33m.\u001b[0m\u001b[0m_wrap\u001b[0m\u001b[1;33m(\u001b[0m\u001b[0mresult\u001b[0m\u001b[1;33m)\u001b[0m\u001b[1;33m\u001b[0m\u001b[1;33m\u001b[0m\u001b[0m\n\u001b[0;32m    110\u001b[0m \u001b[1;33m\u001b[0m\u001b[0m\n",
      "\u001b[1;31mValueError\u001b[0m: scale out of bounds"
     ]
    }
   ],
   "source": [
    "start = time()\n",
    "matrix1 = np.random.randn(1000,10,3)\n",
    "matrix2 = np.random.randn(3,3)\n",
    "enc_matrix1 = ts.ckks_tensor(non_parallel_context,matrix1,batch=True)\n",
    "enc_matrix2 = ts.ckks_tensor(non_parallel_context,matrix2)\n",
    "product_result = enc_matrix1.dot(enc_matrix2).decrypt().tolist()\n",
    "product_expected = matrix1.dot(matrix2)\n",
    "end = time()\n",
    "\n",
    "print(f\"Time consumed : {end - start}\")\n",
    "\n"
   ]
  },
  {
   "cell_type": "markdown",
   "id": "5b9c609c",
   "metadata": {},
   "source": [
    "We can see that when we increase the numbers of thread we increase the time of execution  "
   ]
  },
  {
   "cell_type": "markdown",
   "id": "e29847e6",
   "metadata": {},
   "source": [
    "When setting the scale to 2\\*\\*80 we have an error that says \"scale out of bounds\" so this scale is very large for our data , using 2**40 is quite perfect"
   ]
  },
  {
   "cell_type": "code",
   "execution_count": null,
   "id": "6ef4ee98",
   "metadata": {},
   "outputs": [],
   "source": []
  }
 ],
 "metadata": {
  "kernelspec": {
   "display_name": "Python 3 (ipykernel)",
   "language": "python",
   "name": "python3"
  },
  "language_info": {
   "codemirror_mode": {
    "name": "ipython",
    "version": 3
   },
   "file_extension": ".py",
   "mimetype": "text/x-python",
   "name": "python",
   "nbconvert_exporter": "python",
   "pygments_lexer": "ipython3",
   "version": "3.8.8"
  }
 },
 "nbformat": 4,
 "nbformat_minor": 5
}
