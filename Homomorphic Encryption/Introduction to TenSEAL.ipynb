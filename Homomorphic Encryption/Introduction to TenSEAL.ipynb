{
 "cells": [
  {
   "cell_type": "code",
   "execution_count": 2,
   "id": "cb7035f9",
   "metadata": {},
   "outputs": [
    {
     "name": "stdout",
     "output_type": "stream",
     "text": [
      "Collecting tenseal\n",
      "  Downloading tenseal-0.3.5-cp38-cp38-win_amd64.whl (2.1 MB)\n",
      "Installing collected packages: tenseal\n",
      "Successfully installed tenseal-0.3.5\n"
     ]
    }
   ],
   "source": [
    "#!pip install tenseal"
   ]
  },
  {
   "cell_type": "code",
   "execution_count": 3,
   "id": "1528664c",
   "metadata": {},
   "outputs": [],
   "source": [
    "import tenseal as ts"
   ]
  },
  {
   "cell_type": "code",
   "execution_count": 4,
   "id": "74bcf004",
   "metadata": {},
   "outputs": [],
   "source": [
    "#the context is required for doing computation on encrypted data , it contains a store for the keys and parameters..\n",
    "context = ts.context(ts.SCHEME_TYPE.CKKS, poly_modulus_degree = 8192, coeff_mod_bit_sizes =[60,40,40,60])"
   ]
  },
  {
   "cell_type": "code",
   "execution_count": 5,
   "id": "2869acb5",
   "metadata": {},
   "outputs": [],
   "source": [
    "secret_key = context.secret_key()"
   ]
  },
  {
   "cell_type": "code",
   "execution_count": 6,
   "id": "50c6377e",
   "metadata": {},
   "outputs": [],
   "source": [
    "import numpy as np "
   ]
  },
  {
   "cell_type": "code",
   "execution_count": 7,
   "id": "56b70e98",
   "metadata": {},
   "outputs": [
    {
     "data": {
      "text/plain": [
       "array([[-0.2227758 , -0.14943167, -1.12396358],\n",
       "       [ 1.11407594,  0.75550481,  0.53377665]])"
      ]
     },
     "execution_count": 7,
     "metadata": {},
     "output_type": "execute_result"
    }
   ],
   "source": [
    "plain_tensor = np.random.randn(2,3)\n",
    "plain_tensor"
   ]
  },
  {
   "cell_type": "code",
   "execution_count": 8,
   "id": "a57f5d44",
   "metadata": {},
   "outputs": [
    {
     "data": {
      "text/plain": [
       "<tenseal.tensors.ckkstensor.CKKSTensor at 0x2067fa51d60>"
      ]
     },
     "execution_count": 8,
     "metadata": {},
     "output_type": "execute_result"
    }
   ],
   "source": [
    "encrypted_tensor = ts.ckks_tensor(context,plain_tensor,scale=2**40)\n",
    "encrypted_tensor"
   ]
  },
  {
   "cell_type": "code",
   "execution_count": 9,
   "id": "5da987b3",
   "metadata": {},
   "outputs": [
    {
     "data": {
      "text/plain": [
       "<tenseal.tensors.ckkstensor.CKKSTensor at 0x2067fa65610>"
      ]
     },
     "execution_count": 9,
     "metadata": {},
     "output_type": "execute_result"
    }
   ],
   "source": [
    "# we can set the scale directly to the context that we are not obliged to set it every time we encrypt a tensor \n",
    "context.global_scale = 2 ** 40\n",
    "encrypted_tensor = ts.ckks_tensor(context , plain_tensor)\n",
    "encrypted_tensor"
   ]
  },
  {
   "cell_type": "code",
   "execution_count": 10,
   "id": "d020a277",
   "metadata": {},
   "outputs": [
    {
     "name": "stdout",
     "output_type": "stream",
     "text": [
      "<tenseal.tensors.plaintensor.PlainTensor object at 0x000002067FA65AC0>\n"
     ]
    }
   ],
   "source": [
    "print(encrypted_tensor.decrypt())"
   ]
  },
  {
   "cell_type": "markdown",
   "id": "9fd8d8e0",
   "metadata": {},
   "source": [
    "The PlainTensor object is a tensor that we mainly use internally to represent tensors with plain values. You can always call `tolist()` to convert it to a list."
   ]
  },
  {
   "cell_type": "code",
   "execution_count": 11,
   "id": "c55c9324",
   "metadata": {},
   "outputs": [
    {
     "name": "stdout",
     "output_type": "stream",
     "text": [
      "[[-0.22277580317842446, -0.14943167020861553, -1.1239635779208548], [1.114075937780588, 0.7555048142387518, 0.5337766501410985]]\n"
     ]
    }
   ],
   "source": [
    "print(encrypted_tensor.decrypt().tolist())"
   ]
  },
  {
   "cell_type": "code",
   "execution_count": 12,
   "id": "1291502e",
   "metadata": {},
   "outputs": [
    {
     "name": "stdout",
     "output_type": "stream",
     "text": [
      "2\n"
     ]
    }
   ],
   "source": [
    "print(encrypted_tensor.decrypt().size())"
   ]
  },
  {
   "cell_type": "code",
   "execution_count": 13,
   "id": "4e9b35c0",
   "metadata": {},
   "outputs": [
    {
     "name": "stdout",
     "output_type": "stream",
     "text": [
      "[[-0.2227758  -0.14943167 -1.12396358]\n",
      " [ 1.11407594  0.75550481  0.53377665]]\n"
     ]
    }
   ],
   "source": [
    "print(plain_tensor)"
   ]
  },
  {
   "cell_type": "markdown",
   "id": "757d6f47",
   "metadata": {},
   "source": [
    " # Computation and Evaluation"
   ]
  },
  {
   "cell_type": "code",
   "execution_count": 14,
   "id": "9b4e1fef",
   "metadata": {},
   "outputs": [],
   "source": [
    "encrypted_result = (encrypted_tensor + 2) *3 - plain_tensor"
   ]
  },
  {
   "cell_type": "code",
   "execution_count": 15,
   "id": "b56b2cb8",
   "metadata": {},
   "outputs": [],
   "source": [
    "expected_result = (plain_tensor +2)*3 - plain_tensor"
   ]
  },
  {
   "cell_type": "code",
   "execution_count": 16,
   "id": "3e25381d",
   "metadata": {},
   "outputs": [
    {
     "data": {
      "text/plain": [
       "array([[5.5544484 , 5.70113666, 3.75207284],\n",
       "       [8.22815188, 7.51100962, 7.0675533 ]])"
      ]
     },
     "execution_count": 16,
     "metadata": {},
     "output_type": "execute_result"
    }
   ],
   "source": [
    "expected_result"
   ]
  },
  {
   "cell_type": "code",
   "execution_count": 17,
   "id": "2b485edd",
   "metadata": {},
   "outputs": [
    {
     "name": "stdout",
     "output_type": "stream",
     "text": [
      "[[5.554449104650813, 5.701137405838133, 3.7520731955968327], [8.228153126679763, 7.511010740315953, 7.067554320976842]]\n"
     ]
    }
   ],
   "source": [
    "print(encrypted_result.decrypt().tolist())"
   ]
  },
  {
   "cell_type": "code",
   "execution_count": 18,
   "id": "70c5f82b",
   "metadata": {},
   "outputs": [
    {
     "name": "stdout",
     "output_type": "stream",
     "text": [
      "result : -0.21826350465142294\n",
      "expected result : -0.21826347941802166\n",
      "[ 0.45366921 -0.04392263  0.41506866]\n",
      "[-0.03039485  3.06965999 -0.16779566]\n"
     ]
    }
   ],
   "source": [
    "vector1 = np.random.randn(3)\n",
    "vector2 = np.random.randn(3)\n",
    "enc_vec1 = ts.ckks_tensor(context,vector1)\n",
    "enc_vec2 = ts.ckks_tensor(context,vector2)\n",
    "print(f\"result : {enc_vec1.dot(enc_vec2).decrypt().tolist()}\")\n",
    "print(f\"expected result : {vector1.dot(vector2)}\")\n",
    "print(vector1)\n",
    "print(vector2)"
   ]
  },
  {
   "cell_type": "code",
   "execution_count": 19,
   "id": "b807f370",
   "metadata": {},
   "outputs": [
    {
     "name": "stdout",
     "output_type": "stream",
     "text": [
      "result : \n",
      "\t[[-1.1261016027490185, -0.01940442610157196, -0.16944022770130393], [-0.08458759294458273, 0.3654973186526257, -0.37304166993013915], [-0.1788734885329819, -0.19370956551046528, -1.9348053085616406]]\n",
      "\n",
      "expected result : \n",
      "\t[[-1.12610145 -0.01940442 -0.16944021]\n",
      " [-0.08458758  0.36549727 -0.37304162]\n",
      " [-0.17887346 -0.19370954 -1.93480505]]\n"
     ]
    }
   ],
   "source": [
    "matrix1 = np.random.randn(3,3)\n",
    "matrix2 = np.random.randn(3,3)\n",
    "enc_matrix1 = ts.ckks_tensor(context,matrix1)\n",
    "enc_matrix2 = ts.ckks_tensor(context,matrix2)\n",
    "print(f\"result : \\n\\t{(enc_matrix1 * enc_matrix2).decrypt().tolist()}\")\n",
    "print(f\"\\nexpected result : \\n\\t{matrix1 * matrix2}\")"
   ]
  },
  {
   "cell_type": "markdown",
   "id": "50006214",
   "metadata": {},
   "source": [
    "## Batch Computation"
   ]
  },
  {
   "cell_type": "code",
   "execution_count": 21,
   "id": "218402e9",
   "metadata": {},
   "outputs": [
    {
     "name": "stdout",
     "output_type": "stream",
     "text": [
      "result : [[-4.367687711694227, -0.832844197917686, -2.7838126028727253], [2.607482391280361, 0.2615827155551822, 1.5119430999202104], [-2.1341662858274355, -0.8209926756804959, -0.9785198944069657]]\n",
      "expected result : [[-4.36768713 -0.83284408 -2.78381223]\n",
      " [ 2.60748205  0.26158268  1.5119429 ]\n",
      " [-2.134166   -0.82099257 -0.97851976]]\n"
     ]
    }
   ],
   "source": [
    "# a single ciphertext can hold up to `poly_modulus_degree / 2` values\n",
    "# so let's use all the slots available\n",
    "batch_size= 8192 //2\n",
    "mat1 = np.random.randn(batch_size , 3,3)\n",
    "mat2 =np.random.randn(3,3)\n",
    "# batch is by default set to False, we have to turn it on to use the packing feature of ciphertexts\n",
    "enc_mat1 = ts.ckks_tensor(context,mat1,batch=True)\n",
    "enc_mat2 = ts.ckks_tensor(context,mat2)\n",
    "print(f\"result : {enc_mat1.dot(enc_mat2).decrypt().tolist()[0]}\")\n",
    "print(f\"expected result : {mat1.dot(mat2)[0]}\")\n",
    "\n",
    "#when we st batch=False , it take more time to compute the results then when we enable it \n",
    "\n",
    "\n"
   ]
  },
  {
   "cell_type": "code",
   "execution_count": 22,
   "id": "f7205dcd",
   "metadata": {},
   "outputs": [],
   "source": [
    "# TenSEAL use the parelle computation of the computer systeme by default but we can modiying it when creating the context\n",
    "non_parallel_context = ts.context(\n",
    "    ts.SCHEME_TYPE.CKKS,\n",
    "    poly_modulus_degree=8192,\n",
    "    coeff_mod_bit_sizes=[60, 40, 40, 60],\n",
    "    n_threads=1,\n",
    ")"
   ]
  },
  {
   "cell_type": "code",
   "execution_count": 23,
   "id": "3bbcaf1e",
   "metadata": {},
   "outputs": [],
   "source": [
    "# for the Decryption, the context make all the keys private , we can turn it to public but we must save the key for the decryption\n",
    "sk = context.secret_key()\n",
    "context.make_context_public()\n",
    "# by making the context public we dropped the secret key from it, so for the next decryption we need to pass it "
   ]
  },
  {
   "cell_type": "code",
   "execution_count": 24,
   "id": "42705b86",
   "metadata": {},
   "outputs": [
    {
     "ename": "ValueError",
     "evalue": "the current context of the tensor doesn't hold a secret_key, please provide one as argument",
     "output_type": "error",
     "traceback": [
      "\u001b[1;31m---------------------------------------------------------------------------\u001b[0m",
      "\u001b[1;31mValueError\u001b[0m                                Traceback (most recent call last)",
      "\u001b[1;32m~\\AppData\\Local\\Temp/ipykernel_12188/2835678708.py\u001b[0m in \u001b[0;36m<module>\u001b[1;34m\u001b[0m\n\u001b[1;32m----> 1\u001b[1;33m \u001b[0menc_mat1\u001b[0m\u001b[1;33m.\u001b[0m\u001b[0mdecrypt\u001b[0m\u001b[1;33m(\u001b[0m\u001b[1;33m)\u001b[0m\u001b[1;33m\u001b[0m\u001b[1;33m\u001b[0m\u001b[0m\n\u001b[0m",
      "\u001b[1;32m~\\Anaconda3\\lib\\site-packages\\tenseal\\tensors\\ckkstensor.py\u001b[0m in \u001b[0;36mdecrypt\u001b[1;34m(self, secret_key)\u001b[0m\n\u001b[0;32m     53\u001b[0m \u001b[1;33m\u001b[0m\u001b[0m\n\u001b[0;32m     54\u001b[0m     \u001b[1;32mdef\u001b[0m \u001b[0mdecrypt\u001b[0m\u001b[1;33m(\u001b[0m\u001b[0mself\u001b[0m\u001b[1;33m,\u001b[0m \u001b[0msecret_key\u001b[0m\u001b[1;33m:\u001b[0m \u001b[1;34m\"ts.enc_context.SecretKey\"\u001b[0m \u001b[1;33m=\u001b[0m \u001b[1;32mNone\u001b[0m\u001b[1;33m)\u001b[0m \u001b[1;33m->\u001b[0m \u001b[1;34m\"ts.PlainTensor\"\u001b[0m\u001b[1;33m:\u001b[0m\u001b[1;33m\u001b[0m\u001b[1;33m\u001b[0m\u001b[0m\n\u001b[1;32m---> 55\u001b[1;33m         \u001b[0mpt\u001b[0m \u001b[1;33m=\u001b[0m \u001b[0mself\u001b[0m\u001b[1;33m.\u001b[0m\u001b[0m_decrypt\u001b[0m\u001b[1;33m(\u001b[0m\u001b[0msecret_key\u001b[0m\u001b[1;33m=\u001b[0m\u001b[0msecret_key\u001b[0m\u001b[1;33m)\u001b[0m\u001b[1;33m\u001b[0m\u001b[1;33m\u001b[0m\u001b[0m\n\u001b[0m\u001b[0;32m     56\u001b[0m         \u001b[1;32mreturn\u001b[0m \u001b[0mts\u001b[0m\u001b[1;33m.\u001b[0m\u001b[0mPlainTensor\u001b[0m\u001b[1;33m(\u001b[0m\u001b[0mpt\u001b[0m\u001b[1;33m.\u001b[0m\u001b[0mdata\u001b[0m\u001b[1;33m(\u001b[0m\u001b[1;33m)\u001b[0m\u001b[1;33m,\u001b[0m \u001b[0mshape\u001b[0m\u001b[1;33m=\u001b[0m\u001b[0mpt\u001b[0m\u001b[1;33m.\u001b[0m\u001b[0mshape\u001b[0m\u001b[1;33m(\u001b[0m\u001b[1;33m)\u001b[0m\u001b[1;33m,\u001b[0m \u001b[0mdtype\u001b[0m\u001b[1;33m=\u001b[0m\u001b[1;34m\"float\"\u001b[0m\u001b[1;33m)\u001b[0m\u001b[1;33m\u001b[0m\u001b[1;33m\u001b[0m\u001b[0m\n\u001b[0;32m     57\u001b[0m \u001b[1;33m\u001b[0m\u001b[0m\n",
      "\u001b[1;32m~\\Anaconda3\\lib\\site-packages\\tenseal\\tensors\\abstract_tensor.py\u001b[0m in \u001b[0;36m_decrypt\u001b[1;34m(self, secret_key)\u001b[0m\n\u001b[0;32m     83\u001b[0m     ) -> Union[ts._ts_cpp.PlainTensorDouble, ts._ts_cpp.PlainTensorInt64, List[float], List[int]]:\n\u001b[0;32m     84\u001b[0m         \u001b[1;32mif\u001b[0m \u001b[0msecret_key\u001b[0m \u001b[1;32mis\u001b[0m \u001b[1;32mNone\u001b[0m\u001b[1;33m:\u001b[0m\u001b[1;33m\u001b[0m\u001b[1;33m\u001b[0m\u001b[0m\n\u001b[1;32m---> 85\u001b[1;33m             \u001b[1;32mreturn\u001b[0m \u001b[0mself\u001b[0m\u001b[1;33m.\u001b[0m\u001b[0mdata\u001b[0m\u001b[1;33m.\u001b[0m\u001b[0mdecrypt\u001b[0m\u001b[1;33m(\u001b[0m\u001b[1;33m)\u001b[0m\u001b[1;33m\u001b[0m\u001b[1;33m\u001b[0m\u001b[0m\n\u001b[0m\u001b[0;32m     86\u001b[0m         \u001b[1;32melif\u001b[0m \u001b[0misinstance\u001b[0m\u001b[1;33m(\u001b[0m\u001b[0msecret_key\u001b[0m\u001b[1;33m,\u001b[0m \u001b[0mts\u001b[0m\u001b[1;33m.\u001b[0m\u001b[0menc_context\u001b[0m\u001b[1;33m.\u001b[0m\u001b[0mSecretKey\u001b[0m\u001b[1;33m)\u001b[0m\u001b[1;33m:\u001b[0m\u001b[1;33m\u001b[0m\u001b[1;33m\u001b[0m\u001b[0m\n\u001b[0;32m     87\u001b[0m             \u001b[1;32mreturn\u001b[0m \u001b[0mself\u001b[0m\u001b[1;33m.\u001b[0m\u001b[0mdata\u001b[0m\u001b[1;33m.\u001b[0m\u001b[0mdecrypt\u001b[0m\u001b[1;33m(\u001b[0m\u001b[0msecret_key\u001b[0m\u001b[1;33m.\u001b[0m\u001b[0mdata\u001b[0m\u001b[1;33m)\u001b[0m\u001b[1;33m\u001b[0m\u001b[1;33m\u001b[0m\u001b[0m\n",
      "\u001b[1;31mValueError\u001b[0m: the current context of the tensor doesn't hold a secret_key, please provide one as argument"
     ]
    }
   ],
   "source": [
    "enc_mat1.decrypt()"
   ]
  },
  {
   "cell_type": "markdown",
   "id": "3d5fde54",
   "metadata": {},
   "source": [
    "the Decryption does not work and that because the context does not have a secret key"
   ]
  },
  {
   "cell_type": "code",
   "execution_count": 27,
   "id": "35f1362f",
   "metadata": {},
   "outputs": [
    {
     "data": {
      "text/plain": [
       "<tenseal.tensors.plaintensor.PlainTensor at 0x206262707c0>"
      ]
     },
     "execution_count": 27,
     "metadata": {},
     "output_type": "execute_result"
    }
   ],
   "source": [
    "enc_mat1.decrypt(sk)\n"
   ]
  },
  {
   "cell_type": "markdown",
   "id": "b3c24ca4",
   "metadata": {},
   "source": [
    "You should always make a context public before sending it to other parties to compute on encrypted data."
   ]
  },
  {
   "cell_type": "markdown",
   "id": "e8c84b40",
   "metadata": {},
   "source": [
    "# Serialization\n",
    "\n",
    "if we want to send encrypted data or the context we can use the serialize method, every sendable object can be serializable via the serrialize method  "
   ]
  },
  {
   "cell_type": "code",
   "execution_count": 28,
   "id": "834c4067",
   "metadata": {},
   "outputs": [
    {
     "data": {
      "text/plain": [
       "bytes"
      ]
     },
     "execution_count": 28,
     "metadata": {},
     "output_type": "execute_result"
    }
   ],
   "source": [
    "ser_context = context.serialize()\n",
    "type(ser_context)"
   ]
  },
  {
   "cell_type": "code",
   "execution_count": 34,
   "id": "eb08b5e6",
   "metadata": {},
   "outputs": [
    {
     "data": {
      "text/plain": [
       "bytes"
      ]
     },
     "execution_count": 34,
     "metadata": {},
     "output_type": "execute_result"
    }
   ],
   "source": [
    "ser_tensor = encrypted_tensor.serialize()\n",
    "type(ser_tensor)"
   ]
  },
  {
   "cell_type": "markdown",
   "id": "aae91818",
   "metadata": {},
   "source": [
    "there is also a method for deszeialization the context "
   ]
  },
  {
   "cell_type": "code",
   "execution_count": 39,
   "id": "6d426450",
   "metadata": {},
   "outputs": [
    {
     "data": {
      "text/plain": [
       "<tenseal.enc_context.Context at 0x20625c172b0>"
      ]
     },
     "execution_count": 39,
     "metadata": {},
     "output_type": "execute_result"
    }
   ],
   "source": [
    "loadded_context = ts.context_from(ser_context)\n",
    "loadded_context "
   ]
  },
  {
   "cell_type": "markdown",
   "id": "9a31bc5d",
   "metadata": {},
   "source": [
    "the tensors must be linked to a context to work properly and this is using the method below"
   ]
  },
  {
   "cell_type": "code",
   "execution_count": 42,
   "id": "26b43c66",
   "metadata": {},
   "outputs": [
    {
     "data": {
      "text/plain": [
       "<tenseal.tensors.ckkstensor.CKKSTensor at 0x20625c17c70>"
      ]
     },
     "execution_count": 42,
     "metadata": {},
     "output_type": "execute_result"
    }
   ],
   "source": [
    "loadded_tensors = ts.ckks_tensor_from(loadded_context,ser_tensor)\n",
    "loadded_tensors"
   ]
  },
  {
   "cell_type": "markdown",
   "id": "dbdfa131",
   "metadata": {},
   "source": [
    "However, there is also a way to do it the lazy way, deserializing, then linking it to a specific context"
   ]
  },
  {
   "cell_type": "code",
   "execution_count": 45,
   "id": "307d82f2",
   "metadata": {},
   "outputs": [
    {
     "ename": "ValueError",
     "evalue": "missing context",
     "output_type": "error",
     "traceback": [
      "\u001b[1;31m---------------------------------------------------------------------------\u001b[0m",
      "\u001b[1;31mValueError\u001b[0m                                Traceback (most recent call last)",
      "\u001b[1;32m~\\AppData\\Local\\Temp/ipykernel_12188/652677395.py\u001b[0m in \u001b[0;36m<module>\u001b[1;34m\u001b[0m\n\u001b[0;32m      1\u001b[0m \u001b[0mlazy_loadded_tensor\u001b[0m \u001b[1;33m=\u001b[0m \u001b[0mts\u001b[0m\u001b[1;33m.\u001b[0m\u001b[0mlazy_ckks_tensor_from\u001b[0m\u001b[1;33m(\u001b[0m\u001b[0mser_tensor\u001b[0m\u001b[1;33m)\u001b[0m\u001b[1;33m\u001b[0m\u001b[1;33m\u001b[0m\u001b[0m\n\u001b[1;32m----> 2\u001b[1;33m \u001b[0mlazy_loadded_tensor\u001b[0m \u001b[1;33m+\u001b[0m \u001b[1;36m5\u001b[0m\u001b[1;33m\u001b[0m\u001b[1;33m\u001b[0m\u001b[0m\n\u001b[0m",
      "\u001b[1;32m~\\Anaconda3\\lib\\site-packages\\tenseal\\tensors\\abstract_tensor.py\u001b[0m in \u001b[0;36m__add__\u001b[1;34m(self, other)\u001b[0m\n\u001b[0;32m    105\u001b[0m \u001b[1;33m\u001b[0m\u001b[0m\n\u001b[0;32m    106\u001b[0m     \u001b[1;32mdef\u001b[0m \u001b[0m__add__\u001b[0m\u001b[1;33m(\u001b[0m\u001b[0mself\u001b[0m\u001b[1;33m,\u001b[0m \u001b[0mother\u001b[0m\u001b[1;33m)\u001b[0m \u001b[1;33m->\u001b[0m \u001b[1;34m\"AbstractTensor\"\u001b[0m\u001b[1;33m:\u001b[0m\u001b[1;33m\u001b[0m\u001b[1;33m\u001b[0m\u001b[0m\n\u001b[1;32m--> 107\u001b[1;33m         \u001b[1;32mreturn\u001b[0m \u001b[0mself\u001b[0m\u001b[1;33m.\u001b[0m\u001b[0madd\u001b[0m\u001b[1;33m(\u001b[0m\u001b[0mother\u001b[0m\u001b[1;33m)\u001b[0m\u001b[1;33m\u001b[0m\u001b[1;33m\u001b[0m\u001b[0m\n\u001b[0m\u001b[0;32m    108\u001b[0m \u001b[1;33m\u001b[0m\u001b[0m\n\u001b[0;32m    109\u001b[0m     \u001b[1;32mdef\u001b[0m \u001b[0m__iadd__\u001b[0m\u001b[1;33m(\u001b[0m\u001b[0mself\u001b[0m\u001b[1;33m,\u001b[0m \u001b[0mother\u001b[0m\u001b[1;33m)\u001b[0m \u001b[1;33m->\u001b[0m \u001b[1;34m\"AbstractTensor\"\u001b[0m\u001b[1;33m:\u001b[0m\u001b[1;33m\u001b[0m\u001b[1;33m\u001b[0m\u001b[0m\n",
      "\u001b[1;32m~\\Anaconda3\\lib\\site-packages\\tenseal\\tensors\\ckkstensor.py\u001b[0m in \u001b[0;36madd\u001b[1;34m(self, other)\u001b[0m\n\u001b[0;32m     76\u001b[0m     \u001b[1;32mdef\u001b[0m \u001b[0madd\u001b[0m\u001b[1;33m(\u001b[0m\u001b[0mself\u001b[0m\u001b[1;33m,\u001b[0m \u001b[0mother\u001b[0m\u001b[1;33m)\u001b[0m \u001b[1;33m->\u001b[0m \u001b[1;34m\"CKKSTensor\"\u001b[0m\u001b[1;33m:\u001b[0m\u001b[1;33m\u001b[0m\u001b[1;33m\u001b[0m\u001b[0m\n\u001b[0;32m     77\u001b[0m         \u001b[0mother\u001b[0m \u001b[1;33m=\u001b[0m \u001b[0mself\u001b[0m\u001b[1;33m.\u001b[0m\u001b[0m_get_operand\u001b[0m\u001b[1;33m(\u001b[0m\u001b[0mother\u001b[0m\u001b[1;33m,\u001b[0m \u001b[0mdtype\u001b[0m\u001b[1;33m=\u001b[0m\u001b[1;34m\"float\"\u001b[0m\u001b[1;33m)\u001b[0m\u001b[1;33m\u001b[0m\u001b[1;33m\u001b[0m\u001b[0m\n\u001b[1;32m---> 78\u001b[1;33m         \u001b[0mresult\u001b[0m \u001b[1;33m=\u001b[0m \u001b[0mself\u001b[0m\u001b[1;33m.\u001b[0m\u001b[0mdata\u001b[0m \u001b[1;33m+\u001b[0m \u001b[0mother\u001b[0m\u001b[1;33m\u001b[0m\u001b[1;33m\u001b[0m\u001b[0m\n\u001b[0m\u001b[0;32m     79\u001b[0m         \u001b[1;32mreturn\u001b[0m \u001b[0mself\u001b[0m\u001b[1;33m.\u001b[0m\u001b[0m_wrap\u001b[0m\u001b[1;33m(\u001b[0m\u001b[0mresult\u001b[0m\u001b[1;33m)\u001b[0m\u001b[1;33m\u001b[0m\u001b[1;33m\u001b[0m\u001b[0m\n\u001b[0;32m     80\u001b[0m \u001b[1;33m\u001b[0m\u001b[0m\n",
      "\u001b[1;31mValueError\u001b[0m: missing context"
     ]
    }
   ],
   "source": [
    "lazy_loadded_tensor = ts.lazy_ckks_tensor_from(ser_tensor)\n",
    "lazy_loadded_tensor + 5"
   ]
  },
  {
   "cell_type": "markdown",
   "id": "9ebb4ab6",
   "metadata": {},
   "source": [
    "we see that we are not able to manipulate the tensor because it's not linked to a context, so linking the tensor to a context is an obligation for working with the tensors"
   ]
  },
  {
   "cell_type": "code",
   "execution_count": 46,
   "id": "3ad54a0f",
   "metadata": {},
   "outputs": [],
   "source": [
    "lazy_loadded_tensor.link_context(loadded_context)\n"
   ]
  },
  {
   "cell_type": "code",
   "execution_count": 47,
   "id": "39e58941",
   "metadata": {},
   "outputs": [
    {
     "data": {
      "text/plain": [
       "<tenseal.tensors.ckkstensor.CKKSTensor at 0x20625aeab20>"
      ]
     },
     "execution_count": 47,
     "metadata": {},
     "output_type": "execute_result"
    }
   ],
   "source": [
    "lazy_loadded_tensor + 5"
   ]
  },
  {
   "cell_type": "code",
   "execution_count": null,
   "id": "284275aa",
   "metadata": {},
   "outputs": [],
   "source": []
  }
 ],
 "metadata": {
  "kernelspec": {
   "display_name": "Python 3 (ipykernel)",
   "language": "python",
   "name": "python3"
  },
  "language_info": {
   "codemirror_mode": {
    "name": "ipython",
    "version": 3
   },
   "file_extension": ".py",
   "mimetype": "text/x-python",
   "name": "python",
   "nbconvert_exporter": "python",
   "pygments_lexer": "ipython3",
   "version": "3.8.8"
  }
 },
 "nbformat": 4,
 "nbformat_minor": 5
}
