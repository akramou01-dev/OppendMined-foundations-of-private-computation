{
 "cells": [
  {
   "cell_type": "code",
   "execution_count": 1,
   "id": "2e94eb8f",
   "metadata": {},
   "outputs": [],
   "source": [
    "from crypto import bytes_to_bin,bytes_to_hex"
   ]
  },
  {
   "cell_type": "code",
   "execution_count": 6,
   "id": "fc90b5d6",
   "metadata": {},
   "outputs": [
    {
     "name": "stdout",
     "output_type": "stream",
     "text": [
      "message in bytes : \n",
      "\tb'Hello World'\n",
      "\tlen bytes : 11 \n",
      "message in binary : \n",
      "\t0100100001100101011011000110110001101111001000000101011101101111011100100110110001100100\n",
      "\t len binary : 88\n",
      "message in hexadicimal :\n",
      "\t48656c6c6f20576f726c64\n",
      "\tlen hex : 22\n"
     ]
    }
   ],
   "source": [
    "message =b\"Hello World\" \n",
    "msg_bin = bytes_to_bin(message,pre=\"\")\n",
    "msg_hex = bytes_to_hex(message,pre=\"\")\n",
    "\n",
    "print(f'message in bytes : \\n\\t{message}\\n\\tlen bytes : {len(message)} ')\n",
    "print(f\"message in binary : \\n\\t{msg_bin}\\n\\t len binary : {len(msg_bin)}\")\n",
    "print(f\"message in hexadicimal :\\n\\t{msg_hex}\\n\\tlen hex : {len(msg_hex)}\")"
   ]
  },
  {
   "cell_type": "code",
   "execution_count": 7,
   "id": "125fc56b",
   "metadata": {},
   "outputs": [],
   "source": [
    "from random import randrange"
   ]
  },
  {
   "cell_type": "code",
   "execution_count": 30,
   "id": "2123ec89",
   "metadata": {},
   "outputs": [
    {
     "name": "stdout",
     "output_type": "stream",
     "text": [
      "172 191\n",
      "\n",
      "10101100\n",
      "10111111\n",
      "ac bf\n",
      "\n",
      "19\n"
     ]
    }
   ],
   "source": [
    "a = randrange(256)\n",
    "b = randrange(256)\n",
    "print(a,b)\n",
    "print()\n",
    "print(bin(a)[2:])\n",
    "print(bin(b)[2:])\n",
    "print(hex(a)[2:],hex(b)[2:])\n",
    "print()\n",
    "print(a^b)"
   ]
  },
  {
   "cell_type": "code",
   "execution_count": 31,
   "id": "9557baa5",
   "metadata": {},
   "outputs": [],
   "source": [
    "import random"
   ]
  },
  {
   "cell_type": "code",
   "execution_count": 50,
   "id": "18843cc3",
   "metadata": {},
   "outputs": [
    {
     "name": "stdout",
     "output_type": "stream",
     "text": [
      "[16, 219, 247, 7, 105, 236, 251, 142, 82, 17, 250, 167, 38, 127, 184, 22, 215, 71, 181, 195]\n",
      "[16, 219, 247, 7, 105, 236, 251, 142, 82, 17, 250, 167, 38, 127, 184, 22, 215, 71, 181, 195]\n"
     ]
    }
   ],
   "source": [
    "random.seed(10)\n",
    "state = random.getstate()\n",
    "print([random.randrange(256) for _ in range(20)])\n",
    "# we reset the same state as the first attempt and we are going to have the same numbers\n",
    "random.setstate(state)\n",
    "\n",
    "print([random.randrange(256) for _ in range(20)])\n"
   ]
  },
  {
   "cell_type": "code",
   "execution_count": 92,
   "id": "4e57f8b2",
   "metadata": {},
   "outputs": [],
   "source": [
    "def PseudoRandomBytes(state,l): \n",
    "    random.setstate(state)\n",
    "    prng = []\n",
    "    for i in range(l): \n",
    "        prng.append(hex(randrange(256)))\n",
    "    return random.getstate(),bytes([int(x,0) for x in prng])\n",
    "    "
   ]
  },
  {
   "cell_type": "code",
   "execution_count": 93,
   "id": "da7b708c",
   "metadata": {},
   "outputs": [],
   "source": [
    "from crypto import hexadecimal"
   ]
  },
  {
   "cell_type": "code",
   "execution_count": 94,
   "id": "c4ed8dbb",
   "metadata": {},
   "outputs": [
    {
     "name": "stdout",
     "output_type": "stream",
     "text": [
      "b'\\xea\\xc6c1\\xddN\\x15_a\\xdb\\xb8\\xc0\\x19\\x1aT'\n"
     ]
    }
   ],
   "source": [
    "state = random.getstate()\n",
    "new_state , prng_numbers = PseudoRandomBytes(state,15)\n",
    "print(prng_numbers)"
   ]
  },
  {
   "cell_type": "code",
   "execution_count": 211,
   "id": "779d8343",
   "metadata": {},
   "outputs": [],
   "source": [
    "class Party: \n",
    "    def __init__(self,name,state): \n",
    "        self.name = name \n",
    "        self.state  = state\n",
    "    def encrypt_decrypt(self,message):\n",
    "        new_state, random_bytes = PseudoRandomBytes(self.state,len(message))\n",
    "        self.state = new_state\n",
    "        return bytes([a^b for a , b in zip(message,random_bytes)])\n",
    "        "
   ]
  },
  {
   "cell_type": "code",
   "execution_count": 212,
   "id": "9f6d645c",
   "metadata": {},
   "outputs": [],
   "source": [
    "state = random.getstate()\n",
    "alice = Party(\"alice\",state)\n",
    "bob = Party(\"bob\",state)"
   ]
  },
  {
   "cell_type": "code",
   "execution_count": 206,
   "id": "56e87eb2",
   "metadata": {},
   "outputs": [
    {
     "name": "stdout",
     "output_type": "stream",
     "text": [
      "b'T\\xb3\\xdd\\x05\\xfc\\xb8Q\\x81][\\xd8\\x1eU\\xc9V\\xd1\\x01\\xb59\\xe0TB\\x89' b'\\xa2\\xc9\\xdc>\\x7f\\xb8\\xcb\\x8e\\xd5\\x04*\\xe2\\xe4.\\x0e\\x92i;\\xaeA\\xfbhLR\\xe6\\x8b`\\xf6\\xbfj\\x7fj\\x7f\\x05k\\x0c)\\xf0\\xb3'\n",
      "b'Hey alice how are you ?'\n"
     ]
    }
   ],
   "source": [
    "message = b\"Hey alice how are you ?\"\n",
    "cipher_text = bob.encrypt_decrypt(message)\n",
    "bob.encrypt_decrypt(b'I want to meet you if u are available')\n",
    "print(cipher_text,cipher_text1)\n",
    "m = alice.encrypt_decrypt(cipher_text)\n",
    "print(m)\n"
   ]
  },
  {
   "cell_type": "code",
   "execution_count": 207,
   "id": "95fbceb3",
   "metadata": {},
   "outputs": [
    {
     "name": "stdout",
     "output_type": "stream",
     "text": [
      "b'\\xe6L\\xb5%Zt|_\\x8dL\\x03\\xf5\\\\\\xc9O\\x94\\xc4\\xd4\\xf7\\xc0\\x02\\x8ap\\x16\\x08\\x9b\\xf1E'\n"
     ]
    }
   ],
   "source": [
    "message = b'Hey bob, i am fine and you !'\n",
    "cipher_text = alice.encrypt_decrypt(message)\n",
    "m= bob.encrypt_decrypt(cipher_text)\n",
    "print(m)"
   ]
  },
  {
   "cell_type": "code",
   "execution_count": 195,
   "id": "87be022f",
   "metadata": {},
   "outputs": [
    {
     "data": {
      "text/plain": [
       "True"
      ]
     },
     "execution_count": 195,
     "metadata": {},
     "output_type": "execute_result"
    }
   ],
   "source": [
    "alice.state==bob.state"
   ]
  },
  {
   "cell_type": "code",
   "execution_count": 220,
   "id": "b171af21",
   "metadata": {},
   "outputs": [
    {
     "name": "stdout",
     "output_type": "stream",
     "text": [
      "b'\\x86\\xb1\\xe2\\xce\\xa2\\x9c\\xfa\\xfe\\xa7\\x06\\xfcd\\x9f\\xfe1\\xcb\\x13S\\xaaH\\xfd\\x05n'\n",
      "b\"v\\xaaA\\xa5\\\\L\\xd1\\xde\\xb9\\x9b\\x9c-&'\\xc5}\\x00\\x06\\xea\\xe8\\x7f\\x18\\x99\\xf1U\\x98>\\xa2-\\xfc\\x17y\"\n"
     ]
    }
   ],
   "source": [
    "message = b\"Hey alice how are you ?\"\n",
    "cipher_text = bob.encrypt_decrypt(message)\n",
    "cipher_text2 =bob.encrypt_decrypt(b\"Are ou available for a meeting ?\")\n",
    "bob.encrypt_decrypt(b\"Are ou available for a meeting ?\")\n",
    "print(alice.encrypt_decrypt(cipher_text))\n",
    "print(alice.encrypt_decrypt(cipher_text2))\n"
   ]
  },
  {
   "cell_type": "markdown",
   "id": "ea4be325",
   "metadata": {},
   "source": [
    "On remarque que si y'aura un décalage dans les message (genre bob crypte 3 message mais alice decrypte que 2 message ) alors le state ne sera pas le meme dans les 2 coté et du coup on aura pas un cryptage correcte"
   ]
  },
  {
   "cell_type": "markdown",
   "id": "5488d34c",
   "metadata": {},
   "source": [
    "# The ChaCha20 Stream Cipher"
   ]
  },
  {
   "cell_type": "markdown",
   "id": "003c74be",
   "metadata": {},
   "source": [
    "we are going to use the ChaCha20 stram cipher and the cryptography library"
   ]
  },
  {
   "cell_type": "code",
   "execution_count": 288,
   "id": "ea27ab8e",
   "metadata": {},
   "outputs": [],
   "source": [
    "import os\n",
    "from cryptography.hazmat.primitives.ciphers import Cipher, algorithms, modes\n",
    "from cryptography.hazmat.backends import default_backend\n",
    "    \n",
    "    \n",
    "secret_key= os.urandom(32)\n",
    "nonce = os.urandom(16)\n",
    "#nonce = number used once : il est utiliser pour rendre le randomisation plus sure et faisant plus de randome sur le caractere ou le cipher text\n",
    "# le nonce est utilisé seuelement une fois lors de la communication\n",
    "algo = algorithms.ChaCha20(secret_key,nonce)\n",
    "chachacipher = Cipher(algo,mode=None,backend=default_backend())\n",
    "encryptor = chachacipher.encryptor()\n",
    "decryptor = chachacipher.decryptor()\n",
    "\n",
    "\n",
    "\n",
    "\n"
   ]
  },
  {
   "cell_type": "code",
   "execution_count": 289,
   "id": "9b153e6d",
   "metadata": {},
   "outputs": [
    {
     "name": "stdout",
     "output_type": "stream",
     "text": [
      "Originale message is : b'secret message'\n",
      "The cipher text is : b'\\xbfl\\x08u\\xd4`\\x12\\xf6\\xae\\x9c\\xa4v\\xdd\\x07'\n",
      "the plain text is : b'secret message'\n"
     ]
    }
   ],
   "source": [
    "message = b\"secret message\"\n",
    "cipher_text = encryptor.update(message)\n",
    "print(f'Originale message is : {message}\\nThe cipher text is : {cipher_text}')\n",
    "plain_text = decryptor.update(cipher_text)\n",
    "print(f\"the plain text is : {plain_text}\")"
   ]
  },
  {
   "cell_type": "code",
   "execution_count": 290,
   "id": "9a1570bb",
   "metadata": {},
   "outputs": [
    {
     "name": "stdout",
     "output_type": "stream",
     "text": [
      "Originale message is : b'secret message'\n",
      "The cipher text is : b'\\xbfl\\x08u\\xd4`\\x12\\xf6\\xae\\x9c\\xa4v\\xdd\\x07'\n",
      "the plain text is : b'secret message'\n"
     ]
    }
   ],
   "source": [
    "algo = algorithms.ChaCha20(secret_key,nonce)\n",
    "chachacipher = Cipher(algo,mode=None,backend=default_backend())\n",
    "encryptor = chachacipher.encryptor()\n",
    "decryptor = chachacipher.decryptor()\n",
    "\n",
    "message = b\"secret message\"\n",
    "cipher_text = encryptor.update(message)\n",
    "print(f'Originale message is : {message}\\nThe cipher text is : {cipher_text}')\n",
    "plain_text = decryptor.update(cipher_text)\n",
    "print(f\"the plain text is : {plain_text}\")"
   ]
  },
  {
   "cell_type": "markdown",
   "id": "f065b40f",
   "metadata": {},
   "source": [
    "Si on utilise le mm nonce alors on aura le mm cipher text mais seulement pour la premiere fois car le nonce est utilisé juste une fois \n",
    "\n",
    "secret key ce n'est pas la seule élement résponsable de la randomisation , le nonce aussi a un role dans la rondomisation et si on le change le cipher change aussi notant bien que le nonce n'affecte pas le décryptage"
   ]
  },
  {
   "cell_type": "code",
   "execution_count": null,
   "id": "5397c142",
   "metadata": {},
   "outputs": [],
   "source": []
  },
  {
   "cell_type": "code",
   "execution_count": null,
   "id": "39b60bc9",
   "metadata": {},
   "outputs": [],
   "source": []
  }
 ],
 "metadata": {
  "kernelspec": {
   "display_name": "Python 3 (ipykernel)",
   "language": "python",
   "name": "python3"
  },
  "language_info": {
   "codemirror_mode": {
    "name": "ipython",
    "version": 3
   },
   "file_extension": ".py",
   "mimetype": "text/x-python",
   "name": "python",
   "nbconvert_exporter": "python",
   "pygments_lexer": "ipython3",
   "version": "3.8.8"
  }
 },
 "nbformat": 4,
 "nbformat_minor": 5
}
