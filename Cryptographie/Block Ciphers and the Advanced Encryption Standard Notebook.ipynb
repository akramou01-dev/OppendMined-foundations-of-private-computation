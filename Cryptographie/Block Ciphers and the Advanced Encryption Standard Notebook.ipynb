{
 "cells": [
  {
   "cell_type": "markdown",
   "id": "1f5bd8f4",
   "metadata": {},
   "source": [
    "# Padding a message"
   ]
  },
  {
   "cell_type": "code",
   "execution_count": 2,
   "id": "8d7f525d",
   "metadata": {},
   "outputs": [],
   "source": [
    "from crypto import bytes_to_bin , bytes_to_hex"
   ]
  },
  {
   "cell_type": "code",
   "execution_count": 15,
   "id": "e50b2b24",
   "metadata": {},
   "outputs": [
    {
     "name": "stdout",
     "output_type": "stream",
     "text": [
      "message : \tb'Block ciphers are more powerfull than the stream ciphers'\n",
      "\n",
      "binary :\t0100001001101100011011110110001101101011001000000110001101101001011100000110100001100101011100100111001100100000011000010111001001100101001000000110110101101111011100100110010100100000011100000110111101110111011001010111001001100110011101010110110001101100001000000111010001101000011000010110111000100000011101000110100001100101001000000111001101110100011100100110010101100001011011010010000001100011011010010111000001101000011001010111001001110011\n",
      "\n",
      "hexadicimal :\t426c6f636b206369706865727320617265206d6f726520706f77657266756c6c207468616e207468652073747265616d2063697068657273\n"
     ]
    }
   ],
   "source": [
    "message = b'Block ciphers are more powerfull than the stream ciphers'\n",
    "msg_bin = bytes_to_bin(message)\n",
    "msg_hex  = bytes_to_hex(message)\n",
    "\n",
    "print(f\"message : \\t{message}\\n\")\n",
    "print(f'binary :\\t{msg_bin[2:]}\\n')\n",
    "print(f'hexadicimal :\\t{msg_hex[2:]}')\n"
   ]
  },
  {
   "cell_type": "code",
   "execution_count": 17,
   "id": "8255a075",
   "metadata": {},
   "outputs": [
    {
     "name": "stdout",
     "output_type": "stream",
     "text": [
      "the message length: 56 (bytes), 448 (binary)\n"
     ]
    }
   ],
   "source": [
    "print(f\"the message length: {len(message)} (bytes), {len(msg_bin)-2} (binary)\")"
   ]
  },
  {
   "cell_type": "markdown",
   "id": "549657b0",
   "metadata": {},
   "source": [
    "we will use a 16bytes block, so we will check if 56 is multiple of 16, if \"Yes\" then we are fine if not then we are going to use the padding using the PKCS7 method "
   ]
  },
  {
   "cell_type": "code",
   "execution_count": 118,
   "id": "971b9e47",
   "metadata": {},
   "outputs": [],
   "source": [
    "def PKCS7(m,block_size_byte=16): \n",
    "    rest = block_size_byte - len(m) %block_size_byte\n",
    "    pad  =  bytes([rest for _ in range(rest)])\n",
    "    return m +pad\n",
    "\n",
    "    "
   ]
  },
  {
   "cell_type": "code",
   "execution_count": 120,
   "id": "98d3109f",
   "metadata": {},
   "outputs": [
    {
     "data": {
      "text/plain": [
       "b'Block ciphers are more powerfull than the stream\\x0c\\x0c\\x0c\\x0c\\x0c\\x0c\\x0c\\x0c\\x0c\\x0c\\x0c\\x0c'"
      ]
     },
     "execution_count": 120,
     "metadata": {},
     "output_type": "execute_result"
    }
   ],
   "source": [
    "PKCS7(b\"Block ciphers are more powerfull than the stream\",15)"
   ]
  },
  {
   "cell_type": "markdown",
   "id": "ae84789a",
   "metadata": {},
   "source": [
    "We can find the PKCS7 pre-implemented in the cryptography.hazmat.primitives package"
   ]
  },
  {
   "cell_type": "code",
   "execution_count": 122,
   "id": "cea2262f",
   "metadata": {},
   "outputs": [],
   "source": [
    "from cryptography.hazmat.primitives import padding"
   ]
  },
  {
   "cell_type": "code",
   "execution_count": 194,
   "id": "41cefd67",
   "metadata": {},
   "outputs": [],
   "source": [
    "block_size = 16\n",
    "\n",
    "#instanciating the object \n",
    "padder = padding.PKCS7(block_size *8 ).padder()\n",
    " # the block size must be in bits\n",
    "padded_message = padder.update(message) + padder.finalize()\n",
    "# padder.finalize() is to tell the padder that the message is finished, if we want to add another messages we must includes them before padder.finalize()\n"
   ]
  },
  {
   "cell_type": "code",
   "execution_count": 195,
   "id": "c2e83bff",
   "metadata": {},
   "outputs": [
    {
     "data": {
      "text/plain": [
       "b'Block ciphers are more powerfull than the stream ciphers\\x08\\x08\\x08\\x08\\x08\\x08\\x08\\x08'"
      ]
     },
     "execution_count": 195,
     "metadata": {},
     "output_type": "execute_result"
    }
   ],
   "source": [
    "padded_message"
   ]
  },
  {
   "cell_type": "markdown",
   "id": "46e72785",
   "metadata": {},
   "source": [
    "# Using AES "
   ]
  },
  {
   "cell_type": "code",
   "execution_count": 207,
   "id": "608c18c1",
   "metadata": {},
   "outputs": [],
   "source": [
    "from cryptography.hazmat.primitives.ciphers import Cipher , algorithms, modes\n",
    "from cryptography.hazmat.backends import  default_backend\n",
    "# the default_backend use the OpelSSl package\n",
    "import os \n",
    "secret_key = os.urandom(32)\n",
    "cipher = Cipher(algorithms.AES(secret_key),modes.ECB(),backend=default_backend())\n",
    "encryptor = cipher.encryptor()\n",
    "decryptor = cipher.decryptor()\n",
    "\n",
    "\n"
   ]
  },
  {
   "cell_type": "code",
   "execution_count": 208,
   "id": "91f2428e",
   "metadata": {},
   "outputs": [
    {
     "name": "stdout",
     "output_type": "stream",
     "text": [
      "the first cipher text : b'<\\xd9\\xe8\\x12nh0\\x03u\\xf2\\xaeK1\\xafG\\xc8\\x15-\\xdc\\xc2\\x0f\\\\\\x94\\x90/T\\xef\\xbf\\x03B\\x8a\\xed\\xce\\xc0TX\\x96\\xc7\\xa5\\xd2\\x1ew/\\xea\\xe2\\xc5\\r\\xbc\\xff\\x8b\\xcb\\xc29d\\xf9\\xaf\\xd9\\xa5 \\x93\\xf7\\xeeM\\x8d'\n",
      "the second cipher text : b'<\\xd9\\xe8\\x12nh0\\x03u\\xf2\\xaeK1\\xafG\\xc8\\x15-\\xdc\\xc2\\x0f\\\\\\x94\\x90/T\\xef\\xbf\\x03B\\x8a\\xed\\xce\\xc0TX\\x96\\xc7\\xa5\\xd2\\x1ew/\\xea\\xe2\\xc5\\r\\xbc\\xff\\x8b\\xcb\\xc29d\\xf9\\xaf\\xd9\\xa5 \\x93\\xf7\\xeeM\\x8d'\n"
     ]
    }
   ],
   "source": [
    "# we use the padded message from the PKCS7 method\n",
    "cipher_text = encryptor.update(padded_message)  \n",
    "cipher_text1 = encryptor.update(padded_message)\n",
    "#encryptor.finalize() for telling the encryptor that: this is the end of the message\n",
    "plain_text = decryptor.update(cipher_text) + decryptor.finalize()\n",
    "print(f'the first cipher text : {cipher_text}')\n",
    "print(f'the second cipher text : {cipher_text1}')\n",
    "\n",
    "#the .finalize() is for the decryptor and for the encryptor it's created  when we instanciate the object form cipher.encryptor()"
   ]
  },
  {
   "cell_type": "code",
   "execution_count": 205,
   "id": "2d68938c",
   "metadata": {},
   "outputs": [
    {
     "name": "stdout",
     "output_type": "stream",
     "text": [
      "The cipher text is :\n",
      "\t b'x\\xa6\\x96\\x1b\\x9an\\xbeJ\\xd8\\xd3m\\x05|\\xdc\\x13kl\\xdcZ\\xe4\\xed~E\\xcb\\x15\\xecI\\x14\\x11\\xf5D\\xbaXC\\xda\\xe7l\\x8f\\xb8\\x80\\xd1\\x85\\xe1Ct\\t\\x1dW\\x03\\xcfQ&y\\xb7\\xf1T\\xcde\\xeb\\xd6\\x92\\x00\\x0fp'\n",
      "The plain text is :\n",
      "\t b'Block ciphers are more powerfull than the stream ciphers\\x08\\x08\\x08\\x08\\x08\\x08\\x08\\x08'\n"
     ]
    }
   ],
   "source": [
    "print(f\"The cipher text is :\\n\\t {cipher_text}\")\n",
    "print(f\"The plain text is :\\n\\t {plain_text}\")"
   ]
  },
  {
   "cell_type": "markdown",
   "id": "8f4fcf3e",
   "metadata": {},
   "source": [
    "# Mode d'Opération"
   ]
  },
  {
   "cell_type": "raw",
   "id": "07624fa6",
   "metadata": {},
   "source": [
    "We Will use the ECB mode operation"
   ]
  },
  {
   "cell_type": "code",
   "execution_count": 219,
   "id": "4733c97c",
   "metadata": {},
   "outputs": [],
   "source": [
    "secret_key = os.urandom(32)\n",
    "cipher = Cipher(algorithms.AES(secret_key),modes.ECB(),default_backend())\n",
    "encryptor = cipher.encryptor()\n",
    "decryptor = cipher.decryptor()\n"
   ]
  },
  {
   "cell_type": "code",
   "execution_count": 215,
   "id": "6368e721",
   "metadata": {},
   "outputs": [
    {
     "data": {
      "text/plain": [
       "b'Block ciphers are more powerfull than the stream ciphers\\x08\\x08\\x08\\x08\\x08\\x08\\x08\\x08'"
      ]
     },
     "execution_count": 215,
     "metadata": {},
     "output_type": "execute_result"
    }
   ],
   "source": [
    "padded_message"
   ]
  },
  {
   "cell_type": "code",
   "execution_count": 216,
   "id": "7fe0a23d",
   "metadata": {},
   "outputs": [
    {
     "name": "stdout",
     "output_type": "stream",
     "text": [
      "b'\\xcf \\xc6\\x1c\\x13t\\xd9;\\xf5\\xb8\\x016Y\\xec|\\x02\\x81n\\xbb\\xf9a\\x84\\xc7\\x9dC\\xd4\\x96<\\x08!\\x01\\\\\\x8d\\x01\\xfc\\x94\\x06\\xcf\\xf4\\xf4\\xc3\\xbd\\x8by\\x86\\x87SX\\x9e~OA\\xa5p\\xf1\\xc3\\xc7oND\\xe0\\xb9\\xc8`'\n",
      "b'\\xcf \\xc6\\x1c\\x13t\\xd9;\\xf5\\xb8\\x016Y\\xec|\\x02\\x81n\\xbb\\xf9a\\x84\\xc7\\x9dC\\xd4\\x96<\\x08!\\x01\\\\\\x8d\\x01\\xfc\\x94\\x06\\xcf\\xf4\\xf4\\xc3\\xbd\\x8by\\x86\\x87SX\\x9e~OA\\xa5p\\xf1\\xc3\\xc7oND\\xe0\\xb9\\xc8`'\n"
     ]
    }
   ],
   "source": [
    "new_message = padded_message + padded_message\n",
    "cipher_text = encryptor.update(new_message) + encryptor.finalize()\n",
    "\n",
    "print(cipher_text[0:len(padded_message)])\n",
    "print(cipher_text[len(padded_message):])"
   ]
  },
  {
   "cell_type": "markdown",
   "id": "0b78e7b7",
   "metadata": {},
   "source": [
    "We note that we have the same cipher text and this is due to the ECB mode "
   ]
  },
  {
   "cell_type": "raw",
   "id": "e8bba5d0",
   "metadata": {},
   "source": [
    "Now we will use the CBC operation mode that required an IV "
   ]
  },
  {
   "cell_type": "code",
   "execution_count": 222,
   "id": "f72d86a1",
   "metadata": {},
   "outputs": [],
   "source": [
    "secret_key = os.urandom(32)\n",
    "iv = os.urandom(16)\n",
    "\n",
    "cipher = Cipher(algorithms.AES(secret_key),modes.CBC(iv),default_backend())\n",
    "encryptor = cipher.encryptor()\n",
    "decryptor = cipher.decryptor()\n"
   ]
  },
  {
   "cell_type": "code",
   "execution_count": 223,
   "id": "dc8ea672",
   "metadata": {},
   "outputs": [
    {
     "name": "stdout",
     "output_type": "stream",
     "text": [
      "b\"\\x89\\x9b6\\x9f0\\xaf\\x18G=\\xf0\\x08X:\\xc4XuQ(\\xf3\\xac\\x87R\\x01(6\\x05\\r\\xc4\\x1c\\xee\\xb3\\xda\\x92\\x13\\x14\\xd4*\\xfb)\\xd4\\xcaZ\\x0f.\\x17b\\x7f\\x93'Id\\xf0\\xc2\\xfd)\\xe0~\\x87\\x03\\xe8\\x89m\\xd7e\"\n",
      "\n",
      "\n",
      "b\"\\x86#\\\\\\x88g#`0\\x8d\\x93\\xef\\xdb\\xeb\\xaa^Ld\\x88\\xefY\\x9d\\xb3\\xe0\\xea\\x1d\\xe9\\x9f\\n\\x1f\\xd4\\xac\\xd1\\xcf\\x94,\\xcd\\xdc\\x8e;\\xd5\\x88'\\xc7,\\xf1|f\\xe1\\x15\\x0fG\\x88s\\x9b\\xfe\\x8a\\x18\\x1c\\xc6\\x8d`--H\"\n"
     ]
    }
   ],
   "source": [
    "new_message = padded_message + padded_message\n",
    "cipher_text = encryptor.update(new_message) + encryptor.finalize()\n",
    "\n",
    "print(cipher_text[0:len(padded_message)])\n",
    "print(\"\\n\")\n",
    "print(cipher_text[len(padded_message):])"
   ]
  },
  {
   "cell_type": "code",
   "execution_count": 224,
   "id": "e9dc13cf",
   "metadata": {},
   "outputs": [
    {
     "data": {
      "text/plain": [
       "128"
      ]
     },
     "execution_count": 224,
     "metadata": {},
     "output_type": "execute_result"
    }
   ],
   "source": [
    "len(cipher_text)"
   ]
  },
  {
   "cell_type": "markdown",
   "id": "9bc8aab6",
   "metadata": {},
   "source": [
    "# Cipher text size"
   ]
  },
  {
   "cell_type": "code",
   "execution_count": 236,
   "id": "46580224",
   "metadata": {},
   "outputs": [
    {
     "name": "stdout",
     "output_type": "stream",
     "text": [
      "message : b'' (0), padded_message = b'\\x10\\x10\\x10\\x10\\x10\\x10\\x10\\x10\\x10\\x10\\x10\\x10\\x10\\x10\\x10\\x10'\n",
      "message : b'a' (1), padded_message = b'a\\x0f\\x0f\\x0f\\x0f\\x0f\\x0f\\x0f\\x0f\\x0f\\x0f\\x0f\\x0f\\x0f\\x0f\\x0f'\n",
      "message : b'aa' (2), padded_message = b'aa\\x0e\\x0e\\x0e\\x0e\\x0e\\x0e\\x0e\\x0e\\x0e\\x0e\\x0e\\x0e\\x0e\\x0e'\n",
      "message : b'aaa' (3), padded_message = b'aaa\\r\\r\\r\\r\\r\\r\\r\\r\\r\\r\\r\\r\\r'\n",
      "message : b'aaaa' (4), padded_message = b'aaaa\\x0c\\x0c\\x0c\\x0c\\x0c\\x0c\\x0c\\x0c\\x0c\\x0c\\x0c\\x0c'\n",
      "message : b'aaaaa' (5), padded_message = b'aaaaa\\x0b\\x0b\\x0b\\x0b\\x0b\\x0b\\x0b\\x0b\\x0b\\x0b\\x0b'\n",
      "message : b'aaaaaa' (6), padded_message = b'aaaaaa\\n\\n\\n\\n\\n\\n\\n\\n\\n\\n'\n",
      "message : b'aaaaaaa' (7), padded_message = b'aaaaaaa\\t\\t\\t\\t\\t\\t\\t\\t\\t'\n",
      "message : b'aaaaaaaa' (8), padded_message = b'aaaaaaaa\\x08\\x08\\x08\\x08\\x08\\x08\\x08\\x08'\n",
      "message : b'aaaaaaaaa' (9), padded_message = b'aaaaaaaaa\\x07\\x07\\x07\\x07\\x07\\x07\\x07'\n",
      "message : b'aaaaaaaaaa' (10), padded_message = b'aaaaaaaaaa\\x06\\x06\\x06\\x06\\x06\\x06'\n",
      "message : b'aaaaaaaaaaa' (11), padded_message = b'aaaaaaaaaaa\\x05\\x05\\x05\\x05\\x05'\n",
      "message : b'aaaaaaaaaaaa' (12), padded_message = b'aaaaaaaaaaaa\\x04\\x04\\x04\\x04'\n",
      "message : b'aaaaaaaaaaaaa' (13), padded_message = b'aaaaaaaaaaaaa\\x03\\x03\\x03'\n",
      "message : b'aaaaaaaaaaaaaa' (14), padded_message = b'aaaaaaaaaaaaaa\\x02\\x02'\n",
      "message : b'aaaaaaaaaaaaaaa' (15), padded_message = b'aaaaaaaaaaaaaaa\\x01'\n",
      "message : b'aaaaaaaaaaaaaaaa' (16), padded_message = b'aaaaaaaaaaaaaaaa\\x10\\x10\\x10\\x10\\x10\\x10\\x10\\x10\\x10\\x10\\x10\\x10\\x10\\x10\\x10\\x10'\n",
      "message : b'aaaaaaaaaaaaaaaaa' (17), padded_message = b'aaaaaaaaaaaaaaaaa\\x0f\\x0f\\x0f\\x0f\\x0f\\x0f\\x0f\\x0f\\x0f\\x0f\\x0f\\x0f\\x0f\\x0f\\x0f'\n",
      "message : b'aaaaaaaaaaaaaaaaaa' (18), padded_message = b'aaaaaaaaaaaaaaaaaa\\x0e\\x0e\\x0e\\x0e\\x0e\\x0e\\x0e\\x0e\\x0e\\x0e\\x0e\\x0e\\x0e\\x0e'\n",
      "message : b'aaaaaaaaaaaaaaaaaaa' (19), padded_message = b'aaaaaaaaaaaaaaaaaaa\\r\\r\\r\\r\\r\\r\\r\\r\\r\\r\\r\\r\\r'\n",
      "message : b'aaaaaaaaaaaaaaaaaaaa' (20), padded_message = b'aaaaaaaaaaaaaaaaaaaa\\x0c\\x0c\\x0c\\x0c\\x0c\\x0c\\x0c\\x0c\\x0c\\x0c\\x0c\\x0c'\n",
      "message : b'aaaaaaaaaaaaaaaaaaaaa' (21), padded_message = b'aaaaaaaaaaaaaaaaaaaaa\\x0b\\x0b\\x0b\\x0b\\x0b\\x0b\\x0b\\x0b\\x0b\\x0b\\x0b'\n",
      "message : b'aaaaaaaaaaaaaaaaaaaaaa' (22), padded_message = b'aaaaaaaaaaaaaaaaaaaaaa\\n\\n\\n\\n\\n\\n\\n\\n\\n\\n'\n",
      "message : b'aaaaaaaaaaaaaaaaaaaaaaa' (23), padded_message = b'aaaaaaaaaaaaaaaaaaaaaaa\\t\\t\\t\\t\\t\\t\\t\\t\\t'\n",
      "message : b'aaaaaaaaaaaaaaaaaaaaaaaa' (24), padded_message = b'aaaaaaaaaaaaaaaaaaaaaaaa\\x08\\x08\\x08\\x08\\x08\\x08\\x08\\x08'\n",
      "message : b'aaaaaaaaaaaaaaaaaaaaaaaaa' (25), padded_message = b'aaaaaaaaaaaaaaaaaaaaaaaaa\\x07\\x07\\x07\\x07\\x07\\x07\\x07'\n",
      "message : b'aaaaaaaaaaaaaaaaaaaaaaaaaa' (26), padded_message = b'aaaaaaaaaaaaaaaaaaaaaaaaaa\\x06\\x06\\x06\\x06\\x06\\x06'\n",
      "message : b'aaaaaaaaaaaaaaaaaaaaaaaaaaa' (27), padded_message = b'aaaaaaaaaaaaaaaaaaaaaaaaaaa\\x05\\x05\\x05\\x05\\x05'\n",
      "message : b'aaaaaaaaaaaaaaaaaaaaaaaaaaaa' (28), padded_message = b'aaaaaaaaaaaaaaaaaaaaaaaaaaaa\\x04\\x04\\x04\\x04'\n",
      "message : b'aaaaaaaaaaaaaaaaaaaaaaaaaaaaa' (29), padded_message = b'aaaaaaaaaaaaaaaaaaaaaaaaaaaaa\\x03\\x03\\x03'\n",
      "message : b'aaaaaaaaaaaaaaaaaaaaaaaaaaaaaa' (30), padded_message = b'aaaaaaaaaaaaaaaaaaaaaaaaaaaaaa\\x02\\x02'\n",
      "message : b'aaaaaaaaaaaaaaaaaaaaaaaaaaaaaaa' (31), padded_message = b'aaaaaaaaaaaaaaaaaaaaaaaaaaaaaaa\\x01'\n",
      "message : b'aaaaaaaaaaaaaaaaaaaaaaaaaaaaaaaa' (32), padded_message = b'aaaaaaaaaaaaaaaaaaaaaaaaaaaaaaaa\\x10\\x10\\x10\\x10\\x10\\x10\\x10\\x10\\x10\\x10\\x10\\x10\\x10\\x10\\x10\\x10'\n",
      "message : b'aaaaaaaaaaaaaaaaaaaaaaaaaaaaaaaaa' (33), padded_message = b'aaaaaaaaaaaaaaaaaaaaaaaaaaaaaaaaa\\x0f\\x0f\\x0f\\x0f\\x0f\\x0f\\x0f\\x0f\\x0f\\x0f\\x0f\\x0f\\x0f\\x0f\\x0f'\n",
      "message : b'aaaaaaaaaaaaaaaaaaaaaaaaaaaaaaaaaa' (34), padded_message = b'aaaaaaaaaaaaaaaaaaaaaaaaaaaaaaaaaa\\x0e\\x0e\\x0e\\x0e\\x0e\\x0e\\x0e\\x0e\\x0e\\x0e\\x0e\\x0e\\x0e\\x0e'\n",
      "message : b'aaaaaaaaaaaaaaaaaaaaaaaaaaaaaaaaaaa' (35), padded_message = b'aaaaaaaaaaaaaaaaaaaaaaaaaaaaaaaaaaa\\r\\r\\r\\r\\r\\r\\r\\r\\r\\r\\r\\r\\r'\n",
      "message : b'aaaaaaaaaaaaaaaaaaaaaaaaaaaaaaaaaaaa' (36), padded_message = b'aaaaaaaaaaaaaaaaaaaaaaaaaaaaaaaaaaaa\\x0c\\x0c\\x0c\\x0c\\x0c\\x0c\\x0c\\x0c\\x0c\\x0c\\x0c\\x0c'\n",
      "message : b'aaaaaaaaaaaaaaaaaaaaaaaaaaaaaaaaaaaaa' (37), padded_message = b'aaaaaaaaaaaaaaaaaaaaaaaaaaaaaaaaaaaaa\\x0b\\x0b\\x0b\\x0b\\x0b\\x0b\\x0b\\x0b\\x0b\\x0b\\x0b'\n",
      "message : b'aaaaaaaaaaaaaaaaaaaaaaaaaaaaaaaaaaaaaa' (38), padded_message = b'aaaaaaaaaaaaaaaaaaaaaaaaaaaaaaaaaaaaaa\\n\\n\\n\\n\\n\\n\\n\\n\\n\\n'\n",
      "message : b'aaaaaaaaaaaaaaaaaaaaaaaaaaaaaaaaaaaaaaa' (39), padded_message = b'aaaaaaaaaaaaaaaaaaaaaaaaaaaaaaaaaaaaaaa\\t\\t\\t\\t\\t\\t\\t\\t\\t'\n",
      "message : b'aaaaaaaaaaaaaaaaaaaaaaaaaaaaaaaaaaaaaaaa' (40), padded_message = b'aaaaaaaaaaaaaaaaaaaaaaaaaaaaaaaaaaaaaaaa\\x08\\x08\\x08\\x08\\x08\\x08\\x08\\x08'\n",
      "message : b'aaaaaaaaaaaaaaaaaaaaaaaaaaaaaaaaaaaaaaaaa' (41), padded_message = b'aaaaaaaaaaaaaaaaaaaaaaaaaaaaaaaaaaaaaaaaa\\x07\\x07\\x07\\x07\\x07\\x07\\x07'\n",
      "message : b'aaaaaaaaaaaaaaaaaaaaaaaaaaaaaaaaaaaaaaaaaa' (42), padded_message = b'aaaaaaaaaaaaaaaaaaaaaaaaaaaaaaaaaaaaaaaaaa\\x06\\x06\\x06\\x06\\x06\\x06'\n",
      "message : b'aaaaaaaaaaaaaaaaaaaaaaaaaaaaaaaaaaaaaaaaaaa' (43), padded_message = b'aaaaaaaaaaaaaaaaaaaaaaaaaaaaaaaaaaaaaaaaaaa\\x05\\x05\\x05\\x05\\x05'\n",
      "message : b'aaaaaaaaaaaaaaaaaaaaaaaaaaaaaaaaaaaaaaaaaaaa' (44), padded_message = b'aaaaaaaaaaaaaaaaaaaaaaaaaaaaaaaaaaaaaaaaaaaa\\x04\\x04\\x04\\x04'\n",
      "message : b'aaaaaaaaaaaaaaaaaaaaaaaaaaaaaaaaaaaaaaaaaaaaa' (45), padded_message = b'aaaaaaaaaaaaaaaaaaaaaaaaaaaaaaaaaaaaaaaaaaaaa\\x03\\x03\\x03'\n",
      "message : b'aaaaaaaaaaaaaaaaaaaaaaaaaaaaaaaaaaaaaaaaaaaaaa' (46), padded_message = b'aaaaaaaaaaaaaaaaaaaaaaaaaaaaaaaaaaaaaaaaaaaaaa\\x02\\x02'\n",
      "message : b'aaaaaaaaaaaaaaaaaaaaaaaaaaaaaaaaaaaaaaaaaaaaaaa' (47), padded_message = b'aaaaaaaaaaaaaaaaaaaaaaaaaaaaaaaaaaaaaaaaaaaaaaa\\x01'\n",
      "message : b'aaaaaaaaaaaaaaaaaaaaaaaaaaaaaaaaaaaaaaaaaaaaaaaa' (48), padded_message = b'aaaaaaaaaaaaaaaaaaaaaaaaaaaaaaaaaaaaaaaaaaaaaaaa\\x10\\x10\\x10\\x10\\x10\\x10\\x10\\x10\\x10\\x10\\x10\\x10\\x10\\x10\\x10\\x10'\n",
      "message : b'aaaaaaaaaaaaaaaaaaaaaaaaaaaaaaaaaaaaaaaaaaaaaaaaa' (49), padded_message = b'aaaaaaaaaaaaaaaaaaaaaaaaaaaaaaaaaaaaaaaaaaaaaaaaa\\x0f\\x0f\\x0f\\x0f\\x0f\\x0f\\x0f\\x0f\\x0f\\x0f\\x0f\\x0f\\x0f\\x0f\\x0f'\n",
      "message : b'aaaaaaaaaaaaaaaaaaaaaaaaaaaaaaaaaaaaaaaaaaaaaaaaaa' (50), padded_message = b'aaaaaaaaaaaaaaaaaaaaaaaaaaaaaaaaaaaaaaaaaaaaaaaaaa\\x0e\\x0e\\x0e\\x0e\\x0e\\x0e\\x0e\\x0e\\x0e\\x0e\\x0e\\x0e\\x0e\\x0e'\n",
      "message : b'aaaaaaaaaaaaaaaaaaaaaaaaaaaaaaaaaaaaaaaaaaaaaaaaaaa' (51), padded_message = b'aaaaaaaaaaaaaaaaaaaaaaaaaaaaaaaaaaaaaaaaaaaaaaaaaaa\\r\\r\\r\\r\\r\\r\\r\\r\\r\\r\\r\\r\\r'\n",
      "message : b'aaaaaaaaaaaaaaaaaaaaaaaaaaaaaaaaaaaaaaaaaaaaaaaaaaaa' (52), padded_message = b'aaaaaaaaaaaaaaaaaaaaaaaaaaaaaaaaaaaaaaaaaaaaaaaaaaaa\\x0c\\x0c\\x0c\\x0c\\x0c\\x0c\\x0c\\x0c\\x0c\\x0c\\x0c\\x0c'\n",
      "message : b'aaaaaaaaaaaaaaaaaaaaaaaaaaaaaaaaaaaaaaaaaaaaaaaaaaaaa' (53), padded_message = b'aaaaaaaaaaaaaaaaaaaaaaaaaaaaaaaaaaaaaaaaaaaaaaaaaaaaa\\x0b\\x0b\\x0b\\x0b\\x0b\\x0b\\x0b\\x0b\\x0b\\x0b\\x0b'\n",
      "message : b'aaaaaaaaaaaaaaaaaaaaaaaaaaaaaaaaaaaaaaaaaaaaaaaaaaaaaa' (54), padded_message = b'aaaaaaaaaaaaaaaaaaaaaaaaaaaaaaaaaaaaaaaaaaaaaaaaaaaaaa\\n\\n\\n\\n\\n\\n\\n\\n\\n\\n'\n",
      "message : b'aaaaaaaaaaaaaaaaaaaaaaaaaaaaaaaaaaaaaaaaaaaaaaaaaaaaaaa' (55), padded_message = b'aaaaaaaaaaaaaaaaaaaaaaaaaaaaaaaaaaaaaaaaaaaaaaaaaaaaaaa\\t\\t\\t\\t\\t\\t\\t\\t\\t'\n",
      "message : b'aaaaaaaaaaaaaaaaaaaaaaaaaaaaaaaaaaaaaaaaaaaaaaaaaaaaaaaa' (56), padded_message = b'aaaaaaaaaaaaaaaaaaaaaaaaaaaaaaaaaaaaaaaaaaaaaaaaaaaaaaaa\\x08\\x08\\x08\\x08\\x08\\x08\\x08\\x08'\n",
      "message : b'aaaaaaaaaaaaaaaaaaaaaaaaaaaaaaaaaaaaaaaaaaaaaaaaaaaaaaaaa' (57), padded_message = b'aaaaaaaaaaaaaaaaaaaaaaaaaaaaaaaaaaaaaaaaaaaaaaaaaaaaaaaaa\\x07\\x07\\x07\\x07\\x07\\x07\\x07'\n",
      "message : b'aaaaaaaaaaaaaaaaaaaaaaaaaaaaaaaaaaaaaaaaaaaaaaaaaaaaaaaaaa' (58), padded_message = b'aaaaaaaaaaaaaaaaaaaaaaaaaaaaaaaaaaaaaaaaaaaaaaaaaaaaaaaaaa\\x06\\x06\\x06\\x06\\x06\\x06'\n",
      "message : b'aaaaaaaaaaaaaaaaaaaaaaaaaaaaaaaaaaaaaaaaaaaaaaaaaaaaaaaaaaa' (59), padded_message = b'aaaaaaaaaaaaaaaaaaaaaaaaaaaaaaaaaaaaaaaaaaaaaaaaaaaaaaaaaaa\\x05\\x05\\x05\\x05\\x05'\n",
      "message : b'aaaaaaaaaaaaaaaaaaaaaaaaaaaaaaaaaaaaaaaaaaaaaaaaaaaaaaaaaaaa' (60), padded_message = b'aaaaaaaaaaaaaaaaaaaaaaaaaaaaaaaaaaaaaaaaaaaaaaaaaaaaaaaaaaaa\\x04\\x04\\x04\\x04'\n",
      "message : b'aaaaaaaaaaaaaaaaaaaaaaaaaaaaaaaaaaaaaaaaaaaaaaaaaaaaaaaaaaaaa' (61), padded_message = b'aaaaaaaaaaaaaaaaaaaaaaaaaaaaaaaaaaaaaaaaaaaaaaaaaaaaaaaaaaaaa\\x03\\x03\\x03'\n",
      "message : b'aaaaaaaaaaaaaaaaaaaaaaaaaaaaaaaaaaaaaaaaaaaaaaaaaaaaaaaaaaaaaa' (62), padded_message = b'aaaaaaaaaaaaaaaaaaaaaaaaaaaaaaaaaaaaaaaaaaaaaaaaaaaaaaaaaaaaaa\\x02\\x02'\n",
      "message : b'aaaaaaaaaaaaaaaaaaaaaaaaaaaaaaaaaaaaaaaaaaaaaaaaaaaaaaaaaaaaaaa' (63), padded_message = b'aaaaaaaaaaaaaaaaaaaaaaaaaaaaaaaaaaaaaaaaaaaaaaaaaaaaaaaaaaaaaaa\\x01'\n",
      "message : b'aaaaaaaaaaaaaaaaaaaaaaaaaaaaaaaaaaaaaaaaaaaaaaaaaaaaaaaaaaaaaaaa' (64), padded_message = b'aaaaaaaaaaaaaaaaaaaaaaaaaaaaaaaaaaaaaaaaaaaaaaaaaaaaaaaaaaaaaaaa\\x10\\x10\\x10\\x10\\x10\\x10\\x10\\x10\\x10\\x10\\x10\\x10\\x10\\x10\\x10\\x10'\n",
      "message : b'aaaaaaaaaaaaaaaaaaaaaaaaaaaaaaaaaaaaaaaaaaaaaaaaaaaaaaaaaaaaaaaaa' (65), padded_message = b'aaaaaaaaaaaaaaaaaaaaaaaaaaaaaaaaaaaaaaaaaaaaaaaaaaaaaaaaaaaaaaaaa\\x0f\\x0f\\x0f\\x0f\\x0f\\x0f\\x0f\\x0f\\x0f\\x0f\\x0f\\x0f\\x0f\\x0f\\x0f'\n",
      "message : b'aaaaaaaaaaaaaaaaaaaaaaaaaaaaaaaaaaaaaaaaaaaaaaaaaaaaaaaaaaaaaaaaaa' (66), padded_message = b'aaaaaaaaaaaaaaaaaaaaaaaaaaaaaaaaaaaaaaaaaaaaaaaaaaaaaaaaaaaaaaaaaa\\x0e\\x0e\\x0e\\x0e\\x0e\\x0e\\x0e\\x0e\\x0e\\x0e\\x0e\\x0e\\x0e\\x0e'\n",
      "message : b'aaaaaaaaaaaaaaaaaaaaaaaaaaaaaaaaaaaaaaaaaaaaaaaaaaaaaaaaaaaaaaaaaaa' (67), padded_message = b'aaaaaaaaaaaaaaaaaaaaaaaaaaaaaaaaaaaaaaaaaaaaaaaaaaaaaaaaaaaaaaaaaaa\\r\\r\\r\\r\\r\\r\\r\\r\\r\\r\\r\\r\\r'\n",
      "message : b'aaaaaaaaaaaaaaaaaaaaaaaaaaaaaaaaaaaaaaaaaaaaaaaaaaaaaaaaaaaaaaaaaaaa' (68), padded_message = b'aaaaaaaaaaaaaaaaaaaaaaaaaaaaaaaaaaaaaaaaaaaaaaaaaaaaaaaaaaaaaaaaaaaa\\x0c\\x0c\\x0c\\x0c\\x0c\\x0c\\x0c\\x0c\\x0c\\x0c\\x0c\\x0c'\n",
      "message : b'aaaaaaaaaaaaaaaaaaaaaaaaaaaaaaaaaaaaaaaaaaaaaaaaaaaaaaaaaaaaaaaaaaaaa' (69), padded_message = b'aaaaaaaaaaaaaaaaaaaaaaaaaaaaaaaaaaaaaaaaaaaaaaaaaaaaaaaaaaaaaaaaaaaaa\\x0b\\x0b\\x0b\\x0b\\x0b\\x0b\\x0b\\x0b\\x0b\\x0b\\x0b'\n",
      "message : b'aaaaaaaaaaaaaaaaaaaaaaaaaaaaaaaaaaaaaaaaaaaaaaaaaaaaaaaaaaaaaaaaaaaaaa' (70), padded_message = b'aaaaaaaaaaaaaaaaaaaaaaaaaaaaaaaaaaaaaaaaaaaaaaaaaaaaaaaaaaaaaaaaaaaaaa\\n\\n\\n\\n\\n\\n\\n\\n\\n\\n'\n",
      "message : b'aaaaaaaaaaaaaaaaaaaaaaaaaaaaaaaaaaaaaaaaaaaaaaaaaaaaaaaaaaaaaaaaaaaaaaa' (71), padded_message = b'aaaaaaaaaaaaaaaaaaaaaaaaaaaaaaaaaaaaaaaaaaaaaaaaaaaaaaaaaaaaaaaaaaaaaaa\\t\\t\\t\\t\\t\\t\\t\\t\\t'\n",
      "message : b'aaaaaaaaaaaaaaaaaaaaaaaaaaaaaaaaaaaaaaaaaaaaaaaaaaaaaaaaaaaaaaaaaaaaaaaa' (72), padded_message = b'aaaaaaaaaaaaaaaaaaaaaaaaaaaaaaaaaaaaaaaaaaaaaaaaaaaaaaaaaaaaaaaaaaaaaaaa\\x08\\x08\\x08\\x08\\x08\\x08\\x08\\x08'\n",
      "message : b'aaaaaaaaaaaaaaaaaaaaaaaaaaaaaaaaaaaaaaaaaaaaaaaaaaaaaaaaaaaaaaaaaaaaaaaaa' (73), padded_message = b'aaaaaaaaaaaaaaaaaaaaaaaaaaaaaaaaaaaaaaaaaaaaaaaaaaaaaaaaaaaaaaaaaaaaaaaaa\\x07\\x07\\x07\\x07\\x07\\x07\\x07'\n",
      "message : b'aaaaaaaaaaaaaaaaaaaaaaaaaaaaaaaaaaaaaaaaaaaaaaaaaaaaaaaaaaaaaaaaaaaaaaaaaa' (74), padded_message = b'aaaaaaaaaaaaaaaaaaaaaaaaaaaaaaaaaaaaaaaaaaaaaaaaaaaaaaaaaaaaaaaaaaaaaaaaaa\\x06\\x06\\x06\\x06\\x06\\x06'\n",
      "message : b'aaaaaaaaaaaaaaaaaaaaaaaaaaaaaaaaaaaaaaaaaaaaaaaaaaaaaaaaaaaaaaaaaaaaaaaaaaa' (75), padded_message = b'aaaaaaaaaaaaaaaaaaaaaaaaaaaaaaaaaaaaaaaaaaaaaaaaaaaaaaaaaaaaaaaaaaaaaaaaaaa\\x05\\x05\\x05\\x05\\x05'\n",
      "message : b'aaaaaaaaaaaaaaaaaaaaaaaaaaaaaaaaaaaaaaaaaaaaaaaaaaaaaaaaaaaaaaaaaaaaaaaaaaaa' (76), padded_message = b'aaaaaaaaaaaaaaaaaaaaaaaaaaaaaaaaaaaaaaaaaaaaaaaaaaaaaaaaaaaaaaaaaaaaaaaaaaaa\\x04\\x04\\x04\\x04'\n",
      "message : b'aaaaaaaaaaaaaaaaaaaaaaaaaaaaaaaaaaaaaaaaaaaaaaaaaaaaaaaaaaaaaaaaaaaaaaaaaaaaa' (77), padded_message = b'aaaaaaaaaaaaaaaaaaaaaaaaaaaaaaaaaaaaaaaaaaaaaaaaaaaaaaaaaaaaaaaaaaaaaaaaaaaaa\\x03\\x03\\x03'\n",
      "message : b'aaaaaaaaaaaaaaaaaaaaaaaaaaaaaaaaaaaaaaaaaaaaaaaaaaaaaaaaaaaaaaaaaaaaaaaaaaaaaa' (78), padded_message = b'aaaaaaaaaaaaaaaaaaaaaaaaaaaaaaaaaaaaaaaaaaaaaaaaaaaaaaaaaaaaaaaaaaaaaaaaaaaaaa\\x02\\x02'\n",
      "message : b'aaaaaaaaaaaaaaaaaaaaaaaaaaaaaaaaaaaaaaaaaaaaaaaaaaaaaaaaaaaaaaaaaaaaaaaaaaaaaaa' (79), padded_message = b'aaaaaaaaaaaaaaaaaaaaaaaaaaaaaaaaaaaaaaaaaaaaaaaaaaaaaaaaaaaaaaaaaaaaaaaaaaaaaaa\\x01'\n",
      "message : b'aaaaaaaaaaaaaaaaaaaaaaaaaaaaaaaaaaaaaaaaaaaaaaaaaaaaaaaaaaaaaaaaaaaaaaaaaaaaaaaa' (80), padded_message = b'aaaaaaaaaaaaaaaaaaaaaaaaaaaaaaaaaaaaaaaaaaaaaaaaaaaaaaaaaaaaaaaaaaaaaaaaaaaaaaaa\\x10\\x10\\x10\\x10\\x10\\x10\\x10\\x10\\x10\\x10\\x10\\x10\\x10\\x10\\x10\\x10'\n",
      "message : b'aaaaaaaaaaaaaaaaaaaaaaaaaaaaaaaaaaaaaaaaaaaaaaaaaaaaaaaaaaaaaaaaaaaaaaaaaaaaaaaaa' (81), padded_message = b'aaaaaaaaaaaaaaaaaaaaaaaaaaaaaaaaaaaaaaaaaaaaaaaaaaaaaaaaaaaaaaaaaaaaaaaaaaaaaaaaa\\x0f\\x0f\\x0f\\x0f\\x0f\\x0f\\x0f\\x0f\\x0f\\x0f\\x0f\\x0f\\x0f\\x0f\\x0f'\n",
      "message : b'aaaaaaaaaaaaaaaaaaaaaaaaaaaaaaaaaaaaaaaaaaaaaaaaaaaaaaaaaaaaaaaaaaaaaaaaaaaaaaaaaa' (82), padded_message = b'aaaaaaaaaaaaaaaaaaaaaaaaaaaaaaaaaaaaaaaaaaaaaaaaaaaaaaaaaaaaaaaaaaaaaaaaaaaaaaaaaa\\x0e\\x0e\\x0e\\x0e\\x0e\\x0e\\x0e\\x0e\\x0e\\x0e\\x0e\\x0e\\x0e\\x0e'\n",
      "message : b'aaaaaaaaaaaaaaaaaaaaaaaaaaaaaaaaaaaaaaaaaaaaaaaaaaaaaaaaaaaaaaaaaaaaaaaaaaaaaaaaaaa' (83), padded_message = b'aaaaaaaaaaaaaaaaaaaaaaaaaaaaaaaaaaaaaaaaaaaaaaaaaaaaaaaaaaaaaaaaaaaaaaaaaaaaaaaaaaa\\r\\r\\r\\r\\r\\r\\r\\r\\r\\r\\r\\r\\r'\n",
      "message : b'aaaaaaaaaaaaaaaaaaaaaaaaaaaaaaaaaaaaaaaaaaaaaaaaaaaaaaaaaaaaaaaaaaaaaaaaaaaaaaaaaaaa' (84), padded_message = b'aaaaaaaaaaaaaaaaaaaaaaaaaaaaaaaaaaaaaaaaaaaaaaaaaaaaaaaaaaaaaaaaaaaaaaaaaaaaaaaaaaaa\\x0c\\x0c\\x0c\\x0c\\x0c\\x0c\\x0c\\x0c\\x0c\\x0c\\x0c\\x0c'\n",
      "message : b'aaaaaaaaaaaaaaaaaaaaaaaaaaaaaaaaaaaaaaaaaaaaaaaaaaaaaaaaaaaaaaaaaaaaaaaaaaaaaaaaaaaaa' (85), padded_message = b'aaaaaaaaaaaaaaaaaaaaaaaaaaaaaaaaaaaaaaaaaaaaaaaaaaaaaaaaaaaaaaaaaaaaaaaaaaaaaaaaaaaaa\\x0b\\x0b\\x0b\\x0b\\x0b\\x0b\\x0b\\x0b\\x0b\\x0b\\x0b'\n",
      "message : b'aaaaaaaaaaaaaaaaaaaaaaaaaaaaaaaaaaaaaaaaaaaaaaaaaaaaaaaaaaaaaaaaaaaaaaaaaaaaaaaaaaaaaa' (86), padded_message = b'aaaaaaaaaaaaaaaaaaaaaaaaaaaaaaaaaaaaaaaaaaaaaaaaaaaaaaaaaaaaaaaaaaaaaaaaaaaaaaaaaaaaaa\\n\\n\\n\\n\\n\\n\\n\\n\\n\\n'\n",
      "message : b'aaaaaaaaaaaaaaaaaaaaaaaaaaaaaaaaaaaaaaaaaaaaaaaaaaaaaaaaaaaaaaaaaaaaaaaaaaaaaaaaaaaaaaa' (87), padded_message = b'aaaaaaaaaaaaaaaaaaaaaaaaaaaaaaaaaaaaaaaaaaaaaaaaaaaaaaaaaaaaaaaaaaaaaaaaaaaaaaaaaaaaaaa\\t\\t\\t\\t\\t\\t\\t\\t\\t'\n",
      "message : b'aaaaaaaaaaaaaaaaaaaaaaaaaaaaaaaaaaaaaaaaaaaaaaaaaaaaaaaaaaaaaaaaaaaaaaaaaaaaaaaaaaaaaaaa' (88), padded_message = b'aaaaaaaaaaaaaaaaaaaaaaaaaaaaaaaaaaaaaaaaaaaaaaaaaaaaaaaaaaaaaaaaaaaaaaaaaaaaaaaaaaaaaaaa\\x08\\x08\\x08\\x08\\x08\\x08\\x08\\x08'\n",
      "message : b'aaaaaaaaaaaaaaaaaaaaaaaaaaaaaaaaaaaaaaaaaaaaaaaaaaaaaaaaaaaaaaaaaaaaaaaaaaaaaaaaaaaaaaaaa' (89), padded_message = b'aaaaaaaaaaaaaaaaaaaaaaaaaaaaaaaaaaaaaaaaaaaaaaaaaaaaaaaaaaaaaaaaaaaaaaaaaaaaaaaaaaaaaaaaa\\x07\\x07\\x07\\x07\\x07\\x07\\x07'\n",
      "message : b'aaaaaaaaaaaaaaaaaaaaaaaaaaaaaaaaaaaaaaaaaaaaaaaaaaaaaaaaaaaaaaaaaaaaaaaaaaaaaaaaaaaaaaaaaa' (90), padded_message = b'aaaaaaaaaaaaaaaaaaaaaaaaaaaaaaaaaaaaaaaaaaaaaaaaaaaaaaaaaaaaaaaaaaaaaaaaaaaaaaaaaaaaaaaaaa\\x06\\x06\\x06\\x06\\x06\\x06'\n",
      "message : b'aaaaaaaaaaaaaaaaaaaaaaaaaaaaaaaaaaaaaaaaaaaaaaaaaaaaaaaaaaaaaaaaaaaaaaaaaaaaaaaaaaaaaaaaaaa' (91), padded_message = b'aaaaaaaaaaaaaaaaaaaaaaaaaaaaaaaaaaaaaaaaaaaaaaaaaaaaaaaaaaaaaaaaaaaaaaaaaaaaaaaaaaaaaaaaaaa\\x05\\x05\\x05\\x05\\x05'\n",
      "message : b'aaaaaaaaaaaaaaaaaaaaaaaaaaaaaaaaaaaaaaaaaaaaaaaaaaaaaaaaaaaaaaaaaaaaaaaaaaaaaaaaaaaaaaaaaaaa' (92), padded_message = b'aaaaaaaaaaaaaaaaaaaaaaaaaaaaaaaaaaaaaaaaaaaaaaaaaaaaaaaaaaaaaaaaaaaaaaaaaaaaaaaaaaaaaaaaaaaa\\x04\\x04\\x04\\x04'\n",
      "message : b'aaaaaaaaaaaaaaaaaaaaaaaaaaaaaaaaaaaaaaaaaaaaaaaaaaaaaaaaaaaaaaaaaaaaaaaaaaaaaaaaaaaaaaaaaaaaa' (93), padded_message = b'aaaaaaaaaaaaaaaaaaaaaaaaaaaaaaaaaaaaaaaaaaaaaaaaaaaaaaaaaaaaaaaaaaaaaaaaaaaaaaaaaaaaaaaaaaaaa\\x03\\x03\\x03'\n",
      "message : b'aaaaaaaaaaaaaaaaaaaaaaaaaaaaaaaaaaaaaaaaaaaaaaaaaaaaaaaaaaaaaaaaaaaaaaaaaaaaaaaaaaaaaaaaaaaaaa' (94), padded_message = b'aaaaaaaaaaaaaaaaaaaaaaaaaaaaaaaaaaaaaaaaaaaaaaaaaaaaaaaaaaaaaaaaaaaaaaaaaaaaaaaaaaaaaaaaaaaaaa\\x02\\x02'\n",
      "message : b'aaaaaaaaaaaaaaaaaaaaaaaaaaaaaaaaaaaaaaaaaaaaaaaaaaaaaaaaaaaaaaaaaaaaaaaaaaaaaaaaaaaaaaaaaaaaaaa' (95), padded_message = b'aaaaaaaaaaaaaaaaaaaaaaaaaaaaaaaaaaaaaaaaaaaaaaaaaaaaaaaaaaaaaaaaaaaaaaaaaaaaaaaaaaaaaaaaaaaaaaa\\x01'\n",
      "message : b'aaaaaaaaaaaaaaaaaaaaaaaaaaaaaaaaaaaaaaaaaaaaaaaaaaaaaaaaaaaaaaaaaaaaaaaaaaaaaaaaaaaaaaaaaaaaaaaa' (96), padded_message = b'aaaaaaaaaaaaaaaaaaaaaaaaaaaaaaaaaaaaaaaaaaaaaaaaaaaaaaaaaaaaaaaaaaaaaaaaaaaaaaaaaaaaaaaaaaaaaaaa\\x10\\x10\\x10\\x10\\x10\\x10\\x10\\x10\\x10\\x10\\x10\\x10\\x10\\x10\\x10\\x10'\n",
      "message : b'aaaaaaaaaaaaaaaaaaaaaaaaaaaaaaaaaaaaaaaaaaaaaaaaaaaaaaaaaaaaaaaaaaaaaaaaaaaaaaaaaaaaaaaaaaaaaaaaa' (97), padded_message = b'aaaaaaaaaaaaaaaaaaaaaaaaaaaaaaaaaaaaaaaaaaaaaaaaaaaaaaaaaaaaaaaaaaaaaaaaaaaaaaaaaaaaaaaaaaaaaaaaa\\x0f\\x0f\\x0f\\x0f\\x0f\\x0f\\x0f\\x0f\\x0f\\x0f\\x0f\\x0f\\x0f\\x0f\\x0f'\n",
      "message : b'aaaaaaaaaaaaaaaaaaaaaaaaaaaaaaaaaaaaaaaaaaaaaaaaaaaaaaaaaaaaaaaaaaaaaaaaaaaaaaaaaaaaaaaaaaaaaaaaaa' (98), padded_message = b'aaaaaaaaaaaaaaaaaaaaaaaaaaaaaaaaaaaaaaaaaaaaaaaaaaaaaaaaaaaaaaaaaaaaaaaaaaaaaaaaaaaaaaaaaaaaaaaaaa\\x0e\\x0e\\x0e\\x0e\\x0e\\x0e\\x0e\\x0e\\x0e\\x0e\\x0e\\x0e\\x0e\\x0e'\n",
      "message : b'aaaaaaaaaaaaaaaaaaaaaaaaaaaaaaaaaaaaaaaaaaaaaaaaaaaaaaaaaaaaaaaaaaaaaaaaaaaaaaaaaaaaaaaaaaaaaaaaaaa' (99), padded_message = b'aaaaaaaaaaaaaaaaaaaaaaaaaaaaaaaaaaaaaaaaaaaaaaaaaaaaaaaaaaaaaaaaaaaaaaaaaaaaaaaaaaaaaaaaaaaaaaaaaaa\\r\\r\\r\\r\\r\\r\\r\\r\\r\\r\\r\\r\\r'\n",
      "message : b'aaaaaaaaaaaaaaaaaaaaaaaaaaaaaaaaaaaaaaaaaaaaaaaaaaaaaaaaaaaaaaaaaaaaaaaaaaaaaaaaaaaaaaaaaaaaaaaaaaaa' (100), padded_message = b'aaaaaaaaaaaaaaaaaaaaaaaaaaaaaaaaaaaaaaaaaaaaaaaaaaaaaaaaaaaaaaaaaaaaaaaaaaaaaaaaaaaaaaaaaaaaaaaaaaaa\\x0c\\x0c\\x0c\\x0c\\x0c\\x0c\\x0c\\x0c\\x0c\\x0c\\x0c\\x0c'\n",
      "message : b'aaaaaaaaaaaaaaaaaaaaaaaaaaaaaaaaaaaaaaaaaaaaaaaaaaaaaaaaaaaaaaaaaaaaaaaaaaaaaaaaaaaaaaaaaaaaaaaaaaaaa' (101), padded_message = b'aaaaaaaaaaaaaaaaaaaaaaaaaaaaaaaaaaaaaaaaaaaaaaaaaaaaaaaaaaaaaaaaaaaaaaaaaaaaaaaaaaaaaaaaaaaaaaaaaaaaa\\x0b\\x0b\\x0b\\x0b\\x0b\\x0b\\x0b\\x0b\\x0b\\x0b\\x0b'\n",
      "message : b'aaaaaaaaaaaaaaaaaaaaaaaaaaaaaaaaaaaaaaaaaaaaaaaaaaaaaaaaaaaaaaaaaaaaaaaaaaaaaaaaaaaaaaaaaaaaaaaaaaaaaa' (102), padded_message = b'aaaaaaaaaaaaaaaaaaaaaaaaaaaaaaaaaaaaaaaaaaaaaaaaaaaaaaaaaaaaaaaaaaaaaaaaaaaaaaaaaaaaaaaaaaaaaaaaaaaaaa\\n\\n\\n\\n\\n\\n\\n\\n\\n\\n'\n",
      "message : b'aaaaaaaaaaaaaaaaaaaaaaaaaaaaaaaaaaaaaaaaaaaaaaaaaaaaaaaaaaaaaaaaaaaaaaaaaaaaaaaaaaaaaaaaaaaaaaaaaaaaaaa' (103), padded_message = b'aaaaaaaaaaaaaaaaaaaaaaaaaaaaaaaaaaaaaaaaaaaaaaaaaaaaaaaaaaaaaaaaaaaaaaaaaaaaaaaaaaaaaaaaaaaaaaaaaaaaaaa\\t\\t\\t\\t\\t\\t\\t\\t\\t'\n",
      "message : b'aaaaaaaaaaaaaaaaaaaaaaaaaaaaaaaaaaaaaaaaaaaaaaaaaaaaaaaaaaaaaaaaaaaaaaaaaaaaaaaaaaaaaaaaaaaaaaaaaaaaaaaa' (104), padded_message = b'aaaaaaaaaaaaaaaaaaaaaaaaaaaaaaaaaaaaaaaaaaaaaaaaaaaaaaaaaaaaaaaaaaaaaaaaaaaaaaaaaaaaaaaaaaaaaaaaaaaaaaaa\\x08\\x08\\x08\\x08\\x08\\x08\\x08\\x08'\n",
      "message : b'aaaaaaaaaaaaaaaaaaaaaaaaaaaaaaaaaaaaaaaaaaaaaaaaaaaaaaaaaaaaaaaaaaaaaaaaaaaaaaaaaaaaaaaaaaaaaaaaaaaaaaaaa' (105), padded_message = b'aaaaaaaaaaaaaaaaaaaaaaaaaaaaaaaaaaaaaaaaaaaaaaaaaaaaaaaaaaaaaaaaaaaaaaaaaaaaaaaaaaaaaaaaaaaaaaaaaaaaaaaaa\\x07\\x07\\x07\\x07\\x07\\x07\\x07'\n",
      "message : b'aaaaaaaaaaaaaaaaaaaaaaaaaaaaaaaaaaaaaaaaaaaaaaaaaaaaaaaaaaaaaaaaaaaaaaaaaaaaaaaaaaaaaaaaaaaaaaaaaaaaaaaaaa' (106), padded_message = b'aaaaaaaaaaaaaaaaaaaaaaaaaaaaaaaaaaaaaaaaaaaaaaaaaaaaaaaaaaaaaaaaaaaaaaaaaaaaaaaaaaaaaaaaaaaaaaaaaaaaaaaaaa\\x06\\x06\\x06\\x06\\x06\\x06'\n",
      "message : b'aaaaaaaaaaaaaaaaaaaaaaaaaaaaaaaaaaaaaaaaaaaaaaaaaaaaaaaaaaaaaaaaaaaaaaaaaaaaaaaaaaaaaaaaaaaaaaaaaaaaaaaaaaa' (107), padded_message = b'aaaaaaaaaaaaaaaaaaaaaaaaaaaaaaaaaaaaaaaaaaaaaaaaaaaaaaaaaaaaaaaaaaaaaaaaaaaaaaaaaaaaaaaaaaaaaaaaaaaaaaaaaaa\\x05\\x05\\x05\\x05\\x05'\n",
      "message : b'aaaaaaaaaaaaaaaaaaaaaaaaaaaaaaaaaaaaaaaaaaaaaaaaaaaaaaaaaaaaaaaaaaaaaaaaaaaaaaaaaaaaaaaaaaaaaaaaaaaaaaaaaaaa' (108), padded_message = b'aaaaaaaaaaaaaaaaaaaaaaaaaaaaaaaaaaaaaaaaaaaaaaaaaaaaaaaaaaaaaaaaaaaaaaaaaaaaaaaaaaaaaaaaaaaaaaaaaaaaaaaaaaaa\\x04\\x04\\x04\\x04'\n",
      "message : b'aaaaaaaaaaaaaaaaaaaaaaaaaaaaaaaaaaaaaaaaaaaaaaaaaaaaaaaaaaaaaaaaaaaaaaaaaaaaaaaaaaaaaaaaaaaaaaaaaaaaaaaaaaaaa' (109), padded_message = b'aaaaaaaaaaaaaaaaaaaaaaaaaaaaaaaaaaaaaaaaaaaaaaaaaaaaaaaaaaaaaaaaaaaaaaaaaaaaaaaaaaaaaaaaaaaaaaaaaaaaaaaaaaaaa\\x03\\x03\\x03'\n",
      "message : b'aaaaaaaaaaaaaaaaaaaaaaaaaaaaaaaaaaaaaaaaaaaaaaaaaaaaaaaaaaaaaaaaaaaaaaaaaaaaaaaaaaaaaaaaaaaaaaaaaaaaaaaaaaaaaa' (110), padded_message = b'aaaaaaaaaaaaaaaaaaaaaaaaaaaaaaaaaaaaaaaaaaaaaaaaaaaaaaaaaaaaaaaaaaaaaaaaaaaaaaaaaaaaaaaaaaaaaaaaaaaaaaaaaaaaaa\\x02\\x02'\n",
      "message : b'aaaaaaaaaaaaaaaaaaaaaaaaaaaaaaaaaaaaaaaaaaaaaaaaaaaaaaaaaaaaaaaaaaaaaaaaaaaaaaaaaaaaaaaaaaaaaaaaaaaaaaaaaaaaaaa' (111), padded_message = b'aaaaaaaaaaaaaaaaaaaaaaaaaaaaaaaaaaaaaaaaaaaaaaaaaaaaaaaaaaaaaaaaaaaaaaaaaaaaaaaaaaaaaaaaaaaaaaaaaaaaaaaaaaaaaaa\\x01'\n",
      "message : b'aaaaaaaaaaaaaaaaaaaaaaaaaaaaaaaaaaaaaaaaaaaaaaaaaaaaaaaaaaaaaaaaaaaaaaaaaaaaaaaaaaaaaaaaaaaaaaaaaaaaaaaaaaaaaaaa' (112), padded_message = b'aaaaaaaaaaaaaaaaaaaaaaaaaaaaaaaaaaaaaaaaaaaaaaaaaaaaaaaaaaaaaaaaaaaaaaaaaaaaaaaaaaaaaaaaaaaaaaaaaaaaaaaaaaaaaaaa\\x10\\x10\\x10\\x10\\x10\\x10\\x10\\x10\\x10\\x10\\x10\\x10\\x10\\x10\\x10\\x10'\n",
      "message : b'aaaaaaaaaaaaaaaaaaaaaaaaaaaaaaaaaaaaaaaaaaaaaaaaaaaaaaaaaaaaaaaaaaaaaaaaaaaaaaaaaaaaaaaaaaaaaaaaaaaaaaaaaaaaaaaaa' (113), padded_message = b'aaaaaaaaaaaaaaaaaaaaaaaaaaaaaaaaaaaaaaaaaaaaaaaaaaaaaaaaaaaaaaaaaaaaaaaaaaaaaaaaaaaaaaaaaaaaaaaaaaaaaaaaaaaaaaaaa\\x0f\\x0f\\x0f\\x0f\\x0f\\x0f\\x0f\\x0f\\x0f\\x0f\\x0f\\x0f\\x0f\\x0f\\x0f'\n",
      "message : b'aaaaaaaaaaaaaaaaaaaaaaaaaaaaaaaaaaaaaaaaaaaaaaaaaaaaaaaaaaaaaaaaaaaaaaaaaaaaaaaaaaaaaaaaaaaaaaaaaaaaaaaaaaaaaaaaaa' (114), padded_message = b'aaaaaaaaaaaaaaaaaaaaaaaaaaaaaaaaaaaaaaaaaaaaaaaaaaaaaaaaaaaaaaaaaaaaaaaaaaaaaaaaaaaaaaaaaaaaaaaaaaaaaaaaaaaaaaaaaa\\x0e\\x0e\\x0e\\x0e\\x0e\\x0e\\x0e\\x0e\\x0e\\x0e\\x0e\\x0e\\x0e\\x0e'\n",
      "message : b'aaaaaaaaaaaaaaaaaaaaaaaaaaaaaaaaaaaaaaaaaaaaaaaaaaaaaaaaaaaaaaaaaaaaaaaaaaaaaaaaaaaaaaaaaaaaaaaaaaaaaaaaaaaaaaaaaaa' (115), padded_message = b'aaaaaaaaaaaaaaaaaaaaaaaaaaaaaaaaaaaaaaaaaaaaaaaaaaaaaaaaaaaaaaaaaaaaaaaaaaaaaaaaaaaaaaaaaaaaaaaaaaaaaaaaaaaaaaaaaaa\\r\\r\\r\\r\\r\\r\\r\\r\\r\\r\\r\\r\\r'\n",
      "message : b'aaaaaaaaaaaaaaaaaaaaaaaaaaaaaaaaaaaaaaaaaaaaaaaaaaaaaaaaaaaaaaaaaaaaaaaaaaaaaaaaaaaaaaaaaaaaaaaaaaaaaaaaaaaaaaaaaaaa' (116), padded_message = b'aaaaaaaaaaaaaaaaaaaaaaaaaaaaaaaaaaaaaaaaaaaaaaaaaaaaaaaaaaaaaaaaaaaaaaaaaaaaaaaaaaaaaaaaaaaaaaaaaaaaaaaaaaaaaaaaaaaa\\x0c\\x0c\\x0c\\x0c\\x0c\\x0c\\x0c\\x0c\\x0c\\x0c\\x0c\\x0c'\n",
      "message : b'aaaaaaaaaaaaaaaaaaaaaaaaaaaaaaaaaaaaaaaaaaaaaaaaaaaaaaaaaaaaaaaaaaaaaaaaaaaaaaaaaaaaaaaaaaaaaaaaaaaaaaaaaaaaaaaaaaaaa' (117), padded_message = b'aaaaaaaaaaaaaaaaaaaaaaaaaaaaaaaaaaaaaaaaaaaaaaaaaaaaaaaaaaaaaaaaaaaaaaaaaaaaaaaaaaaaaaaaaaaaaaaaaaaaaaaaaaaaaaaaaaaaa\\x0b\\x0b\\x0b\\x0b\\x0b\\x0b\\x0b\\x0b\\x0b\\x0b\\x0b'\n",
      "message : b'aaaaaaaaaaaaaaaaaaaaaaaaaaaaaaaaaaaaaaaaaaaaaaaaaaaaaaaaaaaaaaaaaaaaaaaaaaaaaaaaaaaaaaaaaaaaaaaaaaaaaaaaaaaaaaaaaaaaaa' (118), padded_message = b'aaaaaaaaaaaaaaaaaaaaaaaaaaaaaaaaaaaaaaaaaaaaaaaaaaaaaaaaaaaaaaaaaaaaaaaaaaaaaaaaaaaaaaaaaaaaaaaaaaaaaaaaaaaaaaaaaaaaaa\\n\\n\\n\\n\\n\\n\\n\\n\\n\\n'\n",
      "message : b'aaaaaaaaaaaaaaaaaaaaaaaaaaaaaaaaaaaaaaaaaaaaaaaaaaaaaaaaaaaaaaaaaaaaaaaaaaaaaaaaaaaaaaaaaaaaaaaaaaaaaaaaaaaaaaaaaaaaaaa' (119), padded_message = b'aaaaaaaaaaaaaaaaaaaaaaaaaaaaaaaaaaaaaaaaaaaaaaaaaaaaaaaaaaaaaaaaaaaaaaaaaaaaaaaaaaaaaaaaaaaaaaaaaaaaaaaaaaaaaaaaaaaaaaa\\t\\t\\t\\t\\t\\t\\t\\t\\t'\n",
      "message : b'aaaaaaaaaaaaaaaaaaaaaaaaaaaaaaaaaaaaaaaaaaaaaaaaaaaaaaaaaaaaaaaaaaaaaaaaaaaaaaaaaaaaaaaaaaaaaaaaaaaaaaaaaaaaaaaaaaaaaaaa' (120), padded_message = b'aaaaaaaaaaaaaaaaaaaaaaaaaaaaaaaaaaaaaaaaaaaaaaaaaaaaaaaaaaaaaaaaaaaaaaaaaaaaaaaaaaaaaaaaaaaaaaaaaaaaaaaaaaaaaaaaaaaaaaaa\\x08\\x08\\x08\\x08\\x08\\x08\\x08\\x08'\n",
      "message : b'aaaaaaaaaaaaaaaaaaaaaaaaaaaaaaaaaaaaaaaaaaaaaaaaaaaaaaaaaaaaaaaaaaaaaaaaaaaaaaaaaaaaaaaaaaaaaaaaaaaaaaaaaaaaaaaaaaaaaaaaa' (121), padded_message = b'aaaaaaaaaaaaaaaaaaaaaaaaaaaaaaaaaaaaaaaaaaaaaaaaaaaaaaaaaaaaaaaaaaaaaaaaaaaaaaaaaaaaaaaaaaaaaaaaaaaaaaaaaaaaaaaaaaaaaaaaa\\x07\\x07\\x07\\x07\\x07\\x07\\x07'\n",
      "message : b'aaaaaaaaaaaaaaaaaaaaaaaaaaaaaaaaaaaaaaaaaaaaaaaaaaaaaaaaaaaaaaaaaaaaaaaaaaaaaaaaaaaaaaaaaaaaaaaaaaaaaaaaaaaaaaaaaaaaaaaaaa' (122), padded_message = b'aaaaaaaaaaaaaaaaaaaaaaaaaaaaaaaaaaaaaaaaaaaaaaaaaaaaaaaaaaaaaaaaaaaaaaaaaaaaaaaaaaaaaaaaaaaaaaaaaaaaaaaaaaaaaaaaaaaaaaaaaa\\x06\\x06\\x06\\x06\\x06\\x06'\n",
      "message : b'aaaaaaaaaaaaaaaaaaaaaaaaaaaaaaaaaaaaaaaaaaaaaaaaaaaaaaaaaaaaaaaaaaaaaaaaaaaaaaaaaaaaaaaaaaaaaaaaaaaaaaaaaaaaaaaaaaaaaaaaaaa' (123), padded_message = b'aaaaaaaaaaaaaaaaaaaaaaaaaaaaaaaaaaaaaaaaaaaaaaaaaaaaaaaaaaaaaaaaaaaaaaaaaaaaaaaaaaaaaaaaaaaaaaaaaaaaaaaaaaaaaaaaaaaaaaaaaaa\\x05\\x05\\x05\\x05\\x05'\n",
      "message : b'aaaaaaaaaaaaaaaaaaaaaaaaaaaaaaaaaaaaaaaaaaaaaaaaaaaaaaaaaaaaaaaaaaaaaaaaaaaaaaaaaaaaaaaaaaaaaaaaaaaaaaaaaaaaaaaaaaaaaaaaaaaa' (124), padded_message = b'aaaaaaaaaaaaaaaaaaaaaaaaaaaaaaaaaaaaaaaaaaaaaaaaaaaaaaaaaaaaaaaaaaaaaaaaaaaaaaaaaaaaaaaaaaaaaaaaaaaaaaaaaaaaaaaaaaaaaaaaaaaa\\x04\\x04\\x04\\x04'\n",
      "message : b'aaaaaaaaaaaaaaaaaaaaaaaaaaaaaaaaaaaaaaaaaaaaaaaaaaaaaaaaaaaaaaaaaaaaaaaaaaaaaaaaaaaaaaaaaaaaaaaaaaaaaaaaaaaaaaaaaaaaaaaaaaaaa' (125), padded_message = b'aaaaaaaaaaaaaaaaaaaaaaaaaaaaaaaaaaaaaaaaaaaaaaaaaaaaaaaaaaaaaaaaaaaaaaaaaaaaaaaaaaaaaaaaaaaaaaaaaaaaaaaaaaaaaaaaaaaaaaaaaaaaa\\x03\\x03\\x03'\n",
      "message : b'aaaaaaaaaaaaaaaaaaaaaaaaaaaaaaaaaaaaaaaaaaaaaaaaaaaaaaaaaaaaaaaaaaaaaaaaaaaaaaaaaaaaaaaaaaaaaaaaaaaaaaaaaaaaaaaaaaaaaaaaaaaaaa' (126), padded_message = b'aaaaaaaaaaaaaaaaaaaaaaaaaaaaaaaaaaaaaaaaaaaaaaaaaaaaaaaaaaaaaaaaaaaaaaaaaaaaaaaaaaaaaaaaaaaaaaaaaaaaaaaaaaaaaaaaaaaaaaaaaaaaaa\\x02\\x02'\n",
      "message : b'aaaaaaaaaaaaaaaaaaaaaaaaaaaaaaaaaaaaaaaaaaaaaaaaaaaaaaaaaaaaaaaaaaaaaaaaaaaaaaaaaaaaaaaaaaaaaaaaaaaaaaaaaaaaaaaaaaaaaaaaaaaaaaa' (127), padded_message = b'aaaaaaaaaaaaaaaaaaaaaaaaaaaaaaaaaaaaaaaaaaaaaaaaaaaaaaaaaaaaaaaaaaaaaaaaaaaaaaaaaaaaaaaaaaaaaaaaaaaaaaaaaaaaaaaaaaaaaaaaaaaaaaa\\x01'\n"
     ]
    }
   ],
   "source": [
    "secret_key = os.urandom(32)\n",
    "iv = os.urandom(16)\n",
    "cipher = Cipher(algorithms.AES(secret_key),modes.CBC(iv),default_backend())\n",
    "block_size = 16\n",
    "for msg_len in range(128):\n",
    "    m = str.encode(\"a\"*msg_len)\n",
    "    padder = padding.PKCS7(block_size * 8 ).padder()\n",
    "    message_padded = padder.update(m) + padder.finalize()\n",
    "    encryptor = cipher.encryptor()\n",
    "    cipher_text = encryptor.update(message_padded) + encryptor.finalize()\n",
    "#     print(f\"message : {m}, padded_message = {message_padded }, cipher text : {cipher_text}\")\n",
    "#     print(f\"message len = {len(m)} , message padded len = {len(message_padded)} , cipher text len= {len(cipher_text)} \")\n",
    "    print(f\"message : {m} ({len(m)}), padded_message = {message_padded }\")\n",
    "    \n",
    "    "
   ]
  },
  {
   "cell_type": "markdown",
   "id": "bbac8dca",
   "metadata": {},
   "source": [
    "we see that the size of the cipher text is the same as the size of the padded message and that's because the encryption is by blocks \n",
    "\n",
    "and we see also that when the message len reaches 16 the padded message go to 32 and that because the rest will be 16 (block_size - len(m) % block_size=16) then we add 16 bytes.\n",
    "\n",
    "All the lengths are a multiples of 16 (block size)"
   ]
  },
  {
   "cell_type": "code",
   "execution_count": 249,
   "id": "73a5244f",
   "metadata": {},
   "outputs": [
    {
     "data": {
      "text/plain": [
       "15"
      ]
     },
     "execution_count": 249,
     "metadata": {},
     "output_type": "execute_result"
    }
   ],
   "source": []
  },
  {
   "cell_type": "code",
   "execution_count": null,
   "id": "a11bdad7",
   "metadata": {},
   "outputs": [],
   "source": []
  }
 ],
 "metadata": {
  "kernelspec": {
   "display_name": "Python 3 (ipykernel)",
   "language": "python",
   "name": "python3"
  },
  "language_info": {
   "codemirror_mode": {
    "name": "ipython",
    "version": 3
   },
   "file_extension": ".py",
   "mimetype": "text/x-python",
   "name": "python",
   "nbconvert_exporter": "python",
   "pygments_lexer": "ipython3",
   "version": "3.8.8"
  }
 },
 "nbformat": 4,
 "nbformat_minor": 5
}
