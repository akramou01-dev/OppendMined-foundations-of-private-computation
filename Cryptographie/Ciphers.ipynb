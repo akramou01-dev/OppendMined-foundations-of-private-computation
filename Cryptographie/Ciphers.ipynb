{
 "cells": [
  {
   "cell_type": "code",
   "execution_count": 1,
   "id": "2d277987",
   "metadata": {},
   "outputs": [],
   "source": [
    "import string "
   ]
  },
  {
   "cell_type": "code",
   "execution_count": 2,
   "id": "86d8cd4e",
   "metadata": {},
   "outputs": [
    {
     "data": {
      "text/plain": [
       "'abcdefghijklmnopqrstuvwxyz'"
      ]
     },
     "execution_count": 2,
     "metadata": {},
     "output_type": "execute_result"
    }
   ],
   "source": []
  },
  {
   "cell_type": "code",
   "execution_count": 27,
   "id": "dbe8a9fe",
   "metadata": {},
   "outputs": [],
   "source": [
    "def shift_by(secret_key ): \n",
    "    assert len(secret_key)==1 , \"the length of the key is incorrecte\"\n",
    "    assert secret_key in string.ascii_lowercase , f\"{secret_key} is not an ascii_lowercase\"\n",
    "    int_key = ord(secret_key) - 97\n",
    "    \n",
    "    return string.ascii_lowercase[int_key:] + string.ascii_lowercase[:int_key] "
   ]
  },
  {
   "cell_type": "code",
   "execution_count": 28,
   "id": "63e28840",
   "metadata": {},
   "outputs": [
    {
     "name": "stdout",
     "output_type": "stream",
     "text": [
      "d\n",
      ".\n",
      "a\n",
      "\n",
      "\n",
      "e\n",
      ".\n",
      "b\n",
      "\n",
      "\n",
      "f\n",
      ".\n",
      "c\n",
      "\n",
      "\n",
      "g\n",
      ".\n",
      "d\n",
      "\n",
      "\n",
      "h\n",
      ".\n",
      "e\n",
      "\n",
      "\n",
      "i\n",
      ".\n",
      "f\n",
      "\n",
      "\n",
      "j\n",
      ".\n",
      "g\n",
      "\n",
      "\n",
      "k\n",
      ".\n",
      "h\n",
      "\n",
      "\n",
      "l\n",
      ".\n",
      "i\n",
      "\n",
      "\n",
      "m\n",
      ".\n",
      "j\n",
      "\n",
      "\n",
      "n\n",
      ".\n",
      "k\n",
      "\n",
      "\n",
      "o\n",
      ".\n",
      "l\n",
      "\n",
      "\n",
      "p\n",
      ".\n",
      "m\n",
      "\n",
      "\n",
      "q\n",
      ".\n",
      "n\n",
      "\n",
      "\n",
      "r\n",
      ".\n",
      "o\n",
      "\n",
      "\n",
      "s\n",
      ".\n",
      "p\n",
      "\n",
      "\n",
      "t\n",
      ".\n",
      "q\n",
      "\n",
      "\n",
      "u\n",
      ".\n",
      "r\n",
      "\n",
      "\n",
      "v\n",
      ".\n",
      "s\n",
      "\n",
      "\n",
      "w\n",
      ".\n",
      "t\n",
      "\n",
      "\n",
      "x\n",
      ".\n",
      "u\n",
      "\n",
      "\n",
      "y\n",
      ".\n",
      "v\n",
      "\n",
      "\n",
      "z\n",
      ".\n",
      "w\n",
      "\n",
      "\n",
      "a\n",
      ".\n",
      "x\n",
      "\n",
      "\n",
      "b\n",
      ".\n",
      "y\n",
      "\n",
      "\n",
      "c\n",
      ".\n",
      "z\n",
      "\n",
      "\n"
     ]
    }
   ],
   "source": [
    "for p,c in zip(shift_by(\"d\"),string.ascii_lowercase): \n",
    "    print(p)\n",
    "    print(\".\")\n",
    "    print(c)\n",
    "    print(\"\\n\")"
   ]
  },
  {
   "cell_type": "code",
   "execution_count": 26,
   "id": "a3781c27",
   "metadata": {},
   "outputs": [
    {
     "data": {
      "text/plain": [
       "'hijklmnopqrstuvwxyzabcdefgaaaa'"
      ]
     },
     "execution_count": 26,
     "metadata": {},
     "output_type": "execute_result"
    }
   ],
   "source": [
    "shift_by(\"h\")"
   ]
  },
  {
   "cell_type": "code",
   "execution_count": null,
   "id": "cbbe14bf",
   "metadata": {},
   "outputs": [],
   "source": []
  }
 ],
 "metadata": {
  "kernelspec": {
   "display_name": "Python 3",
   "language": "python",
   "name": "python3"
  },
  "language_info": {
   "codemirror_mode": {
    "name": "ipython",
    "version": 3
   },
   "file_extension": ".py",
   "mimetype": "text/x-python",
   "name": "python",
   "nbconvert_exporter": "python",
   "pygments_lexer": "ipython3",
   "version": "3.8.8"
  }
 },
 "nbformat": 4,
 "nbformat_minor": 5
}
