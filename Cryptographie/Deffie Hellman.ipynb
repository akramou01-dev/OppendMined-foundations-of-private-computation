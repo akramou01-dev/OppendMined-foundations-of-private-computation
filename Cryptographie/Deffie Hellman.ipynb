{
 "cells": [
  {
   "cell_type": "code",
   "execution_count": 40,
   "id": "08f31187",
   "metadata": {},
   "outputs": [],
   "source": [
    "from crypto import GeneratePrimeGeneratorPair\n",
    "import numpy as np"
   ]
  },
  {
   "cell_type": "code",
   "execution_count": 115,
   "id": "548f89b7",
   "metadata": {},
   "outputs": [
    {
     "name": "stdout",
     "output_type": "stream",
     "text": [
      "925499 138051\n"
     ]
    }
   ],
   "source": [
    "p , g = GeneratePrimeGeneratorPair(20)\n",
    "print(p,g)"
   ]
  },
  {
   "cell_type": "code",
   "execution_count": 141,
   "id": "ca6bce28",
   "metadata": {},
   "outputs": [],
   "source": [
    "from random import randrange\n",
    "\n",
    "def find_y(x,p,g,max_iter=  500000):\n",
    "    for i in range(max_iter): \n",
    "        y= randrange(1,p)\n",
    "        if pow(g,y,p) ==x:\n",
    "            return y\n",
    "    return None"
   ]
  },
  {
   "cell_type": "code",
   "execution_count": 142,
   "id": "34dd9955",
   "metadata": {},
   "outputs": [
    {
     "name": "stdout",
     "output_type": "stream",
     "text": [
      "843912\n",
      "Wall time: 587 ms\n"
     ]
    }
   ],
   "source": [
    "%%time\n",
    "x = randrange(1,p)\n",
    "y = find_y(x,p,g)\n",
    "print(y)\n",
    "if y is not None : \n",
    "    assert x == pow(g,y,p) , \"x not found\"\n",
    "else : \n",
    "    print(\"Y is None\")"
   ]
  },
  {
   "cell_type": "code",
   "execution_count": 158,
   "id": "6b86f326",
   "metadata": {},
   "outputs": [
    {
     "name": "stdout",
     "output_type": "stream",
     "text": [
      "Number of bits :4, avg_time : 0.0 \n",
      "Number of bits :5, avg_time : 5.1903724670410154e-05 \n",
      "Number of bits :6, avg_time : 9.992122650146485e-05 \n",
      "Number of bits :7, avg_time : 0.00010029077529907226 \n",
      "Number of bits :8, avg_time : 0.00030003786087036134 \n",
      "Number of bits :9, avg_time : 0.0008498072624206543 \n",
      "Number of bits :10, avg_time : 0.0015500187873840332 \n",
      "Number of bits :11, avg_time : 0.002400052547454834 \n",
      "Number of bits :12, avg_time : 0.008001625537872314 \n",
      "Number of bits :13, avg_time : 0.009999501705169677 \n",
      "Number of bits :14, avg_time : 0.02614715099334717 \n",
      "Number of bits :15, avg_time : 0.056451928615570066 \n",
      "Number of bits :16, avg_time : 0.08920497894287109 \n"
     ]
    }
   ],
   "source": [
    "from time import time\n",
    "\n",
    "trials= 20\n",
    "times = []\n",
    "for bits in range(4,17,1):\n",
    "    avg_time = []\n",
    "    for i in range(trials): \n",
    "        p,g = GeneratePrimeGeneratorPair(bits)\n",
    "        x = randrange(1,p)\n",
    "        \n",
    "        start_t = time()\n",
    "        y = find_y(x,p,g,500000)\n",
    "        end_t = time()\n",
    "        \n",
    "        avg_time.append(end_t-start_t)\n",
    "    print(f\"Number of bits :{bits}, avg_time : {np.mean(np.array(avg_time))} \")\n",
    "    times.append((bits,np.mean(np.array(avg_time))))\n",
    "    "
   ]
  },
  {
   "cell_type": "code",
   "execution_count": 151,
   "id": "9693009a",
   "metadata": {},
   "outputs": [],
   "source": [
    "import matplotlib.pyplot as plt\n",
    "%matplotlib inline"
   ]
  },
  {
   "cell_type": "code",
   "execution_count": 159,
   "id": "2a224e9b",
   "metadata": {},
   "outputs": [
    {
     "data": {
      "text/plain": [
       "<Figure size 432x288 with 0 Axes>"
      ]
     },
     "metadata": {},
     "output_type": "display_data"
    },
    {
     "data": {
      "image/png": "[encoded data removed]",
      "text/plain": [
       "<Figure size 576x576 with 1 Axes>"
      ]
     },
     "metadata": {
      "needs_background": "light"
     },
     "output_type": "display_data"
    }
   ],
   "source": [
    "plt.clf()\n",
    "\n",
    "bits = [x[0] for x in times]\n",
    "t = [x[1] for x in times]\n",
    "\n",
    "fig = plt.figure(figsize=(8,8))\n",
    "ax = fig.add_subplot(1, 1, 1)\n",
    "ax.scatter(bits, t)\n",
    "ax.plot(bits, t)\n",
    "\n",
    "ax.set_title(\"Time for cracking the discrete logarithm problem\")\n",
    "ax.set_xlabel(\"bits of $p$\")\n",
    "ax.set_ylabel(\"time ($s$)\")\n",
    "\n",
    "plt.grid()"
   ]
  },
  {
   "cell_type": "markdown",
   "id": "1fb261ef",
   "metadata": {},
   "source": [
    "# implementing  Deffie Hellman "
   ]
  },
  {
   "cell_type": "code",
   "execution_count": 216,
   "id": "84037eda",
   "metadata": {},
   "outputs": [
    {
     "name": "stdout",
     "output_type": "stream",
     "text": [
      "2690282339 466865334\n"
     ]
    }
   ],
   "source": [
    "# The 2 parts of comunication must agree on the same p and g \n",
    "bits = 32\n",
    "p , g = GeneratePrimeGeneratorPair(bits)\n",
    "\n",
    "print(p,g)\n"
   ]
  },
  {
   "cell_type": "code",
   "execution_count": 217,
   "id": "e64ed147",
   "metadata": {},
   "outputs": [],
   "source": [
    "class Party:\n",
    "    def __init__(self,name,p,g): \n",
    "        self.name = name \n",
    "        self.p = p\n",
    "        self.g =g \n",
    "        \n",
    "        self.s = None\n",
    "        self.a = randrange(p)\n",
    "        self.A = pow(self.g,self.a,self.p)\n",
    "        \n",
    "    def send_A(self):\n",
    "        return self.A\n",
    "    def get_B(self,B): \n",
    "        self.s = pow(B,self.a,self.p)\n",
    "    def __str__(self): \n",
    "        return f\"Party : {self.name}\\na : {self.a}\\np: {self.p}\\ng: {self.g}\\nA : {self.A}\\nsecret key : {self.s} \""
   ]
  },
  {
   "cell_type": "code",
   "execution_count": 218,
   "id": "b7ff6cd8",
   "metadata": {},
   "outputs": [],
   "source": [
    "alice = Party(\"alice\",p,g)\n",
    "bob = Party('bob',p,g)"
   ]
  },
  {
   "cell_type": "code",
   "execution_count": 219,
   "id": "7610401a",
   "metadata": {},
   "outputs": [
    {
     "name": "stdout",
     "output_type": "stream",
     "text": [
      "Party : alice\n",
      "a : 158968845\n",
      "p: 2690282339\n",
      "g: 466865334\n",
      "A : 1448038256\n",
      "secret key : None \n",
      "\n",
      "Party : bob\n",
      "a : 554054696\n",
      "p: 2690282339\n",
      "g: 466865334\n",
      "A : 293057024\n",
      "secret key : None \n"
     ]
    }
   ],
   "source": [
    "print(f\"{alice}\\n\\n{bob}\")"
   ]
  },
  {
   "cell_type": "code",
   "execution_count": 220,
   "id": "7b23f5b0",
   "metadata": {},
   "outputs": [],
   "source": [
    "A = alice.send_A()\n",
    "B = bob.send_A()"
   ]
  },
  {
   "cell_type": "code",
   "execution_count": 221,
   "id": "437f7d01",
   "metadata": {},
   "outputs": [],
   "source": [
    "alice.get_B(B)\n",
    "bob.get_B(A)"
   ]
  },
  {
   "cell_type": "code",
   "execution_count": 222,
   "id": "258cdc6b",
   "metadata": {},
   "outputs": [
    {
     "name": "stdout",
     "output_type": "stream",
     "text": [
      "Party : alice\n",
      "a : 158968845\n",
      "p: 2690282339\n",
      "g: 466865334\n",
      "A : 1448038256\n",
      "secret key : 1330461347 \n",
      "\n",
      "Party : bob\n",
      "a : 554054696\n",
      "p: 2690282339\n",
      "g: 466865334\n",
      "A : 293057024\n",
      "secret key : 1330461347 \n"
     ]
    }
   ],
   "source": [
    "print(f\"{alice}\\n\\n{bob}\")"
   ]
  },
  {
   "cell_type": "code",
   "execution_count": null,
   "id": "a1a88981",
   "metadata": {},
   "outputs": [],
   "source": []
  }
 ],
 "metadata": {
  "kernelspec": {
   "display_name": "Python 3 (ipykernel)",
   "language": "python",
   "name": "python3"
  },
  "language_info": {
   "codemirror_mode": {
    "name": "ipython",
    "version": 3
   },
   "file_extension": ".py",
   "mimetype": "text/x-python",
   "name": "python",
   "nbconvert_exporter": "python",
   "pygments_lexer": "ipython3",
   "version": "3.8.8"
  }
 },
 "nbformat": 4,
 "nbformat_minor": 5
}
