{
 "cells": [
  {
   "cell_type": "markdown",
   "id": "15c1993e",
   "metadata": {},
   "source": [
    "# Pseudo random generator"
   ]
  },
  {
   "cell_type": "code",
   "execution_count": 1,
   "id": "14aa872f",
   "metadata": {},
   "outputs": [],
   "source": [
    "from copy import deepcopy\n",
    "from random import randrange\n",
    "import string\n",
    "\n",
    "def vigenere_key_generator(secret_key_size: int) -> str:\n",
    "    n = len(string.ascii_lowercase)\n",
    "    secret_key = ''\n",
    "    while len(secret_key) < secret_key_size:\n",
    "        secret_key += string.ascii_lowercase[randrange(n)]\n",
    "    return secret_key\n",
    "\n",
    "\n",
    "def shift_letter(letter: str, shiftby: str, forward: bool=True) -> str:\n",
    "    n = len(string.ascii_lowercase)\n",
    "    \n",
    "    letter_int = ord(letter) - 97\n",
    "    shiftby_int = ord(shiftby) - 97\n",
    "    \n",
    "    if forward:\n",
    "        return string.ascii_lowercase[(letter_int+shiftby_int)%n]\n",
    "    else:\n",
    "        return string.ascii_lowercase[(letter_int-shiftby_int)%n]\n",
    "\n",
    "\n",
    "def vigenere_encrypt_decrypt(message: str, secret_key: str, encrypt:bool = True) -> str:\n",
    "    key_len = len(secret_key)\n",
    "    \n",
    "    encoded = ''\n",
    "    for i, letter in enumerate(message):\n",
    "        if letter != \" \":\n",
    "            encoded += shift_letter(letter, secret_key[i%key_len], forward=encrypt)\n",
    "        else:\n",
    "            encoded += letter\n",
    "    return encoded"
   ]
  },
  {
   "cell_type": "code",
   "execution_count": 3,
   "id": "ff446d37",
   "metadata": {},
   "outputs": [
    {
     "name": "stdout",
     "output_type": "stream",
     "text": [
      "message : hey my name is crypto, secret key : jyhfytuzvqpdvoeowhnaj , cipher text : qcf kr mvct dg qnfctx\n"
     ]
    }
   ],
   "source": [
    "message ='hey my name is crypto'\n",
    "secret_key= vigenere_key_generator(len(message))\n",
    "cipher_text = vigenere_encrypt_decrypt(message,secret_key)\n",
    "\n",
    "print(f\"message : {message}, secret key : {secret_key} , cipher text : {cipher_text}\")"
   ]
  },
  {
   "cell_type": "markdown",
   "id": "62179a0b",
   "metadata": {},
   "source": [
    "using the one time pad with binary "
   ]
  },
  {
   "cell_type": "code",
   "execution_count": 6,
   "id": "461020da",
   "metadata": {},
   "outputs": [
    {
     "name": "stdout",
     "output_type": "stream",
     "text": [
      "message : 011010110101001010101001110101 \n",
      "secret key : 001010101110110100011001110010\n",
      "cipher text : 010000011011111110110000000111\n"
     ]
    }
   ],
   "source": [
    "message = \"011010110101001010101001110101\"\n",
    "secret_key  = \"\".join([str(randrange(2)) for _ in range(len(message))])\n",
    "# for the cipher text we'll use the XOR operation \n",
    "cipher_text = \"\".join([str((int(s)+int(m))%2) for s , m in zip(secret_key,message)])\n",
    "\n",
    "\n",
    "print(f\"message : {message} \\nsecret key : {secret_key}\\ncipher text : {cipher_text}\")"
   ]
  },
  {
   "cell_type": "markdown",
   "id": "60ec4afe",
   "metadata": {},
   "source": [
    "#     Coding the Linear Congruentiel Generator \n"
   ]
  },
  {
   "cell_type": "code",
   "execution_count": 15,
   "id": "96e87d6d",
   "metadata": {},
   "outputs": [],
   "source": [
    "# on va définir les nombre a,c et m\n",
    "a=1664525\n",
    "c= 1013904223\n",
    "m = 2**32\n",
    "\n",
    "def LCG(x0,a,c,m):\n",
    "    return (x0*a +c) %m\n",
    "# X0 c'est le seed (first value)"
   ]
  },
  {
   "cell_type": "code",
   "execution_count": 33,
   "id": "d85b0321",
   "metadata": {},
   "outputs": [],
   "source": [
    "X0  = 155\n",
    "l = []\n",
    "xn =  X0\n",
    "for _ in range(100000): \n",
    "    xn = LCG(xn,a,c,m)\n",
    "    l.append(xn/m)\n",
    "    #on a déviser sur m juste pour avoir des valeur entre 0 et 1 (scalling)"
   ]
  },
  {
   "cell_type": "code",
   "execution_count": 34,
   "id": "40085023",
   "metadata": {
    "scrolled": true
   },
   "outputs": [
    {
     "data": {
      "image/png": "[encoded data removed]",
      "text/plain": [
       "<Figure size 1152x720 with 1 Axes>"
      ]
     },
     "metadata": {
      "needs_background": "light"
     },
     "output_type": "display_data"
    }
   ],
   "source": [
    "import matplotlib.pyplot as plt\n",
    "fig = plt.figure(figsize= (16,10))\n",
    "plt.hist(l,bins=50)\n",
    "plt.show()"
   ]
  },
  {
   "cell_type": "code",
   "execution_count": 43,
   "id": "60eb5886",
   "metadata": {},
   "outputs": [
    {
     "data": {
      "text/plain": [
       "[0.9999681781046093,\n",
       " 0.9998689170461148,\n",
       " 0.9999229409731925,\n",
       " 0.9998302552849054,\n",
       " 0.9998247446492314,\n",
       " 0.9998387915547937,\n",
       " 0.9998435990419239,\n",
       " 0.9998274161480367,\n",
       " 0.9998710625804961,\n",
       " 0.9998144544661045,\n",
       " 0.9998218710534275,\n",
       " 0.9999890811741352,\n",
       " 0.9999009883031249,\n",
       " 0.9999788084533066,\n",
       " 0.9998780752066523]"
      ]
     },
     "execution_count": 43,
     "metadata": {},
     "output_type": "execute_result"
    }
   ],
   "source": []
  },
  {
   "cell_type": "code",
   "execution_count": 45,
   "id": "6f5a8a0e",
   "metadata": {},
   "outputs": [],
   "source": [
    "from random import seed\n",
    "def PRNG(s,l): \n",
    "    seed(s)\n",
    "    prng = []\n",
    "    for _ in range(l): \n",
    "        prng.append(randrange(2))\n",
    "    return ''.join([str(n) for n in prng])"
   ]
  },
  {
   "cell_type": "code",
   "execution_count": 56,
   "id": "21cc735d",
   "metadata": {},
   "outputs": [
    {
     "name": "stdout",
     "output_type": "stream",
     "text": [
      "PRNG of alice is : 0001110010 and the one for bob is : 0001110010\n"
     ]
    }
   ],
   "source": [
    "s = 1245\n",
    "#Alice\n",
    "prng_alice = PRNG(s,10)\n",
    "#Bob \n",
    "prng_bob = PRNG(s,10)\n",
    "\n",
    "print(f\"PRNG of alice is : {prng_alice} and the one for bob is : {prng_bob}\" )\n",
    "assert prng_alice ==prng_bob ,\"the numbers are not the same\"\n"
   ]
  },
  {
   "cell_type": "markdown",
   "id": "f93946f0",
   "metadata": {},
   "source": [
    "On va mtn générer des nombre random suivant une variable d'environnement du computer (température , fréquence , lumiére...) "
   ]
  },
  {
   "cell_type": "code",
   "execution_count": 101,
   "id": "2b6aebb5",
   "metadata": {},
   "outputs": [
    {
     "data": {
      "text/plain": [
       "'100110100010001101010010110011101111110111011101111001011000101110111010011001111111110101111011110011101010110101000100000110110100010100101101101110100010111010001101100111110101010000111110101011001011101010000101001000001111111010011001101111110001010100111000110111001010000000011100111000001111111001101101010000011010000011010010000110100010010101110000110111111001111010111100100010100000011010000001101101110111101011110011010110011100101001110101101010101101000101101101010000111010101011000100011010101100100011001010000000101001100000111101111010000000000010111100001101011101110101110101011100111011111111100010101110101100011011101100101010101001001101010000000011001100011010110010010110011110000111001111000111101100011000011110111101010010100000110001001001110000001000111111110100101101010000000001100011011001100011111000001010111001010010011111110001111111001111100001100110011100100100010011000011011101110010101111010001010111111001011000110010100011010001110000001100011010111111000011000111100101110'"
      ]
     },
     "execution_count": 101,
     "metadata": {},
     "output_type": "execute_result"
    }
   ],
   "source": [
    "import secrets \n",
    "r = secrets.SystemRandom()\n",
    "bin(r.getrandbits(1024))[2:]"
   ]
  },
  {
   "cell_type": "code",
   "execution_count": 111,
   "id": "6d2889d9",
   "metadata": {},
   "outputs": [
    {
     "name": "stdout",
     "output_type": "stream",
     "text": [
      "integer = 1 hex=0x1 bytes = b'\\x01' decoded = \u0001\n",
      "integer = 2 hex=0x2 bytes = b'\\x02' decoded = \u0002\n",
      "integer = 3 hex=0x3 bytes = b'\\x03' decoded = \u0003\n",
      "integer = 4 hex=0x4 bytes = b'\\x04' decoded = \u0004\n",
      "integer = 5 hex=0x5 bytes = b'\\x05' decoded = \u0005\n",
      "integer = 6 hex=0x6 bytes = b'\\x06' decoded = \u0006\n",
      "integer = 7 hex=0x7 bytes = b'\\x07' decoded = \u0007\n",
      "integer = 8 hex=0x8 bytes = b'\\x08' decoded = \b\n",
      "integer = 9 hex=0x9 bytes = b'\\t' decoded = \t\n",
      "integer = 10 hex=0xa bytes = b'\\n' decoded = \n",
      "\n",
      "integer = 11 hex=0xb bytes = b'\\x0b' decoded = \u000b",
      "\n",
      "integer = 12 hex=0xc bytes = b'\\x0c' decoded = \f",
      "\n",
      "integer = 13 hex=0xd bytes = b'\\r' decoded = \r\n",
      "integer = 14 hex=0xe bytes = b'\\x0e' decoded = \u000e\n",
      "integer = 15 hex=0xf bytes = b'\\x0f' decoded = \u000f\n",
      "integer = 16 hex=0x10 bytes = b'\\x10' decoded = \u0010\n",
      "integer = 17 hex=0x11 bytes = b'\\x11' decoded = \u0011\n",
      "integer = 18 hex=0x12 bytes = b'\\x12' decoded = \u0012\n",
      "integer = 19 hex=0x13 bytes = b'\\x13' decoded = \u0013\n",
      "integer = 20 hex=0x14 bytes = b'\\x14' decoded = \u0014\n",
      "integer = 21 hex=0x15 bytes = b'\\x15' decoded = \u0015\n",
      "integer = 22 hex=0x16 bytes = b'\\x16' decoded = \u0016\n",
      "integer = 23 hex=0x17 bytes = b'\\x17' decoded = \u0017\n",
      "integer = 24 hex=0x18 bytes = b'\\x18' decoded = \u0018\n",
      "integer = 25 hex=0x19 bytes = b'\\x19' decoded = \u0019\n",
      "integer = 26 hex=0x1a bytes = b'\\x1a' decoded = \u001a\n",
      "integer = 27 hex=0x1b bytes = b'\\x1b' decoded = \u001b\n",
      "integer = 28 hex=0x1c bytes = b'\\x1c' decoded = \u001c",
      "\n",
      "integer = 29 hex=0x1d bytes = b'\\x1d' decoded = \u001d",
      "\n",
      "integer = 30 hex=0x1e bytes = b'\\x1e' decoded = \u001e",
      "\n",
      "integer = 31 hex=0x1f bytes = b'\\x1f' decoded = \u001f\n",
      "integer = 32 hex=0x20 bytes = b' ' decoded =  \n",
      "integer = 33 hex=0x21 bytes = b'!' decoded = !\n",
      "integer = 34 hex=0x22 bytes = b'\"' decoded = \"\n",
      "integer = 35 hex=0x23 bytes = b'#' decoded = #\n",
      "integer = 36 hex=0x24 bytes = b'$' decoded = $\n",
      "integer = 37 hex=0x25 bytes = b'%' decoded = %\n",
      "integer = 38 hex=0x26 bytes = b'&' decoded = &\n",
      "integer = 39 hex=0x27 bytes = b\"'\" decoded = '\n",
      "integer = 40 hex=0x28 bytes = b'(' decoded = (\n",
      "integer = 41 hex=0x29 bytes = b')' decoded = )\n",
      "integer = 42 hex=0x2a bytes = b'*' decoded = *\n",
      "integer = 43 hex=0x2b bytes = b'+' decoded = +\n",
      "integer = 44 hex=0x2c bytes = b',' decoded = ,\n",
      "integer = 45 hex=0x2d bytes = b'-' decoded = -\n",
      "integer = 46 hex=0x2e bytes = b'.' decoded = .\n",
      "integer = 47 hex=0x2f bytes = b'/' decoded = /\n",
      "integer = 48 hex=0x30 bytes = b'0' decoded = 0\n",
      "integer = 49 hex=0x31 bytes = b'1' decoded = 1\n",
      "integer = 50 hex=0x32 bytes = b'2' decoded = 2\n",
      "integer = 51 hex=0x33 bytes = b'3' decoded = 3\n",
      "integer = 52 hex=0x34 bytes = b'4' decoded = 4\n",
      "integer = 53 hex=0x35 bytes = b'5' decoded = 5\n",
      "integer = 54 hex=0x36 bytes = b'6' decoded = 6\n",
      "integer = 55 hex=0x37 bytes = b'7' decoded = 7\n",
      "integer = 56 hex=0x38 bytes = b'8' decoded = 8\n",
      "integer = 57 hex=0x39 bytes = b'9' decoded = 9\n",
      "integer = 58 hex=0x3a bytes = b':' decoded = :\n",
      "integer = 59 hex=0x3b bytes = b';' decoded = ;\n",
      "integer = 60 hex=0x3c bytes = b'<' decoded = <\n",
      "integer = 61 hex=0x3d bytes = b'=' decoded = =\n",
      "integer = 62 hex=0x3e bytes = b'>' decoded = >\n",
      "integer = 63 hex=0x3f bytes = b'?' decoded = ?\n",
      "integer = 64 hex=0x40 bytes = b'@' decoded = @\n",
      "integer = 65 hex=0x41 bytes = b'A' decoded = A\n",
      "integer = 66 hex=0x42 bytes = b'B' decoded = B\n",
      "integer = 67 hex=0x43 bytes = b'C' decoded = C\n",
      "integer = 68 hex=0x44 bytes = b'D' decoded = D\n",
      "integer = 69 hex=0x45 bytes = b'E' decoded = E\n",
      "integer = 70 hex=0x46 bytes = b'F' decoded = F\n",
      "integer = 71 hex=0x47 bytes = b'G' decoded = G\n",
      "integer = 72 hex=0x48 bytes = b'H' decoded = H\n",
      "integer = 73 hex=0x49 bytes = b'I' decoded = I\n",
      "integer = 74 hex=0x4a bytes = b'J' decoded = J\n",
      "integer = 75 hex=0x4b bytes = b'K' decoded = K\n",
      "integer = 76 hex=0x4c bytes = b'L' decoded = L\n",
      "integer = 77 hex=0x4d bytes = b'M' decoded = M\n",
      "integer = 78 hex=0x4e bytes = b'N' decoded = N\n",
      "integer = 79 hex=0x4f bytes = b'O' decoded = O\n",
      "integer = 80 hex=0x50 bytes = b'P' decoded = P\n",
      "integer = 81 hex=0x51 bytes = b'Q' decoded = Q\n",
      "integer = 82 hex=0x52 bytes = b'R' decoded = R\n",
      "integer = 83 hex=0x53 bytes = b'S' decoded = S\n",
      "integer = 84 hex=0x54 bytes = b'T' decoded = T\n",
      "integer = 85 hex=0x55 bytes = b'U' decoded = U\n",
      "integer = 86 hex=0x56 bytes = b'V' decoded = V\n",
      "integer = 87 hex=0x57 bytes = b'W' decoded = W\n",
      "integer = 88 hex=0x58 bytes = b'X' decoded = X\n",
      "integer = 89 hex=0x59 bytes = b'Y' decoded = Y\n",
      "integer = 90 hex=0x5a bytes = b'Z' decoded = Z\n",
      "integer = 91 hex=0x5b bytes = b'[' decoded = [\n",
      "integer = 92 hex=0x5c bytes = b'\\\\' decoded = \\\n",
      "integer = 93 hex=0x5d bytes = b']' decoded = ]\n",
      "integer = 94 hex=0x5e bytes = b'^' decoded = ^\n",
      "integer = 95 hex=0x5f bytes = b'_' decoded = _\n",
      "integer = 96 hex=0x60 bytes = b'`' decoded = `\n",
      "integer = 97 hex=0x61 bytes = b'a' decoded = a\n",
      "integer = 98 hex=0x62 bytes = b'b' decoded = b\n",
      "integer = 99 hex=0x63 bytes = b'c' decoded = c\n",
      "integer = 100 hex=0x64 bytes = b'd' decoded = d\n",
      "integer = 101 hex=0x65 bytes = b'e' decoded = e\n",
      "integer = 102 hex=0x66 bytes = b'f' decoded = f\n",
      "integer = 103 hex=0x67 bytes = b'g' decoded = g\n",
      "integer = 104 hex=0x68 bytes = b'h' decoded = h\n",
      "integer = 105 hex=0x69 bytes = b'i' decoded = i\n",
      "integer = 106 hex=0x6a bytes = b'j' decoded = j\n",
      "integer = 107 hex=0x6b bytes = b'k' decoded = k\n",
      "integer = 108 hex=0x6c bytes = b'l' decoded = l\n",
      "integer = 109 hex=0x6d bytes = b'm' decoded = m\n",
      "integer = 110 hex=0x6e bytes = b'n' decoded = n\n",
      "integer = 111 hex=0x6f bytes = b'o' decoded = o\n",
      "integer = 112 hex=0x70 bytes = b'p' decoded = p\n",
      "integer = 113 hex=0x71 bytes = b'q' decoded = q\n",
      "integer = 114 hex=0x72 bytes = b'r' decoded = r\n",
      "integer = 115 hex=0x73 bytes = b's' decoded = s\n",
      "integer = 116 hex=0x74 bytes = b't' decoded = t\n",
      "integer = 117 hex=0x75 bytes = b'u' decoded = u\n",
      "integer = 118 hex=0x76 bytes = b'v' decoded = v\n",
      "integer = 119 hex=0x77 bytes = b'w' decoded = w\n",
      "integer = 120 hex=0x78 bytes = b'x' decoded = x\n",
      "integer = 121 hex=0x79 bytes = b'y' decoded = y\n",
      "integer = 122 hex=0x7a bytes = b'z' decoded = z\n",
      "integer = 123 hex=0x7b bytes = b'{' decoded = {\n",
      "integer = 124 hex=0x7c bytes = b'|' decoded = |\n",
      "integer = 125 hex=0x7d bytes = b'}' decoded = }\n",
      "integer = 126 hex=0x7e bytes = b'~' decoded = ~\n",
      "integer = 127 hex=0x7f bytes = b'\\x7f' decoded = \n"
     ]
    }
   ],
   "source": [
    "for i in range(1,128): \n",
    "    b = i.to_bytes(1,byteorder='big')\n",
    "    print(f\"integer = {i} hex={hex(i)} bytes = {b} decoded = {b.decode(encoding='UTF-8')}\")"
   ]
  },
  {
   "cell_type": "code",
   "execution_count": 124,
   "id": "1c64ba8d",
   "metadata": {},
   "outputs": [
    {
     "name": "stdout",
     "output_type": "stream",
     "text": [
      "14915998 b'\\x00\\xe3\\x99\\x9e' \u0000㙞\n"
     ]
    }
   ],
   "source": [
    "x = int(\"e3999e\",16)\n",
    "x_b = x.to_bytes(4,byteorder=\"big\")\n",
    "dec_char = x_b.decode(encoding=\"UTF-8\")\n",
    "print(x,x_b,dec_char)"
   ]
  },
  {
   "cell_type": "code",
   "execution_count": 5,
   "id": "473ef117",
   "metadata": {},
   "outputs": [
    {
     "name": "stdout",
     "output_type": "stream",
     "text": [
      "0110100001100101011011000110110001101111001000000111011101101111011100100110110001100100\n",
      "68656c6c6f20776f726c64\n"
     ]
    }
   ],
   "source": [
    "from crypto import bytes_to_hex,bytes_to_bin\n",
    "\n",
    "message = b\"hello world\"\n",
    "msg_bin = bytes_to_bin(message)[2:]\n",
    "msg_hex = bytes_to_hex(message)[2:]\n",
    "print(msg_bin)\n",
    "print(msg_hex)"
   ]
  },
  {
   "cell_type": "code",
   "execution_count": 12,
   "id": "f2bde67d",
   "metadata": {},
   "outputs": [
    {
     "data": {
      "text/plain": [
       "88"
      ]
     },
     "execution_count": 12,
     "metadata": {},
     "output_type": "execute_result"
    }
   ],
   "source": [
    "len(message*8)"
   ]
  },
  {
   "cell_type": "code",
   "execution_count": null,
   "id": "5db0de65",
   "metadata": {},
   "outputs": [],
   "source": [
    "class Party: \n",
    "    def __init__(self,name,state): \n",
    "        self.name = name \n",
    "        self.state  = state\n",
    "    def encrypt_decrypt(self,message,encrypt=True):\n",
    "            \n",
    "        "
   ]
  }
 ],
 "metadata": {
  "kernelspec": {
   "display_name": "Python 3 (ipykernel)",
   "language": "python",
   "name": "python3"
  },
  "language_info": {
   "codemirror_mode": {
    "name": "ipython",
    "version": 3
   },
   "file_extension": ".py",
   "mimetype": "text/x-python",
   "name": "python",
   "nbconvert_exporter": "python",
   "pygments_lexer": "ipython3",
   "version": "3.8.8"
  }
 },
 "nbformat": 4,
 "nbformat_minor": 5
}
