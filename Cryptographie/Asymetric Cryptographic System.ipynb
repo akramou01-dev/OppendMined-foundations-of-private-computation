{
 "cells": [
  {
   "cell_type": "markdown",
   "id": "1b9d24e7",
   "metadata": {},
   "source": [
    "# RSA"
   ]
  },
  {
   "cell_type": "markdown",
   "id": "102835f0",
   "metadata": {},
   "source": [
    "we will generate 2 random primes using the fonction RandomPrime , this fonctions generate randomly numbers in range of the \"size\" and check if it's a prime or not\n"
   ]
  },
  {
   "cell_type": "code",
   "execution_count": 6,
   "id": "913552b7",
   "metadata": {},
   "outputs": [
    {
     "name": "stdout",
     "output_type": "stream",
     "text": [
      "54751\n",
      "64663\n"
     ]
    }
   ],
   "source": [
    "from crypto import RandomPrime\n",
    "size_bits = 16\n",
    "\n",
    "p = RandomPrime(size_bits,m=40)\n",
    "q = RandomPrime(size_bits,m=40)\n",
    "while p==q: \n",
    "    q = RandomPrime(size_bits,m=40)\n",
    "\n",
    "    \n",
    "print(p)\n",
    "print(q)"
   ]
  },
  {
   "cell_type": "markdown",
   "id": "ab47b22f",
   "metadata": {},
   "source": [
    "Then we will calcule (p-1) x (q-1) which is the Euler totien "
   ]
  },
  {
   "cell_type": "markdown",
   "id": "fbe55286",
   "metadata": {},
   "source": [
    "\n",
    "\n",
    "\n",
    "Euler totien of N is the number of integers that are comprime with N up to N\n",
    "\n",
    "\n",
    "2 integers a and b are **Comprime** if the pgcd(a,b) = 1\n",
    "\n",
    "The Euler totien of a prime number p is *p-1* because because all the numbers below p are **comprime** to it"
   ]
  },
  {
   "cell_type": "code",
   "execution_count": 12,
   "id": "f209117b",
   "metadata": {},
   "outputs": [
    {
     "name": "stdout",
     "output_type": "stream",
     "text": [
      "3540363913\n",
      "3540244500\n"
     ]
    }
   ],
   "source": [
    "N = p*q\n",
    "phi = (p-1)*(q-1)\n",
    "\n",
    "print(N)\n",
    "print(phi)"
   ]
  },
  {
   "cell_type": "markdown",
   "id": "d3caec18",
   "metadata": {},
   "source": [
    "Now we will find a randome \"e\" smaller than phi(N) such that pgcd(e, phi(N)) = 1 "
   ]
  },
  {
   "cell_type": "code",
   "execution_count": 21,
   "id": "5f2f4adc",
   "metadata": {},
   "outputs": [],
   "source": [
    "from crypto import xgcd\n",
    "from random import randrange"
   ]
  },
  {
   "cell_type": "code",
   "execution_count": 24,
   "id": "d4a4da1c",
   "metadata": {},
   "outputs": [
    {
     "name": "stdout",
     "output_type": "stream",
     "text": [
      "3330190943\n"
     ]
    }
   ],
   "source": [
    "e = randrange(phi)\n",
    "gcd = xgcd(e,phi)[0]\n",
    "while gcd !=1:\n",
    "    e = randrange(phi)\n",
    "    gcd = xgcd(e,phi)[0]\n",
    "print(e)"
   ]
  },
  {
   "cell_type": "markdown",
   "id": "4b78d8ec",
   "metadata": {},
   "source": [
    "now that we have find \"e\" that much the condition we will calculate the \"d\" which is the invese of e modulo phi"
   ]
  },
  {
   "cell_type": "code",
   "execution_count": 30,
   "id": "65524530",
   "metadata": {},
   "outputs": [],
   "source": [
    "from crypto import InverseMod"
   ]
  },
  {
   "cell_type": "code",
   "execution_count": 34,
   "id": "7e2654a8",
   "metadata": {},
   "outputs": [],
   "source": [
    "d = InverseMod(e,phi)"
   ]
  },
  {
   "cell_type": "code",
   "execution_count": 36,
   "id": "a28d5748",
   "metadata": {},
   "outputs": [
    {
     "name": "stdout",
     "output_type": "stream",
     "text": [
      "p = 54751\n",
      "q = 64663\n",
      "N = 3540363913\n",
      "phi = 3540244500\n",
      "e = 3330190943\n",
      "d = 2964670307\n"
     ]
    }
   ],
   "source": [
    "print(f\"p = {p}\")\n",
    "print(f\"q = {q}\")\n",
    "print(f\"N = {N}\")\n",
    "print(f\"phi = {phi}\")\n",
    "print(f\"e = {e}\")\n",
    "print(f\"d = {d}\")"
   ]
  },
  {
   "cell_type": "markdown",
   "id": "3a52f3f5",
   "metadata": {},
   "source": [
    "The tuple (N,e) is The public key and the tuple (N,d) is the private key"
   ]
  },
  {
   "cell_type": "markdown",
   "id": "e9f232d9",
   "metadata": {},
   "source": [
    "## Encryption\n"
   ]
  },
  {
   "cell_type": "markdown",
   "id": "da9829e9",
   "metadata": {},
   "source": [
    "for a message \"m\" the encryption fonctions is : c = m^e mod N , where c is the cipher text"
   ]
  },
  {
   "cell_type": "code",
   "execution_count": 49,
   "id": "0dbf3a79",
   "metadata": {},
   "outputs": [
    {
     "name": "stdout",
     "output_type": "stream",
     "text": [
      "message: 2521889450\n",
      "ciphertext: 1220390330\n"
     ]
    }
   ],
   "source": [
    "message = randrange(0, N-1)\n",
    "cipher_text = pow(message, e, N)\n",
    "\n",
    "print(f\"message: {message}\")\n",
    "print(f\"ciphertext: {cipher_text}\")"
   ]
  },
  {
   "cell_type": "markdown",
   "id": "325f1a85",
   "metadata": {},
   "source": [
    "## Decryption"
   ]
  },
  {
   "cell_type": "markdown",
   "id": "8321b45c",
   "metadata": {},
   "source": [
    "The decryption of the ciphertext can be done using only the private key ($N$, $d$):\n",
    "\n",
    "$$m=c^{d} \\textit{mod N}$$\n",
    "\n",
    "We can check that the equation gives back the original message:\n",
    "\n",
    "$$c^{d} \\textit{mod N}=m^{d*e}\\textit{mod N}=m \\textit{mod N}$$\n",
    "\n"
   ]
  },
  {
   "cell_type": "code",
   "execution_count": 53,
   "id": "fd6689f3",
   "metadata": {},
   "outputs": [
    {
     "name": "stdout",
     "output_type": "stream",
     "text": [
      "the recovred message is :  2521889450\n"
     ]
    }
   ],
   "source": [
    "plain_text = pow(cipher_text,d,N)\n",
    "assert plain_text == message , \"the recovred message is wrong ! check the algo\"\n",
    "print(\"the recovred message is : \",plain_text)"
   ]
  },
  {
   "cell_type": "code",
   "execution_count": 92,
   "id": "5e1b78ec",
   "metadata": {},
   "outputs": [],
   "source": [
    "def RsaKeyGenerator(size): \n",
    "    # the fonction returns a tuple of the public and private keys \n",
    "    p = RandomPrime(size)\n",
    "    q = RandomPrime(size)\n",
    "    while q==p : \n",
    "        q = RandomPrime(size)\n",
    "        \n",
    "    N  = p*q\n",
    "    phi = (p-1) * (q-1)\n",
    "    e = randrange(phi)\n",
    "    gcd = xgcd(e,phi)[0]\n",
    "    while gcd !=1:\n",
    "        e = randrange(phi)\n",
    "        gcd = xgcd(e,phi)[0]\n",
    "        \n",
    "    d = InverseMod(e,phi)\n",
    "    return (N,e),(N,d)\n",
    "def RsaEncrypt(message,public_key):\n",
    "    N,e = public_key[0],public_key[1]\n",
    "    return pow(message,e,N)\n",
    "def RsaDecrypt(message,private_key):\n",
    "    N,d = private_key[0],private_key[1]\n",
    "    return pow(message,d,N)\n"
   ]
  },
  {
   "cell_type": "code",
   "execution_count": 93,
   "id": "703730a1",
   "metadata": {},
   "outputs": [
    {
     "name": "stdout",
     "output_type": "stream",
     "text": [
      "public key :  (81430036320771684030809881215801340700380965495309284827365794605778601137219, 1888411007589028357783387897713499936847613082671376232130615090020669473529)\n",
      "\n",
      "\n",
      "private key :  (81430036320771684030809881215801340700380965495309284827365794605778601137219, 5004703469580397649282711069359255133749549589646883273041474471307740992849)\n"
     ]
    }
   ],
   "source": [
    "# we are assuming that we have a comunication between 2 parties bob and alice \n",
    "# so let's generate a public and private key for bob\n",
    "key_size = 128 \n",
    "public_key , private_key = RsaKeyGenerator(key_size)\n",
    "print(\"public key : \" ,public_key)\n",
    "print(\"\\n\")\n",
    "print(\"private key : \",private_key)"
   ]
  },
  {
   "cell_type": "code",
   "execution_count": 94,
   "id": "df3286ee",
   "metadata": {},
   "outputs": [
    {
     "name": "stdout",
     "output_type": "stream",
     "text": [
      "message : b'Hey bob ! '\n"
     ]
    }
   ],
   "source": [
    "# now alice want to send a message to bob encrypted using his public key\n",
    "message = b\"Hey bob ! \"\n",
    "print(\"message :\",message)\n",
    "# we must verify if the length of the message is smaller than N\n",
    "assert 8*len(message)< key_size,'The message is too long'\n",
    "\n"
   ]
  },
  {
   "cell_type": "code",
   "execution_count": 95,
   "id": "1c427660",
   "metadata": {},
   "outputs": [
    {
     "name": "stdout",
     "output_type": "stream",
     "text": [
      "341882236002367491285280\n",
      "46363621039738457134373275428553191035351261586740871118190429164178804236506\n"
     ]
    }
   ],
   "source": [
    "# let's convert the bytes into an int and encrypt it using the public key \n",
    "msg_int = int.from_bytes(message,\"big\")\n",
    "print(msg_int)\n",
    "\n",
    "c_int = RsaEncrypt(msg_int,public_key)\n",
    "print(c_int)"
   ]
  },
  {
   "cell_type": "code",
   "execution_count": 96,
   "id": "8aeb0c70",
   "metadata": {},
   "outputs": [
    {
     "name": "stdout",
     "output_type": "stream",
     "text": [
      "341882236002367491285280\n"
     ]
    }
   ],
   "source": [
    "# now bob receive the cipher text and try to decrypt it using his private key\n",
    "recovred_message_int = RsaDecrypt(c_int,private_key)\n",
    "print(recovred_message_int)\n",
    "assert msg_int == recovred_message_int,\"The recovred message is wrong\""
   ]
  },
  {
   "cell_type": "code",
   "execution_count": 98,
   "id": "d546aa31",
   "metadata": {},
   "outputs": [],
   "source": [
    "recovred_message = recovred_message_int.to_bytes(len(message),'big')"
   ]
  },
  {
   "cell_type": "code",
   "execution_count": 99,
   "id": "3a0095b1",
   "metadata": {},
   "outputs": [
    {
     "data": {
      "text/plain": [
       "b'Hey bob ! '"
      ]
     },
     "execution_count": 99,
     "metadata": {},
     "output_type": "execute_result"
    }
   ],
   "source": [
    "recovred_message"
   ]
  },
  {
   "cell_type": "markdown",
   "id": "5b89fad0",
   "metadata": {},
   "source": [
    "## Trying to break the RSA "
   ]
  },
  {
   "cell_type": "markdown",
   "id": "9ee734d0",
   "metadata": {},
   "source": [
    "we are going to calculate the p and q from N to calculate the phi(n) and for this we are going to factorize the N "
   ]
  },
  {
   "cell_type": "code",
   "execution_count": 101,
   "id": "5d31886b",
   "metadata": {},
   "outputs": [
    {
     "name": "stdout",
     "output_type": "stream",
     "text": [
      "public key :  (2534129573, 1220524085)\n",
      "private_key : (2534129573, 1956276401)\n"
     ]
    }
   ],
   "source": [
    "key_size = 16\n",
    "public_key , private_key = RsaKeyGenerator(key_size)\n",
    "print(\"public key : \",public_key)\n",
    "print(\"private_key :\",private_key)"
   ]
  },
  {
   "cell_type": "markdown",
   "id": "2ce18589",
   "metadata": {},
   "source": [
    "we are going to use the Pollard Rho algorithme fo factorize the N"
   ]
  },
  {
   "cell_type": "code",
   "execution_count": 102,
   "id": "b7fa1554",
   "metadata": {},
   "outputs": [],
   "source": [
    "def PollardRho(N):\n",
    "    if N==1: \n",
    "        return N\n",
    "    if N%2 ==0:\n",
    "        return 2\n",
    "    x = randrange(2,N)\n",
    "    y = x \n",
    "    c = randrange(0,2)\n",
    "    d =1 \n",
    "    while d==1:\n",
    "        x = (pow(x,2,N) + c + N)%N\n",
    "        y = (pow(y,2,N) + c + N)%N\n",
    "        y = (pow(y,2,N) + c + N)%N  \n",
    "        d ,_,_ = xgcd(abs(x-y),N)\n",
    "        if d==N:\n",
    "            PollardRho(N)\n",
    "    return d"
   ]
  },
  {
   "cell_type": "code",
   "execution_count": 133,
   "id": "b24ac7e7",
   "metadata": {},
   "outputs": [
    {
     "name": "stdout",
     "output_type": "stream",
     "text": [
      "2534129573 2534129573\n",
      "N: 2534129573, p2 : 46567 , q2 : 54419 \n"
     ]
    }
   ],
   "source": [
    "N = public_key [0]\n",
    "p2 = PollardRho(N)\n",
    "q2 = N//p2\n",
    "print(N,p2*q2)\n",
    "print(f\"N: {N}, p2 : {p2} , q2 : {q2} \")"
   ]
  },
  {
   "cell_type": "markdown",
   "id": "6891c38c",
   "metadata": {},
   "source": [
    "now that we have calculated the p and q we can calculate the phi(n) = (p-1)*(q-1) and then calculate the d\n",
    "\n",
    "For a big N we can not easaly calculate the p and q using PollarRho and for that there is some other algos that are more faster thant the PollarRho"
   ]
  },
  {
   "cell_type": "markdown",
   "id": "cf48c159",
   "metadata": {},
   "source": [
    "# Paillier Crypto system"
   ]
  },
  {
   "cell_type": "markdown",
   "id": "5a03c1a1",
   "metadata": {},
   "source": [
    "## Key Generation <a class=\"anchor\" id=\"keygeneration\"></a>\n",
    "\n",
    "* Generate two random primes $p$ and $q$\n",
    "* Calculate $N$, the product of $p$ and $q$\n",
    "* if $N$ and $\\phi(N)$ have common factors, go back to first step and generate new $p$ and $q$\n",
    "* if $N$ and $\\phi(N)$ don't share common factors (i.e. gcd is 1) then:\n",
    "    * calculate $l$, the least common multiple of $p-1$ and $q-1$\n",
    "    * calculate $N^2$\n",
    "    * draw a random number $g$ in between 1 and $N^2$\n",
    "    * calculate $\\mu$ as the inverse of $L(g^l \\textit{mod }N^2, N)$ in modulo $N$ where $L(x, n)=(x-1)/n$\n",
    "    \n",
    "The public key is ($N$, $g$) and the private key is ($N$, $l$, $\\mu$) "
   ]
  },
  {
   "cell_type": "code",
   "execution_count": 148,
   "id": "fa3db158",
   "metadata": {},
   "outputs": [],
   "source": [
    "from crypto import RandomPrime, xgcd"
   ]
  },
  {
   "cell_type": "code",
   "execution_count": 140,
   "id": "16a2de74",
   "metadata": {},
   "outputs": [
    {
     "name": "stdout",
     "output_type": "stream",
     "text": [
      "p = 56911\n",
      "q = 62549\n",
      "gcd(N,phi) = 1\n"
     ]
    }
   ],
   "source": [
    "# first we will find the prime numbers p and q \n",
    "size_bits = 16\n",
    "p = RandomPrime(size_bits,60)\n",
    "q = RandomPrime(size_bits,60)\n",
    "while p==q : \n",
    "    q = RandomPrime(size_bits,60)\n",
    "N = p*q\n",
    "phi = (p-1) * (q-1)\n",
    "gcd,_,_ = xgcd(N,phi)  \n",
    "while gcd!=1:\n",
    "    p = RandomPrime(size_bits,60)\n",
    "    q = RandomPrime(size_bits,60)\n",
    "    while p==q : \n",
    "        q = RandomPrime(size_bits,60)\n",
    "    N = p*q\n",
    "    phi = (p-1) * (q-1)\n",
    "    gcd,_,_ = xgcd(N,phi) \n",
    "\n",
    "    \n",
    "print(f\"p = {p}\")\n",
    "print(f'q = {q}')\n",
    "print(f\"gcd(N,phi) = {gcd}\")\n",
    "    \n",
    "    \n",
    "#Note : if the 2 prime numbers p and q are in the same size in bits so the xgcd(N,phi ) is always 1  and that\"s what we do in this exemple"
   ]
  },
  {
   "cell_type": "code",
   "execution_count": 172,
   "id": "2e25f90e",
   "metadata": {},
   "outputs": [
    {
     "name": "stdout",
     "output_type": "stream",
     "text": [
      "l = 1779803340\n",
      "g = 7816644770407454975\n",
      "mu = 1957643571\n"
     ]
    }
   ],
   "source": [
    "# now we are going to calculare the i, g  and the mu\n",
    "from random import randrange\n",
    "from crypto import InverseMod,LCM\n",
    "# the fonction LCM calculate the Least Common Multiple of 2 integers , lcm(a,b) = a*b // gcd(a,b)\n",
    "\n",
    "def L(x,n): \n",
    "    return int((x-1)/n)\n",
    "\n",
    "l = LCM((q-1),(p-1))\n",
    "g = randrange(1,N*N)\n",
    "\n",
    "mu = InverseMod(L(pow(g,l,N*N),N),N)\n",
    "mu = int(mu)\n",
    "\n",
    "print(f\"l = {l}\")\n",
    "print(f\"g = {g}\")\n",
    "print(f\"mu = {int(mu)}\")\n",
    "\n",
    "\n",
    "\n"
   ]
  },
  {
   "cell_type": "code",
   "execution_count": 173,
   "id": "e88dcfab",
   "metadata": {},
   "outputs": [
    {
     "name": "stdout",
     "output_type": "stream",
     "text": [
      "public key is : (3559726139, 7816644770407454975)\n",
      "private key is : (3559726139, 1779803340, 1957643571)\n"
     ]
    }
   ],
   "source": [
    "public_key = (N,g)\n",
    "private_key = (N,l,mu)\n",
    "print(f\"public key is : {public_key}\")\n",
    "print(f\"private key is : {private_key}\")"
   ]
  },
  {
   "cell_type": "markdown",
   "id": "da1e8844",
   "metadata": {},
   "source": [
    "## Encryption Fonction"
   ]
  },
  {
   "cell_type": "markdown",
   "id": "d6ddcdcd",
   "metadata": {},
   "source": [
    "\n",
    "For the encryption we must find a random number r ;  r < N such it has no commun factor with N, then calculate c as : $$c = g^{m}*r^{N}(\\text{mod }N^2)$$"
   ]
  },
  {
   "cell_type": "code",
   "execution_count": 179,
   "id": "a623e562",
   "metadata": {},
   "outputs": [
    {
     "name": "stdout",
     "output_type": "stream",
     "text": [
      "message : 710858405\n",
      "r = 2783801101\n",
      "cipher text is : 7336294734005926846\n"
     ]
    }
   ],
   "source": [
    "message = randrange(N)\n",
    "N , g = public_key\n",
    "\n",
    "\n",
    "r = randrange(N)\n",
    "gcd,_,_ = xgcd(r,N)\n",
    "while gcd !=1:\n",
    "    r = randrange(N)\n",
    "    gcd,_,_ = xgcd(r,N)\n",
    "\n",
    "    \n",
    "cipher_text = (pow(g,message,N*N)*pow(r,N,N*N))% (N*N)\n",
    "\n",
    "print(f'message : {m}')\n",
    "print(f\"r = {r}\")\n",
    "print(f\"cipher text is : {cipher_text}\")\n"
   ]
  },
  {
   "cell_type": "markdown",
   "id": "f3a5706d",
   "metadata": {},
   "source": [
    "## Decryption Fonction\n",
    "Having the private key (N,l,mu) and the cipher c : \n",
    " $$m = L(c^l(\\text{mod }N^2), N)*\\mu (\\text{mod }N)$$"
   ]
  },
  {
   "cell_type": "code",
   "execution_count": 181,
   "id": "df47f146",
   "metadata": {},
   "outputs": [
    {
     "name": "stdout",
     "output_type": "stream",
     "text": [
      "the cipher text is : 7336294734005926846\n",
      "the recovred text is : 492731126\n",
      "the message is :492731126 \n"
     ]
    }
   ],
   "source": [
    "N , l , mu = private_key\n",
    "recovred_message = (L(pow(cipher_text,l,N*N),N)* mu) % N\n",
    "assert message == recovred_message , \"The message and the recovred message are not the same\"\n",
    "print(f\"the cipher text is : {cipher_text}\")\n",
    "print(f\"the recovred text is : {recovred_message}\")\n",
    "print(f\"the message is :{message} \")\n",
    "      "
   ]
  },
  {
   "cell_type": "code",
   "execution_count": 193,
   "id": "26fab845",
   "metadata": {},
   "outputs": [],
   "source": [
    "def Pailler_key_generator(size_bits):\n",
    "    p = RandomPrime(size_bits,60)\n",
    "    q = RandomPrime(size_bits,60)\n",
    "    while p==q : \n",
    "        q = RandomPrime(size_bits,60)\n",
    "    N = p*q\n",
    "    phi = (p-1) * (q-1)\n",
    "    gcd,_,_ = xgcd(N,phi)  \n",
    "    while gcd!=1:\n",
    "        p = RandomPrime(size_bits,60)\n",
    "        q = RandomPrime(size_bits,60)\n",
    "        while p==q : \n",
    "            q = RandomPrime(size_bits,60)\n",
    "        N = p*q\n",
    "        phi = (p-1) * (q-1)\n",
    "        gcd,_,_ = xgcd(N,phi) \n",
    "        \n",
    "    l = LCM((q-1),(p-1))\n",
    "    g = randrange(1,N*N)\n",
    "\n",
    "    mu = InverseMod(L(pow(g,l,N*N),N),N)\n",
    "    mu = int(mu)\n",
    "\n",
    "    return (N,g),(N,l,mu)\n",
    "\n",
    "\n",
    "def Pailer_encrypt(message,public_key):\n",
    "    N , g = public_key\n",
    "    r = randrange(N)\n",
    "    gcd,_,_ = xgcd(r,N)\n",
    "    while gcd !=1:\n",
    "        r = randrange(N)\n",
    "        gcd,_,_ = xgcd(r,N)\n",
    "\n",
    "\n",
    "    cipher_text = (pow(g,message,N*N)*pow(r,N,N*N))% (N*N)\n",
    "\n",
    "    return cipher_text\n",
    "\n",
    "def Pailler_decrypt(c, private_key): \n",
    "    N , l , mu = private_key\n",
    "    m = (L(pow(c,l,N*N),N)* mu) % N\n",
    "    return m\n",
    "    "
   ]
  },
  {
   "cell_type": "code",
   "execution_count": 205,
   "id": "e6271393",
   "metadata": {},
   "outputs": [
    {
     "name": "stdout",
     "output_type": "stream",
     "text": [
      "Public Key : (11121031096768975457, 81887090803404941468193555859110239947)\n",
      "Private key : (11121031096768975457, 347532221559692928, 2177723798879476234)\n",
      "The message is : 1994252608 \n",
      "The Cipher text is :6326711952016594520317857807096347795 \n",
      "The recovred message is : 8140233049904590484\n"
     ]
    }
   ],
   "source": [
    "message = randrange(N)\n",
    "public_key , private_key = Pailler_key_generator(32)\n",
    "print(f\"Public Key : {public_key}\")\n",
    "print(f\"Private key : {private_key}\")\n",
    "c = Pailer_encrypt(message,public_key)\n",
    "recovred_message = Pailler_decrypt(c,private_key)\n",
    "\n",
    "print(f\"The message is : {message} \")\n",
    "print(f\"The Cipher text is :{c} \")\n",
    "print(f\"The recovred message is : {recovred_message}\")"
   ]
  },
  {
   "cell_type": "raw",
   "id": "dc4dbe9e",
   "metadata": {},
   "source": [
    "# we see that the cipher text is much larger then the message and that because in the cipher text we are in the modulo N^2 and for the message we are in modulo N "
   ]
  },
  {
   "cell_type": "markdown",
   "id": "e80fa706",
   "metadata": {},
   "source": [
    "# El Gamal Cryptosystem"
   ]
  },
  {
   "cell_type": "markdown",
   "id": "b84c92fd",
   "metadata": {},
   "source": [
    "## Key Generation <a class=\"anchor\" id=\"keygeneration\"></a>\n",
    "\n",
    "Steps:\n",
    "\n",
    "* A trusted party chooses a prime number $p$ and an element of the field $g$ (of large order, ideally a generator).\n",
    "* The party that generates the keys draws a private key $a$<$p$ and computes $A=g^a (\\text{mod }p)$. Publishes $A$ as the public key\n",
    "\n",
    "The public key is $A$ and the private key $a$."
   ]
  },
  {
   "cell_type": "code",
   "execution_count": 208,
   "id": "df5440e0",
   "metadata": {},
   "outputs": [],
   "source": [
    "from crypto import GeneratePrimeGeneratorPair"
   ]
  },
  {
   "cell_type": "code",
   "execution_count": null,
   "id": "28f2094c",
   "metadata": {},
   "outputs": [],
   "source": [
    "size_bits = 16\n",
    "p, g = GeneratePrimeGeneratorPair(size_bits)\n",
    "\n",
    "print(p,g)"
   ]
  },
  {
   "cell_type": "code",
   "execution_count": 322,
   "id": "5f9c1b48",
   "metadata": {},
   "outputs": [
    {
     "name": "stdout",
     "output_type": "stream",
     "text": [
      "38393 3693\n",
      "A : 644\n",
      "a : 30551\n"
     ]
    }
   ],
   "source": [
    "size_bits = 16\n",
    "p, g = GeneratePrimeGeneratorPair(size_bits)\n",
    "\n",
    "print(p,g)\n",
    "from random import randrange\n",
    "a = randrange(p)\n",
    "\n",
    "A = pow(g,a,p)\n",
    "\n",
    "print(\"A :\",A)\n",
    "print(\"a :\",a)\n"
   ]
  },
  {
   "cell_type": "markdown",
   "id": "fda0204f",
   "metadata": {},
   "source": [
    "A is the public key and a is the private key"
   ]
  },
  {
   "cell_type": "markdown",
   "id": "b6d7ee0a",
   "metadata": {},
   "source": [
    "## Encryption fonction \n"
   ]
  },
  {
   "cell_type": "markdown",
   "id": "d82f62e4",
   "metadata": {},
   "source": [
    "for the encryption, more than the public key A the sender must knows the p and g. We need to choose a random number k to compute the 2 parts of the cipher text (the cipher text is a tuple (c1 , c2) )\n",
    "\n",
    "the key must change for every message sent, if the message is too long so we need to encrypt it with blocks so each block must to have his own k  \n",
    "\n",
    "the encryption fonctions is : \n",
    "$$c_1=g^k (\\text{mod }p)$$\n",
    "$$c_2=mA^k (\\text{mod }p)$$"
   ]
  },
  {
   "cell_type": "code",
   "execution_count": 317,
   "id": "8b187970",
   "metadata": {},
   "outputs": [
    {
     "name": "stdout",
     "output_type": "stream",
     "text": [
      "message is : 36222\n",
      "k : 9179\n",
      "the cipher text is : (17557, 23036)\n"
     ]
    }
   ],
   "source": [
    "message = randrange(p)\n",
    "\n",
    "k = randrange(p)\n",
    "\n",
    "c1 = pow(g,k,p)\n",
    "c2 = message*pow(A,k,p) % p\n",
    "c = (c1,c2)\n",
    "\n",
    "\n",
    "print(f\"message is : {message}\")\n",
    "print(f\"k : {k}\")\n",
    "print(f\"the cipher text is : {(c1,c2)}\")\n",
    "\n",
    "\n"
   ]
  },
  {
   "cell_type": "markdown",
   "id": "bda9fd83",
   "metadata": {},
   "source": [
    " ## Decryption Fonction \n",
    " \n",
    "using the cipher text paire (c1 , c2) we can generate our message using the fonction below : \n",
    "$$m = (c_1^a)^{-1}*c_2 (\\text{mod }p)$$"
   ]
  },
  {
   "cell_type": "code",
   "execution_count": 321,
   "id": "12f4f6ca",
   "metadata": {},
   "outputs": [
    {
     "name": "stdout",
     "output_type": "stream",
     "text": [
      "17557 23036\n",
      "36222\n"
     ]
    }
   ],
   "source": [
    "from crypto import InverseFermat\n",
    "c1 , c2 = c\n",
    "print(c1,c2)\n",
    "# recovred_message = c2*InverseFermat(pow(c1,a,p),p) %p\n",
    "\n",
    "recovred_message = c2*InverseFermat(pow(c1, a, p), p)%p\n",
    "print(recovred_message)"
   ]
  },
  {
   "cell_type": "markdown",
   "id": "81936a8d",
   "metadata": {},
   "source": [
    "## Brut Force Attack of El Gamel"
   ]
  },
  {
   "cell_type": "markdown",
   "id": "d2f752ce",
   "metadata": {},
   "source": [
    "cracking El Gamel is same as resolving the Discret Algo Problem so if we can find the a we cracked the algorithm\n"
   ]
  },
  {
   "cell_type": "code",
   "execution_count": 358,
   "id": "1a387df2",
   "metadata": {},
   "outputs": [
    {
     "name": "stdout",
     "output_type": "stream",
     "text": [
      "54983 8000\n",
      "A : 11964\n",
      "a : 52605\n"
     ]
    }
   ],
   "source": [
    "size_bits = 16\n",
    "p, g = GeneratePrimeGeneratorPair(size_bits)\n",
    "\n",
    "print(p,g)\n",
    "from random import randrange\n",
    "a = randrange(p)\n",
    "\n",
    "A = pow(g,a,p)\n",
    "\n",
    "print(\"A :\",A)\n",
    "print(\"a :\",a)\n"
   ]
  },
  {
   "cell_type": "code",
   "execution_count": 359,
   "id": "541c6c50",
   "metadata": {},
   "outputs": [
    {
     "name": "stdout",
     "output_type": "stream",
     "text": [
      "the private key is : 52605\n",
      "the cracked private key is : 52605\n"
     ]
    }
   ],
   "source": [
    "a_ = randrange(p)\n",
    "\n",
    "while A!= pow(g,a_,p):\n",
    "    a_ = randrange(p)\n",
    "    \n",
    "print(f\"the private key is : {a}\")\n",
    "print(f\"the cracked private key is : {a_}\")\n"
   ]
  },
  {
   "cell_type": "markdown",
   "id": "56a40deb",
   "metadata": {},
   "source": [
    "for the size of 16 bit it seems easy but if we increase the size of bits we will not be able to crack it "
   ]
  },
  {
   "cell_type": "markdown",
   "id": "81a629b3",
   "metadata": {},
   "source": [
    "## Known cipher text attack \n",
    "\n",
    "alice want bob and charlie to send her messages , so she creates pair key (A,a) of El Gamal, so if charlie send to alice the cipher text and want her to decrypt it for him and send him the plain text, so alice must not decrypt the same cipher text twice because bob can intercept the cipher text and resend it to alice to decrypt it so he kan see what charlie wants to say.\n",
    "\n",
    "Alice is forbiden to decrypt the same cipher text twice"
   ]
  },
  {
   "cell_type": "markdown",
   "id": "6824e7bf",
   "metadata": {},
   "source": [
    "\n",
    "\n",
    "\n",
    "\n",
    "Let's say Bob intercepted a ciphertext $c=(c_1, c_2)=(g^k, mA^k)$ that Charlie sent to Alice and he wants to know what Charlie has to say to Alice (get $m$). He can't send that ciphertext to Alice for decryption as Alice will know that Bob is trying to cheat. But he can do the following...\n",
    "\n",
    "\n",
    "Bob only knows the ciphertext $c_1$ and $c_1$ and creates a random message and a ephemeral key $m^{\\prime}$, $k^{\\prime}$ and computes the following ciphertext to send to Alice for decryption:\n",
    "\n",
    "$$c^{\\prime}=(c_1g^{k^{\\prime}}, c_2A^{k^{\\prime}}m^{\\prime})$$\n",
    "\n",
    "Alice will decrypt this, since this ciphertext $c^{\\prime}$ is different from the original ciphertext $c$. Call the decrypted ciphertext $m^{\\prime\\prime}$. This is what Bob gets as the decryption of $c^{\\prime}$ from Alice.\n",
    "\n",
    "At this point Bob knows $c^{\\prime}=(c_1g^{k^{\\prime}}, c_2A^{k^{\\prime}}m)$, the plaintext for $c^{\\prime}$, i.e $m^{\\prime\\prime}$ and obviously the public key $A$. \n",
    "\n",
    "$$c^{\\prime}=(c_1g^{k^{\\prime}}, c_2A^{k^{\\prime}}m^{\\prime})=(g^{k+k^{\\prime}},mm^{\\prime}A^{k+k^{\\prime}})$$\n",
    "\n",
    "Therefore he determines that\n",
    "\n",
    "$$m^{\\prime\\prime}=m*m^{\\prime} (\\text{mod }p)$$\n",
    "\n",
    "or equivalently:\n",
    "\n",
    "$$m=m^{\\prime\\prime}*(m^{\\prime})^{-1} (\\text{mod }p)$$"
   ]
  },
  {
   "cell_type": "code",
   "execution_count": 361,
   "id": "34841213",
   "metadata": {},
   "outputs": [
    {
     "name": "stdout",
     "output_type": "stream",
     "text": [
      "p: 111157524683398064813452585815223631535230942814590106810025157490704558817187\n",
      "g: 72956700057268738816717151712816626185122925583294407884886624965285750695906\n",
      "A (public key): 66255688300942333646230586606157280857996066822689478063176011396619194391442\n",
      "a (private key): 39514830202202660210210181580532439600421727837872610249199676912420128695094\n"
     ]
    }
   ],
   "source": [
    "size_bits = 256\n",
    "p, g = GeneratePrimeGeneratorPair(size_bits)\n",
    "\n",
    "\n",
    "\n",
    "a = randrange(p)\n",
    "A = pow(g,a,p)\n",
    "\n",
    "print(f\"p: {p}\")\n",
    "print(f\"g: {g}\")\n",
    "print(f\"A (public key): {A}\")\n",
    "print(f\"a (private key): {a}\")"
   ]
  },
  {
   "cell_type": "code",
   "execution_count": 362,
   "id": "d89433e0",
   "metadata": {},
   "outputs": [
    {
     "name": "stdout",
     "output_type": "stream",
     "text": [
      "message charlie to alice is : b'Charlie ==> Alice'\n",
      "22937664268843740728723453030668863890277\n"
     ]
    }
   ],
   "source": [
    "message = b'Charlie ==> Alice'\n",
    "assert 8 * len(message) <= size_bits , 'Message too long'\n",
    "print(f\"message charlie to alice is : {message}\")\n",
    "\n",
    "msg_int = int.from_bytes(message,\"big\")\n",
    "print(msg_int)"
   ]
  },
  {
   "cell_type": "code",
   "execution_count": 363,
   "id": "be72ab51",
   "metadata": {},
   "outputs": [
    {
     "name": "stdout",
     "output_type": "stream",
     "text": [
      "message is : b'Charlie ==> Alice'\n",
      "message in integer form is : 22937664268843740728723453030668863890277\n",
      "c  : (47473183675759739077048721278407996507770010600229783614456698746419156104074, 67185400036348664350217143457329013552856831608112203028526835083753562256363)\n",
      "m  : 25429\n"
     ]
    }
   ],
   "source": [
    "#now charlie will encrypt the message \n",
    "k = randrange(p)\n",
    "c1 = pow(g,k,p)\n",
    "c2 = msg_int * pow(A,k,p) %p\n",
    "\n",
    "c = (c1,c2)\n",
    "\n",
    "print(f\"message is : {message}\")\n",
    "print(f\"message in integer form is : {msg_int}\")\n",
    "print(f\"c  : {c}\")\n",
    "print(f\"m  : {m}\")\n"
   ]
  },
  {
   "cell_type": "markdown",
   "id": "37890f82",
   "metadata": {},
   "source": [
    "Bob intercept the message from Charlie , he can't send it to Alice because she can not decrypt the same message twice so he will calculate new k' and m'"
   ]
  },
  {
   "cell_type": "code",
   "execution_count": 364,
   "id": "5c719caa",
   "metadata": {},
   "outputs": [
    {
     "name": "stdout",
     "output_type": "stream",
     "text": [
      "(4516560000467644442926293200719512164958046897842282190610977537090646347681704119927896806799486044246398965451862336789258329195040194080275988881356228, 127269844424887953905741646612135579852904369422247837545906971255517655084434968306754405549471217824660546472973112140096176970214990199946596330122041182633648989781809338977452540698949853829038307673221215256093702516799477840)\n"
     ]
    }
   ],
   "source": [
    "k_ = randrange(p)\n",
    "m_ = randrange(p)\n",
    "\n",
    "c_ = (c1*pow(g,k_,p),c2*pow(A,k_,p)*m_)\n",
    "print(c_)"
   ]
  },
  {
   "cell_type": "code",
   "execution_count": 365,
   "id": "eaa6f643",
   "metadata": {},
   "outputs": [
    {
     "name": "stdout",
     "output_type": "stream",
     "text": [
      "71588515719200505506062159811498171266387536840203129643076805061545182405971\n"
     ]
    }
   ],
   "source": [
    "# now he will send c_ to alice to decrypt it \n",
    "c1 , c2 = c_\n",
    "m__ = c2*InverseFermat(pow(c1, a, p), p)%p\n",
    "print(m__)"
   ]
  },
  {
   "cell_type": "code",
   "execution_count": 366,
   "id": "f4710179",
   "metadata": {},
   "outputs": [
    {
     "name": "stdout",
     "output_type": "stream",
     "text": [
      "m :  22937664268843740728723453030668863890277\n",
      "b'Charlie ==> Alice'\n"
     ]
    }
   ],
   "source": [
    "# now Bob has the recovred message m'' so he can find the m by applying the inverse \n",
    "\n",
    "inverse_m_ = InverseFermat(m_,p) \n",
    "recovred_m = m__ * inverse_m_ % p \n",
    "print(\"m : \",recovred_m)\n",
    "\n",
    "recovred_message = recovred_m.to_bytes(len(message),'big')\n",
    "print(recovred_message)"
   ]
  },
  {
   "cell_type": "markdown",
   "id": "3c1b1e62",
   "metadata": {},
   "source": [
    "So we find the same message that Charlie sends to Alice and so we cracked the El Gamal Algorithm successfuly "
   ]
  },
  {
   "cell_type": "code",
   "execution_count": null,
   "id": "64b35ea9",
   "metadata": {},
   "outputs": [],
   "source": []
  }
 ],
 "metadata": {
  "kernelspec": {
   "display_name": "Python 3 (ipykernel)",
   "language": "python",
   "name": "python3"
  },
  "language_info": {
   "codemirror_mode": {
    "name": "ipython",
    "version": 3
   },
   "file_extension": ".py",
   "mimetype": "text/x-python",
   "name": "python",
   "nbconvert_exporter": "python",
   "pygments_lexer": "ipython3",
   "version": "3.8.8"
  }
 },
 "nbformat": 4,
 "nbformat_minor": 5
}
