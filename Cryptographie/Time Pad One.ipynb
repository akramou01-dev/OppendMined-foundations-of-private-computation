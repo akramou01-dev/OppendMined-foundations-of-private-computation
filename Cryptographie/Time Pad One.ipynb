{
 "cells": [
  {
   "cell_type": "code",
   "execution_count": 3,
   "id": "68e8247c",
   "metadata": {},
   "outputs": [],
   "source": [
    "from string import  ascii_lowercase as lc\n",
    "from random import randrange\n",
    "from copy import deepcopy\n",
    "import matplotlib.pyplot as plt\n",
    "%matplotlib inline"
   ]
  },
  {
   "cell_type": "code",
   "execution_count": 140,
   "id": "e645929d",
   "metadata": {},
   "outputs": [],
   "source": [
    "def vigener_key_generator(size):\n",
    "    n = len(lc)\n",
    "    secret_key = \"\"\n",
    "    while len(secret_key)<size: \n",
    "        secret_key += lc[randrange(n)]\n",
    "    return secret_key\n",
    "\n",
    "\n",
    "def shift_letter(letter, shift_by, forward=True): \n",
    "    n = len(lc)\n",
    "    letter_indx = ord(letter)-97\n",
    "    shift_by_indx = ord(shift_by)-97\n",
    "    if forward: \n",
    "        return lc[(letter_indx +shift_by_indx) % n]\n",
    "    else : \n",
    "        return lc[(letter_indx -shift_by_indx) % n]\n",
    "    \n",
    "    \n",
    "def vigenere_encrypt_decrypt(message,secret_key, encrypt = True): \n",
    "    key_len = len(secret_key) \n",
    "    encoded = \"\"\n",
    "    for i,letter in enumerate(message): \n",
    "        if letter !=\" \": \n",
    "            encoded += shift_letter(letter,secret_key[i%key_len],forward=encrypt)\n",
    "        else : \n",
    "            encoded += letter\n",
    "    return encoded"
   ]
  },
  {
   "cell_type": "code",
   "execution_count": 222,
   "id": "0294209c",
   "metadata": {},
   "outputs": [],
   "source": [
    "data = \"\"\"To Sherlock Holmes she is always the woman. I have seldom heard him mention her under any other name. In his eyes she eclipses and predominates the whole of her sex. It was not that he felt any emotion akin to love for Irene Adler. All emotions, and that one particularly, were abhorrent to his cold, precise but admirably balanced mind. He was, I take it, the most perfect reasoning and observing machine that the world has seen, but as a lover he would have placed himself in a false position. He never spoke of the softer passions, save with a gibe and a sneer. They were admirable things for the observer--excellent for drawing the veil from men's motives and actions. But for the trained reasoner to admit such intrusions into his own delicate and finely adjusted temperament was to introduce a distracting factor which might throw a doubt upon all his mental results. Grit in a sensitive instrument, or a crack in one of his own high-power lenses, would not be more disturbing than a strong emotion in a nature such as his. And yet there was but one woman to him, and that woman was the late Irene Adler, of dubious and questionable memory.\n",
    "\n",
    "I had seen little of Holmes lately. My marriage had drifted us away from each other. My own complete happiness, and the home-centred interests which rise up around the man who first finds himself master of his own establishment, were sufficient to absorb all my attention, while Holmes, who loathed every form of society with his whole Bohemian soul, remained in our lodgings in Baker Street, buried among his old books, and alternating from week to week between cocaine and ambition, the drowsiness of the drug, and the fierce energy of his own keen nature. He was still, as ever, deeply attracted by the study of crime, and occupied his immense faculties and extraordinary powers of observation in following out those clues, and clearing up those mysteries which had been abandoned as hopeless by the official police. From time to time I heard some vague account of his doings: of his summons to Odessa in the case of the Trepoff murder, of his clearing up of the singular tragedy of the Atkinson brothers at Trincomalee, and finally of the mission which he had accomplished so delicately and successfully for the reigning family of Holland. Beyond these signs of his activity, however, which I merely shared with all the readers of the daily press, I knew little of my former friend and companion.\n",
    "\n",
    "One night--it was on the twentieth of March, 1888--I was returning from a journey to a patient (for I had now returned to civil practice), when my way led me through Baker Street. As I passed the well-remembered door, which must always be associated in my mind with my wooing, and with the dark incidents of the Study in Scarlet, I was seized with a keen desire to see Holmes again, and to know how he was employing his extraordinary powers. His rooms were brilliantly lit, and, even as I looked up, I saw his tall, spare figure pass twice in a dark silhouette against the blind. He was pacing the room swiftly, eagerly, with his head sunk upon his chest and his hands clasped behind him. To me, who knew his every mood and habit, his attitude and manner told their own story. He was at work again. He had risen out of his drug-created dreams and was hot upon the scent of some new problem. I rang the bell and was shown up to the chamber which had formerly been in part my own.\n",
    "\n",
    "His manner was not effusive. It seldom was; but he was glad, I think, to see me. With hardly a word spoken, but with a kindly eye, he waved me to an armchair, threw across his case of cigars, and indicated a spirit case and a gasogene in the corner. Then he stood before the fire and looked me over in his singular introspective fashion.\"\"\".lower()"
   ]
  },
  {
   "cell_type": "code",
   "execution_count": 223,
   "id": "ed0ceeef",
   "metadata": {},
   "outputs": [],
   "source": [
    "from collections import Counter\n",
    "def letter_count(data): \n",
    "    text = data.replace(\" \" ,\"\").lower()\n",
    "    text = [char for char in text if char in lc]\n",
    "    text = \"\".join(text)\n",
    "    return Counter(text).most_common()"
   ]
  },
  {
   "cell_type": "code",
   "execution_count": 224,
   "id": "8157e00f",
   "metadata": {},
   "outputs": [],
   "source": [
    "def plot_frequencies(data): \n",
    "    letters_count = letter_count(data)\n",
    "    letters = [x[0] for x in letters_count]\n",
    "    values = [x[1] for x in letters_count]\n",
    "    \n",
    "    plt.bar(letters,values)\n",
    "    plt.title(\"figure 1\")\n",
    "    "
   ]
  },
  {
   "cell_type": "code",
   "execution_count": 225,
   "id": "0d177a9d",
   "metadata": {},
   "outputs": [
    {
     "data": {
      "image/png": "[encoded data removed]",
      "text/plain": [
       "<Figure size 432x288 with 1 Axes>"
      ]
     },
     "metadata": {
      "needs_background": "light"
     },
     "output_type": "display_data"
    }
   ],
   "source": [
    "plot_frequencies(data)"
   ]
  },
  {
   "cell_type": "code",
   "execution_count": 226,
   "id": "7d86e28c",
   "metadata": {},
   "outputs": [],
   "source": [
    "def random_set(text,size): \n",
    "    i = randrange(len(text))\n",
    "    j = i + size \n",
    "    chars = \"\"\n",
    "    for k in range(i,j):\n",
    "        chars += text[k%len(text)]\n",
    "    return chars"
   ]
  },
  {
   "cell_type": "code",
   "execution_count": null,
   "id": "ebc33faa",
   "metadata": {},
   "outputs": [],
   "source": []
  },
  {
   "cell_type": "code",
   "execution_count": 252,
   "id": "506be506",
   "metadata": {},
   "outputs": [],
   "source": [
    "# We are going to encrypt a message with a small secret key and a large one to see the diffrence \n",
    "message_size = len(data)//4\n",
    "secret_key_size = message_size\n",
    "message = 'To Sherlock Holmes she is always the woman'.lower()\n",
    "secret_key = vigener_key_generator(secret_key_size)\n",
    "cipher_text = vigenere_encrypt_decrypt(message,secret_key)\n",
    "assert message==vigenere_encrypt_decrypt(cipher_text,secret_key,encrypt=False), \"Something want wrong \""
   ]
  },
  {
   "cell_type": "code",
   "execution_count": 253,
   "id": "d512c6a2",
   "metadata": {},
   "outputs": [
    {
     "data": {
      "image/png": "[encoded data removed]",
      "text/plain": [
       "<Figure size 432x288 with 1 Axes>"
      ]
     },
     "metadata": {
      "needs_background": "light"
     },
     "output_type": "display_data"
    }
   ],
   "source": [
    "plot_frequencies(cipher_text)"
   ]
  },
  {
   "cell_type": "markdown",
   "id": "3c70cee4",
   "metadata": {},
   "source": [
    "we observe that the frequency of the letter are the same (each 4 letters) , so to have a very secure cryptosystem, the proba of a message must be independent of the cipher_text P(m|c) = P(m) "
   ]
  },
  {
   "cell_type": "code",
   "execution_count": null,
   "id": "aaa7ed04",
   "metadata": {},
   "outputs": [],
   "source": [
    "      "
   ]
  }
 ],
 "metadata": {
  "kernelspec": {
   "display_name": "Python 3 (ipykernel)",
   "language": "python",
   "name": "python3"
  },
  "language_info": {
   "codemirror_mode": {
    "name": "ipython",
    "version": 3
   },
   "file_extension": ".py",
   "mimetype": "text/x-python",
   "name": "python",
   "nbconvert_exporter": "python",
   "pygments_lexer": "ipython3",
   "version": "3.8.8"
  }
 },
 "nbformat": 4,
 "nbformat_minor": 5
}
